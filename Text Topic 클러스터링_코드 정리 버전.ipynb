{
 "cells": [
  {
   "cell_type": "code",
   "execution_count": 1,
   "id": "e8ed1f28",
   "metadata": {
    "ExecuteTime": {
     "end_time": "2024-01-02T03:11:01.094324Z",
     "start_time": "2024-01-02T03:11:00.462532Z"
    }
   },
   "outputs": [],
   "source": [
    "import pandas as pd\n",
    "import numpy as np\n",
    "import os \n",
    "import json\n",
    "os.chdir('C:/Users/shjo')\n",
    "from size_checker import *\n",
    "from koreantextmodule.utils import *"
   ]
  },
  {
   "cell_type": "markdown",
   "id": "c66bfac7",
   "metadata": {},
   "source": [
    "### test 데이터셋 로드"
   ]
  },
  {
   "cell_type": "code",
   "execution_count": 31,
   "id": "4fceafe1",
   "metadata": {
    "ExecuteTime": {
     "end_time": "2023-12-28T04:18:12.033574Z",
     "start_time": "2023-12-28T04:18:12.018576Z"
    }
   },
   "outputs": [],
   "source": [
    "# 생략 없이 출력 할 때만 실행\n",
    "# row 생략 없이 출력\n",
    "pd.set_option('display.max_rows', None)\n",
    "# col 생략 없이 출력\n",
    "pd.set_option('display.max_columns', None)\n",
    "pd.set_option('display.max_colwidth', None)"
   ]
  },
  {
   "cell_type": "code",
   "execution_count": 2,
   "id": "7549261e",
   "metadata": {
    "ExecuteTime": {
     "end_time": "2024-01-02T03:11:44.042561Z",
     "start_time": "2024-01-02T03:11:44.026387Z"
    }
   },
   "outputs": [
    {
     "name": "stdout",
     "output_type": "stream",
     "text": [
      "work space resseted to C:\\Users\\shjo\n",
      "path exists set workspace path to C:/Users/shjo/Desktop/AI_Hub_new/수정/050.발화유형(문어,구어,채팅)별 기계번역 병렬 말뭉치\n"
     ]
    },
    {
     "data": {
      "text/plain": [
       "'C:/Users/shjo/Desktop/AI_Hub_new/수정/050.발화유형(문어,구어,채팅)별 기계번역 병렬 말뭉치'"
      ]
     },
     "execution_count": 2,
     "metadata": {},
     "output_type": "execute_result"
    }
   ],
   "source": [
    "# 데이터 위치 경로 설정\n",
    "reset_workspace()\n",
    "set_workspace('C:/Users/shjo/Desktop/AI_Hub_new/수정/050.발화유형(문어,구어,채팅)별 기계번역 병렬 말뭉치')"
   ]
  },
  {
   "cell_type": "code",
   "execution_count": 3,
   "id": "078b33ea",
   "metadata": {
    "ExecuteTime": {
     "end_time": "2024-01-02T03:11:52.638453Z",
     "start_time": "2024-01-02T03:11:52.544107Z"
    }
   },
   "outputs": [
    {
     "data": {
      "text/html": [
       "<div>\n",
       "<style scoped>\n",
       "    .dataframe tbody tr th:only-of-type {\n",
       "        vertical-align: middle;\n",
       "    }\n",
       "\n",
       "    .dataframe tbody tr th {\n",
       "        vertical-align: top;\n",
       "    }\n",
       "\n",
       "    .dataframe thead th {\n",
       "        text-align: right;\n",
       "    }\n",
       "</style>\n",
       "<table border=\"1\" class=\"dataframe\">\n",
       "  <thead>\n",
       "    <tr style=\"text-align: right;\">\n",
       "      <th></th>\n",
       "      <th>id</th>\n",
       "      <th>fileName</th>\n",
       "      <th>dataSet</th>\n",
       "      <th>domain</th>\n",
       "      <th>style</th>\n",
       "      <th>isDialect</th>\n",
       "      <th>sourceText</th>\n",
       "      <th>targetText</th>\n",
       "      <th>sourceLanguage</th>\n",
       "      <th>targetLanguage</th>\n",
       "    </tr>\n",
       "  </thead>\n",
       "  <tbody>\n",
       "    <tr>\n",
       "      <th>0</th>\n",
       "      <td>100010-1531-1-2</td>\n",
       "      <td>ko-en_CH_CA_ko_en_100010-1531-1-2</td>\n",
       "      <td>기계번역 병렬 말뭉치 데이터</td>\n",
       "      <td>CA</td>\n",
       "      <td>CH</td>\n",
       "      <td>n</td>\n",
       "      <td>아 그래 그럼 먹으러 고고할래?</td>\n",
       "      <td>Oh, okay. Well, do you want to go get some?</td>\n",
       "      <td>ko</td>\n",
       "      <td>en</td>\n",
       "    </tr>\n",
       "    <tr>\n",
       "      <th>1</th>\n",
       "      <td>100010-1532-1-1</td>\n",
       "      <td>ko-en_CH_CA_ko_en_100010-1532-1-1</td>\n",
       "      <td>기계번역 병렬 말뭉치 데이터</td>\n",
       "      <td>CA</td>\n",
       "      <td>CH</td>\n",
       "      <td>n</td>\n",
       "      <td>요즘 코로나19로 인해서 집에서 밥해 먹거나 배달 앱으로 시켜 먹는 사람이 많은 거...</td>\n",
       "      <td>These days, due to the Coronavirus, it seems t...</td>\n",
       "      <td>ko</td>\n",
       "      <td>en</td>\n",
       "    </tr>\n",
       "    <tr>\n",
       "      <th>2</th>\n",
       "      <td>100010-1532-1-2</td>\n",
       "      <td>ko-en_CH_CA_ko_en_100010-1532-1-2</td>\n",
       "      <td>기계번역 병렬 말뭉치 데이터</td>\n",
       "      <td>CA</td>\n",
       "      <td>CH</td>\n",
       "      <td>n</td>\n",
       "      <td>맞아 나도 1주일에 여러 번은 배달 앱으로 시켜 먹고 있어.</td>\n",
       "      <td>That's right, I also order it through the deli...</td>\n",
       "      <td>ko</td>\n",
       "      <td>en</td>\n",
       "    </tr>\n",
       "    <tr>\n",
       "      <th>3</th>\n",
       "      <td>100010-1532-1-3</td>\n",
       "      <td>ko-en_CH_CA_ko_en_100010-1532-1-3</td>\n",
       "      <td>기계번역 병렬 말뭉치 데이터</td>\n",
       "      <td>CA</td>\n",
       "      <td>CH</td>\n",
       "      <td>n</td>\n",
       "      <td>카페나 레스토랑도 배달 앱에 요즘 입점해서 쉽게 시켜 먹을 수 있더라고.</td>\n",
       "      <td>Cafes and restaurants are registered on delive...</td>\n",
       "      <td>ko</td>\n",
       "      <td>en</td>\n",
       "    </tr>\n",
       "    <tr>\n",
       "      <th>4</th>\n",
       "      <td>100010-1532-1-4</td>\n",
       "      <td>ko-en_CH_CA_ko_en_100010-1532-1-4</td>\n",
       "      <td>기계번역 병렬 말뭉치 데이터</td>\n",
       "      <td>CA</td>\n",
       "      <td>CH</td>\n",
       "      <td>n</td>\n",
       "      <td>오 그럼 너는 요즘 먹은 음식이 뭐야?</td>\n",
       "      <td>Oh, so what did you eat these days?</td>\n",
       "      <td>ko</td>\n",
       "      <td>en</td>\n",
       "    </tr>\n",
       "  </tbody>\n",
       "</table>\n",
       "</div>"
      ],
      "text/plain": [
       "                id                           fileName          dataSet domain  \\\n",
       "0  100010-1531-1-2  ko-en_CH_CA_ko_en_100010-1531-1-2  기계번역 병렬 말뭉치 데이터     CA   \n",
       "1  100010-1532-1-1  ko-en_CH_CA_ko_en_100010-1532-1-1  기계번역 병렬 말뭉치 데이터     CA   \n",
       "2  100010-1532-1-2  ko-en_CH_CA_ko_en_100010-1532-1-2  기계번역 병렬 말뭉치 데이터     CA   \n",
       "3  100010-1532-1-3  ko-en_CH_CA_ko_en_100010-1532-1-3  기계번역 병렬 말뭉치 데이터     CA   \n",
       "4  100010-1532-1-4  ko-en_CH_CA_ko_en_100010-1532-1-4  기계번역 병렬 말뭉치 데이터     CA   \n",
       "\n",
       "  style isDialect                                         sourceText  \\\n",
       "0    CH         n                                  아 그래 그럼 먹으러 고고할래?   \n",
       "1    CH         n  요즘 코로나19로 인해서 집에서 밥해 먹거나 배달 앱으로 시켜 먹는 사람이 많은 거...   \n",
       "2    CH         n                  맞아 나도 1주일에 여러 번은 배달 앱으로 시켜 먹고 있어.   \n",
       "3    CH         n           카페나 레스토랑도 배달 앱에 요즘 입점해서 쉽게 시켜 먹을 수 있더라고.   \n",
       "4    CH         n                              오 그럼 너는 요즘 먹은 음식이 뭐야?   \n",
       "\n",
       "                                          targetText sourceLanguage  \\\n",
       "0        Oh, okay. Well, do you want to go get some?             ko   \n",
       "1  These days, due to the Coronavirus, it seems t...             ko   \n",
       "2  That's right, I also order it through the deli...             ko   \n",
       "3  Cafes and restaurants are registered on delive...             ko   \n",
       "4                Oh, so what did you eat these days?             ko   \n",
       "\n",
       "  targetLanguage  \n",
       "0             en  \n",
       "1             en  \n",
       "2             en  \n",
       "3             en  \n",
       "4             en  "
      ]
     },
     "execution_count": 3,
     "metadata": {},
     "output_type": "execute_result"
    }
   ],
   "source": [
    "# AI_Hub 발화유형 한영 데이터 로드\n",
    "file_path = workspace('koen.json')\n",
    "with open(file_path,'r',encoding=\"utf-8\") as file:\n",
    "    data = json.load(file)\n",
    "raw_pd_df = pd.DataFrame(data)\n",
    "raw_pd_df.head()"
   ]
  },
  {
   "cell_type": "code",
   "execution_count": 4,
   "id": "5005db9d",
   "metadata": {
    "ExecuteTime": {
     "end_time": "2023-12-27T06:33:41.230335Z",
     "start_time": "2023-12-27T06:33:41.225498Z"
    }
   },
   "outputs": [
    {
     "data": {
      "text/plain": [
       "13502"
      ]
     },
     "execution_count": 4,
     "metadata": {},
     "output_type": "execute_result"
    }
   ],
   "source": [
    "len(pd_df)"
   ]
  },
  {
   "cell_type": "code",
   "execution_count": 4,
   "id": "27617fac",
   "metadata": {
    "ExecuteTime": {
     "end_time": "2024-01-02T03:13:18.561674Z",
     "start_time": "2024-01-02T03:13:18.551678Z"
    }
   },
   "outputs": [],
   "source": [
    "# 테스트를 위해 임시로 데이터 축소를 위해 랜덤 추출\n",
    "\n",
    "import random\n",
    "\n",
    "# 전체 데이터가 담긴 리스트\n",
    "all_data = raw_pd_df.copy()\n",
    "\n",
    "# 전체 데이터프레임의 1%를 랜덤으로 추출\n",
    "percentage = 1\n",
    "num_samples = int(len(all_data) * percentage / 100)\n",
    "pd_df = all_data.sample(n=num_samples, random_state=42)  # random_state는 재현성을 위한 시드값\n",
    "pd_df.reset_index(drop=True, inplace=True)\n",
    "# 추출된 샘플 확인\n",
    "# print(pd_df)"
   ]
  },
  {
   "cell_type": "code",
   "execution_count": 6,
   "id": "3233ae4d",
   "metadata": {
    "ExecuteTime": {
     "end_time": "2024-01-02T03:13:33.331426Z",
     "start_time": "2024-01-02T03:13:33.319397Z"
    }
   },
   "outputs": [],
   "source": [
    "# pd_df"
   ]
  },
  {
   "cell_type": "markdown",
   "id": "59df2669",
   "metadata": {},
   "source": [
    "### k-means 군집분석"
   ]
  },
  {
   "cell_type": "code",
   "execution_count": 22,
   "id": "802d3f89",
   "metadata": {
    "ExecuteTime": {
     "end_time": "2023-12-26T06:42:25.535760Z",
     "start_time": "2023-12-26T06:42:25.529739Z"
    }
   },
   "outputs": [],
   "source": [
    "from sklearn.feature_extraction.text import TfidfVectorizer\n",
    "from sklearn.cluster import KMeans\n",
    "from konlpy.tag import Okt\n",
    "import MeCab\n",
    "# from konlpy import stopwords # KoNLPy에서 제공하는 한국어 법률 말뭉치 사용"
   ]
  },
  {
   "cell_type": "code",
   "execution_count": 23,
   "id": "32177ffc",
   "metadata": {
    "ExecuteTime": {
     "end_time": "2023-12-26T06:42:26.209462Z",
     "start_time": "2023-12-26T06:42:26.200332Z"
    }
   },
   "outputs": [],
   "source": [
    "# 영어 문장 리스트\n",
    "sentences = list(pd_df.targetText)"
   ]
  },
  {
   "cell_type": "code",
   "execution_count": 24,
   "id": "901af8b2",
   "metadata": {
    "ExecuteTime": {
     "end_time": "2023-12-26T06:42:32.957207Z",
     "start_time": "2023-12-26T06:42:27.473260Z"
    }
   },
   "outputs": [],
   "source": [
    "# 형태소 분석 및 명사 추출(Okt 사용)\n",
    "okt = Okt()\n",
    "def okt_noun_extractor(sentence):\n",
    "    nouns = okt.nouns(sentence)\n",
    "    return ' '.join(nouns)\n",
    "\n",
    "tokenized_sentences = [okt_noun_extractor(sentence) for sentence in sentences]"
   ]
  },
  {
   "cell_type": "code",
   "execution_count": 33,
   "id": "8fbaec8f",
   "metadata": {
    "ExecuteTime": {
     "end_time": "2023-12-26T06:46:26.415368Z",
     "start_time": "2023-12-26T06:46:23.816377Z"
    }
   },
   "outputs": [],
   "source": [
    "# TF-IDF 벡터화\n",
    "vectorizer = TfidfVectorizer()\n",
    "X = vectorizer.fit_transform(tokenized_sentences)\n",
    "\n",
    "# k-means 클러스터링\n",
    "num_clusters = 2  # 예시로 3개의 클러스터를 형성\n",
    "kmeans = KMeans(n_clusters=num_clusters, n_init=20, random_state=42)\n",
    "kmeans.fit(X)\n",
    "\n",
    "# 각 문장의 클러스터 할당\n",
    "cluster_assignments = kmeans.labels_"
   ]
  },
  {
   "cell_type": "markdown",
   "id": "2216fafd",
   "metadata": {},
   "source": [
    "#### 한국어_Okt"
   ]
  },
  {
   "cell_type": "code",
   "execution_count": 7,
   "id": "951a4da8",
   "metadata": {
    "ExecuteTime": {
     "end_time": "2024-01-02T03:57:12.353391Z",
     "start_time": "2024-01-02T03:57:08.355722Z"
    }
   },
   "outputs": [],
   "source": [
    "from sklearn.feature_extraction.text import TfidfVectorizer\n",
    "from sklearn.cluster import KMeans\n",
    "from konlpy.tag import Okt\n",
    "\n",
    "# 한국어 형태소 분석기 설정 (Okt)\n",
    "okt = Okt()\n",
    "\n",
    "# 입력 데이터: 한국어 문장 리스트\n",
    "sentences = list(pd_df.sourceText)\n",
    "\n",
    "# 형태소 분석 및 명사 추출\n",
    "tokenized_sentences = [' '.join(okt.nouns(sentence)) for sentence in sentences]\n",
    "\n",
    "# TF-IDF 벡터화\n",
    "vectorizer = TfidfVectorizer()\n",
    "X = vectorizer.fit_transform(tokenized_sentences)\n",
    "\n",
    "# k-means 클러스터링\n",
    "num_clusters = 3  # 예시로 3개의 클러스터를 형성\n",
    "kmeans = KMeans(n_clusters=num_clusters, random_state=42)\n",
    "kmeans.fit(X)\n",
    "\n",
    "# 각 문장의 클러스터 할당\n",
    "cluster_assignments = kmeans.labels_"
   ]
  },
  {
   "cell_type": "code",
   "execution_count": 8,
   "id": "ba11ed63",
   "metadata": {
    "ExecuteTime": {
     "end_time": "2024-01-02T03:57:19.349338Z",
     "start_time": "2024-01-02T03:57:19.332362Z"
    }
   },
   "outputs": [],
   "source": [
    "# 문장 + 클러스터 데이터프레임 생성\n",
    "df = pd.DataFrame({'Sentence': sentences, 'Cluster': cluster_assignments})\n",
    "\n",
    "# 결과 출력\n",
    "# print(df)"
   ]
  },
  {
   "cell_type": "markdown",
   "id": "a9b3c262",
   "metadata": {
    "ExecuteTime": {
     "end_time": "2023-12-27T06:45:16.376335Z",
     "start_time": "2023-12-27T06:45:16.368799Z"
    }
   },
   "source": [
    "#### 한국어_Mecab"
   ]
  },
  {
   "cell_type": "code",
   "execution_count": 11,
   "id": "a52ba8dd",
   "metadata": {
    "ExecuteTime": {
     "end_time": "2024-01-02T03:58:50.051073Z",
     "start_time": "2024-01-02T03:58:49.971709Z"
    }
   },
   "outputs": [],
   "source": [
    "from sklearn.feature_extraction.text import TfidfVectorizer\n",
    "from sklearn.cluster import KMeans\n",
    "import MeCab\n",
    "\n",
    "# Mecab 형태소 분석기 설정\n",
    "mecab = MeCab.Tagger()\n",
    "\n",
    "# 입력 데이터: 한국어 문장 리스트\n",
    "sentences = list(pd_df.sourceText)\n",
    "\n",
    "# 형태소 분석 및 명사 추출\n",
    "def mecab_noun_extractor(sentence):\n",
    "    nouns = []\n",
    "    parsed_sentence = mecab.parse(sentence)\n",
    "    for word_info in parsed_sentence.split(\"\\n\"):\n",
    "        if \"NNG\" in word_info or \"NNP\" in word_info:\n",
    "            nouns.append(word_info.split(\"\\t\")[0])\n",
    "    return ' '.join(nouns)\n",
    "\n",
    "tokenized_sentences = [mecab_noun_extractor(sentence) for sentence in sentences]\n",
    "\n",
    "# TF-IDF 벡터화\n",
    "vectorizer = TfidfVectorizer()\n",
    "X = vectorizer.fit_transform(tokenized_sentences)\n",
    "\n",
    "# k-means 클러스터링\n",
    "num_clusters = 3  # 예시로 3개의 클러스터를 형성\n",
    "kmeans = KMeans(n_clusters=num_clusters, random_state=42)\n",
    "kmeans.fit(X)\n",
    "\n",
    "# 각 문장의 클러스터 할당\n",
    "cluster_assignments = kmeans.labels_\n",
    "\n",
    "# 결과 출력\n",
    "# for cluster_num in range(num_clusters):\n",
    "#     print(f\"Cluster {cluster_num + 1}:\")\n",
    "#     cluster_sentences = [sentences[i] for i, label in enumerate(cluster_assignments) if label == cluster_num]\n",
    "#     print(\"\\n\".join(cluster_sentences))\n",
    "#     print(\"\\n\")"
   ]
  },
  {
   "cell_type": "code",
   "execution_count": 12,
   "id": "e7da3eee",
   "metadata": {
    "ExecuteTime": {
     "end_time": "2024-01-02T03:58:51.119538Z",
     "start_time": "2024-01-02T03:58:51.114378Z"
    }
   },
   "outputs": [],
   "source": [
    "# 문장 + 클러스터 데이터프레임 생성\n",
    "df = pd.DataFrame({'Sentence': sentences, 'Cluster': cluster_assignments})\n",
    "\n",
    "# 결과 출력\n",
    "# print(df)"
   ]
  },
  {
   "cell_type": "code",
   "execution_count": 13,
   "id": "a1efd081",
   "metadata": {
    "ExecuteTime": {
     "end_time": "2024-01-02T03:58:52.556593Z",
     "start_time": "2024-01-02T03:58:52.544536Z"
    }
   },
   "outputs": [
    {
     "data": {
      "text/html": [
       "<div>\n",
       "<style scoped>\n",
       "    .dataframe tbody tr th:only-of-type {\n",
       "        vertical-align: middle;\n",
       "    }\n",
       "\n",
       "    .dataframe tbody tr th {\n",
       "        vertical-align: top;\n",
       "    }\n",
       "\n",
       "    .dataframe thead th {\n",
       "        text-align: right;\n",
       "    }\n",
       "</style>\n",
       "<table border=\"1\" class=\"dataframe\">\n",
       "  <thead>\n",
       "    <tr style=\"text-align: right;\">\n",
       "      <th></th>\n",
       "      <th>Sentence</th>\n",
       "      <th>Cluster</th>\n",
       "    </tr>\n",
       "  </thead>\n",
       "  <tbody>\n",
       "    <tr>\n",
       "      <th>2</th>\n",
       "      <td>지루할 때는 영화 한편 보는 것이 해피한 것 같다.</td>\n",
       "      <td>2</td>\n",
       "    </tr>\n",
       "    <tr>\n",
       "      <th>69</th>\n",
       "      <td>갑자기 영화는 왜 물어보는 거야?</td>\n",
       "      <td>2</td>\n",
       "    </tr>\n",
       "    <tr>\n",
       "      <th>134</th>\n",
       "      <td>여름에 유행하는 공포영화가 나는 무서워서 너무 싫다.</td>\n",
       "      <td>2</td>\n",
       "    </tr>\n",
       "  </tbody>\n",
       "</table>\n",
       "</div>"
      ],
      "text/plain": [
       "                          Sentence  Cluster\n",
       "2     지루할 때는 영화 한편 보는 것이 해피한 것 같다.        2\n",
       "69              갑자기 영화는 왜 물어보는 거야?        2\n",
       "134  여름에 유행하는 공포영화가 나는 무서워서 너무 싫다.        2"
      ]
     },
     "execution_count": 13,
     "metadata": {},
     "output_type": "execute_result"
    }
   ],
   "source": [
    "df[df.Cluster== 2]"
   ]
  },
  {
   "cell_type": "markdown",
   "id": "0dc34da2",
   "metadata": {
    "ExecuteTime": {
     "end_time": "2023-12-26T07:46:57.803334Z",
     "start_time": "2023-12-26T07:46:57.794297Z"
    }
   },
   "source": [
    "#### 영어_nltk"
   ]
  },
  {
   "cell_type": "code",
   "execution_count": 14,
   "id": "292af22c",
   "metadata": {
    "ExecuteTime": {
     "end_time": "2024-01-02T04:07:28.193302Z",
     "start_time": "2024-01-02T04:07:27.594520Z"
    }
   },
   "outputs": [
    {
     "name": "stderr",
     "output_type": "stream",
     "text": [
      "[nltk_data] Downloading package punkt to\n",
      "[nltk_data]     C:\\Users\\shjo\\AppData\\Roaming\\nltk_data...\n",
      "[nltk_data]   Package punkt is already up-to-date!\n"
     ]
    },
    {
     "data": {
      "text/plain": [
       "True"
      ]
     },
     "execution_count": 14,
     "metadata": {},
     "output_type": "execute_result"
    }
   ],
   "source": [
    "import nltk\n",
    "nltk.download('punkt')"
   ]
  },
  {
   "cell_type": "code",
   "execution_count": 15,
   "id": "7c18cc52",
   "metadata": {
    "ExecuteTime": {
     "end_time": "2024-01-02T04:07:34.660065Z",
     "start_time": "2024-01-02T04:07:34.570206Z"
    }
   },
   "outputs": [],
   "source": [
    "from sklearn.feature_extraction.text import TfidfVectorizer\n",
    "from sklearn.cluster import KMeans\n",
    "from nltk.tokenize import word_tokenize\n",
    "from nltk.corpus import stopwords\n",
    "\n",
    "# 입력 데이터: 영어 문장 리스트\n",
    "sentences = list(pd_df.targetText)\n",
    "\n",
    "\n",
    "# 영어 불용어 제거\n",
    "stop_words = set(stopwords.words('english'))\n",
    "filtered_sentences = [' '.join([word.lower() for word in word_tokenize(sentence) if word.isalpha() and word.lower() not in stop_words]) for sentence in sentences]\n",
    "\n",
    "# TF-IDF 벡터화\n",
    "vectorizer = TfidfVectorizer()\n",
    "X = vectorizer.fit_transform(filtered_sentences)\n",
    "\n",
    "# k-means 클러스터링\n",
    "num_clusters = 3  # 예시로 3개의 클러스터를 형성\n",
    "kmeans = KMeans(n_clusters=num_clusters, random_state=42)\n",
    "kmeans.fit(X)\n",
    "\n",
    "# 각 문장의 클러스터 할당\n",
    "cluster_assignments = kmeans.labels_\n",
    "\n",
    "# 결과 출력\n",
    "# for cluster_num in range(num_clusters):\n",
    "#     print(f\"Cluster {cluster_num + 1}:\")\n",
    "#     cluster_sentences = [sentences[i] for i, label in enumerate(cluster_assignments) if label == cluster_num]\n",
    "#     print(\"\\n\".join(cluster_sentences))\n",
    "#     print(\"\\n\")"
   ]
  },
  {
   "cell_type": "code",
   "execution_count": 16,
   "id": "dde0fd07",
   "metadata": {
    "ExecuteTime": {
     "end_time": "2024-01-02T04:07:38.531857Z",
     "start_time": "2024-01-02T04:07:38.521183Z"
    }
   },
   "outputs": [],
   "source": [
    "# 문장 + 클러스터 데이터프레임 생성\n",
    "df = pd.DataFrame({'Sentence': sentences,'Sentence_ko': list(pd_df.sourceText),'Cluster': cluster_assignments})\n",
    "\n",
    "# 결과 출력\n",
    "# print(df.head())"
   ]
  },
  {
   "cell_type": "code",
   "execution_count": 17,
   "id": "db49707d",
   "metadata": {
    "ExecuteTime": {
     "end_time": "2024-01-02T04:07:40.758319Z",
     "start_time": "2024-01-02T04:07:40.749563Z"
    }
   },
   "outputs": [
    {
     "data": {
      "text/html": [
       "<div>\n",
       "<style scoped>\n",
       "    .dataframe tbody tr th:only-of-type {\n",
       "        vertical-align: middle;\n",
       "    }\n",
       "\n",
       "    .dataframe tbody tr th {\n",
       "        vertical-align: top;\n",
       "    }\n",
       "\n",
       "    .dataframe thead th {\n",
       "        text-align: right;\n",
       "    }\n",
       "</style>\n",
       "<table border=\"1\" class=\"dataframe\">\n",
       "  <thead>\n",
       "    <tr style=\"text-align: right;\">\n",
       "      <th></th>\n",
       "      <th>Sentence</th>\n",
       "      <th>Sentence_ko</th>\n",
       "      <th>Cluster</th>\n",
       "    </tr>\n",
       "  </thead>\n",
       "  <tbody>\n",
       "    <tr>\n",
       "      <th>1</th>\n",
       "      <td>I like your Pompitz's hair. Are you using only...</td>\n",
       "      <td>자기네 폼피츠 모발이 좋던데 샴푸만 쓰니?</td>\n",
       "      <td>1</td>\n",
       "    </tr>\n",
       "    <tr>\n",
       "      <th>9</th>\n",
       "      <td>I didn't know you liked mint chocolate. I real...</td>\n",
       "      <td>너 민초단이었어 몰랐네 나는 완전 반민초단임.</td>\n",
       "      <td>1</td>\n",
       "    </tr>\n",
       "    <tr>\n",
       "      <th>17</th>\n",
       "      <td>Yeah, it's been a while. Let's go eat like a h...</td>\n",
       "      <td>그래 오래간만에 애슐리 퀸즈 가서 배 터지게 먹자.</td>\n",
       "      <td>1</td>\n",
       "    </tr>\n",
       "    <tr>\n",
       "      <th>18</th>\n",
       "      <td>That's right. When I was a job seeker, I was l...</td>\n",
       "      <td>맞아 취준생일 땐 언제 취업하려나 목을 빼고 기다렸는데 취업하고 나니 마상 받는 일...</td>\n",
       "      <td>1</td>\n",
       "    </tr>\n",
       "    <tr>\n",
       "      <th>28</th>\n",
       "      <td>It looks like most Earth science questions hav...</td>\n",
       "      <td>이번에 지구과학 문제 우주 파트에서 거의 다 나왔나 보네.</td>\n",
       "      <td>1</td>\n",
       "    </tr>\n",
       "    <tr>\n",
       "      <th>44</th>\n",
       "      <td>Rotavirus got its name from the Latin word 'Ro...</td>\n",
       "      <td>로타바이러스는 전자현미경으로 관찰하면 테두리에 짧은 바퀴살을 갖는 수레바퀴처럼 생겼...</td>\n",
       "      <td>1</td>\n",
       "    </tr>\n",
       "    <tr>\n",
       "      <th>48</th>\n",
       "      <td>How much syrup would you like?</td>\n",
       "      <td>시럽은 어느 정도 넣어 드릴까요?</td>\n",
       "      <td>1</td>\n",
       "    </tr>\n",
       "    <tr>\n",
       "      <th>85</th>\n",
       "      <td>Laser toning? What is that, is it something li...</td>\n",
       "      <td>레이저 토닝 그게 뭐야 박피 같은 거야?</td>\n",
       "      <td>1</td>\n",
       "    </tr>\n",
       "    <tr>\n",
       "      <th>89</th>\n",
       "      <td>Wow, I finally got to appreciate why I talked ...</td>\n",
       "      <td>와 드디어 내가 널 설득시킨 진가가 나타나는구나?</td>\n",
       "      <td>1</td>\n",
       "    </tr>\n",
       "    <tr>\n",
       "      <th>128</th>\n",
       "      <td>I got one for my dad, LANEIGE Homme set.</td>\n",
       "      <td>라네즈 옴므 세트 아빠 주려고 하나 겟했다.</td>\n",
       "      <td>1</td>\n",
       "    </tr>\n",
       "  </tbody>\n",
       "</table>\n",
       "</div>"
      ],
      "text/plain": [
       "                                              Sentence  \\\n",
       "1    I like your Pompitz's hair. Are you using only...   \n",
       "9    I didn't know you liked mint chocolate. I real...   \n",
       "17   Yeah, it's been a while. Let's go eat like a h...   \n",
       "18   That's right. When I was a job seeker, I was l...   \n",
       "28   It looks like most Earth science questions hav...   \n",
       "44   Rotavirus got its name from the Latin word 'Ro...   \n",
       "48                      How much syrup would you like?   \n",
       "85   Laser toning? What is that, is it something li...   \n",
       "89   Wow, I finally got to appreciate why I talked ...   \n",
       "128           I got one for my dad, LANEIGE Homme set.   \n",
       "\n",
       "                                           Sentence_ko  Cluster  \n",
       "1                              자기네 폼피츠 모발이 좋던데 샴푸만 쓰니?        1  \n",
       "9                            너 민초단이었어 몰랐네 나는 완전 반민초단임.        1  \n",
       "17                        그래 오래간만에 애슐리 퀸즈 가서 배 터지게 먹자.        1  \n",
       "18   맞아 취준생일 땐 언제 취업하려나 목을 빼고 기다렸는데 취업하고 나니 마상 받는 일...        1  \n",
       "28                    이번에 지구과학 문제 우주 파트에서 거의 다 나왔나 보네.        1  \n",
       "44   로타바이러스는 전자현미경으로 관찰하면 테두리에 짧은 바퀴살을 갖는 수레바퀴처럼 생겼...        1  \n",
       "48                                  시럽은 어느 정도 넣어 드릴까요?        1  \n",
       "85                              레이저 토닝 그게 뭐야 박피 같은 거야?        1  \n",
       "89                         와 드디어 내가 널 설득시킨 진가가 나타나는구나?        1  \n",
       "128                           라네즈 옴므 세트 아빠 주려고 하나 겟했다.        1  "
      ]
     },
     "execution_count": 17,
     "metadata": {},
     "output_type": "execute_result"
    }
   ],
   "source": [
    "df[df.Cluster== 1]"
   ]
  },
  {
   "cell_type": "markdown",
   "id": "beb78a1d",
   "metadata": {},
   "source": [
    "### 계층적 군집분석"
   ]
  },
  {
   "cell_type": "code",
   "execution_count": 18,
   "id": "3fbfc744",
   "metadata": {
    "ExecuteTime": {
     "end_time": "2024-01-02T04:08:34.088612Z",
     "start_time": "2024-01-02T04:08:33.769061Z"
    }
   },
   "outputs": [],
   "source": [
    "from sklearn.feature_extraction.text import TfidfVectorizer\n",
    "from sklearn.cluster import AgglomerativeClustering\n",
    "from konlpy.tag import Okt\n",
    "\n",
    "# 한국어 형태소 분석기 설정 (Okt)\n",
    "okt = Okt()\n",
    "\n",
    "# 입력 데이터: 한국어 문장 리스트\n",
    "sentences = list(pd_df.sourceText)\n",
    "\n",
    "# 형태소 분석 및 명사 추출\n",
    "tokenized_sentences = [' '.join(okt.nouns(sentence)) for sentence in sentences]\n",
    "\n",
    "# TF-IDF 벡터화\n",
    "vectorizer = TfidfVectorizer()\n",
    "X = vectorizer.fit_transform(tokenized_sentences)\n",
    "\n",
    "# 계층적 군집분석\n",
    "num_clusters = 4  # 예시로 3개의 클러스터를 형성\n",
    "agg_clustering = AgglomerativeClustering(n_clusters=num_clusters)\n",
    "agg_cluster_assignments = agg_clustering.fit_predict(X.toarray())\n",
    "\n",
    "# 결과 출력\n",
    "# for cluster_num in range(num_clusters):\n",
    "#     print(f\"Cluster {cluster_num + 1}:\")\n",
    "#     cluster_sentences = [sentences[i] for i, label in enumerate(agg_cluster_assignments) if label == cluster_num]\n",
    "#     print(\"\\n\".join(cluster_sentences))\n",
    "#     print(\"\\n\")"
   ]
  },
  {
   "cell_type": "code",
   "execution_count": 19,
   "id": "b23482e6",
   "metadata": {
    "ExecuteTime": {
     "end_time": "2024-01-02T04:08:37.677703Z",
     "start_time": "2024-01-02T04:08:37.673256Z"
    }
   },
   "outputs": [],
   "source": [
    "df = pd.DataFrame({'Sentence': sentences,'Cluster': agg_cluster_assignments})\n",
    "\n",
    "# 결과 출력\n",
    "# print(df.head())"
   ]
  },
  {
   "cell_type": "code",
   "execution_count": 20,
   "id": "380fc2ce",
   "metadata": {
    "ExecuteTime": {
     "end_time": "2024-01-02T04:08:40.787222Z",
     "start_time": "2024-01-02T04:08:40.777643Z"
    }
   },
   "outputs": [
    {
     "data": {
      "text/html": [
       "<div>\n",
       "<style scoped>\n",
       "    .dataframe tbody tr th:only-of-type {\n",
       "        vertical-align: middle;\n",
       "    }\n",
       "\n",
       "    .dataframe tbody tr th {\n",
       "        vertical-align: top;\n",
       "    }\n",
       "\n",
       "    .dataframe thead th {\n",
       "        text-align: right;\n",
       "    }\n",
       "</style>\n",
       "<table border=\"1\" class=\"dataframe\">\n",
       "  <thead>\n",
       "    <tr style=\"text-align: right;\">\n",
       "      <th></th>\n",
       "      <th>Sentence</th>\n",
       "      <th>Cluster</th>\n",
       "    </tr>\n",
       "  </thead>\n",
       "  <tbody>\n",
       "    <tr>\n",
       "      <th>7</th>\n",
       "      <td>그래 그런 거 같아 요즘은 장르에 관계없이 보이스가 좋고 실력들이 좋아서 힐링 되는...</td>\n",
       "      <td>0</td>\n",
       "    </tr>\n",
       "    <tr>\n",
       "      <th>8</th>\n",
       "      <td>이번 겨울은 극한의 추위가 예상된다.</td>\n",
       "      <td>0</td>\n",
       "    </tr>\n",
       "    <tr>\n",
       "      <th>28</th>\n",
       "      <td>이번에 지구과학 문제 우주 파트에서 거의 다 나왔나 보네.</td>\n",
       "      <td>0</td>\n",
       "    </tr>\n",
       "    <tr>\n",
       "      <th>37</th>\n",
       "      <td>지금도 공 기기로 유튜브를 시청하면서 설문조사를 하고 있거든.</td>\n",
       "      <td>0</td>\n",
       "    </tr>\n",
       "    <tr>\n",
       "      <th>39</th>\n",
       "      <td>이러한 격차는 정보화 기기에 대한 스트레스로 이어질 수 있어 새로운 사회문제가 될 ...</td>\n",
       "      <td>0</td>\n",
       "    </tr>\n",
       "    <tr>\n",
       "      <th>52</th>\n",
       "      <td>불에 달군 쇠라니? 설마 쇠 파이프로 올리는 건 아니겠지?</td>\n",
       "      <td>0</td>\n",
       "    </tr>\n",
       "    <tr>\n",
       "      <th>61</th>\n",
       "      <td>너는 언제까지 지금의 잡을 유지할 거니?</td>\n",
       "      <td>0</td>\n",
       "    </tr>\n",
       "    <tr>\n",
       "      <th>80</th>\n",
       "      <td>요즘에 스위치 프로그램들이 많아서 갤럭시와 아이폰 간에 이동하는데 큰 문제는 안 되...</td>\n",
       "      <td>0</td>\n",
       "    </tr>\n",
       "    <tr>\n",
       "      <th>81</th>\n",
       "      <td>뜨아파라니 설마 너 겨울에 패셔요 코셔요?</td>\n",
       "      <td>0</td>\n",
       "    </tr>\n",
       "    <tr>\n",
       "      <th>86</th>\n",
       "      <td>얘들아 이번에 수시 원서 사이트에 들어가서 원서 마감했니?</td>\n",
       "      <td>0</td>\n",
       "    </tr>\n",
       "    <tr>\n",
       "      <th>99</th>\n",
       "      <td>이번에 지원한 아르바이트에 합격할 수 있을 것 같아?</td>\n",
       "      <td>0</td>\n",
       "    </tr>\n",
       "    <tr>\n",
       "      <th>100</th>\n",
       "      <td>아무리 프로 스포츠지만 연일 더블헤더는 문제가 많아.</td>\n",
       "      <td>0</td>\n",
       "    </tr>\n",
       "    <tr>\n",
       "      <th>106</th>\n",
       "      <td>나 아니 아르바이트해야 하는데 아직 엄마 카드 쓰고 있어 좋은 자리 있으면 소개해 줘.</td>\n",
       "      <td>0</td>\n",
       "    </tr>\n",
       "    <tr>\n",
       "      <th>107</th>\n",
       "      <td>이번 엘피지에이 대회에서 박성현 선수 샷 봤어?</td>\n",
       "      <td>0</td>\n",
       "    </tr>\n",
       "    <tr>\n",
       "      <th>114</th>\n",
       "      <td>안혜진 선수가 하는 플로터 서브도 너무 환상적이더라.</td>\n",
       "      <td>0</td>\n",
       "    </tr>\n",
       "    <tr>\n",
       "      <th>115</th>\n",
       "      <td>이번 동유럽 여행 패키지는 주요 도시에서 여유로운 2박을 즐기는 여유롭고 깊이 있는...</td>\n",
       "      <td>0</td>\n",
       "    </tr>\n",
       "    <tr>\n",
       "      <th>119</th>\n",
       "      <td>지금 현금이 없는데 카드 결제 가능하지?</td>\n",
       "      <td>0</td>\n",
       "    </tr>\n",
       "  </tbody>\n",
       "</table>\n",
       "</div>"
      ],
      "text/plain": [
       "                                              Sentence  Cluster\n",
       "7    그래 그런 거 같아 요즘은 장르에 관계없이 보이스가 좋고 실력들이 좋아서 힐링 되는...        0\n",
       "8                                 이번 겨울은 극한의 추위가 예상된다.        0\n",
       "28                    이번에 지구과학 문제 우주 파트에서 거의 다 나왔나 보네.        0\n",
       "37                  지금도 공 기기로 유튜브를 시청하면서 설문조사를 하고 있거든.        0\n",
       "39   이러한 격차는 정보화 기기에 대한 스트레스로 이어질 수 있어 새로운 사회문제가 될 ...        0\n",
       "52                   불에 달군 쇠라니? 설마 쇠 파이프로 올리는 건 아니겠지?         0\n",
       "61                              너는 언제까지 지금의 잡을 유지할 거니?        0\n",
       "80   요즘에 스위치 프로그램들이 많아서 갤럭시와 아이폰 간에 이동하는데 큰 문제는 안 되...        0\n",
       "81                             뜨아파라니 설마 너 겨울에 패셔요 코셔요?        0\n",
       "86                    얘들아 이번에 수시 원서 사이트에 들어가서 원서 마감했니?        0\n",
       "99                       이번에 지원한 아르바이트에 합격할 수 있을 것 같아?        0\n",
       "100                      아무리 프로 스포츠지만 연일 더블헤더는 문제가 많아.        0\n",
       "106   나 아니 아르바이트해야 하는데 아직 엄마 카드 쓰고 있어 좋은 자리 있으면 소개해 줘.        0\n",
       "107                         이번 엘피지에이 대회에서 박성현 선수 샷 봤어?        0\n",
       "114                      안혜진 선수가 하는 플로터 서브도 너무 환상적이더라.        0\n",
       "115  이번 동유럽 여행 패키지는 주요 도시에서 여유로운 2박을 즐기는 여유롭고 깊이 있는...        0\n",
       "119                             지금 현금이 없는데 카드 결제 가능하지?        0"
      ]
     },
     "execution_count": 20,
     "metadata": {},
     "output_type": "execute_result"
    }
   ],
   "source": [
    "df[df.Cluster== 0]"
   ]
  },
  {
   "cell_type": "code",
   "execution_count": 21,
   "id": "878a2d7d",
   "metadata": {
    "ExecuteTime": {
     "end_time": "2024-01-02T04:08:56.620884Z",
     "start_time": "2024-01-02T04:08:56.609280Z"
    },
    "scrolled": true
   },
   "outputs": [
    {
     "data": {
      "text/plain": [
       "135"
      ]
     },
     "execution_count": 21,
     "metadata": {},
     "output_type": "execute_result"
    }
   ],
   "source": [
    "len(df)"
   ]
  },
  {
   "cell_type": "code",
   "execution_count": 35,
   "id": "4c2deebc",
   "metadata": {
    "ExecuteTime": {
     "end_time": "2023-12-28T04:49:53.554954Z",
     "start_time": "2023-12-28T04:49:53.540875Z"
    }
   },
   "outputs": [],
   "source": [
    "# 다시 제한 설정\n",
    "pd.set_option('display.max_rows', 10)\n",
    "pd.set_option('display.max_columns', 20)\n",
    "pd.set_option('display.max_colwidth', 50)"
   ]
  },
  {
   "cell_type": "code",
   "execution_count": 39,
   "id": "ce2b69eb",
   "metadata": {
    "ExecuteTime": {
     "end_time": "2023-12-28T04:50:19.408891Z",
     "start_time": "2023-12-28T04:50:19.402413Z"
    }
   },
   "outputs": [
    {
     "data": {
      "text/plain": [
       "13502"
      ]
     },
     "execution_count": 39,
     "metadata": {},
     "output_type": "execute_result"
    }
   ],
   "source": [
    "13275+113+114"
   ]
  },
  {
   "cell_type": "code",
   "execution_count": 22,
   "id": "c2d92e96",
   "metadata": {
    "ExecuteTime": {
     "end_time": "2024-01-02T04:11:42.143543Z",
     "start_time": "2024-01-02T04:11:41.273072Z"
    }
   },
   "outputs": [],
   "source": [
    "import matplotlib.pyplot as plt\n",
    "from scipy.cluster.hierarchy import dendrogram, linkage\n",
    "\n",
    "# 계층적 군집분석에서 거리 행렬 계산\n",
    "linkage_matrix = linkage(X.toarray(), 'ward')\n",
    "\n",
    "# 덴드로그램 그리기\n",
    "# dendrogram(linkage_matrix, orientation=\"top\", labels=sentences, distance_sort='descending', show_leaf_counts=True)\n",
    "# plt.title('Dendrogram')\n",
    "# plt.xlabel('Sentence')\n",
    "# plt.ylabel('Distance')\n",
    "# plt.show()"
   ]
  },
  {
   "cell_type": "code",
   "execution_count": 23,
   "id": "4431723b",
   "metadata": {
    "ExecuteTime": {
     "end_time": "2024-01-02T04:12:09.203359Z",
     "start_time": "2024-01-02T04:12:09.193207Z"
    }
   },
   "outputs": [],
   "source": [
    "from scipy.cluster.hierarchy import dendrogram, linkage\n",
    "import matplotlib.pyplot as plt\n",
    "\n",
    "# linkage 함수를 사용하여 클러스터 간의 거리 행렬 계산\n",
    "Z = linkage(X.toarray(), method='ward')  # X는 TF-IDF 행렬\n",
    "\n",
    "# 덴드로그램 생성\n",
    "# plt.figure(figsize=(15, 8))\n",
    "# dendrogram(Z)\n",
    "# plt.show()"
   ]
  },
  {
   "cell_type": "code",
   "execution_count": 24,
   "id": "66120feb",
   "metadata": {
    "ExecuteTime": {
     "end_time": "2024-01-02T04:12:22.127809Z",
     "start_time": "2024-01-02T04:12:20.505269Z"
    }
   },
   "outputs": [
    {
     "data": {
      "image/png": "[encoded data removed]",
      "text/plain": [
       "<Figure size 1080x504 with 1 Axes>"
      ]
     },
     "metadata": {
      "needs_background": "light"
     },
     "output_type": "display_data"
    }
   ],
   "source": [
    "from scipy.cluster.hierarchy import linkage, dendrogram\n",
    "import matplotlib.pyplot as plt\n",
    "\n",
    "# 계층적 군집분석\n",
    "linkage_matrix = linkage(X.toarray(), method='ward')\n",
    "\n",
    "# 클러스터 단위로 덴드로그램 그리기\n",
    "plt.figure(figsize=(15, 7))\n",
    "dendrogram(linkage_matrix, labels=agg_cluster_assignments, leaf_rotation=0, leaf_font_size=12, orientation='top')\n",
    "plt.title('Hierarchical Clustering Dendrogram (Cluster Level)')\n",
    "plt.xlabel('Cluster Index')\n",
    "plt.ylabel('Distance')\n",
    "plt.show()"
   ]
  },
  {
   "cell_type": "code",
   "execution_count": 50,
   "id": "1488dbbb",
   "metadata": {
    "ExecuteTime": {
     "end_time": "2023-12-28T06:47:47.448352Z",
     "start_time": "2023-12-28T06:47:47.352547Z"
    }
   },
   "outputs": [
    {
     "data": {
      "image/png": "[encoded data removed]",
      "text/plain": [
       "<Figure size 720x360 with 1 Axes>"
      ]
     },
     "metadata": {
      "needs_background": "light"
     },
     "output_type": "display_data"
    }
   ],
   "source": [
    "from scipy.cluster.hierarchy import linkage, dendrogram\n",
    "import matplotlib.pyplot as plt\n",
    "\n",
    "# 계층적 군집분석\n",
    "linkage_matrix = linkage(X.toarray(), method='ward')\n",
    "\n",
    "# 클러스터 단위로 덴드로그램 그리기\n",
    "plt.figure(figsize=(10, 5))\n",
    "dendrogram(linkage_matrix, labels=agg_cluster_assignments, leaf_rotation=0, leaf_font_size=12, orientation='top', truncate_mode='lastp', p=len(np.unique(agg_cluster_assignments)))\n",
    "plt.title('Hierarchical Clustering Dendrogram (Cluster Level)')\n",
    "plt.xlabel('Cluster Index')\n",
    "plt.ylabel('Distance')\n",
    "plt.show()"
   ]
  },
  {
   "cell_type": "code",
   "execution_count": 49,
   "id": "2faafd38",
   "metadata": {
    "ExecuteTime": {
     "end_time": "2023-12-28T06:47:22.091849Z",
     "start_time": "2023-12-28T06:47:22.073670Z"
    }
   },
   "outputs": [
    {
     "data": {
      "text/plain": [
       "4"
      ]
     },
     "execution_count": 49,
     "metadata": {},
     "output_type": "execute_result"
    }
   ],
   "source": [
    "len(np.unique(agg_cluster_assignments))"
   ]
  },
  {
   "cell_type": "code",
   "execution_count": 51,
   "id": "620ba956",
   "metadata": {
    "ExecuteTime": {
     "end_time": "2023-12-28T07:18:32.482479Z",
     "start_time": "2023-12-28T07:18:32.465573Z"
    }
   },
   "outputs": [
    {
     "data": {
      "text/plain": [
       "array([1, 1, 1, 1, 1, 1, 1, 0, 0, 1, 1, 1, 1, 1, 1, 1, 1, 1, 1, 1, 1, 1,\n",
       "       1, 1, 1, 2, 1, 1, 0, 1, 1, 1, 1, 1, 1, 1, 2, 0, 1, 0, 1, 1, 1, 1,\n",
       "       1, 1, 1, 1, 1, 3, 1, 2, 0, 2, 1, 1, 1, 1, 1, 1, 1, 0, 1, 1, 1, 1,\n",
       "       1, 1, 1, 1, 1, 1, 1, 1, 2, 1, 1, 2, 1, 1, 0, 0, 1, 1, 1, 1, 0, 1,\n",
       "       3, 1, 1, 1, 1, 1, 1, 1, 1, 1, 1, 0, 0, 1, 2, 2, 1, 1, 0, 0, 1, 1,\n",
       "       1, 1, 1, 1, 0, 0, 1, 1, 1, 0, 1, 1, 1, 2, 1, 1, 1, 1, 1, 3, 1, 1,\n",
       "       1, 3, 1], dtype=int64)"
      ]
     },
     "execution_count": 51,
     "metadata": {},
     "output_type": "execute_result"
    }
   ],
   "source": [
    "agg_cluster_assignments"
   ]
  },
  {
   "cell_type": "code",
   "execution_count": 60,
   "id": "48976932",
   "metadata": {
    "ExecuteTime": {
     "end_time": "2023-12-28T07:42:03.017292Z",
     "start_time": "2023-12-28T07:42:03.002287Z"
    }
   },
   "outputs": [
    {
     "name": "stdout",
     "output_type": "stream",
     "text": [
      "135\n"
     ]
    }
   ],
   "source": [
    "print(len(agg_cluster_assignments))"
   ]
  },
  {
   "cell_type": "code",
   "execution_count": 65,
   "id": "5e69baf7",
   "metadata": {
    "ExecuteTime": {
     "end_time": "2023-12-28T07:50:17.190566Z",
     "start_time": "2023-12-28T07:50:17.177449Z"
    }
   },
   "outputs": [
    {
     "data": {
      "text/plain": [
       "1"
      ]
     },
     "execution_count": 65,
     "metadata": {},
     "output_type": "execute_result"
    }
   ],
   "source": [
    "agg_cluster_assignments[0]"
   ]
  },
  {
   "cell_type": "markdown",
   "id": "0ae05cad",
   "metadata": {},
   "source": [
    "### GMM 군집분석"
   ]
  },
  {
   "cell_type": "code",
   "execution_count": 25,
   "id": "cc535e1a",
   "metadata": {
    "ExecuteTime": {
     "end_time": "2024-01-02T04:12:33.381141Z",
     "start_time": "2024-01-02T04:12:32.993384Z"
    }
   },
   "outputs": [],
   "source": [
    "from sklearn.mixture import GaussianMixture\n",
    "from sklearn.feature_extraction.text import TfidfVectorizer\n",
    "from konlpy.tag import Okt\n",
    "\n",
    "# 한국어 형태소 분석기 설정 (Okt)\n",
    "okt = Okt()\n",
    "\n",
    "# 입력 데이터: 한국어 문장 리스트\n",
    "sentences = list(pd_df.sourceText)\n",
    "\n",
    "# 형태소 분석 및 명사 추출\n",
    "tokenized_sentences = [' '.join(okt.nouns(sentence)) for sentence in sentences]\n",
    "\n",
    "# TF-IDF 벡터화\n",
    "vectorizer = TfidfVectorizer()\n",
    "X = vectorizer.fit_transform(tokenized_sentences)\n",
    "\n",
    "# GMM 모델 학습\n",
    "num_clusters = 3  # 클러스터 개수 지정\n",
    "gmm = GaussianMixture(n_components=num_clusters)\n",
    "gmm.fit(X.toarray())\n",
    "\n",
    "# 각 데이터 포인트에 대한 클러스터 예측\n",
    "cluster_assignments = gmm.predict(X.toarray())\n",
    "\n",
    "# 결과 출력\n",
    "# for cluster_num in range(num_clusters):\n",
    "#     print(f\"Cluster {cluster_num + 1}:\")\n",
    "#     cluster_sentences = [sentences[i] for i, label in enumerate(cluster_assignments) if label == cluster_num]\n",
    "#     print(\"\\n\".join(cluster_sentences))\n",
    "#     print(\"\\n\")"
   ]
  },
  {
   "cell_type": "code",
   "execution_count": 26,
   "id": "6aef3477",
   "metadata": {
    "ExecuteTime": {
     "end_time": "2024-01-02T04:12:36.378404Z",
     "start_time": "2024-01-02T04:12:36.369134Z"
    }
   },
   "outputs": [],
   "source": [
    "df = pd.DataFrame({'Sentence': sentences,'Cluster': agg_cluster_assignments})\n",
    "\n",
    "# 결과 출력\n",
    "# print(df.head())"
   ]
  },
  {
   "cell_type": "code",
   "execution_count": 27,
   "id": "2f5a6c5d",
   "metadata": {
    "ExecuteTime": {
     "end_time": "2024-01-02T04:12:38.460334Z",
     "start_time": "2024-01-02T04:12:38.449361Z"
    }
   },
   "outputs": [
    {
     "data": {
      "text/html": [
       "<div>\n",
       "<style scoped>\n",
       "    .dataframe tbody tr th:only-of-type {\n",
       "        vertical-align: middle;\n",
       "    }\n",
       "\n",
       "    .dataframe tbody tr th {\n",
       "        vertical-align: top;\n",
       "    }\n",
       "\n",
       "    .dataframe thead th {\n",
       "        text-align: right;\n",
       "    }\n",
       "</style>\n",
       "<table border=\"1\" class=\"dataframe\">\n",
       "  <thead>\n",
       "    <tr style=\"text-align: right;\">\n",
       "      <th></th>\n",
       "      <th>Sentence</th>\n",
       "      <th>Cluster</th>\n",
       "    </tr>\n",
       "  </thead>\n",
       "  <tbody>\n",
       "    <tr>\n",
       "      <th>7</th>\n",
       "      <td>그래 그런 거 같아 요즘은 장르에 관계없이 보이스가 좋고 실력들이 좋아서 힐링 되는...</td>\n",
       "      <td>0</td>\n",
       "    </tr>\n",
       "    <tr>\n",
       "      <th>8</th>\n",
       "      <td>이번 겨울은 극한의 추위가 예상된다.</td>\n",
       "      <td>0</td>\n",
       "    </tr>\n",
       "    <tr>\n",
       "      <th>28</th>\n",
       "      <td>이번에 지구과학 문제 우주 파트에서 거의 다 나왔나 보네.</td>\n",
       "      <td>0</td>\n",
       "    </tr>\n",
       "    <tr>\n",
       "      <th>37</th>\n",
       "      <td>지금도 공 기기로 유튜브를 시청하면서 설문조사를 하고 있거든.</td>\n",
       "      <td>0</td>\n",
       "    </tr>\n",
       "    <tr>\n",
       "      <th>39</th>\n",
       "      <td>이러한 격차는 정보화 기기에 대한 스트레스로 이어질 수 있어 새로운 사회문제가 될 ...</td>\n",
       "      <td>0</td>\n",
       "    </tr>\n",
       "    <tr>\n",
       "      <th>52</th>\n",
       "      <td>불에 달군 쇠라니? 설마 쇠 파이프로 올리는 건 아니겠지?</td>\n",
       "      <td>0</td>\n",
       "    </tr>\n",
       "    <tr>\n",
       "      <th>61</th>\n",
       "      <td>너는 언제까지 지금의 잡을 유지할 거니?</td>\n",
       "      <td>0</td>\n",
       "    </tr>\n",
       "    <tr>\n",
       "      <th>80</th>\n",
       "      <td>요즘에 스위치 프로그램들이 많아서 갤럭시와 아이폰 간에 이동하는데 큰 문제는 안 되...</td>\n",
       "      <td>0</td>\n",
       "    </tr>\n",
       "    <tr>\n",
       "      <th>81</th>\n",
       "      <td>뜨아파라니 설마 너 겨울에 패셔요 코셔요?</td>\n",
       "      <td>0</td>\n",
       "    </tr>\n",
       "    <tr>\n",
       "      <th>86</th>\n",
       "      <td>얘들아 이번에 수시 원서 사이트에 들어가서 원서 마감했니?</td>\n",
       "      <td>0</td>\n",
       "    </tr>\n",
       "    <tr>\n",
       "      <th>99</th>\n",
       "      <td>이번에 지원한 아르바이트에 합격할 수 있을 것 같아?</td>\n",
       "      <td>0</td>\n",
       "    </tr>\n",
       "    <tr>\n",
       "      <th>100</th>\n",
       "      <td>아무리 프로 스포츠지만 연일 더블헤더는 문제가 많아.</td>\n",
       "      <td>0</td>\n",
       "    </tr>\n",
       "    <tr>\n",
       "      <th>106</th>\n",
       "      <td>나 아니 아르바이트해야 하는데 아직 엄마 카드 쓰고 있어 좋은 자리 있으면 소개해 줘.</td>\n",
       "      <td>0</td>\n",
       "    </tr>\n",
       "    <tr>\n",
       "      <th>107</th>\n",
       "      <td>이번 엘피지에이 대회에서 박성현 선수 샷 봤어?</td>\n",
       "      <td>0</td>\n",
       "    </tr>\n",
       "    <tr>\n",
       "      <th>114</th>\n",
       "      <td>안혜진 선수가 하는 플로터 서브도 너무 환상적이더라.</td>\n",
       "      <td>0</td>\n",
       "    </tr>\n",
       "    <tr>\n",
       "      <th>115</th>\n",
       "      <td>이번 동유럽 여행 패키지는 주요 도시에서 여유로운 2박을 즐기는 여유롭고 깊이 있는...</td>\n",
       "      <td>0</td>\n",
       "    </tr>\n",
       "    <tr>\n",
       "      <th>119</th>\n",
       "      <td>지금 현금이 없는데 카드 결제 가능하지?</td>\n",
       "      <td>0</td>\n",
       "    </tr>\n",
       "  </tbody>\n",
       "</table>\n",
       "</div>"
      ],
      "text/plain": [
       "                                              Sentence  Cluster\n",
       "7    그래 그런 거 같아 요즘은 장르에 관계없이 보이스가 좋고 실력들이 좋아서 힐링 되는...        0\n",
       "8                                 이번 겨울은 극한의 추위가 예상된다.        0\n",
       "28                    이번에 지구과학 문제 우주 파트에서 거의 다 나왔나 보네.        0\n",
       "37                  지금도 공 기기로 유튜브를 시청하면서 설문조사를 하고 있거든.        0\n",
       "39   이러한 격차는 정보화 기기에 대한 스트레스로 이어질 수 있어 새로운 사회문제가 될 ...        0\n",
       "52                   불에 달군 쇠라니? 설마 쇠 파이프로 올리는 건 아니겠지?         0\n",
       "61                              너는 언제까지 지금의 잡을 유지할 거니?        0\n",
       "80   요즘에 스위치 프로그램들이 많아서 갤럭시와 아이폰 간에 이동하는데 큰 문제는 안 되...        0\n",
       "81                             뜨아파라니 설마 너 겨울에 패셔요 코셔요?        0\n",
       "86                    얘들아 이번에 수시 원서 사이트에 들어가서 원서 마감했니?        0\n",
       "99                       이번에 지원한 아르바이트에 합격할 수 있을 것 같아?        0\n",
       "100                      아무리 프로 스포츠지만 연일 더블헤더는 문제가 많아.        0\n",
       "106   나 아니 아르바이트해야 하는데 아직 엄마 카드 쓰고 있어 좋은 자리 있으면 소개해 줘.        0\n",
       "107                         이번 엘피지에이 대회에서 박성현 선수 샷 봤어?        0\n",
       "114                      안혜진 선수가 하는 플로터 서브도 너무 환상적이더라.        0\n",
       "115  이번 동유럽 여행 패키지는 주요 도시에서 여유로운 2박을 즐기는 여유롭고 깊이 있는...        0\n",
       "119                             지금 현금이 없는데 카드 결제 가능하지?        0"
      ]
     },
     "execution_count": 27,
     "metadata": {},
     "output_type": "execute_result"
    }
   ],
   "source": [
    "df[df.Cluster== 0]"
   ]
  },
  {
   "cell_type": "code",
   "execution_count": 12,
   "id": "59f6c6d0",
   "metadata": {
    "ExecuteTime": {
     "end_time": "2023-12-29T05:50:51.616534Z",
     "start_time": "2023-12-29T05:50:51.605534Z"
    }
   },
   "outputs": [
    {
     "data": {
      "text/html": [
       "<div>\n",
       "<style scoped>\n",
       "    .dataframe tbody tr th:only-of-type {\n",
       "        vertical-align: middle;\n",
       "    }\n",
       "\n",
       "    .dataframe tbody tr th {\n",
       "        vertical-align: top;\n",
       "    }\n",
       "\n",
       "    .dataframe thead th {\n",
       "        text-align: right;\n",
       "    }\n",
       "</style>\n",
       "<table border=\"1\" class=\"dataframe\">\n",
       "  <thead>\n",
       "    <tr style=\"text-align: right;\">\n",
       "      <th></th>\n",
       "      <th>Sentence</th>\n",
       "      <th>Cluster</th>\n",
       "    </tr>\n",
       "  </thead>\n",
       "  <tbody>\n",
       "    <tr>\n",
       "      <th>0</th>\n",
       "      <td>그녀의 노랫소리는 너무 가늘어서 잘 들리지 않았다.</td>\n",
       "      <td>1</td>\n",
       "    </tr>\n",
       "    <tr>\n",
       "      <th>1</th>\n",
       "      <td>자기네 폼피츠 모발이 좋던데 샴푸만 쓰니?</td>\n",
       "      <td>1</td>\n",
       "    </tr>\n",
       "    <tr>\n",
       "      <th>2</th>\n",
       "      <td>지루할 때는 영화 한편 보는 것이 해피한 것 같다.</td>\n",
       "      <td>1</td>\n",
       "    </tr>\n",
       "    <tr>\n",
       "      <th>3</th>\n",
       "      <td>나 커뮤니케이션의 이해, 직업학, 교육학 들었어.</td>\n",
       "      <td>1</td>\n",
       "    </tr>\n",
       "    <tr>\n",
       "      <th>4</th>\n",
       "      <td>집안의 나쁜 기운을 없애기 위해 내일 고사를 지낸다고 한다.</td>\n",
       "      <td>1</td>\n",
       "    </tr>\n",
       "    <tr>\n",
       "      <th>...</th>\n",
       "      <td>...</td>\n",
       "      <td>...</td>\n",
       "    </tr>\n",
       "    <tr>\n",
       "      <th>128</th>\n",
       "      <td>라네즈 옴므 세트 아빠 주려고 하나 겟했다.</td>\n",
       "      <td>1</td>\n",
       "    </tr>\n",
       "    <tr>\n",
       "      <th>130</th>\n",
       "      <td>반면, 독감은 인플루엔자 바이러스가 원인이 되어 나타나는 질환으로 에이, 비, 씨 ...</td>\n",
       "      <td>1</td>\n",
       "    </tr>\n",
       "    <tr>\n",
       "      <th>131</th>\n",
       "      <td>어 인터넷으로 구두 쇼핑했어 아이쇼핑만 하려다 급 쇼핑하게 되었어.</td>\n",
       "      <td>1</td>\n",
       "    </tr>\n",
       "    <tr>\n",
       "      <th>132</th>\n",
       "      <td>야 그러면 7시에 하자 몰라도 됨.</td>\n",
       "      <td>1</td>\n",
       "    </tr>\n",
       "    <tr>\n",
       "      <th>134</th>\n",
       "      <td>여름에 유행하는 공포영화가 나는 무서워서 너무 싫다.</td>\n",
       "      <td>1</td>\n",
       "    </tr>\n",
       "  </tbody>\n",
       "</table>\n",
       "<p>105 rows × 2 columns</p>\n",
       "</div>"
      ],
      "text/plain": [
       "                                              Sentence  Cluster\n",
       "0                         그녀의 노랫소리는 너무 가늘어서 잘 들리지 않았다.        1\n",
       "1                              자기네 폼피츠 모발이 좋던데 샴푸만 쓰니?        1\n",
       "2                         지루할 때는 영화 한편 보는 것이 해피한 것 같다.        1\n",
       "3                          나 커뮤니케이션의 이해, 직업학, 교육학 들었어.        1\n",
       "4                    집안의 나쁜 기운을 없애기 위해 내일 고사를 지낸다고 한다.        1\n",
       "..                                                 ...      ...\n",
       "128                           라네즈 옴므 세트 아빠 주려고 하나 겟했다.        1\n",
       "130  반면, 독감은 인플루엔자 바이러스가 원인이 되어 나타나는 질환으로 에이, 비, 씨 ...        1\n",
       "131              어 인터넷으로 구두 쇼핑했어 아이쇼핑만 하려다 급 쇼핑하게 되었어.        1\n",
       "132                                야 그러면 7시에 하자 몰라도 됨.        1\n",
       "134                      여름에 유행하는 공포영화가 나는 무서워서 너무 싫다.        1\n",
       "\n",
       "[105 rows x 2 columns]"
      ]
     },
     "execution_count": 12,
     "metadata": {},
     "output_type": "execute_result"
    }
   ],
   "source": [
    "df[df.Cluster== 1]"
   ]
  },
  {
   "cell_type": "code",
   "execution_count": 13,
   "id": "3aa7b40b",
   "metadata": {
    "ExecuteTime": {
     "end_time": "2023-12-29T05:51:07.202308Z",
     "start_time": "2023-12-29T05:51:07.182309Z"
    }
   },
   "outputs": [
    {
     "data": {
      "text/html": [
       "<div>\n",
       "<style scoped>\n",
       "    .dataframe tbody tr th:only-of-type {\n",
       "        vertical-align: middle;\n",
       "    }\n",
       "\n",
       "    .dataframe tbody tr th {\n",
       "        vertical-align: top;\n",
       "    }\n",
       "\n",
       "    .dataframe thead th {\n",
       "        text-align: right;\n",
       "    }\n",
       "</style>\n",
       "<table border=\"1\" class=\"dataframe\">\n",
       "  <thead>\n",
       "    <tr style=\"text-align: right;\">\n",
       "      <th></th>\n",
       "      <th>Sentence</th>\n",
       "      <th>Cluster</th>\n",
       "    </tr>\n",
       "  </thead>\n",
       "  <tbody>\n",
       "    <tr>\n",
       "      <th>25</th>\n",
       "      <td>정말 내가 하고 싶었던 건 메디칼 쪽이었는데 학비가 너무 비싸서 못했지</td>\n",
       "      <td>2</td>\n",
       "    </tr>\n",
       "    <tr>\n",
       "      <th>36</th>\n",
       "      <td>최근에 개발된 기술이 탑재되어 있다고 들었는데 팩트니?</td>\n",
       "      <td>2</td>\n",
       "    </tr>\n",
       "    <tr>\n",
       "      <th>51</th>\n",
       "      <td>메이크업할 때 팩트는 안하고 선크림만 발라.</td>\n",
       "      <td>2</td>\n",
       "    </tr>\n",
       "    <tr>\n",
       "      <th>53</th>\n",
       "      <td>역시 메이크업의 끝판왕은 클리오 더블커버킬 팩트지</td>\n",
       "      <td>2</td>\n",
       "    </tr>\n",
       "    <tr>\n",
       "      <th>74</th>\n",
       "      <td>그러게 폴더블 기술이 이제는 극강으로 좋더라고 아직 못 샀어.</td>\n",
       "      <td>2</td>\n",
       "    </tr>\n",
       "    <tr>\n",
       "      <th>77</th>\n",
       "      <td>최근 미 연방센서스국 조사에 따르면 미국내 독신 인구는 8600만명에 이른다.</td>\n",
       "      <td>2</td>\n",
       "    </tr>\n",
       "    <tr>\n",
       "      <th>102</th>\n",
       "      <td>나는 개인적으로 롤러블폰이 정말 이노베이션 한 기술이라고 생각해.</td>\n",
       "      <td>2</td>\n",
       "    </tr>\n",
       "    <tr>\n",
       "      <th>103</th>\n",
       "      <td>앞으로 이러한 기술을 이제는 생활의 일부분이 되고 있으니 적응해야 한다.</td>\n",
       "      <td>2</td>\n",
       "    </tr>\n",
       "    <tr>\n",
       "      <th>123</th>\n",
       "      <td>나도 이제 콜드브루 마시지 말고 시즌 메뉴 한번 마셔볼까?</td>\n",
       "      <td>2</td>\n",
       "    </tr>\n",
       "  </tbody>\n",
       "</table>\n",
       "</div>"
      ],
      "text/plain": [
       "                                        Sentence  Cluster\n",
       "25      정말 내가 하고 싶었던 건 메디칼 쪽이었는데 학비가 너무 비싸서 못했지         2\n",
       "36                최근에 개발된 기술이 탑재되어 있다고 들었는데 팩트니?        2\n",
       "51                      메이크업할 때 팩트는 안하고 선크림만 발라.        2\n",
       "53                   역시 메이크업의 끝판왕은 클리오 더블커버킬 팩트지        2\n",
       "74            그러게 폴더블 기술이 이제는 극강으로 좋더라고 아직 못 샀어.        2\n",
       "77   최근 미 연방센서스국 조사에 따르면 미국내 독신 인구는 8600만명에 이른다.        2\n",
       "102         나는 개인적으로 롤러블폰이 정말 이노베이션 한 기술이라고 생각해.        2\n",
       "103     앞으로 이러한 기술을 이제는 생활의 일부분이 되고 있으니 적응해야 한다.        2\n",
       "123             나도 이제 콜드브루 마시지 말고 시즌 메뉴 한번 마셔볼까?        2"
      ]
     },
     "execution_count": 13,
     "metadata": {},
     "output_type": "execute_result"
    }
   ],
   "source": [
    "df[df.Cluster== 2]"
   ]
  },
  {
   "cell_type": "markdown",
   "id": "063bc331",
   "metadata": {},
   "source": [
    "### DBSCAN"
   ]
  },
  {
   "cell_type": "code",
   "execution_count": 28,
   "id": "527a1905",
   "metadata": {
    "ExecuteTime": {
     "end_time": "2024-01-02T04:12:50.621267Z",
     "start_time": "2024-01-02T04:12:50.321188Z"
    }
   },
   "outputs": [],
   "source": [
    "from sklearn.cluster import DBSCAN\n",
    "from sklearn.feature_extraction.text import TfidfVectorizer\n",
    "from konlpy.tag import Okt\n",
    "import pandas as pd\n",
    "\n",
    "# 한국어 형태소 분석기 설정 (Okt)\n",
    "okt = Okt()\n",
    "\n",
    "# 입력 데이터: 한국어 문장 리스트\n",
    "sentences = list(pd_df.sourceText)\n",
    "\n",
    "# 형태소 분석 및 명사 추출\n",
    "tokenized_sentences = [' '.join(okt.nouns(sentence)) for sentence in sentences]\n",
    "\n",
    "# TF-IDF 벡터화\n",
    "vectorizer = TfidfVectorizer()\n",
    "X = vectorizer.fit_transform(tokenized_sentences)\n",
    "\n",
    "# DBSCAN 모델 학습\n",
    "dbscan = DBSCAN(eps=0.5, min_samples=5)  # eps: 이웃 포인트 간의 최대 거리, min_samples: 클러스터에 포함되어야 하는 최소 포인트 수\n",
    "dbscan_labels = dbscan.fit_predict(X)\n",
    "\n",
    "# 결과를 데이터프레임에 추가\n",
    "df = pd.DataFrame({'Sentence': sentences, 'Cluster': dbscan_labels})\n",
    "\n",
    "# 결과 출력\n",
    "# print(df)"
   ]
  },
  {
   "cell_type": "code",
   "execution_count": 15,
   "id": "edf6264c",
   "metadata": {
    "ExecuteTime": {
     "end_time": "2023-12-29T06:58:29.984561Z",
     "start_time": "2023-12-29T06:58:29.968723Z"
    }
   },
   "outputs": [
    {
     "data": {
      "text/plain": [
       "1"
      ]
     },
     "execution_count": 15,
     "metadata": {},
     "output_type": "execute_result"
    }
   ],
   "source": [
    "df.Cluster.nunique()"
   ]
  },
  {
   "cell_type": "code",
   "execution_count": 29,
   "id": "5c3bdfe3",
   "metadata": {
    "ExecuteTime": {
     "end_time": "2024-01-02T04:13:10.746418Z",
     "start_time": "2024-01-02T04:13:10.738275Z"
    }
   },
   "outputs": [],
   "source": [
    "# df[df.Cluster==-1]"
   ]
  },
  {
   "cell_type": "code",
   "execution_count": 30,
   "id": "4f2c26dc",
   "metadata": {
    "ExecuteTime": {
     "end_time": "2024-01-02T04:13:13.848074Z",
     "start_time": "2024-01-02T04:13:13.841270Z"
    }
   },
   "outputs": [],
   "source": [
    "# df"
   ]
  },
  {
   "cell_type": "code",
   "execution_count": null,
   "id": "9f08eabd",
   "metadata": {},
   "outputs": [],
   "source": []
  }
 ],
 "metadata": {
  "kernelspec": {
   "display_name": "Python 3 (ipykernel)",
   "language": "python",
   "name": "python3"
  },
  "language_info": {
   "codemirror_mode": {
    "name": "ipython",
    "version": 3
   },
   "file_extension": ".py",
   "mimetype": "text/x-python",
   "name": "python",
   "nbconvert_exporter": "python",
   "pygments_lexer": "ipython3",
   "version": "3.9.12"
  },
  "toc": {
   "base_numbering": 1,
   "nav_menu": {},
   "number_sections": true,
   "sideBar": true,
   "skip_h1_title": false,
   "title_cell": "Table of Contents",
   "title_sidebar": "Contents",
   "toc_cell": false,
   "toc_position": {},
   "toc_section_display": true,
   "toc_window_display": true
  }
 },
 "nbformat": 4,
 "nbformat_minor": 5
}
