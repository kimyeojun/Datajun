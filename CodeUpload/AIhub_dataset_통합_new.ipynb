{
 "cells": [
  {
   "cell_type": "code",
   "execution_count": 1,
   "id": "0c8912f4",
   "metadata": {
    "ExecuteTime": {
     "end_time": "2023-09-18T05:12:35.018809Z",
     "start_time": "2023-09-18T05:12:34.607136Z"
    }
   },
   "outputs": [],
   "source": [
    "import pandas as pd\n",
    "import os"
   ]
  },
  {
   "cell_type": "code",
   "execution_count": 2,
   "id": "e8e4c7c7",
   "metadata": {
    "ExecuteTime": {
     "end_time": "2023-09-18T05:12:35.173439Z",
     "start_time": "2023-09-18T05:12:35.159439Z"
    }
   },
   "outputs": [],
   "source": [
    "os.chdir('C:/Users/shjo/Desktop/AI Hub/데이터 통합(수정)')"
   ]
  },
  {
   "cell_type": "markdown",
   "id": "0cc2b077",
   "metadata": {},
   "source": [
    "### 데이터 로드"
   ]
  },
  {
   "cell_type": "markdown",
   "id": "fdb556ce",
   "metadata": {},
   "source": [
    "#### pandas 사용"
   ]
  },
  {
   "cell_type": "code",
   "execution_count": null,
   "id": "3b581a8c",
   "metadata": {},
   "outputs": [],
   "source": [
    "utterance_type_df = pd.read_csv('C:/Users/shjo/Desktop/AI Hub/데이터 통합/발화유형(문어,구어,채팅)별_기계번역_병렬_말뭉치_01.데이터.csv')\n",
    "specialty_df = pd.read_csv('C:/Users/shjo/Desktop/AI Hub/데이터 통합/전문분야_한영_말뭉치.csv')\n",
    "ko_en_trans_df = pd.read_csv('C:/Users/shjo/Desktop/AI Hub/데이터 통합/한국어-영어_번역(병렬)_말뭉치.csv')\n",
    "everyday_life_df = pd.read_csv('C:/Users/shjo/Desktop/AI Hub/데이터 통합/일상생활_및_구어체_한-영_번역_병렬_말뭉치_데이터.csv')\n",
    "science_df = pd.read_csv('C:/Users/shjo/Desktop/AI Hub/데이터 통합/기술과학_분야_한-영_번역_병렬_말뭉치_데이터.csv')\n",
    "food_df = pd.read_csv('C:/Users/shjo/Desktop/AI Hub/데이터 통합/전문분야_영-한,_중-한_번역_말뭉치(식품).csv')\n",
    "contents_df = pd.read_csv('C:/Users/shjo/Desktop/AI Hub/데이터 통합/방송콘텐츠_한국어-영어_번역_말뭉치.csv')"
   ]
  },
  {
   "cell_type": "code",
   "execution_count": null,
   "id": "27a49bed",
   "metadata": {},
   "outputs": [],
   "source": [
    "# column 정리"
   ]
  },
  {
   "cell_type": "code",
   "execution_count": null,
   "id": "437f7577",
   "metadata": {},
   "outputs": [],
   "source": [
    "# utterance_type_df = utterance_type_df[['sn', 'data_set', 'source', 'target', 'file_name', 'source_language', 'target_language']]\n",
    "# specialty_df = specialty_df[['sid', 'dataset_name', 'source', 'target', 'file_path', 'source_language', 'target_language']]\n",
    "# ko_en_trans_df = ko_en_trans_df[['sn', 'data_set', 'source', 'target', 'file_path', 'source_language', 'target_language']]\n",
    "# everyday_life_df = everyday_life_df[['sn', 'data_set', 'source', 'target', 'file_path', 'source_language', 'target_language']]\n",
    "# science_df = science_df[['sn', 'data_set', 'source', 'target', 'file_path', 'source_language', 'target_language']]\n",
    "# food_df = food_df[['sn', 'data_set', 'source', 'target', 'file_path', 'source_language', 'target_language']]\n",
    "# contents_df = contents_df[['sn', 'dataset', 'source', 'target', 'file_name', 'source_language', 'target_language']]"
   ]
  },
  {
   "cell_type": "code",
   "execution_count": null,
   "id": "9c50e032",
   "metadata": {},
   "outputs": [],
   "source": [
    "# specialty_df = specialty_df.rename(columns={'sid':'sn','dataset_name':'data_set','file_path':'file_name'})\n",
    "# ko_en_trans_df = ko_en_trans_df.rename(columns={'file_path':'file_name'})\n",
    "# everyday_life_df = everyday_life_df.rename(columns={'file_path':'file_name'})\n",
    "# science_df = science_df.rename(columns={'file_path':'file_name'})\n",
    "# food_df = food_df.rename(columns={'file_path':'file_name'})\n",
    "# contents_df = contents_df.rename(columns={'dataset':'data_set'})"
   ]
  },
  {
   "cell_type": "code",
   "execution_count": null,
   "id": "cf980788",
   "metadata": {},
   "outputs": [],
   "source": [
    "specialty_df.rename(columns={'sid':'sn','dataset_name':'data_set','file_path':'file_name'}, inplace=True)\n",
    "ko_en_trans_df.rename(columns={'file_path':'file_name'}, inplace=True)\n",
    "everyday_life_df.rename(columns={'file_path':'file_name'}, inplace=True)\n",
    "science_df.rename(columns={'file_path':'file_name'}, inplace=True)\n",
    "food_df.rename(columns={'file_path':'file_name'}, inplace=True)\n",
    "contents_df.rename(columns={'dataset':'data_set'}, inplace=True)"
   ]
  },
  {
   "cell_type": "code",
   "execution_count": null,
   "id": "cbd14519",
   "metadata": {},
   "outputs": [],
   "source": [
    "utterance_type_df = utterance_type_df.reindex(columns=['sn', 'data_set', 'source', 'target', 'file_name', 'source_language', 'target_language'])\n",
    "specialty_df = specialty_df.reindex(columns=['sn', 'data_set', 'source', 'target', 'file_name', 'source_language', 'target_language'])\n",
    "ko_en_trans_df = ko_en_trans_df.reindex(columns=['sn', 'data_set', 'source', 'target', 'file_name', 'source_language', 'target_language'])\n",
    "everyday_life_df = everyday_life_df.reindex(columns=['sn', 'data_set', 'source', 'target', 'file_name', 'source_language', 'target_language'])\n",
    "science_df = science_df.reindex(columns=['sn', 'data_set', 'source', 'target', 'file_name', 'source_language', 'target_language'])\n",
    "food_df = food_df.reindex(columns=['sn', 'data_set', 'source', 'target', 'file_name', 'source_language', 'target_language'])\n",
    "contents_df = contents_df.reindex(columns=['sn', 'data_set', 'source', 'target', 'file_name', 'source_language', 'target_language'])"
   ]
  },
  {
   "cell_type": "code",
   "execution_count": null,
   "id": "b3b84413",
   "metadata": {},
   "outputs": [],
   "source": [
    "utterance_type_df.to_csv('발화유형(문어,구어,채팅)별_기계번역_병렬_말뭉치_01.데이터.csv', index = False)\n",
    "specialty_df.to_csv('전문분야_한영_말뭉치.csv', index = False)\n",
    "ko_en_trans_df.to_csv('한국어-영어_번역(병렬)_말뭉치.csv', index = False)\n",
    "everyday_life_df.to_csv('일상생활_및_구어체_한-영_번역_병렬_말뭉치_데이터.csv', index = False)\n",
    "science_df.to_csv('기술과학_분야_한-영_번역_병렬_말뭉치_데이터.csv', index = False)\n",
    "food_df.to_csv('전문분야_영-한,_중-한_번역_말뭉치(식품).csv', index = False)\n",
    "contents_df.to_csv('방송콘텐츠_한국어-영어_번역_말뭉치.csv', index = False)"
   ]
  },
  {
   "cell_type": "code",
   "execution_count": null,
   "id": "a7aa8143",
   "metadata": {},
   "outputs": [],
   "source": [
    "# column 정리 된 버전 로드\n",
    "utterance_type_df = pd.read_csv('발화유형(문어,구어,채팅)별_기계번역_병렬_말뭉치_01.데이터.csv')\n",
    "specialty_df = pd.read_csv('전문분야_한영_말뭉치.csv')\n",
    "ko_en_trans_df = pd.read_csv('한국어-영어_번역(병렬)_말뭉치.csv')\n",
    "everyday_life_df = pd.read_csv('일상생활_및_구어체_한-영_번역_병렬_말뭉치_데이터.csv')\n",
    "science_df = pd.read_csv('기술과학_분야_한-영_번역_병렬_말뭉치_데이터.csv')\n",
    "food_df = pd.read_csv('전문분야_영-한,_중-한_번역_말뭉치(식품).csv')\n",
    "contents_df = pd.read_csv('방송콘텐츠_한국어-영어_번역_말뭉치.csv')"
   ]
  },
  {
   "cell_type": "markdown",
   "id": "aace1830",
   "metadata": {},
   "source": [
    "#### common 데이터 csv파일 저장"
   ]
  },
  {
   "cell_type": "code",
   "execution_count": 22,
   "id": "68aabb64",
   "metadata": {
    "ExecuteTime": {
     "end_time": "2023-08-18T05:00:36.995772Z",
     "start_time": "2023-08-18T05:00:36.981774Z"
    }
   },
   "outputs": [
    {
     "data": {
      "text/plain": [
       "['C:/Users/shjo/Desktop/AI Hub/한국어-영어 번역(병렬) 말뭉치\\\\1_구어체(1).xlsx',\n",
       " 'C:/Users/shjo/Desktop/AI Hub/한국어-영어 번역(병렬) 말뭉치\\\\1_구어체(2).xlsx',\n",
       " 'C:/Users/shjo/Desktop/AI Hub/한국어-영어 번역(병렬) 말뭉치\\\\2_대화체.xlsx',\n",
       " 'C:/Users/shjo/Desktop/AI Hub/한국어-영어 번역(병렬) 말뭉치\\\\3_문어체_뉴스(1)_200226.xlsx',\n",
       " 'C:/Users/shjo/Desktop/AI Hub/한국어-영어 번역(병렬) 말뭉치\\\\3_문어체_뉴스(2).xlsx',\n",
       " 'C:/Users/shjo/Desktop/AI Hub/한국어-영어 번역(병렬) 말뭉치\\\\3_문어체_뉴스(3).xlsx',\n",
       " 'C:/Users/shjo/Desktop/AI Hub/한국어-영어 번역(병렬) 말뭉치\\\\3_문어체_뉴스(4).xlsx',\n",
       " 'C:/Users/shjo/Desktop/AI Hub/한국어-영어 번역(병렬) 말뭉치\\\\4_문어체_한국문화.xlsx',\n",
       " 'C:/Users/shjo/Desktop/AI Hub/한국어-영어 번역(병렬) 말뭉치\\\\5_문어체_조례.xlsx',\n",
       " 'C:/Users/shjo/Desktop/AI Hub/한국어-영어 번역(병렬) 말뭉치\\\\6_문어체_지자체웹사이트.xlsx']"
      ]
     },
     "execution_count": 22,
     "metadata": {},
     "output_type": "execute_result"
    }
   ],
   "source": [
    "ko_en_list = glob.glob('C:/Users/shjo/Desktop/AI Hub/한국어-영어 번역(병렬) 말뭉치/**')\n",
    "ko_en_list"
   ]
  },
  {
   "cell_type": "code",
   "execution_count": 32,
   "id": "21403f46",
   "metadata": {
    "ExecuteTime": {
     "end_time": "2023-08-18T06:12:19.923539Z",
     "start_time": "2023-08-18T06:12:08.846742Z"
    }
   },
   "outputs": [
    {
     "data": {
      "text/html": [
       "<div>\n",
       "<style scoped>\n",
       "    .dataframe tbody tr th:only-of-type {\n",
       "        vertical-align: middle;\n",
       "    }\n",
       "\n",
       "    .dataframe tbody tr th {\n",
       "        vertical-align: top;\n",
       "    }\n",
       "\n",
       "    .dataframe thead th {\n",
       "        text-align: right;\n",
       "    }\n",
       "</style>\n",
       "<table border=\"1\" class=\"dataframe\">\n",
       "  <thead>\n",
       "    <tr style=\"text-align: right;\">\n",
       "      <th></th>\n",
       "      <th>대분류</th>\n",
       "      <th>소분류</th>\n",
       "      <th>상황</th>\n",
       "      <th>Set Nr.</th>\n",
       "      <th>발화자</th>\n",
       "      <th>원문</th>\n",
       "      <th>번역문</th>\n",
       "    </tr>\n",
       "  </thead>\n",
       "  <tbody>\n",
       "    <tr>\n",
       "      <th>0</th>\n",
       "      <td>비즈니스</td>\n",
       "      <td>회의</td>\n",
       "      <td>의견 교환하기</td>\n",
       "      <td>1</td>\n",
       "      <td>A-1</td>\n",
       "      <td>이번 신제품 출시에 대한 시장의 반응은 어떤가요?</td>\n",
       "      <td>How is the market's reaction to the newly rele...</td>\n",
       "    </tr>\n",
       "    <tr>\n",
       "      <th>1</th>\n",
       "      <td>비즈니스</td>\n",
       "      <td>회의</td>\n",
       "      <td>의견 교환하기</td>\n",
       "      <td>1</td>\n",
       "      <td>B-1</td>\n",
       "      <td>판매량이 지난번 제품보다 빠르게 늘고 있습니다.</td>\n",
       "      <td>The sales increase is faster than the previous...</td>\n",
       "    </tr>\n",
       "    <tr>\n",
       "      <th>2</th>\n",
       "      <td>비즈니스</td>\n",
       "      <td>회의</td>\n",
       "      <td>의견 교환하기</td>\n",
       "      <td>1</td>\n",
       "      <td>A-2</td>\n",
       "      <td>그렇다면 공장에 연락해서 주문량을 더 늘려야겠네요.</td>\n",
       "      <td>Then, we'll have to call the manufacturer and ...</td>\n",
       "    </tr>\n",
       "    <tr>\n",
       "      <th>3</th>\n",
       "      <td>비즈니스</td>\n",
       "      <td>회의</td>\n",
       "      <td>의견 교환하기</td>\n",
       "      <td>1</td>\n",
       "      <td>B-2</td>\n",
       "      <td>네, 제가 연락해서 주문량을 2배로 늘리겠습니다.</td>\n",
       "      <td>Sure, I'll make a call and double the volume o...</td>\n",
       "    </tr>\n",
       "    <tr>\n",
       "      <th>4</th>\n",
       "      <td>비즈니스</td>\n",
       "      <td>회의</td>\n",
       "      <td>의견 교환하기</td>\n",
       "      <td>2</td>\n",
       "      <td>A-1</td>\n",
       "      <td>지난 회의 마지막에 논의했던 안건을 다시 볼까요?</td>\n",
       "      <td>Shall we take a look at the issues we discusse...</td>\n",
       "    </tr>\n",
       "    <tr>\n",
       "      <th>...</th>\n",
       "      <td>...</td>\n",
       "      <td>...</td>\n",
       "      <td>...</td>\n",
       "      <td>...</td>\n",
       "      <td>...</td>\n",
       "      <td>...</td>\n",
       "      <td>...</td>\n",
       "    </tr>\n",
       "    <tr>\n",
       "      <th>99995</th>\n",
       "      <td>여행/쇼핑</td>\n",
       "      <td>쇼핑</td>\n",
       "      <td>계산/포장/배달 (계산 장소 문의, 계산 오류 등)</td>\n",
       "      <td>24999</td>\n",
       "      <td>B-2</td>\n",
       "      <td>저희가 가격표 배치를 잘못해서 혼동을 드렸나 봐요, 죄송해요.</td>\n",
       "      <td>It seems that we didn't place the price tags c...</td>\n",
       "    </tr>\n",
       "    <tr>\n",
       "      <th>99996</th>\n",
       "      <td>여행/쇼핑</td>\n",
       "      <td>쇼핑</td>\n",
       "      <td>계산/포장/배달 (계산 장소 문의, 계산 오류 등)</td>\n",
       "      <td>25000</td>\n",
       "      <td>A-1</td>\n",
       "      <td>백화점 포인트로 계산하고 싶은데, 가능한가요?</td>\n",
       "      <td>Can I pay using the department store points?</td>\n",
       "    </tr>\n",
       "    <tr>\n",
       "      <th>99997</th>\n",
       "      <td>여행/쇼핑</td>\n",
       "      <td>쇼핑</td>\n",
       "      <td>계산/포장/배달 (계산 장소 문의, 계산 오류 등)</td>\n",
       "      <td>25000</td>\n",
       "      <td>B-1</td>\n",
       "      <td>네, 물론이죠, 전화번호 입력해주시면 됩니다.</td>\n",
       "      <td>Yes, of course, you just need to enter your ph...</td>\n",
       "    </tr>\n",
       "    <tr>\n",
       "      <th>99998</th>\n",
       "      <td>여행/쇼핑</td>\n",
       "      <td>쇼핑</td>\n",
       "      <td>계산/포장/배달 (계산 장소 문의, 계산 오류 등)</td>\n",
       "      <td>25000</td>\n",
       "      <td>A-2</td>\n",
       "      <td>입력했어요, 전액 백화점 포인트로 결제하고 싶어요.</td>\n",
       "      <td>I entered it, I want to pay it with all the de...</td>\n",
       "    </tr>\n",
       "    <tr>\n",
       "      <th>99999</th>\n",
       "      <td>여행/쇼핑</td>\n",
       "      <td>쇼핑</td>\n",
       "      <td>계산/포장/배달 (계산 장소 문의, 계산 오류 등)</td>\n",
       "      <td>25000</td>\n",
       "      <td>B-2</td>\n",
       "      <td>죄송하지만 포인트 제외한 차액 15,000원은 따로 결제해주셔야 합니다.</td>\n",
       "      <td>I'm sorry, but you need to make a separate pay...</td>\n",
       "    </tr>\n",
       "  </tbody>\n",
       "</table>\n",
       "<p>100000 rows × 7 columns</p>\n",
       "</div>"
      ],
      "text/plain": [
       "         대분류 소분류                            상황  Set Nr.  발화자  \\\n",
       "0       비즈니스  회의                       의견 교환하기        1  A-1   \n",
       "1       비즈니스  회의                       의견 교환하기        1  B-1   \n",
       "2       비즈니스  회의                       의견 교환하기        1  A-2   \n",
       "3       비즈니스  회의                       의견 교환하기        1  B-2   \n",
       "4       비즈니스  회의                       의견 교환하기        2  A-1   \n",
       "...      ...  ..                           ...      ...  ...   \n",
       "99995  여행/쇼핑  쇼핑  계산/포장/배달 (계산 장소 문의, 계산 오류 등)    24999  B-2   \n",
       "99996  여행/쇼핑  쇼핑  계산/포장/배달 (계산 장소 문의, 계산 오류 등)    25000  A-1   \n",
       "99997  여행/쇼핑  쇼핑  계산/포장/배달 (계산 장소 문의, 계산 오류 등)    25000  B-1   \n",
       "99998  여행/쇼핑  쇼핑  계산/포장/배달 (계산 장소 문의, 계산 오류 등)    25000  A-2   \n",
       "99999  여행/쇼핑  쇼핑  계산/포장/배달 (계산 장소 문의, 계산 오류 등)    25000  B-2   \n",
       "\n",
       "                                             원문  \\\n",
       "0                   이번 신제품 출시에 대한 시장의 반응은 어떤가요?   \n",
       "1                    판매량이 지난번 제품보다 빠르게 늘고 있습니다.   \n",
       "2                  그렇다면 공장에 연락해서 주문량을 더 늘려야겠네요.   \n",
       "3                   네, 제가 연락해서 주문량을 2배로 늘리겠습니다.   \n",
       "4                   지난 회의 마지막에 논의했던 안건을 다시 볼까요?   \n",
       "...                                         ...   \n",
       "99995        저희가 가격표 배치를 잘못해서 혼동을 드렸나 봐요, 죄송해요.   \n",
       "99996                 백화점 포인트로 계산하고 싶은데, 가능한가요?   \n",
       "99997                 네, 물론이죠, 전화번호 입력해주시면 됩니다.   \n",
       "99998              입력했어요, 전액 백화점 포인트로 결제하고 싶어요.   \n",
       "99999  죄송하지만 포인트 제외한 차액 15,000원은 따로 결제해주셔야 합니다.   \n",
       "\n",
       "                                                     번역문  \n",
       "0      How is the market's reaction to the newly rele...  \n",
       "1      The sales increase is faster than the previous...  \n",
       "2      Then, we'll have to call the manufacturer and ...  \n",
       "3      Sure, I'll make a call and double the volume o...  \n",
       "4      Shall we take a look at the issues we discusse...  \n",
       "...                                                  ...  \n",
       "99995  It seems that we didn't place the price tags c...  \n",
       "99996       Can I pay using the department store points?  \n",
       "99997  Yes, of course, you just need to enter your ph...  \n",
       "99998  I entered it, I want to pay it with all the de...  \n",
       "99999  I'm sorry, but you need to make a separate pay...  \n",
       "\n",
       "[100000 rows x 7 columns]"
      ]
     },
     "execution_count": 32,
     "metadata": {},
     "output_type": "execute_result"
    }
   ],
   "source": [
    "ko_en_trans_df = pd.read_excel(ko_en_list[2])\n",
    "ko_en_trans_df"
   ]
  },
  {
   "cell_type": "code",
   "execution_count": null,
   "id": "cd726418",
   "metadata": {},
   "outputs": [],
   "source": [
    "sample_data = pd.DataFrame()\n",
    "for f in sample_list:\n",
    "    with open(f,'r',encoding=\"utf-8\") as file:\n",
    "        data = json.load(file)\n",
    "    pd_df = pd.DataFrame(data['data'])\n",
    "    sample_data = pd.concat([sample_data, pd_df])"
   ]
  },
  {
   "cell_type": "code",
   "execution_count": null,
   "id": "786ab495",
   "metadata": {},
   "outputs": [],
   "source": []
  },
  {
   "cell_type": "code",
   "execution_count": null,
   "id": "906e30a7",
   "metadata": {},
   "outputs": [],
   "source": []
  },
  {
   "cell_type": "code",
   "execution_count": null,
   "id": "965bf439",
   "metadata": {},
   "outputs": [],
   "source": []
  },
  {
   "cell_type": "markdown",
   "id": "94136bcd",
   "metadata": {},
   "source": [
    "#### pyspark 사용"
   ]
  },
  {
   "cell_type": "code",
   "execution_count": 85,
   "id": "9c375210",
   "metadata": {
    "ExecuteTime": {
     "end_time": "2023-08-22T07:38:30.892099Z",
     "start_time": "2023-08-22T07:38:30.885103Z"
    }
   },
   "outputs": [],
   "source": [
    "import findspark\n",
    "findspark.init()\n",
    "import pyspark\n",
    "from pyspark.sql import SparkSession\n",
    "from pyspark.sql.functions import udf\n",
    "from pyspark.sql.functions import col\n",
    "import pandas as pd\n",
    "from pyspark.sql.types import IntegerType, StringType, DoubleType\n",
    "from pyspark.context import SparkContext"
   ]
  },
  {
   "cell_type": "code",
   "execution_count": null,
   "id": "31cb1b85",
   "metadata": {},
   "outputs": [],
   "source": [
    "spark = SparkSession.builder \\\n",
    "    .appName(\"Loading CSV Files Separately\") \\\n",
    "    .getOrCreate()\n",
    "\n",
    "# Define the path to each CSV file\n",
    "utterance_type_csv_path = 'C:/Users/shjo/Desktop/AI Hub/데이터 통합/발화유형(문어,구어,채팅)별_기계번역_병렬_말뭉치_01.데이터.csv'\n",
    "specialty_csv_path = 'C:/Users/shjo/Desktop/AI Hub/데이터 통합/전문분야_한영_말뭉치.csv'\n",
    "ko_en_trans_csv_path = 'C:/Users/shjo/Desktop/AI Hub/데이터 통합/한국어-영어_번역(병렬)_말뭉치.csv'\n",
    "everyday_life_csv_path = 'C:/Users/shjo/Desktop/AI Hub/데이터 통합/일상생활_및_구어체_한-영_번역_병렬_말뭉치_데이터.csv'\n",
    "science_csv_path = 'C:/Users/shjo/Desktop/AI Hub/데이터 통합/기술과학_분야_한-영_번역_병렬_말뭉치_데이터.csv'\n",
    "food_csv_path = 'C:/Users/shjo/Desktop/AI Hub/데이터 통합/전문분야_영-한,_중-한_번역_말뭉치(식품).csv'\n",
    "contents_csv_path = 'C:/Users/shjo/Desktop/AI Hub/데이터 통합/방송콘텐츠_한국어-영어_번역_말뭉치.csv'\n",
    "\n",
    "# 처음 버전 \"\" 인용문이 있는 경우 각 column에 제대로 된 값이 배정되지 않음\n",
    "# # Load each CSV file into separate DataFrames\n",
    "# utterance_type_df = spark.read.option(\"header\", \"true\").option(\"inferSchema\", \"true\").csv(utterance_type_csv_path)\n",
    "# specialty_df = spark.read.option(\"header\", \"true\").option(\"inferSchema\", \"true\").option(\"setp\", \"\\t\").csv(specialty_csv_path)\n",
    "# ko_en_trans_df = spark.read.option(\"header\", \"true\").option(\"inferSchema\", \"true\").csv(ko_en_trans_csv_path)\n",
    "# everyday_life_df = spark.read.option(\"header\", \"true\").option(\"inferSchema\", \"true\").csv(everyday_life_csv_path)\n",
    "# science_df = spark.read.option(\"header\", \"true\").option(\"inferSchema\", \"true\").csv(science_csv_path)\n",
    "# food_df = spark.read.option(\"header\", \"true\").option(\"inferSchema\", \"true\").csv(food_csv_path)\n",
    "# contents_df = spark.read.option(\"header\", \"true\").option(\"inferSchema\", \"true\").csv(contents_csv_path)\n",
    "\n",
    "utterance_type_df = spark.read.option(\"header\", \"true\").option(\"quote\", \"\\\"\").option(\"escape\", \"\\\"\").option(\"multiline\", \"true\").csv(utterance_type_csv_path)\n",
    "specialty_df = spark.read.option(\"header\", \"true\").option(\"quote\", \"\\\"\").option(\"escape\", \"\\\"\").option(\"multiline\", \"true\").csv(specialty_csv_path)\n",
    "ko_en_trans_df = spark.read.option(\"header\", \"true\").option(\"quote\", \"\\\"\").option(\"escape\", \"\\\"\").option(\"multiline\", \"true\").csv(ko_en_trans_csv_path)\n",
    "everyday_life_df = spark.read.option(\"header\", \"true\").option(\"quote\", \"\\\"\").option(\"escape\", \"\\\"\").option(\"multiline\", \"true\").csv(everyday_life_csv_path)\n",
    "science_df = spark.read.option(\"header\", \"true\").option(\"quote\", \"\\\"\").option(\"escape\", \"\\\"\").option(\"multiline\", \"true\").csv(science_csv_path)\n",
    "food_df = spark.read.option(\"header\", \"true\").option(\"quote\", \"\\\"\").option(\"escape\", \"\\\"\").option(\"multiline\", \"true\").csv(food_csv_path)\n",
    "contents_df = spark.read.option(\"header\", \"true\").option(\"quote\", \"\\\"\").option(\"escape\", \"\\\"\").option(\"multiline\", \"true\").csv(contents_csv_path)"
   ]
  },
  {
   "cell_type": "code",
   "execution_count": 86,
   "id": "105b5fe8",
   "metadata": {
    "ExecuteTime": {
     "end_time": "2023-08-22T07:38:47.785872Z",
     "start_time": "2023-08-22T07:38:41.396578Z"
    }
   },
   "outputs": [],
   "source": [
    "# option 대신 oprions 사용\n",
    "spark = SparkSession.builder \\\n",
    "    .appName(\"Loading CSV Files Separately\") \\\n",
    "    .getOrCreate()\n",
    "utterance_type_csv_path = 'C:/Users/shjo/Desktop/AI Hub/데이터 통합/발화유형(문어,구어,채팅)별_기계번역_병렬_말뭉치_01.데이터.csv'\n",
    "utterance_type_df = spark.read.options(header = True,quote= \"\\\"\",escape=\"\\\"\",multiline=True).csv(utterance_type_csv_path)"
   ]
  },
  {
   "cell_type": "code",
   "execution_count": null,
   "id": "a6690343",
   "metadata": {},
   "outputs": [],
   "source": [
    "# column 정리"
   ]
  },
  {
   "cell_type": "code",
   "execution_count": null,
   "id": "0b782659",
   "metadata": {},
   "outputs": [],
   "source": [
    "utterance_type_column_order = ['sn', 'data_set', 'source', 'target', 'file_name', 'source_language', 'target_language']\n",
    "specialty_column_order = ['sid', 'dataset_name', 'source', 'target', 'file_path', 'source_language', 'target_language']\n",
    "ko_en_trans_column_order = ['sn', 'data_set', 'source', 'target', 'file_path', 'source_language', 'target_language']\n",
    "everyday_life_column_order = ['sn', 'data_set', 'source', 'target', 'file_path', 'source_language', 'target_language']\n",
    "science_column_order = ['sn', 'data_set', 'source', 'target', 'file_path', 'source_language', 'target_language']\n",
    "food_column_order = ['sn', 'data_set', 'source', 'target', 'file_path', 'source_language', 'target_language']\n",
    "contents_column_order = ['sn', 'dataset', 'source', 'target', 'file_name', 'source_language', 'target_language']"
   ]
  },
  {
   "cell_type": "code",
   "execution_count": null,
   "id": "7ba18e0d",
   "metadata": {},
   "outputs": [],
   "source": [
    "utterance_type_df = utterance_type_df.select(*utterance_type_column_order)\n",
    "specialty_df = specialty_df.select(*specialty_column_order).withColumnRenamed('sid','sn').withColumnRenamed('dataset_name','data_set')\n",
    "ko_en_trans_df = ko_en_trans_df.select(*ko_en_trans_column_order)\n",
    "everyday_life_df = everyday_life_df.select(*everyday_life_column_order)\n",
    "science_df = science_df.select(*science_column_order)\n",
    "food_df = food_df.select(*food_column_order)\n",
    "contents_df = contents_df.select(*contents_column_order).withColumnRenamed('dataset','data_set')"
   ]
  },
  {
   "cell_type": "code",
   "execution_count": null,
   "id": "c84ce8af",
   "metadata": {},
   "outputs": [],
   "source": [
    "raws = specialty_df.take(20)"
   ]
  },
  {
   "cell_type": "code",
   "execution_count": null,
   "id": "332ccdd3",
   "metadata": {},
   "outputs": [],
   "source": [
    "specialty_df.show()"
   ]
  },
  {
   "cell_type": "markdown",
   "id": "10e59e43",
   "metadata": {},
   "source": [
    "#### pandas DataFrame"
   ]
  },
  {
   "cell_type": "code",
   "execution_count": null,
   "id": "4b11afc6",
   "metadata": {},
   "outputs": [],
   "source": [
    "utterance_type_df"
   ]
  },
  {
   "cell_type": "code",
   "execution_count": null,
   "id": "58d8c427",
   "metadata": {},
   "outputs": [],
   "source": [
    "specialty_df"
   ]
  },
  {
   "cell_type": "code",
   "execution_count": null,
   "id": "b1934d30",
   "metadata": {},
   "outputs": [],
   "source": [
    "ko_en_trans_df"
   ]
  },
  {
   "cell_type": "code",
   "execution_count": null,
   "id": "a5596b6d",
   "metadata": {},
   "outputs": [],
   "source": [
    "everyday_life_df"
   ]
  },
  {
   "cell_type": "code",
   "execution_count": null,
   "id": "27a29cb3",
   "metadata": {},
   "outputs": [],
   "source": [
    "science_df"
   ]
  },
  {
   "cell_type": "code",
   "execution_count": null,
   "id": "05b4f104",
   "metadata": {},
   "outputs": [],
   "source": [
    "food_df"
   ]
  },
  {
   "cell_type": "code",
   "execution_count": null,
   "id": "19009d6c",
   "metadata": {},
   "outputs": [],
   "source": [
    "contents_df"
   ]
  },
  {
   "cell_type": "code",
   "execution_count": null,
   "id": "3bc8bd4c",
   "metadata": {},
   "outputs": [],
   "source": [
    "# 구어체 분류 및 데이터 확인"
   ]
  },
  {
   "cell_type": "code",
   "execution_count": null,
   "id": "faaf1660",
   "metadata": {},
   "outputs": [],
   "source": [
    "ko_en_trans_df.file_path.unique()"
   ]
  },
  {
   "cell_type": "markdown",
   "id": "2638bbf6",
   "metadata": {},
   "source": [
    "### 중복 확인"
   ]
  },
  {
   "cell_type": "code",
   "execution_count": null,
   "id": "8b52874b",
   "metadata": {},
   "outputs": [],
   "source": [
    "dataset_list = [utterance_type_df, specialty_df ,ko_en_trans_df ,everyday_life_df ,science_df ,food_df ,contents_df]"
   ]
  },
  {
   "cell_type": "code",
   "execution_count": null,
   "id": "b9143f82",
   "metadata": {},
   "outputs": [],
   "source": [
    "for f in dataset_list:\n",
    "    print(len(f))"
   ]
  },
  {
   "cell_type": "code",
   "execution_count": null,
   "id": "13c62bb2",
   "metadata": {},
   "outputs": [],
   "source": [
    "for f in dataset_list:\n",
    "    print(len(f[f.source.duplicated(keep=False)]))"
   ]
  },
  {
   "cell_type": "code",
   "execution_count": null,
   "id": "ceefc418",
   "metadata": {},
   "outputs": [],
   "source": [
    "len(utterance_type_df[utterance_type_df.source.duplicated(keep=False)].sort_values(by='source'))"
   ]
  },
  {
   "cell_type": "markdown",
   "id": "ac9146ee",
   "metadata": {},
   "source": [
    "#### pyspark 활용"
   ]
  },
  {
   "cell_type": "code",
   "execution_count": null,
   "id": "8854a08a",
   "metadata": {},
   "outputs": [],
   "source": [
    "for f in dataset_list:\n",
    "    print(f.count())"
   ]
  },
  {
   "cell_type": "code",
   "execution_count": null,
   "id": "abebd8cf",
   "metadata": {},
   "outputs": [],
   "source": [
    "specialty_df.printSchema()"
   ]
  },
  {
   "cell_type": "code",
   "execution_count": null,
   "id": "21609fb7",
   "metadata": {},
   "outputs": [],
   "source": [
    "for f in dataset_list:\n",
    "    duplicated_count = f.groupBy('source').count()\n",
    "    print(duplicated_count)"
   ]
  },
  {
   "cell_type": "code",
   "execution_count": null,
   "id": "e28af27c",
   "metadata": {},
   "outputs": [],
   "source": [
    "grouped_df = specialty_df.groupBy('source').count()"
   ]
  },
  {
   "cell_type": "code",
   "execution_count": null,
   "id": "ab829f70",
   "metadata": {},
   "outputs": [],
   "source": [
    "duplicate_df = grouped_df.filter(col('count') > 1)\n",
    "duplicate_df.show()"
   ]
  },
  {
   "cell_type": "markdown",
   "id": "f5d6d76c",
   "metadata": {},
   "source": [
    "### 전체 데이터셋 탐색 및 통계치"
   ]
  },
  {
   "cell_type": "code",
   "execution_count": 3,
   "id": "b4378aea",
   "metadata": {
    "ExecuteTime": {
     "end_time": "2023-09-18T05:13:26.502194Z",
     "start_time": "2023-09-18T05:12:40.903666Z"
    }
   },
   "outputs": [],
   "source": [
    "utterance_type_df_raw = pd.read_csv('발화유형(문어,구어,채팅)별_기계번역_병렬_말뭉치_01.데이터.csv')\n",
    "specialty_df_raw = pd.read_csv('전문분야_한영_말뭉치.csv')\n",
    "ko_en_trans_df_raw = pd.read_csv('한국어-영어_번역(병렬)_말뭉치.csv')\n",
    "everyday_life_df_raw = pd.read_csv('일상생활_및_구어체_한-영_번역_병렬_말뭉치_데이터.csv')\n",
    "science_df_raw = pd.read_csv('기술과학_분야_한-영_번역_병렬_말뭉치_데이터.csv')\n",
    "food_df_raw = pd.read_csv('전문분야_영-한,_중-한_번역_말뭉치(식품).csv')\n",
    "contents_df_raw = pd.read_csv('방송콘텐츠_한국어-영어_번역_말뭉치.csv')"
   ]
  },
  {
   "cell_type": "code",
   "execution_count": 4,
   "id": "37132900",
   "metadata": {
    "ExecuteTime": {
     "end_time": "2023-09-18T05:13:30.261345Z",
     "start_time": "2023-09-18T05:13:29.784037Z"
    }
   },
   "outputs": [],
   "source": [
    "import copy\n",
    "\n",
    "utterance_type_df = copy.deepcopy(utterance_type_df_raw) \n",
    "specialty_df = copy.deepcopy(specialty_df_raw) \n",
    "ko_en_trans_df = copy.deepcopy(ko_en_trans_df_raw) \n",
    "everyday_life_df = copy.deepcopy(everyday_life_df_raw) \n",
    "science_df = copy.deepcopy(science_df_raw) \n",
    "food_df = copy.deepcopy(food_df_raw) \n",
    "contents_df = copy.deepcopy(contents_df_raw)\n",
    "\n",
    "# 임시로 utterance_type_df의 결측값 제거\n",
    "utterance_type_df.dropna(subset=['target'], inplace=True)\n",
    "utterance_type_df.reset_index(drop=True, inplace=True)"
   ]
  },
  {
   "cell_type": "code",
   "execution_count": 5,
   "id": "e222440d",
   "metadata": {
    "ExecuteTime": {
     "end_time": "2023-09-18T05:13:30.405185Z",
     "start_time": "2023-09-18T05:13:30.389602Z"
    }
   },
   "outputs": [],
   "source": [
    "dataset_list = [utterance_type_df, specialty_df ,ko_en_trans_df ,everyday_life_df ,science_df ,food_df ,contents_df]"
   ]
  },
  {
   "cell_type": "code",
   "execution_count": 6,
   "id": "6b42c407",
   "metadata": {
    "ExecuteTime": {
     "end_time": "2023-09-18T05:13:31.414600Z",
     "start_time": "2023-09-18T05:13:31.406603Z"
    }
   },
   "outputs": [],
   "source": [
    "utterance_type_df.Name = 'utterance_type_df'\n",
    "specialty_df.Name = 'specialty_df'\n",
    "ko_en_trans_df.Name = 'ko_en_trans_df'\n",
    "everyday_life_df.Name = 'everyday_life_df'\n",
    "science_df.Name = 'science_df'\n",
    "food_df.Name = 'food_df'\n",
    "contents_df.Name = 'contents_df'"
   ]
  },
  {
   "cell_type": "code",
   "execution_count": 50,
   "id": "a5a7096a",
   "metadata": {
    "ExecuteTime": {
     "end_time": "2023-08-17T05:45:31.409551Z",
     "start_time": "2023-08-17T05:45:31.391535Z"
    }
   },
   "outputs": [],
   "source": [
    "data_count = []\n",
    "for f in dataset_list:\n",
    "    data_count.append(len(f))"
   ]
  },
  {
   "cell_type": "code",
   "execution_count": 51,
   "id": "47de84dd",
   "metadata": {
    "ExecuteTime": {
     "end_time": "2023-08-17T05:45:32.617085Z",
     "start_time": "2023-08-17T05:45:32.607083Z"
    }
   },
   "outputs": [
    {
     "data": {
      "text/plain": [
       "[27002, 1350000, 1602418, 2700345, 1350162, 1350000, 587084]"
      ]
     },
     "execution_count": 51,
     "metadata": {},
     "output_type": "execute_result"
    }
   ],
   "source": [
    "data_count"
   ]
  },
  {
   "cell_type": "code",
   "execution_count": null,
   "id": "b7519df6",
   "metadata": {},
   "outputs": [],
   "source": [
    "utterance_type_df.file_name.unique()"
   ]
  },
  {
   "cell_type": "code",
   "execution_count": null,
   "id": "be45c88a",
   "metadata": {},
   "outputs": [],
   "source": [
    "# 발화 유형 데이터, domain, style 추가 데이터"
   ]
  },
  {
   "cell_type": "code",
   "execution_count": null,
   "id": "a53c9f91",
   "metadata": {},
   "outputs": [],
   "source": [
    "len(utterance_type_df.file_name.unique())"
   ]
  },
  {
   "cell_type": "code",
   "execution_count": 39,
   "id": "d34b650d",
   "metadata": {
    "ExecuteTime": {
     "end_time": "2023-08-31T03:41:39.837538Z",
     "start_time": "2023-08-31T03:41:39.828515Z"
    }
   },
   "outputs": [],
   "source": [
    "import re"
   ]
  },
  {
   "cell_type": "code",
   "execution_count": 24,
   "id": "765f77c3",
   "metadata": {
    "ExecuteTime": {
     "end_time": "2023-08-16T06:34:14.393529Z",
     "start_time": "2023-08-16T06:34:14.384530Z"
    }
   },
   "outputs": [],
   "source": [
    "def extract_domain_style(filename):\n",
    "    pattern = r'([A-Z]{2})_([A-Z]{2})'\n",
    "    matches = re.findall(pattern, filename)\n",
    "    if matches:\n",
    "        style, domain = matches[0]\n",
    "        return pd.Series([style, domain], index=['style_type', 'domain'])\n",
    "    else:\n",
    "        return pd.Series([None, None], index=['style_type', 'domain'])"
   ]
  },
  {
   "cell_type": "code",
   "execution_count": 11,
   "id": "0a683fb0",
   "metadata": {
    "ExecuteTime": {
     "end_time": "2023-08-16T06:21:36.663906Z",
     "start_time": "2023-08-16T06:21:31.390797Z"
    }
   },
   "outputs": [],
   "source": [
    "utterance_type_df = utterance_type_df.join(utterance_type_df['file_name'].apply(extract_domain_style))"
   ]
  },
  {
   "cell_type": "code",
   "execution_count": 14,
   "id": "198b6f64",
   "metadata": {
    "ExecuteTime": {
     "end_time": "2023-08-16T06:22:04.095861Z",
     "start_time": "2023-08-16T06:22:03.911010Z"
    }
   },
   "outputs": [],
   "source": [
    "utterance_type_df.to_csv('발화유형(문어,구어,채팅)별_기계번역_병렬_말뭉치_01.데이터_rv.csv', index = False)"
   ]
  },
  {
   "cell_type": "code",
   "execution_count": 27,
   "id": "b7309474",
   "metadata": {
    "ExecuteTime": {
     "end_time": "2023-08-16T06:35:14.942875Z",
     "start_time": "2023-08-16T06:35:14.799485Z"
    }
   },
   "outputs": [],
   "source": [
    "utterance_type_df_rv = pd.read_csv('발화유형(문어,구어,채팅)별_기계번역_병렬_말뭉치_01.데이터_rv.csv')"
   ]
  },
  {
   "cell_type": "code",
   "execution_count": null,
   "id": "3ebd4527",
   "metadata": {},
   "outputs": [],
   "source": [
    "# 구어체 비율"
   ]
  },
  {
   "cell_type": "code",
   "execution_count": 28,
   "id": "222d2c04",
   "metadata": {
    "ExecuteTime": {
     "end_time": "2023-08-16T06:35:17.574860Z",
     "start_time": "2023-08-16T06:35:17.559280Z"
    }
   },
   "outputs": [
    {
     "data": {
      "text/plain": [
       "CH    9007\n",
       "WR    9000\n",
       "SP    8995\n",
       "Name: style_type, dtype: int64"
      ]
     },
     "execution_count": 28,
     "metadata": {},
     "output_type": "execute_result"
    }
   ],
   "source": [
    "utterance_type_df_rv.style_type.value_counts()"
   ]
  },
  {
   "cell_type": "code",
   "execution_count": null,
   "id": "f6d6803e",
   "metadata": {},
   "outputs": [],
   "source": [
    "# '발화유형(문어,구어,채팅)별_기계번역_병렬_말뭉치_01.데이터.csv' CH : 9007, SP : 8995, 총 데이터:27002\n",
    "# '전문분야_한영_말뭉치.csv' X 총 데이터:1350000\n",
    "# '한국어-영어_번역(병렬)_말뭉치.csv' 구어체: 400000, 대화체: 100000 총 데이터:1602418\n",
    "# '일상생활_및_구어체_한-영_번역_병렬_말뭉치_데이터.csv' 해외영업:1260367, 일상생활:899757, 해외고객과의채팅:540221, 총 데이터:2700345\n",
    "# '기술과학_분야_한-영_번역_병렬_말뭉치_데이터.csv' X 총 데이터:1350162\n",
    "# '전문분야_영-한,_중-한_번역_말뭉치(식품).csv' X 총 데이터:1350000\n",
    "# '방송콘텐츠_한국어-영어_번역_말뭉치.csv' 총 데이터:587084"
   ]
  },
  {
   "cell_type": "code",
   "execution_count": null,
   "id": "9d97ea72",
   "metadata": {},
   "outputs": [],
   "source": [
    "# '한국어-영어_번역(병렬)_말뭉치.csv'"
   ]
  },
  {
   "cell_type": "code",
   "execution_count": 30,
   "id": "835bd2bb",
   "metadata": {
    "ExecuteTime": {
     "end_time": "2023-08-16T06:59:29.525040Z",
     "start_time": "2023-08-16T06:59:29.237532Z"
    }
   },
   "outputs": [
    {
     "data": {
      "text/plain": [
       "array(['/home/ndpower/Data/AI_Hub/한국어-영어 번역(병렬) 말뭉치/3_문어체_뉴스(2).xlsx',\n",
       "       '/home/ndpower/Data/AI_Hub/한국어-영어 번역(병렬) 말뭉치/1_구어체(1).xlsx',\n",
       "       '/home/ndpower/Data/AI_Hub/한국어-영어 번역(병렬) 말뭉치/4_문어체_한국문화.xlsx',\n",
       "       '/home/ndpower/Data/AI_Hub/한국어-영어 번역(병렬) 말뭉치/2_대화체.xlsx',\n",
       "       '/home/ndpower/Data/AI_Hub/한국어-영어 번역(병렬) 말뭉치/1_구어체(2).xlsx',\n",
       "       '/home/ndpower/Data/AI_Hub/한국어-영어 번역(병렬) 말뭉치/5_문어체_조례.xlsx',\n",
       "       '/home/ndpower/Data/AI_Hub/한국어-영어 번역(병렬) 말뭉치/6_문어체_지자체웹사이트.xlsx',\n",
       "       '/home/ndpower/Data/AI_Hub/한국어-영어 번역(병렬) 말뭉치/3_문어체_뉴스(4).xlsx',\n",
       "       '/home/ndpower/Data/AI_Hub/한국어-영어 번역(병렬) 말뭉치/3_문어체_뉴스(3).xlsx',\n",
       "       '/home/ndpower/Data/AI_Hub/한국어-영어 번역(병렬) 말뭉치/3_문어체_뉴스(1)_200226.xlsx'],\n",
       "      dtype=object)"
      ]
     },
     "execution_count": 30,
     "metadata": {},
     "output_type": "execute_result"
    }
   ],
   "source": [
    "ko_en_trans_df.file_name.unique()"
   ]
  },
  {
   "cell_type": "code",
   "execution_count": 37,
   "id": "9c72ab72",
   "metadata": {
    "ExecuteTime": {
     "end_time": "2023-08-16T07:15:58.888711Z",
     "start_time": "2023-08-16T07:15:58.873734Z"
    }
   },
   "outputs": [],
   "source": [
    "filter_list = ['/home/ndpower/Data/AI_Hub/한국어-영어 번역(병렬) 말뭉치/1_구어체(1).xlsx', '/home/ndpower/Data/AI_Hub/한국어-영어 번역(병렬) 말뭉치/1_구어체(2).xlsx']"
   ]
  },
  {
   "cell_type": "code",
   "execution_count": 38,
   "id": "fa557331",
   "metadata": {
    "ExecuteTime": {
     "end_time": "2023-08-16T07:15:59.944735Z",
     "start_time": "2023-08-16T07:15:59.865483Z"
    }
   },
   "outputs": [
    {
     "data": {
      "text/plain": [
       "400000"
      ]
     },
     "execution_count": 38,
     "metadata": {},
     "output_type": "execute_result"
    }
   ],
   "source": [
    "len(ko_en_trans_df[ko_en_trans_df.file_name.isin(filter_list)])"
   ]
  },
  {
   "cell_type": "code",
   "execution_count": 40,
   "id": "c17767a1",
   "metadata": {
    "ExecuteTime": {
     "end_time": "2023-08-16T07:16:22.664458Z",
     "start_time": "2023-08-16T07:16:22.585689Z"
    }
   },
   "outputs": [
    {
     "data": {
      "text/plain": [
       "100000"
      ]
     },
     "execution_count": 40,
     "metadata": {},
     "output_type": "execute_result"
    }
   ],
   "source": [
    "len(ko_en_trans_df[ko_en_trans_df.file_name=='/home/ndpower/Data/AI_Hub/한국어-영어 번역(병렬) 말뭉치/2_대화체.xlsx'])"
   ]
  },
  {
   "cell_type": "code",
   "execution_count": null,
   "id": "43b0bc04",
   "metadata": {},
   "outputs": [],
   "source": [
    "#'일상생활_및_구어체_한-영_번역_병렬_말뭉치_데이터.csv'"
   ]
  },
  {
   "cell_type": "code",
   "execution_count": 42,
   "id": "1e7f2494",
   "metadata": {
    "ExecuteTime": {
     "end_time": "2023-08-16T07:21:14.767405Z",
     "start_time": "2023-08-16T07:21:13.953327Z"
    }
   },
   "outputs": [
    {
     "data": {
      "text/plain": [
       "array(['/home/ndpower/Data/AI_Hub/025.일상생활 및 구어체 한-영 번역 병렬 말뭉치 데이터/01.데이터/1.Training/라벨링데이터/일상생활및구어체_한영_train_set.json',\n",
       "       '/home/ndpower/Data/AI_Hub/025.일상생활 및 구어체 한-영 번역 병렬 말뭉치 데이터/01.데이터/1.Training/라벨링데이터/일상생활및구어체_영한_train_set.json',\n",
       "       '/home/ndpower/Data/AI_Hub/025.일상생활 및 구어체 한-영 번역 병렬 말뭉치 데이터/01.데이터/2.Validation/라벨링데이터/일상생활및구어체_영한_valid_set.json',\n",
       "       '/home/ndpower/Data/AI_Hub/025.일상생활 및 구어체 한-영 번역 병렬 말뭉치 데이터/01.데이터/2.Validation/라벨링데이터/일상생활및구어체_한영_valid_set.json'],\n",
       "      dtype=object)"
      ]
     },
     "execution_count": 42,
     "metadata": {},
     "output_type": "execute_result"
    }
   ],
   "source": [
    "everyday_life_df.file_name.unique()"
   ]
  },
  {
   "cell_type": "code",
   "execution_count": 8,
   "id": "566c18fa",
   "metadata": {
    "ExecuteTime": {
     "end_time": "2023-08-29T01:06:26.921392Z",
     "start_time": "2023-08-29T01:06:26.904393Z"
    }
   },
   "outputs": [],
   "source": [
    "import glob\n",
    "import json"
   ]
  },
  {
   "cell_type": "code",
   "execution_count": 76,
   "id": "2ae51886",
   "metadata": {
    "ExecuteTime": {
     "end_time": "2023-08-22T05:17:09.641977Z",
     "start_time": "2023-08-22T05:17:09.635006Z"
    }
   },
   "outputs": [
    {
     "data": {
      "text/plain": [
       "['C:/Users/shjo/Desktop/AI Hub/025.일상생활 및 구어체 한-영 번역 병렬 말뭉치 데이터\\\\01.데이터\\\\1.Training\\\\라벨링데이터\\\\일상생활및구어체_영한_train_set.json',\n",
       " 'C:/Users/shjo/Desktop/AI Hub/025.일상생활 및 구어체 한-영 번역 병렬 말뭉치 데이터\\\\01.데이터\\\\1.Training\\\\라벨링데이터\\\\일상생활및구어체_한영_train_set.json',\n",
       " 'C:/Users/shjo/Desktop/AI Hub/025.일상생활 및 구어체 한-영 번역 병렬 말뭉치 데이터\\\\01.데이터\\\\2.Validation\\\\라벨링데이터\\\\일상생활및구어체_영한_valid_set.json',\n",
       " 'C:/Users/shjo/Desktop/AI Hub/025.일상생활 및 구어체 한-영 번역 병렬 말뭉치 데이터\\\\01.데이터\\\\2.Validation\\\\라벨링데이터\\\\일상생활및구어체_한영_valid_set.json']"
      ]
     },
     "execution_count": 76,
     "metadata": {},
     "output_type": "execute_result"
    }
   ],
   "source": [
    "sample_list = glob.glob('C:/Users/shjo/Desktop/AI Hub/025.일상생활 및 구어체 한-영 번역 병렬 말뭉치 데이터/*/*/라벨링데이터/**')\n",
    "sample_list"
   ]
  },
  {
   "cell_type": "code",
   "execution_count": 77,
   "id": "a7c0037f",
   "metadata": {
    "ExecuteTime": {
     "end_time": "2023-08-22T05:17:47.363807Z",
     "start_time": "2023-08-22T05:17:11.659094Z"
    }
   },
   "outputs": [],
   "source": [
    "sample_data = pd.DataFrame()\n",
    "for f in sample_list:\n",
    "    with open(f,'r',encoding=\"utf-8\") as file:\n",
    "        data = json.load(file)\n",
    "    pd_df = pd.DataFrame(data['data'])\n",
    "    sample_data = pd.concat([sample_data, pd_df])"
   ]
  },
  {
   "cell_type": "code",
   "execution_count": 78,
   "id": "1ddf8c5e",
   "metadata": {
    "ExecuteTime": {
     "end_time": "2023-08-22T05:17:49.032768Z",
     "start_time": "2023-08-22T05:17:48.778978Z"
    }
   },
   "outputs": [
    {
     "data": {
      "text/plain": [
       "해외영업        1260367\n",
       "일상생활         899757\n",
       "해외고객과의채팅     540221\n",
       "Name: domain, dtype: int64"
      ]
     },
     "execution_count": 78,
     "metadata": {},
     "output_type": "execute_result"
    }
   ],
   "source": [
    "sample_data.domain.value_counts()"
   ]
  },
  {
   "cell_type": "code",
   "execution_count": 13,
   "id": "a4d53cf7",
   "metadata": {
    "ExecuteTime": {
     "end_time": "2023-08-17T03:24:53.892265Z",
     "start_time": "2023-08-17T03:24:53.869290Z"
    }
   },
   "outputs": [
    {
     "data": {
      "text/html": [
       "<div>\n",
       "<style scoped>\n",
       "    .dataframe tbody tr th:only-of-type {\n",
       "        vertical-align: middle;\n",
       "    }\n",
       "\n",
       "    .dataframe tbody tr th {\n",
       "        vertical-align: top;\n",
       "    }\n",
       "\n",
       "    .dataframe thead th {\n",
       "        text-align: right;\n",
       "    }\n",
       "</style>\n",
       "<table border=\"1\" class=\"dataframe\">\n",
       "  <thead>\n",
       "    <tr style=\"text-align: right;\">\n",
       "      <th></th>\n",
       "      <th>col1</th>\n",
       "      <th>col2</th>\n",
       "      <th>col3</th>\n",
       "    </tr>\n",
       "  </thead>\n",
       "  <tbody>\n",
       "    <tr>\n",
       "      <th>0</th>\n",
       "      <td>A</td>\n",
       "      <td>x</td>\n",
       "      <td>-</td>\n",
       "    </tr>\n",
       "    <tr>\n",
       "      <th>1</th>\n",
       "      <td>A</td>\n",
       "      <td>x</td>\n",
       "      <td>-</td>\n",
       "    </tr>\n",
       "    <tr>\n",
       "      <th>2</th>\n",
       "      <td>B</td>\n",
       "      <td>x</td>\n",
       "      <td>앞</td>\n",
       "    </tr>\n",
       "    <tr>\n",
       "      <th>3</th>\n",
       "      <td>B</td>\n",
       "      <td>y</td>\n",
       "      <td>-</td>\n",
       "    </tr>\n",
       "    <tr>\n",
       "      <th>4</th>\n",
       "      <td>B</td>\n",
       "      <td>y</td>\n",
       "      <td>뒤</td>\n",
       "    </tr>\n",
       "    <tr>\n",
       "      <th>5</th>\n",
       "      <td>x</td>\n",
       "      <td>A</td>\n",
       "      <td>-</td>\n",
       "    </tr>\n",
       "  </tbody>\n",
       "</table>\n",
       "</div>"
      ],
      "text/plain": [
       "  col1 col2 col3\n",
       "0    A    x    -\n",
       "1    A    x    -\n",
       "2    B    x    앞\n",
       "3    B    y    -\n",
       "4    B    y    뒤\n",
       "5    x    A    -"
      ]
     },
     "execution_count": 13,
     "metadata": {},
     "output_type": "execute_result"
    }
   ],
   "source": [
    "col = ['col1','col2','col3']\n",
    "data = [['A','x','-'],['A','x','-'],['B','x','앞'],['B','y','-'],['B','y','뒤'],['x','A','-']]\n",
    "df = pd.DataFrame(data=data, columns=col)\n",
    "df"
   ]
  },
  {
   "cell_type": "code",
   "execution_count": 14,
   "id": "6ed8b440",
   "metadata": {
    "ExecuteTime": {
     "end_time": "2023-08-17T03:25:15.868270Z",
     "start_time": "2023-08-17T03:25:15.845244Z"
    }
   },
   "outputs": [
    {
     "name": "stdout",
     "output_type": "stream",
     "text": [
      "  col1 col2 col3\n",
      "0    A    x    -\n",
      "2    B    x    앞\n",
      "3    B    y    -\n",
      "5    x    A    -\n"
     ]
    }
   ],
   "source": [
    "print(df.drop_duplicates(subset=['col1','col2']))"
   ]
  },
  {
   "cell_type": "code",
   "execution_count": 16,
   "id": "6afd05d4",
   "metadata": {
    "ExecuteTime": {
     "end_time": "2023-08-17T03:40:45.887692Z",
     "start_time": "2023-08-17T03:40:45.878695Z"
    }
   },
   "outputs": [
    {
     "data": {
      "text/plain": [
       "2700345"
      ]
     },
     "execution_count": 16,
     "metadata": {},
     "output_type": "execute_result"
    }
   ],
   "source": [
    "len(sample_data)"
   ]
  },
  {
   "cell_type": "code",
   "execution_count": 25,
   "id": "80314889",
   "metadata": {
    "ExecuteTime": {
     "end_time": "2023-08-17T04:16:38.624743Z",
     "start_time": "2023-08-17T04:16:33.990173Z"
    }
   },
   "outputs": [
    {
     "data": {
      "text/plain": [
       "2486093"
      ]
     },
     "execution_count": 25,
     "metadata": {},
     "output_type": "execute_result"
    }
   ],
   "source": [
    "len(sample_data.drop_duplicates(subset=['ko','en']))"
   ]
  },
  {
   "cell_type": "code",
   "execution_count": 23,
   "id": "d8d40e8c",
   "metadata": {
    "ExecuteTime": {
     "end_time": "2023-08-17T04:07:30.236480Z",
     "start_time": "2023-08-17T04:07:26.887034Z"
    }
   },
   "outputs": [
    {
     "data": {
      "text/plain": [
       "2435082"
      ]
     },
     "execution_count": 23,
     "metadata": {},
     "output_type": "execute_result"
    }
   ],
   "source": [
    "len(sample_data.drop_duplicates(subset='ko'))"
   ]
  },
  {
   "cell_type": "code",
   "execution_count": 18,
   "id": "acf1b2f7",
   "metadata": {
    "ExecuteTime": {
     "end_time": "2023-08-17T03:54:38.829785Z",
     "start_time": "2023-08-17T03:54:38.810202Z"
    }
   },
   "outputs": [
    {
     "data": {
      "text/plain": [
       "Index(['sn', 'data_set', 'domain', 'subdomain', 'en_original', 'en', 'mt',\n",
       "       'ko', 'source_language', 'target_language', 'word_count_ko',\n",
       "       'word_count_en', 'word_ratio', 'file_name', 'source', 'license',\n",
       "       'style', 'included_unknown_words', 'ner', 'ko_original'],\n",
       "      dtype='object')"
      ]
     },
     "execution_count": 18,
     "metadata": {},
     "output_type": "execute_result"
    }
   ],
   "source": [
    "sample_data.columns"
   ]
  },
  {
   "cell_type": "code",
   "execution_count": 24,
   "id": "9602cef3",
   "metadata": {
    "ExecuteTime": {
     "end_time": "2023-08-17T04:08:03.856274Z",
     "start_time": "2023-08-17T04:08:03.846290Z"
    }
   },
   "outputs": [
    {
     "data": {
      "text/plain": [
       "265263"
      ]
     },
     "execution_count": 24,
     "metadata": {},
     "output_type": "execute_result"
    }
   ],
   "source": [
    "2700345-2435082"
   ]
  },
  {
   "cell_type": "code",
   "execution_count": 26,
   "id": "8b494473",
   "metadata": {
    "ExecuteTime": {
     "end_time": "2023-08-17T04:17:42.563814Z",
     "start_time": "2023-08-17T04:17:42.550815Z"
    }
   },
   "outputs": [
    {
     "data": {
      "text/plain": [
       "51011"
      ]
     },
     "execution_count": 26,
     "metadata": {},
     "output_type": "execute_result"
    }
   ],
   "source": [
    "2486093-2435082"
   ]
  },
  {
   "cell_type": "code",
   "execution_count": 32,
   "id": "33c5ab96",
   "metadata": {
    "ExecuteTime": {
     "end_time": "2023-08-17T04:26:56.604736Z",
     "start_time": "2023-08-17T04:26:55.134678Z"
    }
   },
   "outputs": [
    {
     "data": {
      "text/plain": [
       "265263"
      ]
     },
     "execution_count": 32,
     "metadata": {},
     "output_type": "execute_result"
    }
   ],
   "source": [
    "sample_data.duplicated(['ko']).sum()"
   ]
  },
  {
   "cell_type": "code",
   "execution_count": 33,
   "id": "bf8096ef",
   "metadata": {
    "ExecuteTime": {
     "end_time": "2023-08-17T04:33:00.213752Z",
     "start_time": "2023-08-17T04:32:58.255271Z"
    }
   },
   "outputs": [
    {
     "data": {
      "text/plain": [
       "206984"
      ]
     },
     "execution_count": 33,
     "metadata": {},
     "output_type": "execute_result"
    }
   ],
   "source": [
    "sample_data.duplicated(['ko','target_language']).sum()"
   ]
  },
  {
   "cell_type": "code",
   "execution_count": 34,
   "id": "f3d66289",
   "metadata": {
    "ExecuteTime": {
     "end_time": "2023-08-17T04:33:14.662067Z",
     "start_time": "2023-08-17T04:33:14.655038Z"
    }
   },
   "outputs": [
    {
     "data": {
      "text/plain": [
       "58279"
      ]
     },
     "execution_count": 34,
     "metadata": {},
     "output_type": "execute_result"
    }
   ],
   "source": [
    "265263-206984"
   ]
  },
  {
   "cell_type": "code",
   "execution_count": 36,
   "id": "e80f68a0",
   "metadata": {
    "ExecuteTime": {
     "end_time": "2023-08-17T04:35:13.539054Z",
     "start_time": "2023-08-17T04:35:11.766339Z"
    }
   },
   "outputs": [
    {
     "data": {
      "text/plain": [
       "345004"
      ]
     },
     "execution_count": 36,
     "metadata": {},
     "output_type": "execute_result"
    }
   ],
   "source": [
    "sample_data.duplicated(['en']).sum()"
   ]
  },
  {
   "cell_type": "code",
   "execution_count": 37,
   "id": "8692a8c7",
   "metadata": {
    "ExecuteTime": {
     "end_time": "2023-08-17T04:35:45.934390Z",
     "start_time": "2023-08-17T04:35:43.959207Z"
    }
   },
   "outputs": [
    {
     "data": {
      "text/plain": [
       "240995"
      ]
     },
     "execution_count": 37,
     "metadata": {},
     "output_type": "execute_result"
    }
   ],
   "source": [
    "sample_data.duplicated(['en','target_language']).sum()"
   ]
  },
  {
   "cell_type": "code",
   "execution_count": 40,
   "id": "d07cb8a2",
   "metadata": {
    "ExecuteTime": {
     "end_time": "2023-08-17T04:40:42.718418Z",
     "start_time": "2023-08-17T04:40:39.409086Z"
    }
   },
   "outputs": [
    {
     "data": {
      "text/plain": [
       "214252"
      ]
     },
     "execution_count": 40,
     "metadata": {},
     "output_type": "execute_result"
    }
   ],
   "source": [
    "sample_data.duplicated(['ko','en']).sum()"
   ]
  },
  {
   "cell_type": "code",
   "execution_count": 39,
   "id": "2305980b",
   "metadata": {
    "ExecuteTime": {
     "end_time": "2023-08-17T04:39:35.144386Z",
     "start_time": "2023-08-17T04:39:35.126389Z"
    }
   },
   "outputs": [
    {
     "data": {
      "text/plain": [
       "181763"
      ]
     },
     "execution_count": 39,
     "metadata": {},
     "output_type": "execute_result"
    }
   ],
   "source": [
    "265263+345004-214252-214252"
   ]
  },
  {
   "cell_type": "code",
   "execution_count": null,
   "id": "941a3548",
   "metadata": {},
   "outputs": [],
   "source": [
    "# '방송콘텐츠_한국어-영어_번역_말뭉치.csv'"
   ]
  },
  {
   "cell_type": "code",
   "execution_count": 43,
   "id": "3f64705a",
   "metadata": {
    "ExecuteTime": {
     "end_time": "2023-08-17T05:04:28.014763Z",
     "start_time": "2023-08-17T05:04:27.991781Z"
    }
   },
   "outputs": [
    {
     "data": {
      "text/plain": [
       "./01.데이터/Training/02.라벨링데이터/TL_한국어-다국어_koen_교양.json         81008\n",
       "./01.데이터/Training/02.라벨링데이터/TL_한국어-다국어_koen_연예공연.json       81002\n",
       "./01.데이터/Training/02.라벨링데이터/TL_한국어-다국어_koen_예능오락.json       80278\n",
       "./01.데이터/Training/02.라벨링데이터/TL_한국어-다국어_koen_다큐.json         77665\n",
       "./01.데이터/Training/02.라벨링데이터/TL_다국어-한국어_enko_기타.json         40398\n",
       "./01.데이터/Training/02.라벨링데이터/TL_다국어-한국어_enko_영화드라마.json      40387\n",
       "./01.데이터/Training/02.라벨링데이터/TL_한국어-다국어_koen_인터뷰.json        40377\n",
       "./01.데이터/Training/02.라벨링데이터/TL_다국어-한국어_enko_다큐교양.json       40341\n",
       "./01.데이터/Training/02.라벨링데이터/TL_한국어-다국어_koen_영화드라마.json      40197\n",
       "./01.데이터/Validation/02.라벨링데이터/VL_한국어-다국어_koen_교양.json       10129\n",
       "./01.데이터/Validation/02.라벨링데이터/VL_한국어-다국어_koen_연예공연.json     10125\n",
       "./01.데이터/Validation/02.라벨링데이터/VL_한국어-다국어_koen_예능오락.json     10086\n",
       "./01.데이터/Validation/02.라벨링데이터/VL_한국어-다국어_koen_다큐.json        9872\n",
       "./01.데이터/Validation/02.라벨링데이터/VL_다국어-한국어_enko_기타.json        5050\n",
       "./01.데이터/Validation/02.라벨링데이터/VL_다국어-한국어_enko_영화드라마.json     5049\n",
       "./01.데이터/Validation/02.라벨링데이터/VL_한국어-다국어_koen_인터뷰.json       5048\n",
       "./01.데이터/Validation/02.라벨링데이터/VL_다국어-한국어_enko_다큐교양.json      5043\n",
       "./01.데이터/Validation/02.라벨링데이터/VL_한국어-다국어_koen_영화드라마.json     5029\n",
       "Name: file_name, dtype: int64"
      ]
     },
     "execution_count": 43,
     "metadata": {},
     "output_type": "execute_result"
    }
   ],
   "source": [
    "contents_df.file_name.value_counts()"
   ]
  },
  {
   "cell_type": "code",
   "execution_count": 47,
   "id": "a9730b80",
   "metadata": {
    "ExecuteTime": {
     "end_time": "2023-08-17T05:21:46.371472Z",
     "start_time": "2023-08-17T05:21:46.322416Z"
    }
   },
   "outputs": [
    {
     "data": {
      "text/html": [
       "<div>\n",
       "<style scoped>\n",
       "    .dataframe tbody tr th:only-of-type {\n",
       "        vertical-align: middle;\n",
       "    }\n",
       "\n",
       "    .dataframe tbody tr th {\n",
       "        vertical-align: top;\n",
       "    }\n",
       "\n",
       "    .dataframe thead th {\n",
       "        text-align: right;\n",
       "    }\n",
       "</style>\n",
       "<table border=\"1\" class=\"dataframe\">\n",
       "  <thead>\n",
       "    <tr style=\"text-align: right;\">\n",
       "      <th></th>\n",
       "      <th>sn</th>\n",
       "      <th>data_set</th>\n",
       "      <th>source</th>\n",
       "      <th>target</th>\n",
       "      <th>file_name</th>\n",
       "      <th>source_language</th>\n",
       "      <th>target_language</th>\n",
       "    </tr>\n",
       "  </thead>\n",
       "  <tbody>\n",
       "    <tr>\n",
       "      <th>121395</th>\n",
       "      <td>dc_k_000001</td>\n",
       "      <td>방송콘텐츠_한국어-영어_번역_말뭉치</td>\n",
       "      <td>'나는 이러한 가치를 가지고 있는 사람이야' 라는 것을 과시하는 행동이죠.</td>\n",
       "      <td>It's an act of showing off that 'I'm a person ...</td>\n",
       "      <td>./01.데이터/Training/02.라벨링데이터/TL_한국어-다국어_koen_다큐...</td>\n",
       "      <td>ko</td>\n",
       "      <td>en</td>\n",
       "    </tr>\n",
       "    <tr>\n",
       "      <th>121396</th>\n",
       "      <td>dc_k_000002</td>\n",
       "      <td>방송콘텐츠_한국어-영어_번역_말뭉치</td>\n",
       "      <td>'사진을 찍을 수 없으면 하지 않는다'란 말이 있습니다.</td>\n",
       "      <td>There is a saying, 'If you can't take a pictur...</td>\n",
       "      <td>./01.데이터/Training/02.라벨링데이터/TL_한국어-다국어_koen_다큐...</td>\n",
       "      <td>ko</td>\n",
       "      <td>en</td>\n",
       "    </tr>\n",
       "    <tr>\n",
       "      <th>121397</th>\n",
       "      <td>dc_k_000003</td>\n",
       "      <td>방송콘텐츠_한국어-영어_번역_말뭉치</td>\n",
       "      <td>'좋아요' 버튼의 개발자는 관심에 중독된 세상을 비판하며 페이스북을 떠났습니다.</td>\n",
       "      <td>The developer of the 'Like' button left Facebo...</td>\n",
       "      <td>./01.데이터/Training/02.라벨링데이터/TL_한국어-다국어_koen_다큐...</td>\n",
       "      <td>ko</td>\n",
       "      <td>en</td>\n",
       "    </tr>\n",
       "    <tr>\n",
       "      <th>121398</th>\n",
       "      <td>dc_k_000005</td>\n",
       "      <td>방송콘텐츠_한국어-영어_번역_말뭉치</td>\n",
       "      <td>'좋아요'는 '좋아요'이기 때문에 중요한 것이 아니라 모든 것을 점수화시키고 모든 ...</td>\n",
       "      <td>'Like' isn't important because it's 'Like', bu...</td>\n",
       "      <td>./01.데이터/Training/02.라벨링데이터/TL_한국어-다국어_koen_다큐...</td>\n",
       "      <td>ko</td>\n",
       "      <td>en</td>\n",
       "    </tr>\n",
       "    <tr>\n",
       "      <th>121399</th>\n",
       "      <td>dc_k_000006</td>\n",
       "      <td>방송콘텐츠_한국어-영어_번역_말뭉치</td>\n",
       "      <td>'좋아요'는 아무것도 아니라고 말하지만 우리는 모두 내가 '좋아요'를 얼마나 받았는...</td>\n",
       "      <td>We say we don't care about “Likes” but we all ...</td>\n",
       "      <td>./01.데이터/Training/02.라벨링데이터/TL_한국어-다국어_koen_다큐...</td>\n",
       "      <td>ko</td>\n",
       "      <td>en</td>\n",
       "    </tr>\n",
       "    <tr>\n",
       "      <th>...</th>\n",
       "      <td>...</td>\n",
       "      <td>...</td>\n",
       "      <td>...</td>\n",
       "      <td>...</td>\n",
       "      <td>...</td>\n",
       "      <td>...</td>\n",
       "      <td>...</td>\n",
       "    </tr>\n",
       "    <tr>\n",
       "      <th>199055</th>\n",
       "      <td>dc_m_108484</td>\n",
       "      <td>방송콘텐츠_한국어-영어_번역_말뭉치</td>\n",
       "      <td>힘이 좋은 홍어가 바다로 떨어지지 않게 긴 창을 이용해 찍어 올린다.</td>\n",
       "      <td>Use a long spear to take the skate up to avoid...</td>\n",
       "      <td>./01.데이터/Training/02.라벨링데이터/TL_한국어-다국어_koen_다큐...</td>\n",
       "      <td>ko</td>\n",
       "      <td>en</td>\n",
       "    </tr>\n",
       "    <tr>\n",
       "      <th>199056</th>\n",
       "      <td>dc_m_108485</td>\n",
       "      <td>방송콘텐츠_한국어-영어_번역_말뭉치</td>\n",
       "      <td>힘이 확 들어온다.</td>\n",
       "      <td>He feels the energy.</td>\n",
       "      <td>./01.데이터/Training/02.라벨링데이터/TL_한국어-다국어_koen_다큐...</td>\n",
       "      <td>ko</td>\n",
       "      <td>en</td>\n",
       "    </tr>\n",
       "    <tr>\n",
       "      <th>199057</th>\n",
       "      <td>dc_m_108486</td>\n",
       "      <td>방송콘텐츠_한국어-영어_번역_말뭉치</td>\n",
       "      <td>힘차게 꽉 던져가지고 던진다음에 바로 땡기는거야</td>\n",
       "      <td>Throw it hard and pull it right after you thro...</td>\n",
       "      <td>./01.데이터/Training/02.라벨링데이터/TL_한국어-다국어_koen_다큐...</td>\n",
       "      <td>ko</td>\n",
       "      <td>en</td>\n",
       "    </tr>\n",
       "    <tr>\n",
       "      <th>199058</th>\n",
       "      <td>dc_m_108488</td>\n",
       "      <td>방송콘텐츠_한국어-영어_번역_말뭉치</td>\n",
       "      <td>힘차게 떠오르는 남도 바다에 붉은 해가 떴다.</td>\n",
       "      <td>A red sun rose over the vigorously rising sea ...</td>\n",
       "      <td>./01.데이터/Training/02.라벨링데이터/TL_한국어-다국어_koen_다큐...</td>\n",
       "      <td>ko</td>\n",
       "      <td>en</td>\n",
       "    </tr>\n",
       "    <tr>\n",
       "      <th>199059</th>\n",
       "      <td>dc_m_108490</td>\n",
       "      <td>방송콘텐츠_한국어-영어_번역_말뭉치</td>\n",
       "      <td>힘찬 투망으로 조업을 시작한다</td>\n",
       "      <td>They start fishing with a strong throwing of t...</td>\n",
       "      <td>./01.데이터/Training/02.라벨링데이터/TL_한국어-다국어_koen_다큐...</td>\n",
       "      <td>ko</td>\n",
       "      <td>en</td>\n",
       "    </tr>\n",
       "  </tbody>\n",
       "</table>\n",
       "<p>77665 rows × 7 columns</p>\n",
       "</div>"
      ],
      "text/plain": [
       "                 sn             data_set  \\\n",
       "121395  dc_k_000001  방송콘텐츠_한국어-영어_번역_말뭉치   \n",
       "121396  dc_k_000002  방송콘텐츠_한국어-영어_번역_말뭉치   \n",
       "121397  dc_k_000003  방송콘텐츠_한국어-영어_번역_말뭉치   \n",
       "121398  dc_k_000005  방송콘텐츠_한국어-영어_번역_말뭉치   \n",
       "121399  dc_k_000006  방송콘텐츠_한국어-영어_번역_말뭉치   \n",
       "...             ...                  ...   \n",
       "199055  dc_m_108484  방송콘텐츠_한국어-영어_번역_말뭉치   \n",
       "199056  dc_m_108485  방송콘텐츠_한국어-영어_번역_말뭉치   \n",
       "199057  dc_m_108486  방송콘텐츠_한국어-영어_번역_말뭉치   \n",
       "199058  dc_m_108488  방송콘텐츠_한국어-영어_번역_말뭉치   \n",
       "199059  dc_m_108490  방송콘텐츠_한국어-영어_번역_말뭉치   \n",
       "\n",
       "                                                   source  \\\n",
       "121395         '나는 이러한 가치를 가지고 있는 사람이야' 라는 것을 과시하는 행동이죠.    \n",
       "121396                    '사진을 찍을 수 없으면 하지 않는다'란 말이 있습니다.   \n",
       "121397       '좋아요' 버튼의 개발자는 관심에 중독된 세상을 비판하며 페이스북을 떠났습니다.   \n",
       "121398  '좋아요'는 '좋아요'이기 때문에 중요한 것이 아니라 모든 것을 점수화시키고 모든 ...   \n",
       "121399  '좋아요'는 아무것도 아니라고 말하지만 우리는 모두 내가 '좋아요'를 얼마나 받았는...   \n",
       "...                                                   ...   \n",
       "199055             힘이 좋은 홍어가 바다로 떨어지지 않게 긴 창을 이용해 찍어 올린다.   \n",
       "199056                                         힘이 확 들어온다.   \n",
       "199057                         힘차게 꽉 던져가지고 던진다음에 바로 땡기는거야   \n",
       "199058                          힘차게 떠오르는 남도 바다에 붉은 해가 떴다.   \n",
       "199059                                   힘찬 투망으로 조업을 시작한다   \n",
       "\n",
       "                                                   target  \\\n",
       "121395  It's an act of showing off that 'I'm a person ...   \n",
       "121396  There is a saying, 'If you can't take a pictur...   \n",
       "121397  The developer of the 'Like' button left Facebo...   \n",
       "121398  'Like' isn't important because it's 'Like', bu...   \n",
       "121399  We say we don't care about “Likes” but we all ...   \n",
       "...                                                   ...   \n",
       "199055  Use a long spear to take the skate up to avoid...   \n",
       "199056                              He feels the energy.    \n",
       "199057  Throw it hard and pull it right after you thro...   \n",
       "199058  A red sun rose over the vigorously rising sea ...   \n",
       "199059  They start fishing with a strong throwing of t...   \n",
       "\n",
       "                                                file_name source_language  \\\n",
       "121395  ./01.데이터/Training/02.라벨링데이터/TL_한국어-다국어_koen_다큐...              ko   \n",
       "121396  ./01.데이터/Training/02.라벨링데이터/TL_한국어-다국어_koen_다큐...              ko   \n",
       "121397  ./01.데이터/Training/02.라벨링데이터/TL_한국어-다국어_koen_다큐...              ko   \n",
       "121398  ./01.데이터/Training/02.라벨링데이터/TL_한국어-다국어_koen_다큐...              ko   \n",
       "121399  ./01.데이터/Training/02.라벨링데이터/TL_한국어-다국어_koen_다큐...              ko   \n",
       "...                                                   ...             ...   \n",
       "199055  ./01.데이터/Training/02.라벨링데이터/TL_한국어-다국어_koen_다큐...              ko   \n",
       "199056  ./01.데이터/Training/02.라벨링데이터/TL_한국어-다국어_koen_다큐...              ko   \n",
       "199057  ./01.데이터/Training/02.라벨링데이터/TL_한국어-다국어_koen_다큐...              ko   \n",
       "199058  ./01.데이터/Training/02.라벨링데이터/TL_한국어-다국어_koen_다큐...              ko   \n",
       "199059  ./01.데이터/Training/02.라벨링데이터/TL_한국어-다국어_koen_다큐...              ko   \n",
       "\n",
       "       target_language  \n",
       "121395              en  \n",
       "121396              en  \n",
       "121397              en  \n",
       "121398              en  \n",
       "121399              en  \n",
       "...                ...  \n",
       "199055              en  \n",
       "199056              en  \n",
       "199057              en  \n",
       "199058              en  \n",
       "199059              en  \n",
       "\n",
       "[77665 rows x 7 columns]"
      ]
     },
     "execution_count": 47,
     "metadata": {},
     "output_type": "execute_result"
    }
   ],
   "source": [
    "contents_df[contents_df.file_name == './01.데이터/Training/02.라벨링데이터/TL_한국어-다국어_koen_다큐.json']"
   ]
  },
  {
   "cell_type": "code",
   "execution_count": 45,
   "id": "754eb9be",
   "metadata": {
    "ExecuteTime": {
     "end_time": "2023-08-17T05:19:32.865166Z",
     "start_time": "2023-08-17T05:19:32.848474Z"
    }
   },
   "outputs": [
    {
     "data": {
      "text/plain": [
       "587084"
      ]
     },
     "execution_count": 45,
     "metadata": {},
     "output_type": "execute_result"
    }
   ],
   "source": [
    "len(contents_df)"
   ]
  },
  {
   "cell_type": "code",
   "execution_count": 54,
   "id": "dcbf0222",
   "metadata": {
    "ExecuteTime": {
     "end_time": "2023-08-17T05:47:24.102521Z",
     "start_time": "2023-08-17T05:47:24.088520Z"
    }
   },
   "outputs": [
    {
     "data": {
      "text/plain": [
       "8967011"
      ]
     },
     "execution_count": 54,
     "metadata": {},
     "output_type": "execute_result"
    }
   ],
   "source": [
    "sum(data_count)"
   ]
  },
  {
   "cell_type": "code",
   "execution_count": 55,
   "id": "fa8aca3b",
   "metadata": {
    "ExecuteTime": {
     "end_time": "2023-08-17T05:47:29.695973Z",
     "start_time": "2023-08-17T05:47:29.678973Z"
    }
   },
   "outputs": [
    {
     "data": {
      "text/plain": [
       "[27002, 1350000, 1602418, 2700345, 1350162, 1350000, 587084]"
      ]
     },
     "execution_count": 55,
     "metadata": {},
     "output_type": "execute_result"
    }
   ],
   "source": [
    "data_count"
   ]
  },
  {
   "cell_type": "code",
   "execution_count": 56,
   "id": "0b715e40",
   "metadata": {
    "ExecuteTime": {
     "end_time": "2023-08-17T05:49:39.520287Z",
     "start_time": "2023-08-17T05:49:39.503291Z"
    }
   },
   "outputs": [],
   "source": [
    "common_count_list =[2700345, 0, 0, 500000, 0, 18002, 587084]"
   ]
  },
  {
   "cell_type": "code",
   "execution_count": 57,
   "id": "75a867b1",
   "metadata": {
    "ExecuteTime": {
     "end_time": "2023-08-17T05:49:47.169471Z",
     "start_time": "2023-08-17T05:49:47.159472Z"
    }
   },
   "outputs": [
    {
     "data": {
      "text/plain": [
       "3805431"
      ]
     },
     "execution_count": 57,
     "metadata": {},
     "output_type": "execute_result"
    }
   ],
   "source": [
    "sum(common_count_list)"
   ]
  },
  {
   "cell_type": "code",
   "execution_count": 58,
   "id": "5f5e5c5e",
   "metadata": {
    "ExecuteTime": {
     "end_time": "2023-08-17T05:51:13.127153Z",
     "start_time": "2023-08-17T05:51:13.112153Z"
    }
   },
   "outputs": [
    {
     "data": {
      "text/plain": [
       "0.42438121242407306"
      ]
     },
     "execution_count": 58,
     "metadata": {},
     "output_type": "execute_result"
    }
   ],
   "source": [
    "sum(common_count_list)/sum(data_count)"
   ]
  },
  {
   "cell_type": "markdown",
   "id": "eccfee32",
   "metadata": {},
   "source": [
    "### 중복성 통계치"
   ]
  },
  {
   "cell_type": "code",
   "execution_count": 7,
   "id": "f2851788",
   "metadata": {
    "ExecuteTime": {
     "end_time": "2023-08-22T01:36:50.069708Z",
     "start_time": "2023-08-22T01:36:50.051709Z"
    }
   },
   "outputs": [],
   "source": [
    "def duplicated_check(df):\n",
    "    print(\"source만 중복: \",(df['source'].duplicated(keep=False) & ~df['target'].duplicated(keep=False)).sum()) \n",
    "    print(\"target만 중복: \",(df['target'].duplicated(keep=False) & ~df['source'].duplicated(keep=False)).sum())\n",
    "    print(\"source와 target 쌍 중복: \",df.duplicated(['source','target'],keep=False).sum())\n",
    "    drop_duplicate_1(df)\n",
    "    df['ko'],df['en'] = zip(*df.apply(rearrange_values, axis=1))\n",
    "    print(\"ko만 교차 중복: \",(df['ko'].duplicated(keep=False) & ~df['en'].duplicated(keep=False)).sum()) \n",
    "    print(\"en만 교차 중복: \",(df['en'].duplicated(keep=False) & ~df['ko'].duplicated(keep=False)).sum())\n",
    "    print(\"ko와 en 쌍 교차 중복: \",df.duplicated(['ko','en'],keep=False).sum())"
   ]
  },
  {
   "cell_type": "code",
   "execution_count": 7,
   "id": "50e29456",
   "metadata": {
    "ExecuteTime": {
     "end_time": "2023-09-12T01:09:06.498284Z",
     "start_time": "2023-09-12T01:09:06.489309Z"
    }
   },
   "outputs": [],
   "source": [
    "def rearrange_values(row):\n",
    "    if row['source_language'] == 'ko':\n",
    "        return row['source'], row['target']\n",
    "    else:\n",
    "        return row['target'], row['source']\n"
   ]
  },
  {
   "cell_type": "code",
   "execution_count": 9,
   "id": "2b42646d",
   "metadata": {
    "ExecuteTime": {
     "end_time": "2023-08-22T01:36:51.339838Z",
     "start_time": "2023-08-22T01:36:51.321810Z"
    }
   },
   "outputs": [],
   "source": [
    "def drop_duplicate_1(df):\n",
    "    df.drop_duplicates(subset=['source'], keep='first', inplace = True)\n",
    "    df.drop_duplicates(subset=['target'], keep='first', inplace = True)\n",
    "    return df"
   ]
  },
  {
   "cell_type": "code",
   "execution_count": 26,
   "id": "f0e4edc6",
   "metadata": {
    "ExecuteTime": {
     "end_time": "2023-08-22T02:07:29.008284Z",
     "start_time": "2023-08-22T02:07:28.995285Z"
    }
   },
   "outputs": [],
   "source": [
    "def drop_duplicate_2(df):\n",
    "    df.drop_duplicates(subset=['ko'], keep='first', inplace = True)\n",
    "    df.drop_duplicates(subset=['en'], keep='first', inplace = True)\n",
    "    df.drop(['ko', 'en'], axis=1, inplace=True)\n",
    "    return df"
   ]
  },
  {
   "cell_type": "code",
   "execution_count": 11,
   "id": "dd1daa9b",
   "metadata": {
    "ExecuteTime": {
     "end_time": "2023-08-22T01:36:53.196556Z",
     "start_time": "2023-08-22T01:36:53.178536Z"
    }
   },
   "outputs": [],
   "source": [
    "def drop_duplicate_test(df):\n",
    "    drop_duplicate_1(df)\n",
    "    df['ko'],df['en'] = zip(*df.apply(rearrange_values, axis=1))\n",
    "    drop_duplicate_2(df)\n",
    "    df.drop(['ko', 'en'], axis=1, inplace=True)\n",
    "    return df"
   ]
  },
  {
   "cell_type": "code",
   "execution_count": 82,
   "id": "30d903f1",
   "metadata": {
    "ExecuteTime": {
     "end_time": "2023-08-21T07:35:45.724388Z",
     "start_time": "2023-08-21T07:34:33.640870Z"
    }
   },
   "outputs": [
    {
     "data": {
      "text/html": [
       "<div>\n",
       "<style scoped>\n",
       "    .dataframe tbody tr th:only-of-type {\n",
       "        vertical-align: middle;\n",
       "    }\n",
       "\n",
       "    .dataframe tbody tr th {\n",
       "        vertical-align: top;\n",
       "    }\n",
       "\n",
       "    .dataframe thead th {\n",
       "        text-align: right;\n",
       "    }\n",
       "</style>\n",
       "<table border=\"1\" class=\"dataframe\">\n",
       "  <thead>\n",
       "    <tr style=\"text-align: right;\">\n",
       "      <th></th>\n",
       "      <th>sn</th>\n",
       "      <th>data_set</th>\n",
       "      <th>source</th>\n",
       "      <th>target</th>\n",
       "      <th>file_name</th>\n",
       "      <th>source_language</th>\n",
       "      <th>target_language</th>\n",
       "    </tr>\n",
       "  </thead>\n",
       "  <tbody>\n",
       "    <tr>\n",
       "      <th>0</th>\n",
       "      <td>INTSALDSUT062119042703238</td>\n",
       "      <td>일상생활및구어체</td>\n",
       "      <td>원하시는 색상을 회신해 주시면 바로 제작 들어가겠습니다.</td>\n",
       "      <td>If you reply to the color you want, we will st...</td>\n",
       "      <td>/home/ndpower/Data/AI_Hub/025.일상생활 및 구어체 한-영 번...</td>\n",
       "      <td>ko</td>\n",
       "      <td>en</td>\n",
       "    </tr>\n",
       "    <tr>\n",
       "      <th>1</th>\n",
       "      <td>KTOS062012215152657</td>\n",
       "      <td>일상생활및구어체</td>\n",
       "      <td>형님 제일 웃긴 그림이 뭔지 알아요.</td>\n",
       "      <td>You know what the funniest picture is.</td>\n",
       "      <td>/home/ndpower/Data/AI_Hub/025.일상생활 및 구어체 한-영 번...</td>\n",
       "      <td>ko</td>\n",
       "      <td>en</td>\n",
       "    </tr>\n",
       "    <tr>\n",
       "      <th>2</th>\n",
       "      <td>KRSS062012215033840</td>\n",
       "      <td>일상생활및구어체</td>\n",
       "      <td>&gt;속옷을?</td>\n",
       "      <td>&gt;Underwear?</td>\n",
       "      <td>/home/ndpower/Data/AI_Hub/025.일상생활 및 구어체 한-영 번...</td>\n",
       "      <td>ko</td>\n",
       "      <td>en</td>\n",
       "    </tr>\n",
       "    <tr>\n",
       "      <th>3</th>\n",
       "      <td>INTSALEGKG062119042674878</td>\n",
       "      <td>일상생활및구어체</td>\n",
       "      <td>그래도 가격이 꽤 비싸니까 많이 살게요.</td>\n",
       "      <td>I wont buy a lot though since the price is sti...</td>\n",
       "      <td>/home/ndpower/Data/AI_Hub/025.일상생활 및 구어체 한-영 번...</td>\n",
       "      <td>ko</td>\n",
       "      <td>en</td>\n",
       "    </tr>\n",
       "    <tr>\n",
       "      <th>4</th>\n",
       "      <td>CUSCHADSUT062119042866224</td>\n",
       "      <td>일상생활및구어체</td>\n",
       "      <td>AAA님, 제가 회의에서 화를 냈던 점 정말 사과드리고 싶습니다.</td>\n",
       "      <td>Dear AAA, I really want to apologize for my an...</td>\n",
       "      <td>/home/ndpower/Data/AI_Hub/025.일상생활 및 구어체 한-영 번...</td>\n",
       "      <td>ko</td>\n",
       "      <td>en</td>\n",
       "    </tr>\n",
       "    <tr>\n",
       "      <th>...</th>\n",
       "      <td>...</td>\n",
       "      <td>...</td>\n",
       "      <td>...</td>\n",
       "      <td>...</td>\n",
       "      <td>...</td>\n",
       "      <td>...</td>\n",
       "      <td>...</td>\n",
       "    </tr>\n",
       "    <tr>\n",
       "      <th>2700334</th>\n",
       "      <td>KFDS062012215031711</td>\n",
       "      <td>일상생활및구어체</td>\n",
       "      <td>이게 투의 투야.</td>\n",
       "      <td>This is two of two.</td>\n",
       "      <td>/home/ndpower/Data/AI_Hub/025.일상생활 및 구어체 한-영 번...</td>\n",
       "      <td>ko</td>\n",
       "      <td>en</td>\n",
       "    </tr>\n",
       "    <tr>\n",
       "      <th>2700335</th>\n",
       "      <td>INTSALFNIN062119042601328</td>\n",
       "      <td>일상생활및구어체</td>\n",
       "      <td>곧 새 전철도 이 지역으로 뚫리고 상권도 점점 더 발달할 기미가 보입니다.</td>\n",
       "      <td>Soon, the new subway will be opened to this ar...</td>\n",
       "      <td>/home/ndpower/Data/AI_Hub/025.일상생활 및 구어체 한-영 번...</td>\n",
       "      <td>ko</td>\n",
       "      <td>en</td>\n",
       "    </tr>\n",
       "    <tr>\n",
       "      <th>2700336</th>\n",
       "      <td>INTSALDSUT0621190427238984</td>\n",
       "      <td>일상생활및구어체</td>\n",
       "      <td>2019년 8월 4일에 배송해주신 상품이 잘 도착했습니다.</td>\n",
       "      <td>The product you delivered on August 4, 2019 ar...</td>\n",
       "      <td>/home/ndpower/Data/AI_Hub/025.일상생활 및 구어체 한-영 번...</td>\n",
       "      <td>ko</td>\n",
       "      <td>en</td>\n",
       "    </tr>\n",
       "    <tr>\n",
       "      <th>2700338</th>\n",
       "      <td>CUSCHADSUT0621190428131932</td>\n",
       "      <td>일상생활및구어체</td>\n",
       "      <td>제 주문에 대한 선적 상황을 즉시 알려주시기 바랍니다.</td>\n",
       "      <td>Kindly notify me immediately regarding to the ...</td>\n",
       "      <td>/home/ndpower/Data/AI_Hub/025.일상생활 및 구어체 한-영 번...</td>\n",
       "      <td>ko</td>\n",
       "      <td>en</td>\n",
       "    </tr>\n",
       "    <tr>\n",
       "      <th>2700342</th>\n",
       "      <td>CUSCHAEGKG062119042902716</td>\n",
       "      <td>일상생활및구어체</td>\n",
       "      <td>지진 연구와 관련하여 여러 회사와 접촉한 적이 있긴 한데요.</td>\n",
       "      <td>I've contacted several companies about earthqu...</td>\n",
       "      <td>/home/ndpower/Data/AI_Hub/025.일상생활 및 구어체 한-영 번...</td>\n",
       "      <td>ko</td>\n",
       "      <td>en</td>\n",
       "    </tr>\n",
       "  </tbody>\n",
       "</table>\n",
       "<p>2321807 rows × 7 columns</p>\n",
       "</div>"
      ],
      "text/plain": [
       "                                 sn  data_set  \\\n",
       "0         INTSALDSUT062119042703238  일상생활및구어체   \n",
       "1               KTOS062012215152657  일상생활및구어체   \n",
       "2               KRSS062012215033840  일상생활및구어체   \n",
       "3         INTSALEGKG062119042674878  일상생활및구어체   \n",
       "4         CUSCHADSUT062119042866224  일상생활및구어체   \n",
       "...                             ...       ...   \n",
       "2700334         KFDS062012215031711  일상생활및구어체   \n",
       "2700335   INTSALFNIN062119042601328  일상생활및구어체   \n",
       "2700336  INTSALDSUT0621190427238984  일상생활및구어체   \n",
       "2700338  CUSCHADSUT0621190428131932  일상생활및구어체   \n",
       "2700342   CUSCHAEGKG062119042902716  일상생활및구어체   \n",
       "\n",
       "                                            source  \\\n",
       "0                  원하시는 색상을 회신해 주시면 바로 제작 들어가겠습니다.   \n",
       "1                             형님 제일 웃긴 그림이 뭔지 알아요.   \n",
       "2                                            >속옷을?   \n",
       "3                           그래도 가격이 꽤 비싸니까 많이 살게요.   \n",
       "4             AAA님, 제가 회의에서 화를 냈던 점 정말 사과드리고 싶습니다.   \n",
       "...                                            ...   \n",
       "2700334                                  이게 투의 투야.   \n",
       "2700335  곧 새 전철도 이 지역으로 뚫리고 상권도 점점 더 발달할 기미가 보입니다.   \n",
       "2700336           2019년 8월 4일에 배송해주신 상품이 잘 도착했습니다.   \n",
       "2700338             제 주문에 대한 선적 상황을 즉시 알려주시기 바랍니다.   \n",
       "2700342          지진 연구와 관련하여 여러 회사와 접촉한 적이 있긴 한데요.   \n",
       "\n",
       "                                                    target  \\\n",
       "0        If you reply to the color you want, we will st...   \n",
       "1                   You know what the funniest picture is.   \n",
       "2                                              >Underwear?   \n",
       "3        I wont buy a lot though since the price is sti...   \n",
       "4        Dear AAA, I really want to apologize for my an...   \n",
       "...                                                    ...   \n",
       "2700334                                This is two of two.   \n",
       "2700335  Soon, the new subway will be opened to this ar...   \n",
       "2700336  The product you delivered on August 4, 2019 ar...   \n",
       "2700338  Kindly notify me immediately regarding to the ...   \n",
       "2700342  I've contacted several companies about earthqu...   \n",
       "\n",
       "                                                 file_name source_language  \\\n",
       "0        /home/ndpower/Data/AI_Hub/025.일상생활 및 구어체 한-영 번...              ko   \n",
       "1        /home/ndpower/Data/AI_Hub/025.일상생활 및 구어체 한-영 번...              ko   \n",
       "2        /home/ndpower/Data/AI_Hub/025.일상생활 및 구어체 한-영 번...              ko   \n",
       "3        /home/ndpower/Data/AI_Hub/025.일상생활 및 구어체 한-영 번...              ko   \n",
       "4        /home/ndpower/Data/AI_Hub/025.일상생활 및 구어체 한-영 번...              ko   \n",
       "...                                                    ...             ...   \n",
       "2700334  /home/ndpower/Data/AI_Hub/025.일상생활 및 구어체 한-영 번...              ko   \n",
       "2700335  /home/ndpower/Data/AI_Hub/025.일상생활 및 구어체 한-영 번...              ko   \n",
       "2700336  /home/ndpower/Data/AI_Hub/025.일상생활 및 구어체 한-영 번...              ko   \n",
       "2700338  /home/ndpower/Data/AI_Hub/025.일상생활 및 구어체 한-영 번...              ko   \n",
       "2700342  /home/ndpower/Data/AI_Hub/025.일상생활 및 구어체 한-영 번...              ko   \n",
       "\n",
       "        target_language  \n",
       "0                    en  \n",
       "1                    en  \n",
       "2                    en  \n",
       "3                    en  \n",
       "4                    en  \n",
       "...                 ...  \n",
       "2700334              en  \n",
       "2700335              en  \n",
       "2700336              en  \n",
       "2700338              en  \n",
       "2700342              en  \n",
       "\n",
       "[2321807 rows x 7 columns]"
      ]
     },
     "execution_count": 82,
     "metadata": {},
     "output_type": "execute_result"
    }
   ],
   "source": [
    "drop_duplicate_test(everyday_life_df)\n",
    "everyday_life_df"
   ]
  },
  {
   "cell_type": "code",
   "execution_count": 83,
   "id": "ec0e3dbc",
   "metadata": {
    "ExecuteTime": {
     "end_time": "2023-08-21T07:37:50.438183Z",
     "start_time": "2023-08-21T07:37:06.471863Z"
    }
   },
   "outputs": [
    {
     "name": "stdout",
     "output_type": "stream",
     "text": [
      "source만 중복:  0\n",
      "target만 중복:  0\n",
      "source와 target 쌍 중복:  0\n",
      "ko만 교차 중복:  0\n",
      "en만 교차 중복:  0\n",
      "ko와 en 쌍 교차 중복:  0\n"
     ]
    }
   ],
   "source": [
    "duplicated_check(everyday_life_df)"
   ]
  },
  {
   "cell_type": "code",
   "execution_count": 33,
   "id": "59ed9b59",
   "metadata": {
    "ExecuteTime": {
     "end_time": "2023-08-22T02:13:11.913047Z",
     "start_time": "2023-08-22T02:10:19.403193Z"
    }
   },
   "outputs": [
    {
     "name": "stdout",
     "output_type": "stream",
     "text": [
      "utterance_type_df\n",
      "총 데이터 수 :  27002\n",
      "---------------------------\n",
      "source만 중복:  34\n",
      "target만 중복:  10\n",
      "source와 target 쌍 중복:  4\n",
      "ko만 교차 중복:  0\n",
      "en만 교차 중복:  0\n",
      "ko와 en 쌍 교차 중복:  0\n",
      "---------------------------\n",
      "26978\n",
      "---------------------------\n",
      "specialty_df\n",
      "총 데이터 수 :  1350000\n",
      "---------------------------\n",
      "source만 중복:  2\n",
      "target만 중복:  1253\n",
      "source와 target 쌍 중복:  0\n",
      "ko만 교차 중복:  0\n",
      "en만 교차 중복:  0\n",
      "ko와 en 쌍 교차 중복:  0\n",
      "---------------------------\n",
      "1349340\n",
      "---------------------------\n",
      "ko_en_trans_df\n",
      "총 데이터 수 :  1602418\n",
      "---------------------------\n",
      "source만 중복:  697\n",
      "target만 중복:  2426\n",
      "source와 target 쌍 중복:  4988\n",
      "ko만 교차 중복:  0\n",
      "en만 교차 중복:  0\n",
      "ko와 en 쌍 교차 중복:  0\n",
      "---------------------------\n",
      "1598330\n",
      "---------------------------\n",
      "everyday_life_df\n",
      "총 데이터 수 :  2700345\n",
      "---------------------------\n",
      "source만 중복:  32670\n",
      "target만 중복:  93477\n",
      "source와 target 쌍 중복:  207887\n",
      "ko만 교차 중복:  12996\n",
      "en만 교차 중복:  106382\n",
      "ko와 en 쌍 교차 중복:  98014\n",
      "---------------------------\n",
      "2321807\n",
      "---------------------------\n",
      "science_df\n",
      "총 데이터 수 :  1350162\n",
      "---------------------------\n",
      "source만 중복:  46\n",
      "target만 중복:  2\n",
      "source와 target 쌍 중복:  88\n",
      "ko만 교차 중복:  0\n",
      "en만 교차 중복:  0\n",
      "ko와 en 쌍 교차 중복:  0\n",
      "---------------------------\n",
      "1350094\n",
      "---------------------------\n",
      "food_df\n",
      "총 데이터 수 :  1350000\n",
      "---------------------------\n",
      "source만 중복:  76\n",
      "target만 중복:  2681\n",
      "source와 target 쌍 중복:  20\n",
      "ko만 교차 중복:  0\n",
      "en만 교차 중복:  0\n",
      "ko와 en 쌍 교차 중복:  0\n",
      "---------------------------\n",
      "1348602\n",
      "---------------------------\n",
      "contents_df\n",
      "총 데이터 수 :  587084\n",
      "---------------------------\n",
      "source만 중복:  1165\n",
      "target만 중복:  5578\n",
      "source와 target 쌍 중복:  241\n",
      "ko만 교차 중복:  49\n",
      "en만 교차 중복:  365\n",
      "ko와 en 쌍 교차 중복:  2\n",
      "---------------------------\n",
      "582645\n",
      "---------------------------\n"
     ]
    }
   ],
   "source": [
    "for df in dataset_list:\n",
    "    print(df.Name)\n",
    "    print('총 데이터 수 : ', len(df))\n",
    "    print('---------------------------')\n",
    "    duplicated_check(df)\n",
    "    print('---------------------------')\n",
    "    print(len(drop_duplicate_2(df)))\n",
    "    print('---------------------------')"
   ]
  },
  {
   "cell_type": "code",
   "execution_count": 59,
   "id": "92dacfa5",
   "metadata": {
    "ExecuteTime": {
     "end_time": "2023-08-22T04:38:30.370717Z",
     "start_time": "2023-08-22T04:38:30.354719Z"
    }
   },
   "outputs": [
    {
     "data": {
      "text/html": [
       "<div>\n",
       "<style scoped>\n",
       "    .dataframe tbody tr th:only-of-type {\n",
       "        vertical-align: middle;\n",
       "    }\n",
       "\n",
       "    .dataframe tbody tr th {\n",
       "        vertical-align: top;\n",
       "    }\n",
       "\n",
       "    .dataframe thead th {\n",
       "        text-align: right;\n",
       "    }\n",
       "</style>\n",
       "<table border=\"1\" class=\"dataframe\">\n",
       "  <thead>\n",
       "    <tr style=\"text-align: right;\">\n",
       "      <th></th>\n",
       "      <th>sn</th>\n",
       "      <th>data_set</th>\n",
       "      <th>source</th>\n",
       "      <th>target</th>\n",
       "      <th>file_name</th>\n",
       "      <th>source_language</th>\n",
       "      <th>target_language</th>\n",
       "    </tr>\n",
       "  </thead>\n",
       "  <tbody>\n",
       "    <tr>\n",
       "      <th>0</th>\n",
       "      <td>100010-1376-1-6</td>\n",
       "      <td>기계번역 병렬 말뭉치 데이터</td>\n",
       "      <td>그래서 차라리 원인을 없애야겠다 싶어서 탈퇴하고 앱도 지웠어요.</td>\n",
       "      <td>So I thought I should get rid of the cause, so...</td>\n",
       "      <td>ko-en_SP_ES_ko_en_100010-1376-1-6</td>\n",
       "      <td>ko</td>\n",
       "      <td>en</td>\n",
       "    </tr>\n",
       "    <tr>\n",
       "      <th>1</th>\n",
       "      <td>100010-1462-1-9</td>\n",
       "      <td>기계번역 병렬 말뭉치 데이터</td>\n",
       "      <td>일을 해야 돈을 벌고 그래야 생활할 수 있는데.</td>\n",
       "      <td>We need to work to earn money and to live.</td>\n",
       "      <td>ko-en_CH_ES_ko_en_100010-1462-1-9</td>\n",
       "      <td>ko</td>\n",
       "      <td>en</td>\n",
       "    </tr>\n",
       "    <tr>\n",
       "      <th>2</th>\n",
       "      <td>100013-350-1-10</td>\n",
       "      <td>기계번역 병렬 말뭉치 데이터</td>\n",
       "      <td>We've all had really great conversations.</td>\n",
       "      <td>우리 모두는 정말 좋은 대화를 나누었습니다.</td>\n",
       "      <td>en-ko_SP_ES_en_ko_100013-350-1-10</td>\n",
       "      <td>en</td>\n",
       "      <td>ko</td>\n",
       "    </tr>\n",
       "    <tr>\n",
       "      <th>3</th>\n",
       "      <td>100010-1703-1-8</td>\n",
       "      <td>기계번역 병렬 말뭉치 데이터</td>\n",
       "      <td>안 그래도 요즘 큐티클층이 많이 손상됐는지 머리가 부스스했는데 잘 됐다.</td>\n",
       "      <td>I'm not sure if the cuticle layer has been dam...</td>\n",
       "      <td>ko-en_CH_CA_ko_en_100010-1703-1-8</td>\n",
       "      <td>ko</td>\n",
       "      <td>en</td>\n",
       "    </tr>\n",
       "    <tr>\n",
       "      <th>4</th>\n",
       "      <td>100013-1202-1-11</td>\n",
       "      <td>기계번역 병렬 말뭉치 데이터</td>\n",
       "      <td>We're gonna probably be doing that closer to l...</td>\n",
       "      <td>아마도 출시가 가까워지면 할 것 같습니다.</td>\n",
       "      <td>en-ko_SP_CA_en_ko_100013-1202-1-11</td>\n",
       "      <td>en</td>\n",
       "      <td>ko</td>\n",
       "    </tr>\n",
       "    <tr>\n",
       "      <th>...</th>\n",
       "      <td>...</td>\n",
       "      <td>...</td>\n",
       "      <td>...</td>\n",
       "      <td>...</td>\n",
       "      <td>...</td>\n",
       "      <td>...</td>\n",
       "      <td>...</td>\n",
       "    </tr>\n",
       "    <tr>\n",
       "      <th>26997</th>\n",
       "      <td>100010-2423-1-10</td>\n",
       "      <td>기계번역 병렬 말뭉치 데이터</td>\n",
       "      <td>또한 오는 12월까지 계약 또는 출고 고객을 대상으로 추첨을 통해 추가 증정하는 경...</td>\n",
       "      <td>In addition, there will be a giveaway event to...</td>\n",
       "      <td>ko-en_WR_ST_ko_en_100010-2423-1-10</td>\n",
       "      <td>ko</td>\n",
       "      <td>en</td>\n",
       "    </tr>\n",
       "    <tr>\n",
       "      <th>26998</th>\n",
       "      <td>100010-2197-1-2</td>\n",
       "      <td>기계번역 병렬 말뭉치 데이터</td>\n",
       "      <td>음식 조절하고 운동하면 콜레스테롤이랑 엘디엘 수치가 내려갈까요?</td>\n",
       "      <td>Will controlling diet and exercising lower my ...</td>\n",
       "      <td>ko-en_SP_SH_ko_en_100010-2197-1-2</td>\n",
       "      <td>ko</td>\n",
       "      <td>en</td>\n",
       "    </tr>\n",
       "    <tr>\n",
       "      <th>26999</th>\n",
       "      <td>100010-1776-1-2</td>\n",
       "      <td>기계번역 병렬 말뭉치 데이터</td>\n",
       "      <td>딸애는 엠비티아이 검사할 때 항상 같은 것만 나온다고 하더라고.</td>\n",
       "      <td>My daughter says the same result always comes ...</td>\n",
       "      <td>ko-en_CH_ES_ko_en_100010-1776-1-2</td>\n",
       "      <td>ko</td>\n",
       "      <td>en</td>\n",
       "    </tr>\n",
       "    <tr>\n",
       "      <th>27000</th>\n",
       "      <td>100013-28-1-10</td>\n",
       "      <td>기계번역 병렬 말뭉치 데이터</td>\n",
       "      <td>List the specific consequences of angry behavi...</td>\n",
       "      <td>살면서 사람들에게 화를 냈을 때의 구체적인 결과를 나열해보아라.</td>\n",
       "      <td>en-ko_WR_ES_en_ko_100013-28-1-10</td>\n",
       "      <td>en</td>\n",
       "      <td>ko</td>\n",
       "    </tr>\n",
       "    <tr>\n",
       "      <th>27001</th>\n",
       "      <td>100013-1057-1-4</td>\n",
       "      <td>기계번역 병렬 말뭉치 데이터</td>\n",
       "      <td>I don’t have emotional support, but I’ll conti...</td>\n",
       "      <td>정서적인 지지을 받고 있지는 않지만 나는 계속 나 자신을 위해 싸울 거야.</td>\n",
       "      <td>en-ko_CH_SH_en_ko_100013-1057-1-4</td>\n",
       "      <td>en</td>\n",
       "      <td>ko</td>\n",
       "    </tr>\n",
       "  </tbody>\n",
       "</table>\n",
       "<p>27002 rows × 7 columns</p>\n",
       "</div>"
      ],
      "text/plain": [
       "                     sn         data_set  \\\n",
       "0       100010-1376-1-6  기계번역 병렬 말뭉치 데이터   \n",
       "1       100010-1462-1-9  기계번역 병렬 말뭉치 데이터   \n",
       "2       100013-350-1-10  기계번역 병렬 말뭉치 데이터   \n",
       "3       100010-1703-1-8  기계번역 병렬 말뭉치 데이터   \n",
       "4      100013-1202-1-11  기계번역 병렬 말뭉치 데이터   \n",
       "...                 ...              ...   \n",
       "26997  100010-2423-1-10  기계번역 병렬 말뭉치 데이터   \n",
       "26998   100010-2197-1-2  기계번역 병렬 말뭉치 데이터   \n",
       "26999   100010-1776-1-2  기계번역 병렬 말뭉치 데이터   \n",
       "27000    100013-28-1-10  기계번역 병렬 말뭉치 데이터   \n",
       "27001   100013-1057-1-4  기계번역 병렬 말뭉치 데이터   \n",
       "\n",
       "                                                  source  \\\n",
       "0                    그래서 차라리 원인을 없애야겠다 싶어서 탈퇴하고 앱도 지웠어요.   \n",
       "1                             일을 해야 돈을 벌고 그래야 생활할 수 있는데.   \n",
       "2              We've all had really great conversations.   \n",
       "3               안 그래도 요즘 큐티클층이 많이 손상됐는지 머리가 부스스했는데 잘 됐다.   \n",
       "4      We're gonna probably be doing that closer to l...   \n",
       "...                                                  ...   \n",
       "26997  또한 오는 12월까지 계약 또는 출고 고객을 대상으로 추첨을 통해 추가 증정하는 경...   \n",
       "26998                음식 조절하고 운동하면 콜레스테롤이랑 엘디엘 수치가 내려갈까요?   \n",
       "26999                딸애는 엠비티아이 검사할 때 항상 같은 것만 나온다고 하더라고.   \n",
       "27000  List the specific consequences of angry behavi...   \n",
       "27001  I don’t have emotional support, but I’ll conti...   \n",
       "\n",
       "                                                  target  \\\n",
       "0      So I thought I should get rid of the cause, so...   \n",
       "1             We need to work to earn money and to live.   \n",
       "2                               우리 모두는 정말 좋은 대화를 나누었습니다.   \n",
       "3      I'm not sure if the cuticle layer has been dam...   \n",
       "4                                아마도 출시가 가까워지면 할 것 같습니다.   \n",
       "...                                                  ...   \n",
       "26997  In addition, there will be a giveaway event to...   \n",
       "26998  Will controlling diet and exercising lower my ...   \n",
       "26999  My daughter says the same result always comes ...   \n",
       "27000                살면서 사람들에게 화를 냈을 때의 구체적인 결과를 나열해보아라.   \n",
       "27001          정서적인 지지을 받고 있지는 않지만 나는 계속 나 자신을 위해 싸울 거야.   \n",
       "\n",
       "                                file_name source_language target_language  \n",
       "0       ko-en_SP_ES_ko_en_100010-1376-1-6              ko              en  \n",
       "1       ko-en_CH_ES_ko_en_100010-1462-1-9              ko              en  \n",
       "2       en-ko_SP_ES_en_ko_100013-350-1-10              en              ko  \n",
       "3       ko-en_CH_CA_ko_en_100010-1703-1-8              ko              en  \n",
       "4      en-ko_SP_CA_en_ko_100013-1202-1-11              en              ko  \n",
       "...                                   ...             ...             ...  \n",
       "26997  ko-en_WR_ST_ko_en_100010-2423-1-10              ko              en  \n",
       "26998   ko-en_SP_SH_ko_en_100010-2197-1-2              ko              en  \n",
       "26999   ko-en_CH_ES_ko_en_100010-1776-1-2              ko              en  \n",
       "27000    en-ko_WR_ES_en_ko_100013-28-1-10              en              ko  \n",
       "27001   en-ko_CH_SH_en_ko_100013-1057-1-4              en              ko  \n",
       "\n",
       "[27002 rows x 7 columns]"
      ]
     },
     "execution_count": 59,
     "metadata": {},
     "output_type": "execute_result"
    }
   ],
   "source": [
    "utterance_type_df"
   ]
  },
  {
   "cell_type": "code",
   "execution_count": null,
   "id": "6d5c0929",
   "metadata": {},
   "outputs": [],
   "source": [
    "#'일상생활_및_구어체_한-영_번역_병렬_말뭉치_데이터.csv'"
   ]
  },
  {
   "cell_type": "code",
   "execution_count": 65,
   "id": "67723ff5",
   "metadata": {
    "ExecuteTime": {
     "end_time": "2023-08-17T06:24:48.740964Z",
     "start_time": "2023-08-17T06:24:47.288882Z"
    }
   },
   "outputs": [
    {
     "data": {
      "text/plain": [
       "199778"
      ]
     },
     "execution_count": 65,
     "metadata": {},
     "output_type": "execute_result"
    }
   ],
   "source": [
    "everyday_life_df.duplicated(['source']).sum()"
   ]
  },
  {
   "cell_type": "code",
   "execution_count": 66,
   "id": "3b3a16be",
   "metadata": {
    "ExecuteTime": {
     "end_time": "2023-08-17T06:25:11.118985Z",
     "start_time": "2023-08-17T06:25:09.559780Z"
    }
   },
   "outputs": [
    {
     "data": {
      "text/plain": [
       "248201"
      ]
     },
     "execution_count": 66,
     "metadata": {},
     "output_type": "execute_result"
    }
   ],
   "source": [
    "everyday_life_df.duplicated(['target']).sum()"
   ]
  },
  {
   "cell_type": "code",
   "execution_count": 65,
   "id": "f2ec3966",
   "metadata": {
    "ExecuteTime": {
     "end_time": "2023-08-22T04:43:56.730703Z",
     "start_time": "2023-08-22T04:43:54.011973Z"
    }
   },
   "outputs": [
    {
     "data": {
      "text/html": [
       "<div>\n",
       "<style scoped>\n",
       "    .dataframe tbody tr th:only-of-type {\n",
       "        vertical-align: middle;\n",
       "    }\n",
       "\n",
       "    .dataframe tbody tr th {\n",
       "        vertical-align: top;\n",
       "    }\n",
       "\n",
       "    .dataframe thead th {\n",
       "        text-align: right;\n",
       "    }\n",
       "</style>\n",
       "<table border=\"1\" class=\"dataframe\">\n",
       "  <thead>\n",
       "    <tr style=\"text-align: right;\">\n",
       "      <th></th>\n",
       "      <th>sn</th>\n",
       "      <th>data_set</th>\n",
       "      <th>source</th>\n",
       "      <th>target</th>\n",
       "      <th>file_name</th>\n",
       "      <th>source_language</th>\n",
       "      <th>target_language</th>\n",
       "    </tr>\n",
       "  </thead>\n",
       "  <tbody>\n",
       "    <tr>\n",
       "      <th>1184507</th>\n",
       "      <td>CUSCHADSUT062119042803653</td>\n",
       "      <td>일상생활및구어체</td>\n",
       "      <td>\"AAA\" 드림.</td>\n",
       "      <td>AAA Dream.</td>\n",
       "      <td>/home/ndpower/Data/AI_Hub/025.일상생활 및 구어체 한-영 번...</td>\n",
       "      <td>ko</td>\n",
       "      <td>en</td>\n",
       "    </tr>\n",
       "    <tr>\n",
       "      <th>578551</th>\n",
       "      <td>INTSALDSUT062119042719541</td>\n",
       "      <td>일상생활및구어체</td>\n",
       "      <td>\"AAA\" 드림.</td>\n",
       "      <td>AAA Dream.</td>\n",
       "      <td>/home/ndpower/Data/AI_Hub/025.일상생활 및 구어체 한-영 번...</td>\n",
       "      <td>ko</td>\n",
       "      <td>en</td>\n",
       "    </tr>\n",
       "    <tr>\n",
       "      <th>2563185</th>\n",
       "      <td>INTSALDSUT0621190427274912</td>\n",
       "      <td>일상생활및구어체</td>\n",
       "      <td>\"AAA야, 안녕?\" 이러면서요.</td>\n",
       "      <td>\"Hi, AAA\". Like this.</td>\n",
       "      <td>/home/ndpower/Data/AI_Hub/025.일상생활 및 구어체 한-영 번...</td>\n",
       "      <td>ko</td>\n",
       "      <td>en</td>\n",
       "    </tr>\n",
       "    <tr>\n",
       "      <th>41018</th>\n",
       "      <td>INTSALDSUT0621190427189420</td>\n",
       "      <td>일상생활및구어체</td>\n",
       "      <td>\"AAA야, 안녕?\" 이러면서요.</td>\n",
       "      <td>\"Hi, AAA\". Like this.</td>\n",
       "      <td>/home/ndpower/Data/AI_Hub/025.일상생활 및 구어체 한-영 번...</td>\n",
       "      <td>ko</td>\n",
       "      <td>en</td>\n",
       "    </tr>\n",
       "    <tr>\n",
       "      <th>1171210</th>\n",
       "      <td>INTSALJBTS062119042530600</td>\n",
       "      <td>일상생활및구어체</td>\n",
       "      <td>\"BBB2\"가 자체개발한 야구 시뮬레이션 게임이며, 여러분이 직접 구단주가 되어 팀...</td>\n",
       "      <td>It's a baseball simulation game developed by \"...</td>\n",
       "      <td>/home/ndpower/Data/AI_Hub/025.일상생활 및 구어체 한-영 번...</td>\n",
       "      <td>ko</td>\n",
       "      <td>en</td>\n",
       "    </tr>\n",
       "    <tr>\n",
       "      <th>...</th>\n",
       "      <td>...</td>\n",
       "      <td>...</td>\n",
       "      <td>...</td>\n",
       "      <td>...</td>\n",
       "      <td>...</td>\n",
       "      <td>...</td>\n",
       "      <td>...</td>\n",
       "    </tr>\n",
       "    <tr>\n",
       "      <th>739148</th>\n",
       "      <td>KTOS062012215154822</td>\n",
       "      <td>일상생활및구어체</td>\n",
       "      <td>힘이 없을 때는 경유 한방을.</td>\n",
       "      <td>When you don't have enough energy, get fueled ...</td>\n",
       "      <td>/home/ndpower/Data/AI_Hub/025.일상생활 및 구어체 한-영 번...</td>\n",
       "      <td>ko</td>\n",
       "      <td>en</td>\n",
       "    </tr>\n",
       "    <tr>\n",
       "      <th>124115</th>\n",
       "      <td>KTOS062012215135244</td>\n",
       "      <td>일상생활및구어체</td>\n",
       "      <td>힘이 좋아.</td>\n",
       "      <td>He's strong.</td>\n",
       "      <td>/home/ndpower/Data/AI_Hub/025.일상생활 및 구어체 한-영 번...</td>\n",
       "      <td>ko</td>\n",
       "      <td>en</td>\n",
       "    </tr>\n",
       "    <tr>\n",
       "      <th>134283</th>\n",
       "      <td>KTOS062012215135174</td>\n",
       "      <td>일상생활및구어체</td>\n",
       "      <td>힘이 좋아.</td>\n",
       "      <td>He's strong.</td>\n",
       "      <td>/home/ndpower/Data/AI_Hub/025.일상생활 및 구어체 한-영 번...</td>\n",
       "      <td>ko</td>\n",
       "      <td>en</td>\n",
       "    </tr>\n",
       "    <tr>\n",
       "      <th>698372</th>\n",
       "      <td>INTSALDSUT062119042768438</td>\n",
       "      <td>일상생활및구어체</td>\n",
       "      <td>힙을 폭 가려주는 여유 있는 루즈핏으로 체형 커버까지 완벽한 방한템 입니다.</td>\n",
       "      <td>It's a perfect roomy item with a loose fit tha...</td>\n",
       "      <td>/home/ndpower/Data/AI_Hub/025.일상생활 및 구어체 한-영 번...</td>\n",
       "      <td>ko</td>\n",
       "      <td>en</td>\n",
       "    </tr>\n",
       "    <tr>\n",
       "      <th>415388</th>\n",
       "      <td>INTSALDSUT0621190427282039</td>\n",
       "      <td>일상생활및구어체</td>\n",
       "      <td>힙을 폭 가려주는 여유 있는 루즈핏으로 체형 커버까지 완벽한 방한템 입니다.</td>\n",
       "      <td>It's a perfect roomy item with a loose fit tha...</td>\n",
       "      <td>/home/ndpower/Data/AI_Hub/025.일상생활 및 구어체 한-영 번...</td>\n",
       "      <td>ko</td>\n",
       "      <td>en</td>\n",
       "    </tr>\n",
       "  </tbody>\n",
       "</table>\n",
       "<p>207887 rows × 7 columns</p>\n",
       "</div>"
      ],
      "text/plain": [
       "                                 sn  data_set  \\\n",
       "1184507   CUSCHADSUT062119042803653  일상생활및구어체   \n",
       "578551    INTSALDSUT062119042719541  일상생활및구어체   \n",
       "2563185  INTSALDSUT0621190427274912  일상생활및구어체   \n",
       "41018    INTSALDSUT0621190427189420  일상생활및구어체   \n",
       "1171210   INTSALJBTS062119042530600  일상생활및구어체   \n",
       "...                             ...       ...   \n",
       "739148          KTOS062012215154822  일상생활및구어체   \n",
       "124115          KTOS062012215135244  일상생활및구어체   \n",
       "134283          KTOS062012215135174  일상생활및구어체   \n",
       "698372    INTSALDSUT062119042768438  일상생활및구어체   \n",
       "415388   INTSALDSUT0621190427282039  일상생활및구어체   \n",
       "\n",
       "                                                    source  \\\n",
       "1184507                                          \"AAA\" 드림.   \n",
       "578551                                           \"AAA\" 드림.   \n",
       "2563185                                 \"AAA야, 안녕?\" 이러면서요.   \n",
       "41018                                   \"AAA야, 안녕?\" 이러면서요.   \n",
       "1171210  \"BBB2\"가 자체개발한 야구 시뮬레이션 게임이며, 여러분이 직접 구단주가 되어 팀...   \n",
       "...                                                    ...   \n",
       "739148                                    힘이 없을 때는 경유 한방을.   \n",
       "124115                                              힘이 좋아.   \n",
       "134283                                              힘이 좋아.   \n",
       "698372          힙을 폭 가려주는 여유 있는 루즈핏으로 체형 커버까지 완벽한 방한템 입니다.   \n",
       "415388          힙을 폭 가려주는 여유 있는 루즈핏으로 체형 커버까지 완벽한 방한템 입니다.   \n",
       "\n",
       "                                                    target  \\\n",
       "1184507                                         AAA Dream.   \n",
       "578551                                          AAA Dream.   \n",
       "2563185                              \"Hi, AAA\". Like this.   \n",
       "41018                                \"Hi, AAA\". Like this.   \n",
       "1171210  It's a baseball simulation game developed by \"...   \n",
       "...                                                    ...   \n",
       "739148   When you don't have enough energy, get fueled ...   \n",
       "124115                                        He's strong.   \n",
       "134283                                        He's strong.   \n",
       "698372   It's a perfect roomy item with a loose fit tha...   \n",
       "415388   It's a perfect roomy item with a loose fit tha...   \n",
       "\n",
       "                                                 file_name source_language  \\\n",
       "1184507  /home/ndpower/Data/AI_Hub/025.일상생활 및 구어체 한-영 번...              ko   \n",
       "578551   /home/ndpower/Data/AI_Hub/025.일상생활 및 구어체 한-영 번...              ko   \n",
       "2563185  /home/ndpower/Data/AI_Hub/025.일상생활 및 구어체 한-영 번...              ko   \n",
       "41018    /home/ndpower/Data/AI_Hub/025.일상생활 및 구어체 한-영 번...              ko   \n",
       "1171210  /home/ndpower/Data/AI_Hub/025.일상생활 및 구어체 한-영 번...              ko   \n",
       "...                                                    ...             ...   \n",
       "739148   /home/ndpower/Data/AI_Hub/025.일상생활 및 구어체 한-영 번...              ko   \n",
       "124115   /home/ndpower/Data/AI_Hub/025.일상생활 및 구어체 한-영 번...              ko   \n",
       "134283   /home/ndpower/Data/AI_Hub/025.일상생활 및 구어체 한-영 번...              ko   \n",
       "698372   /home/ndpower/Data/AI_Hub/025.일상생활 및 구어체 한-영 번...              ko   \n",
       "415388   /home/ndpower/Data/AI_Hub/025.일상생활 및 구어체 한-영 번...              ko   \n",
       "\n",
       "        target_language  \n",
       "1184507              en  \n",
       "578551               en  \n",
       "2563185              en  \n",
       "41018                en  \n",
       "1171210              en  \n",
       "...                 ...  \n",
       "739148               en  \n",
       "124115               en  \n",
       "134283               en  \n",
       "698372               en  \n",
       "415388               en  \n",
       "\n",
       "[207887 rows x 7 columns]"
      ]
     },
     "execution_count": 65,
     "metadata": {},
     "output_type": "execute_result"
    }
   ],
   "source": [
    "everyday_life_df[everyday_life_df.duplicated(['source','target'],keep=False)].sort_values(by='source')"
   ]
  },
  {
   "cell_type": "code",
   "execution_count": 72,
   "id": "1c8b60c5",
   "metadata": {
    "ExecuteTime": {
     "end_time": "2023-08-22T04:51:59.000991Z",
     "start_time": "2023-08-22T04:51:55.563775Z"
    }
   },
   "outputs": [
    {
     "data": {
      "text/html": [
       "<div>\n",
       "<style scoped>\n",
       "    .dataframe tbody tr th:only-of-type {\n",
       "        vertical-align: middle;\n",
       "    }\n",
       "\n",
       "    .dataframe tbody tr th {\n",
       "        vertical-align: top;\n",
       "    }\n",
       "\n",
       "    .dataframe thead th {\n",
       "        text-align: right;\n",
       "    }\n",
       "</style>\n",
       "<table border=\"1\" class=\"dataframe\">\n",
       "  <thead>\n",
       "    <tr style=\"text-align: right;\">\n",
       "      <th></th>\n",
       "      <th>sn</th>\n",
       "      <th>data_set</th>\n",
       "      <th>source</th>\n",
       "      <th>target</th>\n",
       "      <th>file_name</th>\n",
       "      <th>source_language</th>\n",
       "      <th>target_language</th>\n",
       "    </tr>\n",
       "  </thead>\n",
       "  <tbody>\n",
       "    <tr>\n",
       "      <th>1184507</th>\n",
       "      <td>CUSCHADSUT062119042803653</td>\n",
       "      <td>일상생활및구어체</td>\n",
       "      <td>\"AAA\" 드림.</td>\n",
       "      <td>AAA Dream.</td>\n",
       "      <td>/home/ndpower/Data/AI_Hub/025.일상생활 및 구어체 한-영 번...</td>\n",
       "      <td>ko</td>\n",
       "      <td>en</td>\n",
       "    </tr>\n",
       "    <tr>\n",
       "      <th>578551</th>\n",
       "      <td>INTSALDSUT062119042719541</td>\n",
       "      <td>일상생활및구어체</td>\n",
       "      <td>\"AAA\" 드림.</td>\n",
       "      <td>AAA Dream.</td>\n",
       "      <td>/home/ndpower/Data/AI_Hub/025.일상생활 및 구어체 한-영 번...</td>\n",
       "      <td>ko</td>\n",
       "      <td>en</td>\n",
       "    </tr>\n",
       "    <tr>\n",
       "      <th>373640</th>\n",
       "      <td>INTSALJBTS062119042547210</td>\n",
       "      <td>일상생활및구어체</td>\n",
       "      <td>\"BBB2\"가 자체개발한 야구 시뮬레이션 게임이며, 여러분이 직접 구단주가 되어 팀...</td>\n",
       "      <td>It's a baseball simulation game developed by \"...</td>\n",
       "      <td>/home/ndpower/Data/AI_Hub/025.일상생활 및 구어체 한-영 번...</td>\n",
       "      <td>ko</td>\n",
       "      <td>en</td>\n",
       "    </tr>\n",
       "    <tr>\n",
       "      <th>1171210</th>\n",
       "      <td>INTSALJBTS062119042530600</td>\n",
       "      <td>일상생활및구어체</td>\n",
       "      <td>\"BBB2\"가 자체개발한 야구 시뮬레이션 게임이며, 여러분이 직접 구단주가 되어 팀...</td>\n",
       "      <td>It's a baseball simulation game developed by \"...</td>\n",
       "      <td>/home/ndpower/Data/AI_Hub/025.일상생활 및 구어체 한-영 번...</td>\n",
       "      <td>ko</td>\n",
       "      <td>en</td>\n",
       "    </tr>\n",
       "    <tr>\n",
       "      <th>1009705</th>\n",
       "      <td>INTSALDSUT0621190427280593</td>\n",
       "      <td>일상생활및구어체</td>\n",
       "      <td>\"FFF\" 구두는 저희 회사의 주력 상품인데 이렇게 클레임이 들어오니 저희도 굉장히...</td>\n",
       "      <td>\"FFF\" shoes are the main products of our compa...</td>\n",
       "      <td>/home/ndpower/Data/AI_Hub/025.일상생활 및 구어체 한-영 번...</td>\n",
       "      <td>ko</td>\n",
       "      <td>en</td>\n",
       "    </tr>\n",
       "    <tr>\n",
       "      <th>...</th>\n",
       "      <td>...</td>\n",
       "      <td>...</td>\n",
       "      <td>...</td>\n",
       "      <td>...</td>\n",
       "      <td>...</td>\n",
       "      <td>...</td>\n",
       "      <td>...</td>\n",
       "    </tr>\n",
       "    <tr>\n",
       "      <th>948390</th>\n",
       "      <td>KPUS062012215070941</td>\n",
       "      <td>일상생활및구어체</td>\n",
       "      <td>힘들어.</td>\n",
       "      <td>I'm tired.</td>\n",
       "      <td>/home/ndpower/Data/AI_Hub/025.일상생활 및 구어체 한-영 번...</td>\n",
       "      <td>ko</td>\n",
       "      <td>en</td>\n",
       "    </tr>\n",
       "    <tr>\n",
       "      <th>124115</th>\n",
       "      <td>KTOS062012215135244</td>\n",
       "      <td>일상생활및구어체</td>\n",
       "      <td>힘이 좋아.</td>\n",
       "      <td>He's strong.</td>\n",
       "      <td>/home/ndpower/Data/AI_Hub/025.일상생활 및 구어체 한-영 번...</td>\n",
       "      <td>ko</td>\n",
       "      <td>en</td>\n",
       "    </tr>\n",
       "    <tr>\n",
       "      <th>134283</th>\n",
       "      <td>KTOS062012215135174</td>\n",
       "      <td>일상생활및구어체</td>\n",
       "      <td>힘이 좋아.</td>\n",
       "      <td>He's strong.</td>\n",
       "      <td>/home/ndpower/Data/AI_Hub/025.일상생활 및 구어체 한-영 번...</td>\n",
       "      <td>ko</td>\n",
       "      <td>en</td>\n",
       "    </tr>\n",
       "    <tr>\n",
       "      <th>415388</th>\n",
       "      <td>INTSALDSUT0621190427282039</td>\n",
       "      <td>일상생활및구어체</td>\n",
       "      <td>힙을 폭 가려주는 여유 있는 루즈핏으로 체형 커버까지 완벽한 방한템 입니다.</td>\n",
       "      <td>It's a perfect roomy item with a loose fit tha...</td>\n",
       "      <td>/home/ndpower/Data/AI_Hub/025.일상생활 및 구어체 한-영 번...</td>\n",
       "      <td>ko</td>\n",
       "      <td>en</td>\n",
       "    </tr>\n",
       "    <tr>\n",
       "      <th>698372</th>\n",
       "      <td>INTSALDSUT062119042768438</td>\n",
       "      <td>일상생활및구어체</td>\n",
       "      <td>힙을 폭 가려주는 여유 있는 루즈핏으로 체형 커버까지 완벽한 방한템 입니다.</td>\n",
       "      <td>It's a perfect roomy item with a loose fit tha...</td>\n",
       "      <td>/home/ndpower/Data/AI_Hub/025.일상생활 및 구어체 한-영 번...</td>\n",
       "      <td>ko</td>\n",
       "      <td>en</td>\n",
       "    </tr>\n",
       "  </tbody>\n",
       "</table>\n",
       "<p>191915 rows × 7 columns</p>\n",
       "</div>"
      ],
      "text/plain": [
       "                                 sn  data_set  \\\n",
       "1184507   CUSCHADSUT062119042803653  일상생활및구어체   \n",
       "578551    INTSALDSUT062119042719541  일상생활및구어체   \n",
       "373640    INTSALJBTS062119042547210  일상생활및구어체   \n",
       "1171210   INTSALJBTS062119042530600  일상생활및구어체   \n",
       "1009705  INTSALDSUT0621190427280593  일상생활및구어체   \n",
       "...                             ...       ...   \n",
       "948390          KPUS062012215070941  일상생활및구어체   \n",
       "124115          KTOS062012215135244  일상생활및구어체   \n",
       "134283          KTOS062012215135174  일상생활및구어체   \n",
       "415388   INTSALDSUT0621190427282039  일상생활및구어체   \n",
       "698372    INTSALDSUT062119042768438  일상생활및구어체   \n",
       "\n",
       "                                                    source  \\\n",
       "1184507                                          \"AAA\" 드림.   \n",
       "578551                                           \"AAA\" 드림.   \n",
       "373640   \"BBB2\"가 자체개발한 야구 시뮬레이션 게임이며, 여러분이 직접 구단주가 되어 팀...   \n",
       "1171210  \"BBB2\"가 자체개발한 야구 시뮬레이션 게임이며, 여러분이 직접 구단주가 되어 팀...   \n",
       "1009705  \"FFF\" 구두는 저희 회사의 주력 상품인데 이렇게 클레임이 들어오니 저희도 굉장히...   \n",
       "...                                                    ...   \n",
       "948390                                                힘들어.   \n",
       "124115                                              힘이 좋아.   \n",
       "134283                                              힘이 좋아.   \n",
       "415388          힙을 폭 가려주는 여유 있는 루즈핏으로 체형 커버까지 완벽한 방한템 입니다.   \n",
       "698372          힙을 폭 가려주는 여유 있는 루즈핏으로 체형 커버까지 완벽한 방한템 입니다.   \n",
       "\n",
       "                                                    target  \\\n",
       "1184507                                         AAA Dream.   \n",
       "578551                                          AAA Dream.   \n",
       "373640   It's a baseball simulation game developed by \"...   \n",
       "1171210  It's a baseball simulation game developed by \"...   \n",
       "1009705  \"FFF\" shoes are the main products of our compa...   \n",
       "...                                                    ...   \n",
       "948390                                          I'm tired.   \n",
       "124115                                        He's strong.   \n",
       "134283                                        He's strong.   \n",
       "415388   It's a perfect roomy item with a loose fit tha...   \n",
       "698372   It's a perfect roomy item with a loose fit tha...   \n",
       "\n",
       "                                                 file_name source_language  \\\n",
       "1184507  /home/ndpower/Data/AI_Hub/025.일상생활 및 구어체 한-영 번...              ko   \n",
       "578551   /home/ndpower/Data/AI_Hub/025.일상생활 및 구어체 한-영 번...              ko   \n",
       "373640   /home/ndpower/Data/AI_Hub/025.일상생활 및 구어체 한-영 번...              ko   \n",
       "1171210  /home/ndpower/Data/AI_Hub/025.일상생활 및 구어체 한-영 번...              ko   \n",
       "1009705  /home/ndpower/Data/AI_Hub/025.일상생활 및 구어체 한-영 번...              ko   \n",
       "...                                                    ...             ...   \n",
       "948390   /home/ndpower/Data/AI_Hub/025.일상생활 및 구어체 한-영 번...              ko   \n",
       "124115   /home/ndpower/Data/AI_Hub/025.일상생활 및 구어체 한-영 번...              ko   \n",
       "134283   /home/ndpower/Data/AI_Hub/025.일상생활 및 구어체 한-영 번...              ko   \n",
       "415388   /home/ndpower/Data/AI_Hub/025.일상생활 및 구어체 한-영 번...              ko   \n",
       "698372   /home/ndpower/Data/AI_Hub/025.일상생활 및 구어체 한-영 번...              ko   \n",
       "\n",
       "        target_language  \n",
       "1184507              en  \n",
       "578551               en  \n",
       "373640               en  \n",
       "1171210              en  \n",
       "1009705              en  \n",
       "...                 ...  \n",
       "948390               en  \n",
       "124115               en  \n",
       "134283               en  \n",
       "415388               en  \n",
       "698372               en  \n",
       "\n",
       "[191915 rows x 7 columns]"
      ]
     },
     "execution_count": 72,
     "metadata": {},
     "output_type": "execute_result"
    }
   ],
   "source": [
    "everyday_life_df[everyday_life_df.duplicated(['source','target','file_name'],keep=False)].sort_values(by='source')"
   ]
  },
  {
   "cell_type": "code",
   "execution_count": 74,
   "id": "de51bfb2",
   "metadata": {
    "ExecuteTime": {
     "end_time": "2023-08-22T04:56:12.297229Z",
     "start_time": "2023-08-22T04:56:11.468229Z"
    }
   },
   "outputs": [
    {
     "data": {
      "text/plain": [
       "array(['/home/ndpower/Data/AI_Hub/025.일상생활 및 구어체 한-영 번역 병렬 말뭉치 데이터/01.데이터/1.Training/라벨링데이터/일상생활및구어체_한영_train_set.json',\n",
       "       '/home/ndpower/Data/AI_Hub/025.일상생활 및 구어체 한-영 번역 병렬 말뭉치 데이터/01.데이터/1.Training/라벨링데이터/일상생활및구어체_영한_train_set.json',\n",
       "       '/home/ndpower/Data/AI_Hub/025.일상생활 및 구어체 한-영 번역 병렬 말뭉치 데이터/01.데이터/2.Validation/라벨링데이터/일상생활및구어체_영한_valid_set.json',\n",
       "       '/home/ndpower/Data/AI_Hub/025.일상생활 및 구어체 한-영 번역 병렬 말뭉치 데이터/01.데이터/2.Validation/라벨링데이터/일상생활및구어체_한영_valid_set.json'],\n",
       "      dtype=object)"
      ]
     },
     "execution_count": 74,
     "metadata": {},
     "output_type": "execute_result"
    }
   ],
   "source": [
    "everyday_life_df.file_name.unique()"
   ]
  },
  {
   "cell_type": "code",
   "execution_count": 70,
   "id": "72402695",
   "metadata": {
    "ExecuteTime": {
     "end_time": "2023-08-17T06:55:54.919415Z",
     "start_time": "2023-08-17T06:55:54.425290Z"
    }
   },
   "outputs": [],
   "source": [
    "# duplication_check_df1 = everyday_life_df[everyday_life_df.source_language == 'ko']\n",
    "# duplication_check_df2 = everyday_life_df[everyday_life_df.source_language == 'en']"
   ]
  },
  {
   "cell_type": "code",
   "execution_count": 72,
   "id": "9cfa5e71",
   "metadata": {
    "ExecuteTime": {
     "end_time": "2023-08-17T06:59:21.912835Z",
     "start_time": "2023-08-17T06:59:21.416069Z"
    }
   },
   "outputs": [
    {
     "name": "stderr",
     "output_type": "stream",
     "text": [
      "C:\\Users\\shjo\\AppData\\Local\\Temp\\ipykernel_3420\\1314526914.py:1: SettingWithCopyWarning: \n",
      "A value is trying to be set on a copy of a slice from a DataFrame\n",
      "\n",
      "See the caveats in the documentation: https://pandas.pydata.org/pandas-docs/stable/user_guide/indexing.html#returning-a-view-versus-a-copy\n",
      "  duplication_check_df1.rename(columns = {'source':'ko','target':'en'},inplace=True)\n",
      "C:\\Users\\shjo\\AppData\\Local\\Temp\\ipykernel_3420\\1314526914.py:2: SettingWithCopyWarning: \n",
      "A value is trying to be set on a copy of a slice from a DataFrame\n",
      "\n",
      "See the caveats in the documentation: https://pandas.pydata.org/pandas-docs/stable/user_guide/indexing.html#returning-a-view-versus-a-copy\n",
      "  duplication_check_df2.rename(columns = {'source':'en','target':'ko'},inplace=True)\n"
     ]
    }
   ],
   "source": [
    "# duplication_check_df1.rename(columns = {'source':'ko','target':'en'},inplace=True)\n",
    "# duplication_check_df2.rename(columns = {'source':'en','target':'ko'},inplace=True)"
   ]
  },
  {
   "cell_type": "code",
   "execution_count": 75,
   "id": "89889adf",
   "metadata": {
    "ExecuteTime": {
     "end_time": "2023-08-17T07:01:07.829416Z",
     "start_time": "2023-08-17T07:01:07.673675Z"
    }
   },
   "outputs": [],
   "source": [
    "# duplication_check_df = pd.concat([duplication_check_df1,duplication_check_df2])"
   ]
  },
  {
   "cell_type": "code",
   "execution_count": 38,
   "id": "af714744",
   "metadata": {
    "ExecuteTime": {
     "end_time": "2023-08-21T05:16:06.215874Z",
     "start_time": "2023-08-21T05:16:06.207841Z"
    }
   },
   "outputs": [],
   "source": [
    "# duplication_check_df.duplicated(['ko'])"
   ]
  },
  {
   "cell_type": "markdown",
   "id": "2cccc2c2",
   "metadata": {},
   "source": [
    "### 데어터셋별 기존 분류 파악"
   ]
  },
  {
   "cell_type": "code",
   "execution_count": 10,
   "id": "e21d75d5",
   "metadata": {
    "ExecuteTime": {
     "end_time": "2023-08-18T04:37:15.342225Z",
     "start_time": "2023-08-18T04:37:15.333226Z"
    }
   },
   "outputs": [],
   "source": [
    "def get_mixed_valuecount(df, *columns):\n",
    "    return df.groupby(list(columns)).size().reset_index(name='counts')"
   ]
  },
  {
   "cell_type": "code",
   "execution_count": null,
   "id": "a84616e4",
   "metadata": {},
   "outputs": [],
   "source": [
    "# '일상생활_및_구어체_한-영_번역_병렬_말뭉치_데이터.csv' "
   ]
  },
  {
   "cell_type": "code",
   "execution_count": 17,
   "id": "a4d8d43c",
   "metadata": {
    "ExecuteTime": {
     "end_time": "2023-08-18T04:40:13.951253Z",
     "start_time": "2023-08-18T04:40:13.350077Z"
    }
   },
   "outputs": [
    {
     "data": {
      "text/html": [
       "<div>\n",
       "<style scoped>\n",
       "    .dataframe tbody tr th:only-of-type {\n",
       "        vertical-align: middle;\n",
       "    }\n",
       "\n",
       "    .dataframe tbody tr th {\n",
       "        vertical-align: top;\n",
       "    }\n",
       "\n",
       "    .dataframe thead th {\n",
       "        text-align: right;\n",
       "    }\n",
       "</style>\n",
       "<table border=\"1\" class=\"dataframe\">\n",
       "  <thead>\n",
       "    <tr style=\"text-align: right;\">\n",
       "      <th></th>\n",
       "      <th>domain</th>\n",
       "      <th>subdomain</th>\n",
       "      <th>counts</th>\n",
       "    </tr>\n",
       "  </thead>\n",
       "  <tbody>\n",
       "    <tr>\n",
       "      <th>0</th>\n",
       "      <td>일상생활</td>\n",
       "      <td>구매</td>\n",
       "      <td>180063</td>\n",
       "    </tr>\n",
       "    <tr>\n",
       "      <th>1</th>\n",
       "      <td>일상생활</td>\n",
       "      <td>여행</td>\n",
       "      <td>269839</td>\n",
       "    </tr>\n",
       "    <tr>\n",
       "      <th>2</th>\n",
       "      <td>일상생활</td>\n",
       "      <td>예약</td>\n",
       "      <td>134940</td>\n",
       "    </tr>\n",
       "    <tr>\n",
       "      <th>3</th>\n",
       "      <td>일상생활</td>\n",
       "      <td>음식</td>\n",
       "      <td>314915</td>\n",
       "    </tr>\n",
       "    <tr>\n",
       "      <th>4</th>\n",
       "      <td>해외고객과의채팅</td>\n",
       "      <td>금융,보험</td>\n",
       "      <td>27015</td>\n",
       "    </tr>\n",
       "    <tr>\n",
       "      <th>5</th>\n",
       "      <td>해외고객과의채팅</td>\n",
       "      <td>기계장비,의료정밀</td>\n",
       "      <td>27104</td>\n",
       "    </tr>\n",
       "    <tr>\n",
       "      <th>6</th>\n",
       "      <td>해외고객과의채팅</td>\n",
       "      <td>도소매유통</td>\n",
       "      <td>296899</td>\n",
       "    </tr>\n",
       "    <tr>\n",
       "      <th>7</th>\n",
       "      <td>해외고객과의채팅</td>\n",
       "      <td>부동산</td>\n",
       "      <td>31566</td>\n",
       "    </tr>\n",
       "    <tr>\n",
       "      <th>8</th>\n",
       "      <td>해외고객과의채팅</td>\n",
       "      <td>숙박,음식점</td>\n",
       "      <td>44987</td>\n",
       "    </tr>\n",
       "    <tr>\n",
       "      <th>9</th>\n",
       "      <td>해외고객과의채팅</td>\n",
       "      <td>연구개발,과학기술</td>\n",
       "      <td>54114</td>\n",
       "    </tr>\n",
       "    <tr>\n",
       "      <th>10</th>\n",
       "      <td>해외고객과의채팅</td>\n",
       "      <td>정보통신</td>\n",
       "      <td>58536</td>\n",
       "    </tr>\n",
       "    <tr>\n",
       "      <th>11</th>\n",
       "      <td>해외영업</td>\n",
       "      <td>금융,보험</td>\n",
       "      <td>45084</td>\n",
       "    </tr>\n",
       "    <tr>\n",
       "      <th>12</th>\n",
       "      <td>해외영업</td>\n",
       "      <td>기계장비,의료정밀</td>\n",
       "      <td>62950</td>\n",
       "    </tr>\n",
       "    <tr>\n",
       "      <th>13</th>\n",
       "      <td>해외영업</td>\n",
       "      <td>도소매유통</td>\n",
       "      <td>729080</td>\n",
       "    </tr>\n",
       "    <tr>\n",
       "      <th>14</th>\n",
       "      <td>해외영업</td>\n",
       "      <td>부동산</td>\n",
       "      <td>76540</td>\n",
       "    </tr>\n",
       "    <tr>\n",
       "      <th>15</th>\n",
       "      <td>해외영업</td>\n",
       "      <td>숙박,음식점</td>\n",
       "      <td>89930</td>\n",
       "    </tr>\n",
       "    <tr>\n",
       "      <th>16</th>\n",
       "      <td>해외영업</td>\n",
       "      <td>연구개발,과학기술</td>\n",
       "      <td>126033</td>\n",
       "    </tr>\n",
       "    <tr>\n",
       "      <th>17</th>\n",
       "      <td>해외영업</td>\n",
       "      <td>정보통신</td>\n",
       "      <td>130750</td>\n",
       "    </tr>\n",
       "  </tbody>\n",
       "</table>\n",
       "</div>"
      ],
      "text/plain": [
       "      domain  subdomain  counts\n",
       "0       일상생활         구매  180063\n",
       "1       일상생활         여행  269839\n",
       "2       일상생활         예약  134940\n",
       "3       일상생활         음식  314915\n",
       "4   해외고객과의채팅      금융,보험   27015\n",
       "5   해외고객과의채팅  기계장비,의료정밀   27104\n",
       "6   해외고객과의채팅      도소매유통  296899\n",
       "7   해외고객과의채팅        부동산   31566\n",
       "8   해외고객과의채팅     숙박,음식점   44987\n",
       "9   해외고객과의채팅  연구개발,과학기술   54114\n",
       "10  해외고객과의채팅       정보통신   58536\n",
       "11      해외영업      금융,보험   45084\n",
       "12      해외영업  기계장비,의료정밀   62950\n",
       "13      해외영업      도소매유통  729080\n",
       "14      해외영업        부동산   76540\n",
       "15      해외영업     숙박,음식점   89930\n",
       "16      해외영업  연구개발,과학기술  126033\n",
       "17      해외영업       정보통신  130750"
      ]
     },
     "execution_count": 17,
     "metadata": {},
     "output_type": "execute_result"
    }
   ],
   "source": [
    "df = get_mixed_valuecount(sample_data,'domain','subdomain')\n",
    "df"
   ]
  },
  {
   "cell_type": "code",
   "execution_count": 12,
   "id": "cb045556",
   "metadata": {
    "ExecuteTime": {
     "end_time": "2023-08-18T04:37:34.743319Z",
     "start_time": "2023-08-18T04:37:34.733322Z"
    }
   },
   "outputs": [
    {
     "data": {
      "text/plain": [
       "Index(['sn', 'data_set', 'domain', 'subdomain', 'en_original', 'en', 'mt',\n",
       "       'ko', 'source_language', 'target_language', 'word_count_ko',\n",
       "       'word_count_en', 'word_ratio', 'file_name', 'source', 'license',\n",
       "       'style', 'included_unknown_words', 'ner', 'ko_original'],\n",
       "      dtype='object')"
      ]
     },
     "execution_count": 12,
     "metadata": {},
     "output_type": "execute_result"
    }
   ],
   "source": [
    "sample_data.columns"
   ]
  },
  {
   "cell_type": "code",
   "execution_count": 33,
   "id": "ce11a959",
   "metadata": {
    "ExecuteTime": {
     "end_time": "2023-08-18T06:14:04.305337Z",
     "start_time": "2023-08-18T06:14:04.285372Z"
    }
   },
   "outputs": [
    {
     "data": {
      "text/plain": [
       "Index(['대분류', '소분류', '상황', 'Set Nr.', '발화자', '원문', '번역문'], dtype='object')"
      ]
     },
     "execution_count": 33,
     "metadata": {},
     "output_type": "execute_result"
    }
   ],
   "source": [
    "ko_en_trans_df.columns"
   ]
  },
  {
   "cell_type": "code",
   "execution_count": 36,
   "id": "93ef996d",
   "metadata": {
    "ExecuteTime": {
     "end_time": "2023-08-18T06:15:17.716385Z",
     "start_time": "2023-08-18T06:15:17.693355Z"
    }
   },
   "outputs": [],
   "source": [
    "df = get_mixed_valuecount(ko_en_trans_df,'대분류','소분류')"
   ]
  },
  {
   "cell_type": "code",
   "execution_count": 39,
   "id": "810562e2",
   "metadata": {
    "ExecuteTime": {
     "end_time": "2023-08-18T06:15:52.458954Z",
     "start_time": "2023-08-18T06:15:52.447959Z"
    }
   },
   "outputs": [
    {
     "data": {
      "text/plain": [
       "array(['CS/고객상담', 'IT/컴퓨터', '경영/사무', '관공서/행정업무보는상황', '마케팅/홍보', '무역', '법률',\n",
       "       '부서별', '비즈니스', '사내 일상대화', '영업', '인사관리', '전화업무', '출장', '취직 면접 상황',\n",
       "       '취직면접상황', '컨퍼런스', '회계/재무', '회사', '회사 내', '회식', '회의', '경기관람', '스포츠',\n",
       "       '공항', '관광', '교통', '금융', '긴급 상황', '쇼핑', '숙박', '숙소', '식당', '신발가게',\n",
       "       '엔터테이먼트', '엔터테인먼트', '여행', '온라인 쇼핑', '외식', '음식점', '캠핑', '호텔', '병원',\n",
       "       '약국', '가정', '데이트', '미용', '미용실/스파/뷰티', '미용실/스파/뷰티샵', '병원/약국', '연구실',\n",
       "       '연예', '운동', '인사', '일상', '전화', '집 안', '취미/관심사', '학교'], dtype=object)"
      ]
     },
     "execution_count": 39,
     "metadata": {},
     "output_type": "execute_result"
    }
   ],
   "source": [
    "df[\"소분류\"].unique()"
   ]
  },
  {
   "cell_type": "code",
   "execution_count": 40,
   "id": "0b18846e",
   "metadata": {
    "ExecuteTime": {
     "end_time": "2023-08-18T06:18:14.186690Z",
     "start_time": "2023-08-18T06:18:14.175721Z"
    }
   },
   "outputs": [
    {
     "data": {
      "text/plain": [
       "array(['비즈니스', '스포츠', '여행/쇼핑', '의학', '일상대화'], dtype=object)"
      ]
     },
     "execution_count": 40,
     "metadata": {},
     "output_type": "execute_result"
    }
   ],
   "source": [
    "df[\"대분류\"].unique()"
   ]
  },
  {
   "cell_type": "code",
   "execution_count": 41,
   "id": "a016c0f0",
   "metadata": {
    "ExecuteTime": {
     "end_time": "2023-08-18T06:56:27.690486Z",
     "start_time": "2023-08-18T06:56:27.669488Z"
    }
   },
   "outputs": [
    {
     "data": {
      "text/html": [
       "<div>\n",
       "<style scoped>\n",
       "    .dataframe tbody tr th:only-of-type {\n",
       "        vertical-align: middle;\n",
       "    }\n",
       "\n",
       "    .dataframe tbody tr th {\n",
       "        vertical-align: top;\n",
       "    }\n",
       "\n",
       "    .dataframe thead th {\n",
       "        text-align: right;\n",
       "    }\n",
       "</style>\n",
       "<table border=\"1\" class=\"dataframe\">\n",
       "  <thead>\n",
       "    <tr style=\"text-align: right;\">\n",
       "      <th></th>\n",
       "      <th>대분류</th>\n",
       "      <th>소분류</th>\n",
       "      <th>상황</th>\n",
       "      <th>Set Nr.</th>\n",
       "      <th>발화자</th>\n",
       "      <th>원문</th>\n",
       "      <th>번역문</th>\n",
       "    </tr>\n",
       "  </thead>\n",
       "  <tbody>\n",
       "    <tr>\n",
       "      <th>57844</th>\n",
       "      <td>비즈니스</td>\n",
       "      <td>부서별</td>\n",
       "      <td>인사관리 (입사 및 퇴사하는 상황, 근태 관리 등)</td>\n",
       "      <td>14462</td>\n",
       "      <td>A-1</td>\n",
       "      <td>김 대리 말이야, 요즘 지각이 너무 잦지 않아?</td>\n",
       "      <td>About Assistant Manager Kim, don't you think h...</td>\n",
       "    </tr>\n",
       "    <tr>\n",
       "      <th>57845</th>\n",
       "      <td>비즈니스</td>\n",
       "      <td>부서별</td>\n",
       "      <td>인사관리 (입사 및 퇴사하는 상황, 근태 관리 등)</td>\n",
       "      <td>14462</td>\n",
       "      <td>B-1</td>\n",
       "      <td>마케팅부에 있는 김 대리님 말씀하시는 건가요?</td>\n",
       "      <td>Are you talking about Assistant Manager Kim in...</td>\n",
       "    </tr>\n",
       "    <tr>\n",
       "      <th>57846</th>\n",
       "      <td>비즈니스</td>\n",
       "      <td>부서별</td>\n",
       "      <td>인사관리 (입사 및 퇴사하는 상황, 근태 관리 등)</td>\n",
       "      <td>14462</td>\n",
       "      <td>A-2</td>\n",
       "      <td>그래, 마케팅부 김 대리 말이야, 오늘도 늦게 왔더라고.</td>\n",
       "      <td>Yes, Assistant Manager Kim in marketing, he wa...</td>\n",
       "    </tr>\n",
       "    <tr>\n",
       "      <th>57847</th>\n",
       "      <td>비즈니스</td>\n",
       "      <td>부서별</td>\n",
       "      <td>인사관리 (입사 및 퇴사하는 상황, 근태 관리 등)</td>\n",
       "      <td>14462</td>\n",
       "      <td>B-2</td>\n",
       "      <td>처음 입사했을 때는 성실하더니 왜 그런대요, 무슨 일 있나.</td>\n",
       "      <td>He was diligent when he first joined the compa...</td>\n",
       "    </tr>\n",
       "    <tr>\n",
       "      <th>57848</th>\n",
       "      <td>비즈니스</td>\n",
       "      <td>부서별</td>\n",
       "      <td>인사관리 (입사 및 퇴사하는 상황, 근태 관리 등)</td>\n",
       "      <td>14463</td>\n",
       "      <td>A-1</td>\n",
       "      <td>죄송하지만 집안에 일이 생겨서 이번 주까지만 일을 해야 할 것 같습니다.</td>\n",
       "      <td>I am sorry, but I think I will only be able to...</td>\n",
       "    </tr>\n",
       "    <tr>\n",
       "      <th>...</th>\n",
       "      <td>...</td>\n",
       "      <td>...</td>\n",
       "      <td>...</td>\n",
       "      <td>...</td>\n",
       "      <td>...</td>\n",
       "      <td>...</td>\n",
       "      <td>...</td>\n",
       "    </tr>\n",
       "    <tr>\n",
       "      <th>91975</th>\n",
       "      <td>비즈니스</td>\n",
       "      <td>부서별</td>\n",
       "      <td>지각한 상황</td>\n",
       "      <td>22994</td>\n",
       "      <td>B-2</td>\n",
       "      <td>알았어. 지금 바로 회의 들어가야 하니까 준비하고 회의실로 와.</td>\n",
       "      <td>Okay, we need to head right into a meeting so ...</td>\n",
       "    </tr>\n",
       "    <tr>\n",
       "      <th>91976</th>\n",
       "      <td>비즈니스</td>\n",
       "      <td>부서별</td>\n",
       "      <td>지점으로 물건이 잘 못 배달된 상황</td>\n",
       "      <td>22995</td>\n",
       "      <td>A-1</td>\n",
       "      <td>방금 주문한 물건들 받았는데, 제가 주문한 거랑 다르게 왔어요.</td>\n",
       "      <td>I just received the items that I ordered, but ...</td>\n",
       "    </tr>\n",
       "    <tr>\n",
       "      <th>91977</th>\n",
       "      <td>비즈니스</td>\n",
       "      <td>부서별</td>\n",
       "      <td>지점으로 물건이 잘 못 배달된 상황</td>\n",
       "      <td>22995</td>\n",
       "      <td>B-1</td>\n",
       "      <td>안녕하세요. 지점장님 혹시 거기에 아마 번호나 지점 이름 쓰여 있을 텐데 확인해보셨어요?</td>\n",
       "      <td>Hello branch manager, there should be a number...</td>\n",
       "    </tr>\n",
       "    <tr>\n",
       "      <th>91978</th>\n",
       "      <td>비즈니스</td>\n",
       "      <td>부서별</td>\n",
       "      <td>지점으로 물건이 잘 못 배달된 상황</td>\n",
       "      <td>22995</td>\n",
       "      <td>A-2</td>\n",
       "      <td>네, 확인해봤는데 저희 지점이 아니라 다른 지점으로 되어있네요.</td>\n",
       "      <td>Yes, I checked it and it says the name of a di...</td>\n",
       "    </tr>\n",
       "    <tr>\n",
       "      <th>91979</th>\n",
       "      <td>비즈니스</td>\n",
       "      <td>부서별</td>\n",
       "      <td>지점으로 물건이 잘 못 배달된 상황</td>\n",
       "      <td>22995</td>\n",
       "      <td>B-2</td>\n",
       "      <td>죄송해요. 지점장님 확인해보니까 물류가 바뀐 거 같아요.</td>\n",
       "      <td>I'm sorry branch manager, I checked it and it ...</td>\n",
       "    </tr>\n",
       "  </tbody>\n",
       "</table>\n",
       "<p>9101 rows × 7 columns</p>\n",
       "</div>"
      ],
      "text/plain": [
       "        대분류  소분류                            상황  Set Nr.  발화자  \\\n",
       "57844  비즈니스  부서별  인사관리 (입사 및 퇴사하는 상황, 근태 관리 등)    14462  A-1   \n",
       "57845  비즈니스  부서별  인사관리 (입사 및 퇴사하는 상황, 근태 관리 등)    14462  B-1   \n",
       "57846  비즈니스  부서별  인사관리 (입사 및 퇴사하는 상황, 근태 관리 등)    14462  A-2   \n",
       "57847  비즈니스  부서별  인사관리 (입사 및 퇴사하는 상황, 근태 관리 등)    14462  B-2   \n",
       "57848  비즈니스  부서별  인사관리 (입사 및 퇴사하는 상황, 근태 관리 등)    14463  A-1   \n",
       "...     ...  ...                           ...      ...  ...   \n",
       "91975  비즈니스  부서별                        지각한 상황    22994  B-2   \n",
       "91976  비즈니스  부서별           지점으로 물건이 잘 못 배달된 상황    22995  A-1   \n",
       "91977  비즈니스  부서별           지점으로 물건이 잘 못 배달된 상황    22995  B-1   \n",
       "91978  비즈니스  부서별           지점으로 물건이 잘 못 배달된 상황    22995  A-2   \n",
       "91979  비즈니스  부서별           지점으로 물건이 잘 못 배달된 상황    22995  B-2   \n",
       "\n",
       "                                                      원문  \\\n",
       "57844                         김 대리 말이야, 요즘 지각이 너무 잦지 않아?   \n",
       "57845                          마케팅부에 있는 김 대리님 말씀하시는 건가요?   \n",
       "57846                    그래, 마케팅부 김 대리 말이야, 오늘도 늦게 왔더라고.   \n",
       "57847                  처음 입사했을 때는 성실하더니 왜 그런대요, 무슨 일 있나.   \n",
       "57848           죄송하지만 집안에 일이 생겨서 이번 주까지만 일을 해야 할 것 같습니다.   \n",
       "...                                                  ...   \n",
       "91975                알았어. 지금 바로 회의 들어가야 하니까 준비하고 회의실로 와.   \n",
       "91976                방금 주문한 물건들 받았는데, 제가 주문한 거랑 다르게 왔어요.   \n",
       "91977  안녕하세요. 지점장님 혹시 거기에 아마 번호나 지점 이름 쓰여 있을 텐데 확인해보셨어요?   \n",
       "91978                네, 확인해봤는데 저희 지점이 아니라 다른 지점으로 되어있네요.   \n",
       "91979                    죄송해요. 지점장님 확인해보니까 물류가 바뀐 거 같아요.   \n",
       "\n",
       "                                                     번역문  \n",
       "57844  About Assistant Manager Kim, don't you think h...  \n",
       "57845  Are you talking about Assistant Manager Kim in...  \n",
       "57846  Yes, Assistant Manager Kim in marketing, he wa...  \n",
       "57847  He was diligent when he first joined the compa...  \n",
       "57848  I am sorry, but I think I will only be able to...  \n",
       "...                                                  ...  \n",
       "91975  Okay, we need to head right into a meeting so ...  \n",
       "91976  I just received the items that I ordered, but ...  \n",
       "91977  Hello branch manager, there should be a number...  \n",
       "91978  Yes, I checked it and it says the name of a di...  \n",
       "91979  I'm sorry branch manager, I checked it and it ...  \n",
       "\n",
       "[9101 rows x 7 columns]"
      ]
     },
     "execution_count": 41,
     "metadata": {},
     "output_type": "execute_result"
    }
   ],
   "source": [
    "ko_en_trans_df[ko_en_trans_df['소분류']=='부서별']"
   ]
  },
  {
   "cell_type": "code",
   "execution_count": 79,
   "id": "4df83311",
   "metadata": {
    "ExecuteTime": {
     "end_time": "2023-08-21T07:24:27.975902Z",
     "start_time": "2023-08-21T07:24:27.967901Z"
    }
   },
   "outputs": [],
   "source": [
    "import pandas as pd\n",
    "\n",
    "# Sample DataFrame 'df' with 'source', 'target', 'source_language', 'target_language'\n",
    "data = {\"source\": [\"Hello\", \"안녕하세요\", \"Hello\", \"뭐해\",\"Hello\",\"Hello\"],\n",
    "        \"target\": [\"안녕\", \"Hello\", \"안녕\", \"what are you doing\",\"안녕?\",\"안녕.\"],\n",
    "        \"source_language\": [\"en\", \"ko\", \"en\", \"ko\",\"en\",\"en\"],\n",
    "        \"target_language\": [\"ko\", \"en\", \"ko\", \"en\",\"ko\",\"ko\"]}\n",
    "\n",
    "df = pd.DataFrame(data)"
   ]
  },
  {
   "cell_type": "code",
   "execution_count": 74,
   "id": "855eef77",
   "metadata": {
    "ExecuteTime": {
     "end_time": "2023-08-21T07:12:16.012529Z",
     "start_time": "2023-08-21T07:12:15.998530Z"
    }
   },
   "outputs": [
    {
     "data": {
      "text/html": [
       "<div>\n",
       "<style scoped>\n",
       "    .dataframe tbody tr th:only-of-type {\n",
       "        vertical-align: middle;\n",
       "    }\n",
       "\n",
       "    .dataframe tbody tr th {\n",
       "        vertical-align: top;\n",
       "    }\n",
       "\n",
       "    .dataframe thead th {\n",
       "        text-align: right;\n",
       "    }\n",
       "</style>\n",
       "<table border=\"1\" class=\"dataframe\">\n",
       "  <thead>\n",
       "    <tr style=\"text-align: right;\">\n",
       "      <th></th>\n",
       "      <th>source</th>\n",
       "      <th>target</th>\n",
       "      <th>source_language</th>\n",
       "      <th>target_language</th>\n",
       "    </tr>\n",
       "  </thead>\n",
       "  <tbody>\n",
       "    <tr>\n",
       "      <th>0</th>\n",
       "      <td>Hello</td>\n",
       "      <td>안녕</td>\n",
       "      <td>en</td>\n",
       "      <td>ko</td>\n",
       "    </tr>\n",
       "    <tr>\n",
       "      <th>1</th>\n",
       "      <td>안녕하세요</td>\n",
       "      <td>Hello</td>\n",
       "      <td>ko</td>\n",
       "      <td>en</td>\n",
       "    </tr>\n",
       "    <tr>\n",
       "      <th>2</th>\n",
       "      <td>Hello</td>\n",
       "      <td>안녕</td>\n",
       "      <td>en</td>\n",
       "      <td>ko</td>\n",
       "    </tr>\n",
       "    <tr>\n",
       "      <th>3</th>\n",
       "      <td>뭐해</td>\n",
       "      <td>what are you doing</td>\n",
       "      <td>ko</td>\n",
       "      <td>en</td>\n",
       "    </tr>\n",
       "    <tr>\n",
       "      <th>4</th>\n",
       "      <td>Hello</td>\n",
       "      <td>안녕?</td>\n",
       "      <td>en</td>\n",
       "      <td>ko</td>\n",
       "    </tr>\n",
       "    <tr>\n",
       "      <th>5</th>\n",
       "      <td>Hello</td>\n",
       "      <td>안녕.</td>\n",
       "      <td>en</td>\n",
       "      <td>ko</td>\n",
       "    </tr>\n",
       "  </tbody>\n",
       "</table>\n",
       "</div>"
      ],
      "text/plain": [
       "  source              target source_language target_language\n",
       "0  Hello                  안녕              en              ko\n",
       "1  안녕하세요               Hello              ko              en\n",
       "2  Hello                  안녕              en              ko\n",
       "3     뭐해  what are you doing              ko              en\n",
       "4  Hello                 안녕?              en              ko\n",
       "5  Hello                 안녕.              en              ko"
      ]
     },
     "execution_count": 74,
     "metadata": {},
     "output_type": "execute_result"
    }
   ],
   "source": [
    "df"
   ]
  },
  {
   "cell_type": "code",
   "execution_count": null,
   "id": "56e83317",
   "metadata": {},
   "outputs": [],
   "source": [
    "data = {\"source\": [\"Hello\", \"안녕하세요\", \"Hello\", \"뭐해\"],\n",
    "        \"target\": [\"안녕\", \"Hello\", \"안녕\", \"what are you doing\"],\n",
    "        \"source_language\": [\"en\", \"ko\", \"en\", \"ko\"],\n",
    "        \"target_language\": [\"ko\", \"en\", \"ko\", \"en\"]\n",
    "       \"ko\":[\"안녕\",\"안녕하세요\",\"안녕\",\"뭐해\"]\n",
    "       \"en\":[\"Hello\", \"Hello\", \"Hello\", \"what are you doing\"]}"
   ]
  },
  {
   "cell_type": "code",
   "execution_count": 36,
   "id": "ab14a0c9",
   "metadata": {
    "ExecuteTime": {
     "end_time": "2023-08-21T03:59:19.744890Z",
     "start_time": "2023-08-21T03:59:19.727900Z"
    }
   },
   "outputs": [],
   "source": [
    "def rearrange_values(row):\n",
    "    if row['source_language'] == 'ko':\n",
    "        return row['source'], row['target']\n",
    "    else:\n",
    "        return row['target'], row['source']\n",
    "df['ko'],df['en'] = zip(*df.apply(rearrange_values, axis=1))"
   ]
  },
  {
   "cell_type": "code",
   "execution_count": 42,
   "id": "afe765c0",
   "metadata": {
    "ExecuteTime": {
     "end_time": "2023-08-21T05:51:13.321443Z",
     "start_time": "2023-08-21T05:51:13.298445Z"
    }
   },
   "outputs": [
    {
     "data": {
      "text/html": [
       "<div>\n",
       "<style scoped>\n",
       "    .dataframe tbody tr th:only-of-type {\n",
       "        vertical-align: middle;\n",
       "    }\n",
       "\n",
       "    .dataframe tbody tr th {\n",
       "        vertical-align: top;\n",
       "    }\n",
       "\n",
       "    .dataframe thead th {\n",
       "        text-align: right;\n",
       "    }\n",
       "</style>\n",
       "<table border=\"1\" class=\"dataframe\">\n",
       "  <thead>\n",
       "    <tr style=\"text-align: right;\">\n",
       "      <th></th>\n",
       "      <th>source</th>\n",
       "      <th>target</th>\n",
       "      <th>source_language</th>\n",
       "      <th>target_language</th>\n",
       "      <th>ko</th>\n",
       "      <th>en</th>\n",
       "    </tr>\n",
       "  </thead>\n",
       "  <tbody>\n",
       "    <tr>\n",
       "      <th>0</th>\n",
       "      <td>Hello</td>\n",
       "      <td>안녕</td>\n",
       "      <td>en</td>\n",
       "      <td>ko</td>\n",
       "      <td>안녕</td>\n",
       "      <td>Hello</td>\n",
       "    </tr>\n",
       "    <tr>\n",
       "      <th>1</th>\n",
       "      <td>안녕하세요</td>\n",
       "      <td>Hello</td>\n",
       "      <td>ko</td>\n",
       "      <td>en</td>\n",
       "      <td>안녕하세요</td>\n",
       "      <td>Hello</td>\n",
       "    </tr>\n",
       "    <tr>\n",
       "      <th>2</th>\n",
       "      <td>Hello</td>\n",
       "      <td>안녕</td>\n",
       "      <td>en</td>\n",
       "      <td>ko</td>\n",
       "      <td>안녕</td>\n",
       "      <td>Hello</td>\n",
       "    </tr>\n",
       "    <tr>\n",
       "      <th>3</th>\n",
       "      <td>뭐해</td>\n",
       "      <td>what are you doing</td>\n",
       "      <td>ko</td>\n",
       "      <td>en</td>\n",
       "      <td>뭐해</td>\n",
       "      <td>what are you doing</td>\n",
       "    </tr>\n",
       "  </tbody>\n",
       "</table>\n",
       "</div>"
      ],
      "text/plain": [
       "  source              target source_language target_language     ko  \\\n",
       "0  Hello                  안녕              en              ko     안녕   \n",
       "1  안녕하세요               Hello              ko              en  안녕하세요   \n",
       "2  Hello                  안녕              en              ko     안녕   \n",
       "3     뭐해  what are you doing              ko              en     뭐해   \n",
       "\n",
       "                   en  \n",
       "0               Hello  \n",
       "1               Hello  \n",
       "2               Hello  \n",
       "3  what are you doing  "
      ]
     },
     "execution_count": 42,
     "metadata": {},
     "output_type": "execute_result"
    }
   ],
   "source": [
    "df"
   ]
  },
  {
   "cell_type": "code",
   "execution_count": 48,
   "id": "c2a31587",
   "metadata": {
    "ExecuteTime": {
     "end_time": "2023-08-21T05:55:10.727214Z",
     "start_time": "2023-08-21T05:55:10.708216Z"
    }
   },
   "outputs": [
    {
     "data": {
      "text/plain": [
       "0    False\n",
       "1    False\n",
       "2    False\n",
       "3    False\n",
       "4     True\n",
       "dtype: bool"
      ]
     },
     "execution_count": 48,
     "metadata": {},
     "output_type": "execute_result"
    }
   ],
   "source": [
    "df['source'].duplicated(keep=False) & ~df['target'].duplicated(keep=False)"
   ]
  },
  {
   "cell_type": "code",
   "execution_count": 60,
   "id": "374b953d",
   "metadata": {
    "ExecuteTime": {
     "end_time": "2023-08-21T06:34:22.136872Z",
     "start_time": "2023-08-21T06:34:22.122879Z"
    }
   },
   "outputs": [
    {
     "data": {
      "text/plain": [
       "0     True\n",
       "1    False\n",
       "2     True\n",
       "3    False\n",
       "4     True\n",
       "Name: source, dtype: bool"
      ]
     },
     "execution_count": 60,
     "metadata": {},
     "output_type": "execute_result"
    }
   ],
   "source": [
    "df['source'].duplicated(keep=False)"
   ]
  },
  {
   "cell_type": "code",
   "execution_count": 7,
   "id": "8f1fb855",
   "metadata": {
    "ExecuteTime": {
     "end_time": "2023-08-23T06:16:19.132809Z",
     "start_time": "2023-08-23T06:16:19.123812Z"
    }
   },
   "outputs": [],
   "source": [
    "# sample_data[sample_data.duplicated(['ko','en'],keep=False)].sort_values(by='ko')"
   ]
  },
  {
   "cell_type": "code",
   "execution_count": 8,
   "id": "a98db225",
   "metadata": {
    "ExecuteTime": {
     "end_time": "2023-08-23T06:16:24.348969Z",
     "start_time": "2023-08-23T06:16:24.313978Z"
    }
   },
   "outputs": [
    {
     "data": {
      "text/html": [
       "<div>\n",
       "<style scoped>\n",
       "    .dataframe tbody tr th:only-of-type {\n",
       "        vertical-align: middle;\n",
       "    }\n",
       "\n",
       "    .dataframe tbody tr th {\n",
       "        vertical-align: top;\n",
       "    }\n",
       "\n",
       "    .dataframe thead th {\n",
       "        text-align: right;\n",
       "    }\n",
       "</style>\n",
       "<table border=\"1\" class=\"dataframe\">\n",
       "  <thead>\n",
       "    <tr style=\"text-align: right;\">\n",
       "      <th></th>\n",
       "      <th>sn</th>\n",
       "      <th>data_set</th>\n",
       "      <th>source</th>\n",
       "      <th>target</th>\n",
       "      <th>file_name</th>\n",
       "      <th>source_language</th>\n",
       "      <th>target_language</th>\n",
       "    </tr>\n",
       "  </thead>\n",
       "  <tbody>\n",
       "    <tr>\n",
       "      <th>0</th>\n",
       "      <td>ex_x_000049</td>\n",
       "      <td>방송콘텐츠_한국어-영어_번역_말뭉치</td>\n",
       "      <td>그렇기 때문에, 그것은 열을 많이 만들어 내는 한약재로 쓰입니다</td>\n",
       "      <td>Therefore, it is used as a herbal medicine tha...</td>\n",
       "      <td>./01.데이터/Training/02.라벨링데이터/TL_한국어-다국어_koen_교양...</td>\n",
       "      <td>ko</td>\n",
       "      <td>en</td>\n",
       "    </tr>\n",
       "    <tr>\n",
       "      <th>1</th>\n",
       "      <td>ex_x_000058</td>\n",
       "      <td>방송콘텐츠_한국어-영어_번역_말뭉치</td>\n",
       "      <td>나는 이곳의 순댓국이 아주 깔끔하고 맛있다는 것을 확인할 수 있었습니다.</td>\n",
       "      <td>I was able to confirm that the sundae soup her...</td>\n",
       "      <td>./01.데이터/Training/02.라벨링데이터/TL_한국어-다국어_koen_교양...</td>\n",
       "      <td>ko</td>\n",
       "      <td>en</td>\n",
       "    </tr>\n",
       "    <tr>\n",
       "      <th>2</th>\n",
       "      <td>ex_x_083705</td>\n",
       "      <td>방송콘텐츠_한국어-영어_번역_말뭉치</td>\n",
       "      <td>TV를 통해서 앞으로 안 끝나기만 바라던 프로그램이었거든요.</td>\n",
       "      <td>It was a program that I hoped would not end in...</td>\n",
       "      <td>./01.데이터/Training/02.라벨링데이터/TL_한국어-다국어_koen_교양...</td>\n",
       "      <td>ko</td>\n",
       "      <td>en</td>\n",
       "    </tr>\n",
       "    <tr>\n",
       "      <th>3</th>\n",
       "      <td>ex_x_111681</td>\n",
       "      <td>방송콘텐츠_한국어-영어_번역_말뭉치</td>\n",
       "      <td>PD님, 여기를 간다고요?</td>\n",
       "      <td>Producer, we're going here?</td>\n",
       "      <td>./01.데이터/Training/02.라벨링데이터/TL_한국어-다국어_koen_교양...</td>\n",
       "      <td>ko</td>\n",
       "      <td>en</td>\n",
       "    </tr>\n",
       "    <tr>\n",
       "      <th>4</th>\n",
       "      <td>ex_x_111698</td>\n",
       "      <td>방송콘텐츠_한국어-영어_번역_말뭉치</td>\n",
       "      <td>지하 암반수가 풍부한 광명동굴에서 만날 수 있는 Aqua World가 있습니다.</td>\n",
       "      <td>There is Aqua World, which can be found in Gwa...</td>\n",
       "      <td>./01.데이터/Training/02.라벨링데이터/TL_한국어-다국어_koen_교양...</td>\n",
       "      <td>ko</td>\n",
       "      <td>en</td>\n",
       "    </tr>\n",
       "    <tr>\n",
       "      <th>...</th>\n",
       "      <td>...</td>\n",
       "      <td>...</td>\n",
       "      <td>...</td>\n",
       "      <td>...</td>\n",
       "      <td>...</td>\n",
       "      <td>...</td>\n",
       "      <td>...</td>\n",
       "    </tr>\n",
       "    <tr>\n",
       "      <th>587079</th>\n",
       "      <td>md_151372</td>\n",
       "      <td>방송콘텐츠_한국어-영어_번역_말뭉치</td>\n",
       "      <td>But the good deed was not as easy to implement...</td>\n",
       "      <td>그러나 그 선행은 그 아가씨가 상상했던 것만큼 실행하기가 쉽지 않았다.</td>\n",
       "      <td>./01.데이터/Validation/02.라벨링데이터/VL_다국어-한국어_enko_...</td>\n",
       "      <td>en</td>\n",
       "      <td>ko</td>\n",
       "    </tr>\n",
       "    <tr>\n",
       "      <th>587080</th>\n",
       "      <td>md_151382</td>\n",
       "      <td>방송콘텐츠_한국어-영어_번역_말뭉치</td>\n",
       "      <td>However, your encouragement may already be too...</td>\n",
       "      <td>하지만, 여러분의 격려가 이미 그에게 너무 늦었을 수도 있습니다.</td>\n",
       "      <td>./01.데이터/Validation/02.라벨링데이터/VL_다국어-한국어_enko_...</td>\n",
       "      <td>en</td>\n",
       "      <td>ko</td>\n",
       "    </tr>\n",
       "    <tr>\n",
       "      <th>587081</th>\n",
       "      <td>md_151392</td>\n",
       "      <td>방송콘텐츠_한국어-영어_번역_말뭉치</td>\n",
       "      <td>A teenager is sent to a Catholic school where ...</td>\n",
       "      <td>한 십대 소녀가 적응하는데 어려움을 겪는 가톨릭 학교로 보내진다.</td>\n",
       "      <td>./01.데이터/Validation/02.라벨링데이터/VL_다국어-한국어_enko_...</td>\n",
       "      <td>en</td>\n",
       "      <td>ko</td>\n",
       "    </tr>\n",
       "    <tr>\n",
       "      <th>587082</th>\n",
       "      <td>md_151402</td>\n",
       "      <td>방송콘텐츠_한국어-영어_번역_말뭉치</td>\n",
       "      <td>Floyd is a skunk himself and wants to convince...</td>\n",
       "      <td>플로이드는 그 자신이 스컹크이며 스컹크가 쓰레기가 아니라는 것을 사회를 설득하고 싶...</td>\n",
       "      <td>./01.데이터/Validation/02.라벨링데이터/VL_다국어-한국어_enko_...</td>\n",
       "      <td>en</td>\n",
       "      <td>ko</td>\n",
       "    </tr>\n",
       "    <tr>\n",
       "      <th>587083</th>\n",
       "      <td>md_151412</td>\n",
       "      <td>방송콘텐츠_한국어-영어_번역_말뭉치</td>\n",
       "      <td>Women in Javanese culture had only one purpose...</td>\n",
       "      <td>자바 문화에서 여성들은 왕족 혈통의 남자의 신부가 되는 단 하나의 목적을 가지고 있었다.</td>\n",
       "      <td>./01.데이터/Validation/02.라벨링데이터/VL_다국어-한국어_enko_...</td>\n",
       "      <td>en</td>\n",
       "      <td>ko</td>\n",
       "    </tr>\n",
       "  </tbody>\n",
       "</table>\n",
       "<p>587084 rows × 7 columns</p>\n",
       "</div>"
      ],
      "text/plain": [
       "                 sn             data_set  \\\n",
       "0       ex_x_000049  방송콘텐츠_한국어-영어_번역_말뭉치   \n",
       "1       ex_x_000058  방송콘텐츠_한국어-영어_번역_말뭉치   \n",
       "2       ex_x_083705  방송콘텐츠_한국어-영어_번역_말뭉치   \n",
       "3       ex_x_111681  방송콘텐츠_한국어-영어_번역_말뭉치   \n",
       "4       ex_x_111698  방송콘텐츠_한국어-영어_번역_말뭉치   \n",
       "...             ...                  ...   \n",
       "587079    md_151372  방송콘텐츠_한국어-영어_번역_말뭉치   \n",
       "587080    md_151382  방송콘텐츠_한국어-영어_번역_말뭉치   \n",
       "587081    md_151392  방송콘텐츠_한국어-영어_번역_말뭉치   \n",
       "587082    md_151402  방송콘텐츠_한국어-영어_번역_말뭉치   \n",
       "587083    md_151412  방송콘텐츠_한국어-영어_번역_말뭉치   \n",
       "\n",
       "                                                   source  \\\n",
       "0                     그렇기 때문에, 그것은 열을 많이 만들어 내는 한약재로 쓰입니다   \n",
       "1                나는 이곳의 순댓국이 아주 깔끔하고 맛있다는 것을 확인할 수 있었습니다.   \n",
       "2                       TV를 통해서 앞으로 안 끝나기만 바라던 프로그램이었거든요.   \n",
       "3                                          PD님, 여기를 간다고요?   \n",
       "4            지하 암반수가 풍부한 광명동굴에서 만날 수 있는 Aqua World가 있습니다.   \n",
       "...                                                   ...   \n",
       "587079  But the good deed was not as easy to implement...   \n",
       "587080  However, your encouragement may already be too...   \n",
       "587081  A teenager is sent to a Catholic school where ...   \n",
       "587082  Floyd is a skunk himself and wants to convince...   \n",
       "587083  Women in Javanese culture had only one purpose...   \n",
       "\n",
       "                                                   target  \\\n",
       "0       Therefore, it is used as a herbal medicine tha...   \n",
       "1       I was able to confirm that the sundae soup her...   \n",
       "2       It was a program that I hoped would not end in...   \n",
       "3                             Producer, we're going here?   \n",
       "4       There is Aqua World, which can be found in Gwa...   \n",
       "...                                                   ...   \n",
       "587079            그러나 그 선행은 그 아가씨가 상상했던 것만큼 실행하기가 쉽지 않았다.   \n",
       "587080               하지만, 여러분의 격려가 이미 그에게 너무 늦었을 수도 있습니다.   \n",
       "587081               한 십대 소녀가 적응하는데 어려움을 겪는 가톨릭 학교로 보내진다.   \n",
       "587082  플로이드는 그 자신이 스컹크이며 스컹크가 쓰레기가 아니라는 것을 사회를 설득하고 싶...   \n",
       "587083  자바 문화에서 여성들은 왕족 혈통의 남자의 신부가 되는 단 하나의 목적을 가지고 있었다.   \n",
       "\n",
       "                                                file_name source_language  \\\n",
       "0       ./01.데이터/Training/02.라벨링데이터/TL_한국어-다국어_koen_교양...              ko   \n",
       "1       ./01.데이터/Training/02.라벨링데이터/TL_한국어-다국어_koen_교양...              ko   \n",
       "2       ./01.데이터/Training/02.라벨링데이터/TL_한국어-다국어_koen_교양...              ko   \n",
       "3       ./01.데이터/Training/02.라벨링데이터/TL_한국어-다국어_koen_교양...              ko   \n",
       "4       ./01.데이터/Training/02.라벨링데이터/TL_한국어-다국어_koen_교양...              ko   \n",
       "...                                                   ...             ...   \n",
       "587079  ./01.데이터/Validation/02.라벨링데이터/VL_다국어-한국어_enko_...              en   \n",
       "587080  ./01.데이터/Validation/02.라벨링데이터/VL_다국어-한국어_enko_...              en   \n",
       "587081  ./01.데이터/Validation/02.라벨링데이터/VL_다국어-한국어_enko_...              en   \n",
       "587082  ./01.데이터/Validation/02.라벨링데이터/VL_다국어-한국어_enko_...              en   \n",
       "587083  ./01.데이터/Validation/02.라벨링데이터/VL_다국어-한국어_enko_...              en   \n",
       "\n",
       "       target_language  \n",
       "0                   en  \n",
       "1                   en  \n",
       "2                   en  \n",
       "3                   en  \n",
       "4                   en  \n",
       "...                ...  \n",
       "587079              ko  \n",
       "587080              ko  \n",
       "587081              ko  \n",
       "587082              ko  \n",
       "587083              ko  \n",
       "\n",
       "[587084 rows x 7 columns]"
      ]
     },
     "execution_count": 8,
     "metadata": {},
     "output_type": "execute_result"
    }
   ],
   "source": [
    "contents_df"
   ]
  },
  {
   "cell_type": "markdown",
   "id": "65968db4",
   "metadata": {},
   "source": [
    "### 인용문"
   ]
  },
  {
   "cell_type": "markdown",
   "id": "7a706cff",
   "metadata": {},
   "source": [
    "#### 따옴표 포함 문장 Count & 추출"
   ]
  },
  {
   "cell_type": "code",
   "execution_count": 9,
   "id": "16abd2c2",
   "metadata": {
    "ExecuteTime": {
     "end_time": "2023-08-23T06:22:15.795413Z",
     "start_time": "2023-08-23T06:22:15.771420Z"
    }
   },
   "outputs": [
    {
     "name": "stdout",
     "output_type": "stream",
     "text": [
      "                    sentences  contains_'  contains_\"  contains_,  contains_ \n",
      "0  This is a normal sentence.       False       False       False        True\n",
      "1    She said, 'Hello there!'        True       False        True        True\n",
      "2           He replied, \"Hi!\"       False        True        True        True\n",
      "3   This is another sentence.       False       False       False        True\n"
     ]
    }
   ],
   "source": [
    "import pandas as pd\n",
    "\n",
    "# Sample DataFrame 'df' with 'sentences' column\n",
    "data = {\"sentences\": [\"This is a normal sentence.\",\n",
    "                      \"She said, 'Hello there!'\",\n",
    "                      'He replied, \"Hi!\"',\n",
    "                      \"This is another sentence.\"]}\n",
    "df = pd.DataFrame(data)\n",
    "\n",
    "# Define a list of characters to check for (single quote, double quote, comma, space)\n",
    "special_characters = [\"'\", '\"', ',', ' ']\n",
    "\n",
    "# Create a new column 'contains_quote' to indicate if the sentence contains special characters\n",
    "for char in special_characters:\n",
    "    df[f'contains_{char}'] = df['sentences'].str.contains(char)\n",
    "\n",
    "# Show the DataFrame with the new columns\n",
    "print(df)"
   ]
  },
  {
   "cell_type": "code",
   "execution_count": 8,
   "id": "f9b658be",
   "metadata": {
    "ExecuteTime": {
     "end_time": "2023-09-12T01:09:24.084417Z",
     "start_time": "2023-09-12T01:09:24.065418Z"
    }
   },
   "outputs": [],
   "source": [
    "import re\n",
    "import pandas as pd\n",
    "\n",
    "# 기호 체크\n",
    "def contains_quote(s):\n",
    "    pattern = r\"'[^']*'\"\n",
    "    return bool(re.search(pattern, s))\n",
    "\n",
    "def contains_double_quote(s):\n",
    "    pattern = r'\"[^\"]*\"'\n",
    "    return bool(re.search(pattern, s))\n",
    "\n",
    "# 기호 체크시 true 값인 경우 해당 문장 반환\n",
    "def contains_quote_sentence(s):\n",
    "    pattern = r\"'[^']*'\"\n",
    "    return re.findall(pattern, s)\n",
    "\n",
    "def contains_double_quote_sentence(s):\n",
    "    pattern = r'\"[^\"]*\"'\n",
    "    return re.findall(pattern, s)\n",
    "\n",
    "# 기호 체크 및 확인 데이터프레임 생성(분석 및 통계치 위함)\n",
    "def quotation_check(df):\n",
    "    contains_quote_list = []\n",
    "    contains_double_quote_list = []\n",
    "    contains_quote_check = []\n",
    "    contains_double_quote_check = []\n",
    "    quotation_check_df = pd.DataFrame()\n",
    "    df['ko'],df['en'] = zip(*df.apply(rearrange_values, axis=1)) # 한국어만 시행하기 위한 함수, rearrange_values는 위 쪽에 있음\n",
    "    # 따옴표 '', \"\" 로 통일, 기호 수정\n",
    "    replacements = {'\\u201C': '\\\"',\n",
    "               '\\u201D': '\\\"',\n",
    "               '\\u2018': '\\'',\n",
    "               '\\u2019': '\\''}\n",
    "    for old, new in replacements.items():\n",
    "        df['ko'] = df['ko'].str.replace(old, new)\n",
    "\n",
    "    for text in df['ko']:\n",
    "        contains_quote_check.append(contains_quote(text))\n",
    "        contains_double_quote_check.append(contains_double_quote(text))\n",
    "        if contains_quote(text) is True :\n",
    "            contains_quote_list.append(contains_quote_sentence(text))\n",
    "        else:\n",
    "            contains_quote_list.append([])\n",
    "        if contains_double_quote(text) is True :\n",
    "            contains_double_quote_list.append(contains_double_quote_sentence(text))\n",
    "        else:\n",
    "            contains_double_quote_list.append([])\n",
    "    \n",
    "    quotation_check_df['quote_check'] = contains_quote_check\n",
    "    quotation_check_df['double_quote_check'] = contains_double_quote_check \n",
    "    quotation_check_df['quote_list'] = contains_quote_list\n",
    "    quotation_check_df['double_quote_list'] = contains_double_quote_list\n",
    "    quotation_check_df['sentence'] = df['ko']\n",
    "    df.drop(['ko', 'en'], axis=1, inplace=True)       \n",
    "    \n",
    "    return quotation_check_df"
   ]
  },
  {
   "cell_type": "code",
   "execution_count": 71,
   "id": "ef1044a8",
   "metadata": {
    "ExecuteTime": {
     "end_time": "2023-08-29T04:37:36.709539Z",
     "start_time": "2023-08-29T04:34:48.664252Z"
    }
   },
   "outputs": [
    {
     "name": "stdout",
     "output_type": "stream",
     "text": [
      "utterance_type_df\n",
      "작은따옴표 수 : 674\n",
      "큰따옴표 수 : 439\n",
      "작은, 큰 따옴표 모두 존재 수 : 14\n",
      "-----------------------------\n",
      "specialty_df\n",
      "작은따옴표 수 : 144631\n",
      "큰따옴표 수 : 79145\n",
      "작은, 큰 따옴표 모두 존재 수 : 5524\n",
      "-----------------------------\n",
      "ko_en_trans_df\n",
      "작은따옴표 수 : 118989\n",
      "큰따옴표 수 : 111187\n",
      "작은, 큰 따옴표 모두 존재 수 : 7407\n",
      "-----------------------------\n",
      "everyday_life_df\n",
      "작은따옴표 수 : 2396\n",
      "큰따옴표 수 : 3907\n",
      "작은, 큰 따옴표 모두 존재 수 : 10\n",
      "-----------------------------\n",
      "science_df\n",
      "작은따옴표 수 : 66758\n",
      "큰따옴표 수 : 99259\n",
      "작은, 큰 따옴표 모두 존재 수 : 5502\n",
      "-----------------------------\n",
      "food_df\n",
      "작은따옴표 수 : 5210\n",
      "큰따옴표 수 : 11062\n",
      "작은, 큰 따옴표 모두 존재 수 : 55\n",
      "-----------------------------\n",
      "contents_df\n",
      "작은따옴표 수 : 10827\n",
      "큰따옴표 수 : 74\n",
      "작은, 큰 따옴표 모두 존재 수 : 0\n",
      "-----------------------------\n"
     ]
    }
   ],
   "source": [
    "for df in dataset_list:\n",
    "    check_df = quotation_check(df)\n",
    "    print(df.Name)\n",
    "    print(\"작은따옴표 수 :\", check_df.quote_check.sum())\n",
    "    print(\"큰따옴표 수 :\", check_df.double_quote_check.sum())\n",
    "    print(\"작은, 큰 따옴표 모두 존재 수 :\",len(check_df[(check_df.quote_check == True) & (check_df.double_quote_check == True)]))\n",
    "    print('-----------------------------')"
   ]
  },
  {
   "cell_type": "code",
   "execution_count": 16,
   "id": "19b4d169",
   "metadata": {
    "ExecuteTime": {
     "end_time": "2023-08-25T02:06:00.672156Z",
     "start_time": "2023-08-25T02:05:14.888991Z"
    }
   },
   "outputs": [],
   "source": [
    "check_df = quotation_check(everyday_life_df)"
   ]
  },
  {
   "cell_type": "code",
   "execution_count": 17,
   "id": "4415cd18",
   "metadata": {
    "ExecuteTime": {
     "end_time": "2023-08-25T02:06:09.878761Z",
     "start_time": "2023-08-25T02:06:09.545306Z"
    }
   },
   "outputs": [
    {
     "data": {
      "text/html": [
       "<div>\n",
       "<style scoped>\n",
       "    .dataframe tbody tr th:only-of-type {\n",
       "        vertical-align: middle;\n",
       "    }\n",
       "\n",
       "    .dataframe tbody tr th {\n",
       "        vertical-align: top;\n",
       "    }\n",
       "\n",
       "    .dataframe thead th {\n",
       "        text-align: right;\n",
       "    }\n",
       "</style>\n",
       "<table border=\"1\" class=\"dataframe\">\n",
       "  <thead>\n",
       "    <tr style=\"text-align: right;\">\n",
       "      <th></th>\n",
       "      <th>quote_check</th>\n",
       "      <th>double_quote_check</th>\n",
       "      <th>quote_list</th>\n",
       "      <th>double_quote_list</th>\n",
       "      <th>sentence</th>\n",
       "    </tr>\n",
       "  </thead>\n",
       "  <tbody>\n",
       "    <tr>\n",
       "      <th>49335</th>\n",
       "      <td>True</td>\n",
       "      <td>True</td>\n",
       "      <td>['A']</td>\n",
       "      <td>[\"대리점\"]</td>\n",
       "      <td>안녕하세요! 'A'. 저는 \"대리점\"에 대해 이야기하고 싶습니다.</td>\n",
       "    </tr>\n",
       "    <tr>\n",
       "      <th>158259</th>\n",
       "      <td>True</td>\n",
       "      <td>True</td>\n",
       "      <td>['정부 ID']</td>\n",
       "      <td>[\"대리점\"]</td>\n",
       "      <td>\"대리점\"을 이용하려면 '정부 ID'와 5개의 호수를 제출해야 합니다.</td>\n",
       "    </tr>\n",
       "    <tr>\n",
       "      <th>380513</th>\n",
       "      <td>True</td>\n",
       "      <td>True</td>\n",
       "      <td>['로봇과 함께 찍기']</td>\n",
       "      <td>[\"저와 함께 사진 찍을 준비 되셨나요?\"]</td>\n",
       "      <td>화면에서 '로봇과 함께 찍기'를 선택하면 안내로봇이 \"저와 함께 사진 찍을 준비 되...</td>\n",
       "    </tr>\n",
       "    <tr>\n",
       "      <th>536306</th>\n",
       "      <td>True</td>\n",
       "      <td>True</td>\n",
       "      <td>['환경지킴이']</td>\n",
       "      <td>[\"오존층의 중요성\"]</td>\n",
       "      <td>교수님, 내일 저녁 7시에 저희 '환경지킴이' 동호회에서 \"오존층의 중요성\"에 대하...</td>\n",
       "    </tr>\n",
       "    <tr>\n",
       "      <th>858899</th>\n",
       "      <td>True</td>\n",
       "      <td>True</td>\n",
       "      <td>['곰']</td>\n",
       "      <td>[\"고음\"]</td>\n",
       "      <td>\"고음\"은 기름진 음식이고 그 말이 줄어서 '곰'인데 여기에 국이라는 글자를 붙인 ...</td>\n",
       "    </tr>\n",
       "    <tr>\n",
       "      <th>881399</th>\n",
       "      <td>True</td>\n",
       "      <td>True</td>\n",
       "      <td>['환경을 생각한 포장 원칙']</td>\n",
       "      <td>[\"BBB\"]</td>\n",
       "      <td>인간과 자연이 공존하는 지속가능한 지구를 위해 \"BBB\"식품은 바른먹거리 전 제품에...</td>\n",
       "    </tr>\n",
       "    <tr>\n",
       "      <th>945969</th>\n",
       "      <td>True</td>\n",
       "      <td>True</td>\n",
       "      <td>['4Less']</td>\n",
       "      <td>[\"FFF\"]</td>\n",
       "      <td>\"FFF\"케어는 의무기록 차트, 전표, 필름 , 종이가 없는 이른바 '4Less'를...</td>\n",
       "    </tr>\n",
       "    <tr>\n",
       "      <th>963987</th>\n",
       "      <td>True</td>\n",
       "      <td>True</td>\n",
       "      <td>['홈 라이프', '재택 근무']</td>\n",
       "      <td>[\"FFF 모니터가 '홈 라이프', '재택 근무' 시대에 OTT(Over The T...</td>\n",
       "      <td>트러스티드 리뷰는 \"FFF 모니터가 '홈 라이프', '재택 근무' 시대에 OTT(O...</td>\n",
       "    </tr>\n",
       "    <tr>\n",
       "      <th>1266365</th>\n",
       "      <td>True</td>\n",
       "      <td>True</td>\n",
       "      <td>['바위와 유형']</td>\n",
       "      <td>[\"AAA2, 너는 '바위와 유형'이라는 주제로 우리를 가르쳐야 해, 그리고 나는 ...</td>\n",
       "      <td>\"AAA2, 너는 '바위와 유형'이라는 주제로 우리를 가르쳐야 해, 그리고 나는 네...</td>\n",
       "    </tr>\n",
       "    <tr>\n",
       "      <th>2618523</th>\n",
       "      <td>True</td>\n",
       "      <td>True</td>\n",
       "      <td>['4Less']</td>\n",
       "      <td>[\"FFF\"]</td>\n",
       "      <td>\"FFF\"케어는 의무기록 차트, 전표, 필름 , 종이가 없는 이른바 '4Less'를...</td>\n",
       "    </tr>\n",
       "  </tbody>\n",
       "</table>\n",
       "</div>"
      ],
      "text/plain": [
       "         quote_check  double_quote_check          quote_list  \\\n",
       "49335           True                True               ['A']   \n",
       "158259          True                True           ['정부 ID']   \n",
       "380513          True                True       ['로봇과 함께 찍기']   \n",
       "536306          True                True           ['환경지킴이']   \n",
       "858899          True                True               ['곰']   \n",
       "881399          True                True   ['환경을 생각한 포장 원칙']   \n",
       "945969          True                True           ['4Less']   \n",
       "963987          True                True  ['홈 라이프', '재택 근무']   \n",
       "1266365         True                True          ['바위와 유형']   \n",
       "2618523         True                True           ['4Less']   \n",
       "\n",
       "                                         double_quote_list  \\\n",
       "49335                                              [\"대리점\"]   \n",
       "158259                                             [\"대리점\"]   \n",
       "380513                            [\"저와 함께 사진 찍을 준비 되셨나요?\"]   \n",
       "536306                                        [\"오존층의 중요성\"]   \n",
       "858899                                              [\"고음\"]   \n",
       "881399                                             [\"BBB\"]   \n",
       "945969                                             [\"FFF\"]   \n",
       "963987   [\"FFF 모니터가 '홈 라이프', '재택 근무' 시대에 OTT(Over The T...   \n",
       "1266365  [\"AAA2, 너는 '바위와 유형'이라는 주제로 우리를 가르쳐야 해, 그리고 나는 ...   \n",
       "2618523                                            [\"FFF\"]   \n",
       "\n",
       "                                                  sentence  \n",
       "49335                 안녕하세요! 'A'. 저는 \"대리점\"에 대해 이야기하고 싶습니다.  \n",
       "158259             \"대리점\"을 이용하려면 '정부 ID'와 5개의 호수를 제출해야 합니다.  \n",
       "380513   화면에서 '로봇과 함께 찍기'를 선택하면 안내로봇이 \"저와 함께 사진 찍을 준비 되...  \n",
       "536306   교수님, 내일 저녁 7시에 저희 '환경지킴이' 동호회에서 \"오존층의 중요성\"에 대하...  \n",
       "858899   \"고음\"은 기름진 음식이고 그 말이 줄어서 '곰'인데 여기에 국이라는 글자를 붙인 ...  \n",
       "881399   인간과 자연이 공존하는 지속가능한 지구를 위해 \"BBB\"식품은 바른먹거리 전 제품에...  \n",
       "945969   \"FFF\"케어는 의무기록 차트, 전표, 필름 , 종이가 없는 이른바 '4Less'를...  \n",
       "963987   트러스티드 리뷰는 \"FFF 모니터가 '홈 라이프', '재택 근무' 시대에 OTT(O...  \n",
       "1266365  \"AAA2, 너는 '바위와 유형'이라는 주제로 우리를 가르쳐야 해, 그리고 나는 네...  \n",
       "2618523  \"FFF\"케어는 의무기록 차트, 전표, 필름 , 종이가 없는 이른바 '4Less'를...  "
      ]
     },
     "execution_count": 17,
     "metadata": {},
     "output_type": "execute_result"
    }
   ],
   "source": [
    "check_df[(check_df.quote_check == True) & (check_df.double_quote_check == True)]"
   ]
  },
  {
   "cell_type": "code",
   "execution_count": 21,
   "id": "56e757f6",
   "metadata": {
    "ExecuteTime": {
     "end_time": "2023-08-25T03:17:25.946121Z",
     "start_time": "2023-08-25T03:17:25.935146Z"
    }
   },
   "outputs": [
    {
     "data": {
      "text/plain": [
       "'\"AAA2, 너는 \\'바위와 유형\\'이라는 주제로 우리를 가르쳐야 해, 그리고 나는 네가 발표할 때 다양한 유형의 암석 샘플을 가지고 수업을 진행했으면 좋겠어.\"'"
      ]
     },
     "execution_count": 21,
     "metadata": {},
     "output_type": "execute_result"
    }
   ],
   "source": [
    "check_df.iloc[1266365,4]"
   ]
  },
  {
   "cell_type": "code",
   "execution_count": 86,
   "id": "2821f138",
   "metadata": {
    "ExecuteTime": {
     "end_time": "2023-08-24T06:00:26.221368Z",
     "start_time": "2023-08-24T06:00:26.196343Z"
    }
   },
   "outputs": [
    {
     "data": {
      "text/html": [
       "<div>\n",
       "<style scoped>\n",
       "    .dataframe tbody tr th:only-of-type {\n",
       "        vertical-align: middle;\n",
       "    }\n",
       "\n",
       "    .dataframe tbody tr th {\n",
       "        vertical-align: top;\n",
       "    }\n",
       "\n",
       "    .dataframe thead th {\n",
       "        text-align: right;\n",
       "    }\n",
       "</style>\n",
       "<table border=\"1\" class=\"dataframe\">\n",
       "  <thead>\n",
       "    <tr style=\"text-align: right;\">\n",
       "      <th></th>\n",
       "      <th>quote_check</th>\n",
       "      <th>double_quote_check</th>\n",
       "      <th>quote_list</th>\n",
       "      <th>double_quote_list</th>\n",
       "      <th>sentence</th>\n",
       "    </tr>\n",
       "  </thead>\n",
       "  <tbody>\n",
       "    <tr>\n",
       "      <th>947</th>\n",
       "      <td>True</td>\n",
       "      <td>False</td>\n",
       "      <td>['대부']</td>\n",
       "      <td>None</td>\n",
       "      <td>'대부'는 큰 남자를 의미합니다.</td>\n",
       "    </tr>\n",
       "    <tr>\n",
       "      <th>2806</th>\n",
       "      <td>True</td>\n",
       "      <td>False</td>\n",
       "      <td>['그게 무슨 소리단가? 저이의 가장 친한 친구는 나였어.']</td>\n",
       "      <td>None</td>\n",
       "      <td>'그게 무슨 소리단가? 저이의 가장 친한 친구는 나였어.'라고 말한다.</td>\n",
       "    </tr>\n",
       "    <tr>\n",
       "      <th>2807</th>\n",
       "      <td>True</td>\n",
       "      <td>False</td>\n",
       "      <td>['나 당장 일본으로 돌아가서 조선인들을 변호해야 되겠다.']</td>\n",
       "      <td>None</td>\n",
       "      <td>'나 당장 일본으로 돌아가서 조선인들을 변호해야 되겠다.'하면서 울분을 터뜨리고 했...</td>\n",
       "    </tr>\n",
       "    <tr>\n",
       "      <th>2808</th>\n",
       "      <td>True</td>\n",
       "      <td>False</td>\n",
       "      <td>['아우, 김홍도는 잘생겼다.', '멋있다.']</td>\n",
       "      <td>None</td>\n",
       "      <td>'아우, 김홍도는 잘생겼다.', '멋있다.'는 말에 대한 진실을 좀 우리가 알아야 ...</td>\n",
       "    </tr>\n",
       "    <tr>\n",
       "      <th>2809</th>\n",
       "      <td>True</td>\n",
       "      <td>False</td>\n",
       "      <td>['어이, 거기에 왜 자네가 나서는가? 상여꾼은 내가 해야지.']</td>\n",
       "      <td>None</td>\n",
       "      <td>'어이, 거기에 왜 자네가 나서는가? 상여꾼은 내가 해야지.'라고 말한다.</td>\n",
       "    </tr>\n",
       "    <tr>\n",
       "      <th>...</th>\n",
       "      <td>...</td>\n",
       "      <td>...</td>\n",
       "      <td>...</td>\n",
       "      <td>...</td>\n",
       "      <td>...</td>\n",
       "    </tr>\n",
       "    <tr>\n",
       "      <th>586940</th>\n",
       "      <td>True</td>\n",
       "      <td>False</td>\n",
       "      <td>['Mr. X']</td>\n",
       "      <td>None</td>\n",
       "      <td>1958년에 유제프 흐멜니츠키(Józef Khmelnitsky) 'Mr. X'가 감...</td>\n",
       "    </tr>\n",
       "    <tr>\n",
       "      <th>586951</th>\n",
       "      <td>True</td>\n",
       "      <td>False</td>\n",
       "      <td>['특별한']</td>\n",
       "      <td>None</td>\n",
       "      <td>우리와 우리 영화 만의 '특별한' 요소들은 우리가 우연히 주워듣고, 우리가 작가들로...</td>\n",
       "    </tr>\n",
       "    <tr>\n",
       "      <th>586980</th>\n",
       "      <td>True</td>\n",
       "      <td>False</td>\n",
       "      <td>['미네랄 워터와 치유 공기로 치료']</td>\n",
       "      <td>None</td>\n",
       "      <td>1921년 소련에서 온 최초의 근로자 그룹이 '미네랄 워터와 치유 공기로 치료'하기...</td>\n",
       "    </tr>\n",
       "    <tr>\n",
       "      <th>587015</th>\n",
       "      <td>True</td>\n",
       "      <td>False</td>\n",
       "      <td>['포크(folk)', '위너(Winner)', '레인보우(Rainbow)', '(...</td>\n",
       "      <td>None</td>\n",
       "      <td>30년 넘게 '포크(folk)'라는 이름의 그룹이 있었는데, 이 그룹은 베테랑 합창...</td>\n",
       "    </tr>\n",
       "    <tr>\n",
       "      <th>587025</th>\n",
       "      <td>True</td>\n",
       "      <td>False</td>\n",
       "      <td>['Proposal']</td>\n",
       "      <td>None</td>\n",
       "      <td>'Proposal' 이후 피어스는 강한 남자들과 교체하지 않고 힐코트, 이스트우드와...</td>\n",
       "    </tr>\n",
       "  </tbody>\n",
       "</table>\n",
       "<p>10504 rows × 5 columns</p>\n",
       "</div>"
      ],
      "text/plain": [
       "        quote_check  double_quote_check  \\\n",
       "947            True               False   \n",
       "2806           True               False   \n",
       "2807           True               False   \n",
       "2808           True               False   \n",
       "2809           True               False   \n",
       "...             ...                 ...   \n",
       "586940         True               False   \n",
       "586951         True               False   \n",
       "586980         True               False   \n",
       "587015         True               False   \n",
       "587025         True               False   \n",
       "\n",
       "                                               quote_list double_quote_list  \\\n",
       "947                                                ['대부']              None   \n",
       "2806                   ['그게 무슨 소리단가? 저이의 가장 친한 친구는 나였어.']              None   \n",
       "2807                   ['나 당장 일본으로 돌아가서 조선인들을 변호해야 되겠다.']              None   \n",
       "2808                           ['아우, 김홍도는 잘생겼다.', '멋있다.']              None   \n",
       "2809                 ['어이, 거기에 왜 자네가 나서는가? 상여꾼은 내가 해야지.']              None   \n",
       "...                                                   ...               ...   \n",
       "586940                                          ['Mr. X']              None   \n",
       "586951                                            ['특별한']              None   \n",
       "586980                              ['미네랄 워터와 치유 공기로 치료']              None   \n",
       "587015  ['포크(folk)', '위너(Winner)', '레인보우(Rainbow)', '(...              None   \n",
       "587025                                       ['Proposal']              None   \n",
       "\n",
       "                                                 sentence  \n",
       "947                                    '대부'는 큰 남자를 의미합니다.  \n",
       "2806              '그게 무슨 소리단가? 저이의 가장 친한 친구는 나였어.'라고 말한다.  \n",
       "2807    '나 당장 일본으로 돌아가서 조선인들을 변호해야 되겠다.'하면서 울분을 터뜨리고 했...  \n",
       "2808    '아우, 김홍도는 잘생겼다.', '멋있다.'는 말에 대한 진실을 좀 우리가 알아야 ...  \n",
       "2809            '어이, 거기에 왜 자네가 나서는가? 상여꾼은 내가 해야지.'라고 말한다.  \n",
       "...                                                   ...  \n",
       "586940  1958년에 유제프 흐멜니츠키(Józef Khmelnitsky) 'Mr. X'가 감...  \n",
       "586951  우리와 우리 영화 만의 '특별한' 요소들은 우리가 우연히 주워듣고, 우리가 작가들로...  \n",
       "586980  1921년 소련에서 온 최초의 근로자 그룹이 '미네랄 워터와 치유 공기로 치료'하기...  \n",
       "587015  30년 넘게 '포크(folk)'라는 이름의 그룹이 있었는데, 이 그룹은 베테랑 합창...  \n",
       "587025  'Proposal' 이후 피어스는 강한 남자들과 교체하지 않고 힐코트, 이스트우드와...  \n",
       "\n",
       "[10504 rows x 5 columns]"
      ]
     },
     "execution_count": 86,
     "metadata": {},
     "output_type": "execute_result"
    }
   ],
   "source": [
    "check_df[check_df.quote_check == True]"
   ]
  },
  {
   "cell_type": "code",
   "execution_count": 102,
   "id": "18f0d6ed",
   "metadata": {
    "ExecuteTime": {
     "end_time": "2023-08-24T07:22:40.714577Z",
     "start_time": "2023-08-24T07:22:39.724803Z"
    }
   },
   "outputs": [],
   "source": [
    "check_df['quote_count'] = check_df.quote_list.apply(len)\n",
    "check_df['double_quote_count'] = check_df.double_quote_list.apply(len)"
   ]
  },
  {
   "cell_type": "code",
   "execution_count": 108,
   "id": "e50680a5",
   "metadata": {
    "ExecuteTime": {
     "end_time": "2023-08-24T07:50:11.035003Z",
     "start_time": "2023-08-24T07:50:11.005855Z"
    }
   },
   "outputs": [
    {
     "data": {
      "text/html": [
       "<div>\n",
       "<style scoped>\n",
       "    .dataframe tbody tr th:only-of-type {\n",
       "        vertical-align: middle;\n",
       "    }\n",
       "\n",
       "    .dataframe tbody tr th {\n",
       "        vertical-align: top;\n",
       "    }\n",
       "\n",
       "    .dataframe thead th {\n",
       "        text-align: right;\n",
       "    }\n",
       "</style>\n",
       "<table border=\"1\" class=\"dataframe\">\n",
       "  <thead>\n",
       "    <tr style=\"text-align: right;\">\n",
       "      <th></th>\n",
       "      <th>quote_check</th>\n",
       "      <th>double_quote_check</th>\n",
       "      <th>quote_list</th>\n",
       "      <th>double_quote_list</th>\n",
       "      <th>sentence</th>\n",
       "      <th>quote_count</th>\n",
       "      <th>double_quote_count</th>\n",
       "    </tr>\n",
       "  </thead>\n",
       "  <tbody>\n",
       "    <tr>\n",
       "      <th>1891956</th>\n",
       "      <td>False</td>\n",
       "      <td>True</td>\n",
       "      <td>[]</td>\n",
       "      <td>[\"Hello\", \"kamusta\", \"goodbye\", \"paalam\"]</td>\n",
       "      <td>\"Hello\"는 \"kamusta\"이고, \"goodbye\"는 \"paalam\"입니다.</td>\n",
       "      <td>0</td>\n",
       "      <td>4</td>\n",
       "    </tr>\n",
       "    <tr>\n",
       "      <th>1892711</th>\n",
       "      <td>False</td>\n",
       "      <td>True</td>\n",
       "      <td>[]</td>\n",
       "      <td>[\"V\", \"F\", \"W\", \"V\"]</td>\n",
       "      <td>\"V\"는 \"F\"로 발음되고, \"W\"는 \"V\"로 발음 돼.</td>\n",
       "      <td>0</td>\n",
       "      <td>4</td>\n",
       "    </tr>\n",
       "    <tr>\n",
       "      <th>1892068</th>\n",
       "      <td>False</td>\n",
       "      <td>True</td>\n",
       "      <td>[]</td>\n",
       "      <td>[\"고마워요\", \"dankeschon\", \"부탁해요\", \"비뜨\"]</td>\n",
       "      <td>\"고마워요\"는 \"dankeschon\"이고, \"부탁해요\"는 \"비뜨\"입니다.</td>\n",
       "      <td>0</td>\n",
       "      <td>4</td>\n",
       "    </tr>\n",
       "    <tr>\n",
       "      <th>1891965</th>\n",
       "      <td>False</td>\n",
       "      <td>True</td>\n",
       "      <td>[]</td>\n",
       "      <td>[\"고마워요\", \"salamat\", \"천만에요\", \"walang anuman.\"]</td>\n",
       "      <td>\"고마워요\"는 \"salamat\"이고, \"천만에요\"는 \"walang anuman.\"입니다.</td>\n",
       "      <td>0</td>\n",
       "      <td>4</td>\n",
       "    </tr>\n",
       "    <tr>\n",
       "      <th>1891934</th>\n",
       "      <td>False</td>\n",
       "      <td>True</td>\n",
       "      <td>[]</td>\n",
       "      <td>[\"네\", \"Taip\", \"아니오\", \"Ne\"]</td>\n",
       "      <td>\"네\"는 \"Taip\"이고, \"아니오\"는 \"Ne\"입니다.</td>\n",
       "      <td>0</td>\n",
       "      <td>4</td>\n",
       "    </tr>\n",
       "    <tr>\n",
       "      <th>...</th>\n",
       "      <td>...</td>\n",
       "      <td>...</td>\n",
       "      <td>...</td>\n",
       "      <td>...</td>\n",
       "      <td>...</td>\n",
       "      <td>...</td>\n",
       "      <td>...</td>\n",
       "    </tr>\n",
       "    <tr>\n",
       "      <th>346435</th>\n",
       "      <td>False</td>\n",
       "      <td>True</td>\n",
       "      <td>[]</td>\n",
       "      <td>[\"보온\", \"소테\", \"슬로우 쿡\"]</td>\n",
       "      <td>쿠커를 \"보온\" 모드로 할 때, 또한 \"소테\"와 \"슬로우 쿡\" 프로그램을 사용할 때...</td>\n",
       "      <td>0</td>\n",
       "      <td>3</td>\n",
       "    </tr>\n",
       "    <tr>\n",
       "      <th>608485</th>\n",
       "      <td>False</td>\n",
       "      <td>True</td>\n",
       "      <td>[]</td>\n",
       "      <td>[\"FFF1\", \"FFF2\", \"FFF3\", \"BBB\"]</td>\n",
       "      <td>특히 \"FFF1\", \"FFF2\", \"FFF3\" 등 최고의 파트너들이 있었기에 오늘날...</td>\n",
       "      <td>0</td>\n",
       "      <td>4</td>\n",
       "    </tr>\n",
       "    <tr>\n",
       "      <th>2681926</th>\n",
       "      <td>False</td>\n",
       "      <td>True</td>\n",
       "      <td>[]</td>\n",
       "      <td>[\"FFF1\", \"FFF2\", \"FFF3\", \"BBB\"]</td>\n",
       "      <td>특히 \"FFF1\", \"FFF2\", \"FFF3\" 등 최고의 파트너들이 있었기에 오늘날...</td>\n",
       "      <td>0</td>\n",
       "      <td>4</td>\n",
       "    </tr>\n",
       "    <tr>\n",
       "      <th>657352</th>\n",
       "      <td>False</td>\n",
       "      <td>True</td>\n",
       "      <td>[]</td>\n",
       "      <td>[\"BBB1\", \"BBB2\", \"BBB3\", \"BBB4\"]</td>\n",
       "      <td>현재 지원 가능한 은행은 \"BBB1\", \"BBB2\", \"BBB3\", \"BBB4\" 등...</td>\n",
       "      <td>0</td>\n",
       "      <td>4</td>\n",
       "    </tr>\n",
       "    <tr>\n",
       "      <th>1891469</th>\n",
       "      <td>False</td>\n",
       "      <td>True</td>\n",
       "      <td>[]</td>\n",
       "      <td>[\"작은\", \"노란색\", \"추한\", \"빨간색\"]</td>\n",
       "      <td>형용사 예시는 \"작은\", \"노란색\", \"추한\" 및 \"빨간색\"입니다.</td>\n",
       "      <td>0</td>\n",
       "      <td>4</td>\n",
       "    </tr>\n",
       "  </tbody>\n",
       "</table>\n",
       "<p>65 rows × 7 columns</p>\n",
       "</div>"
      ],
      "text/plain": [
       "         quote_check  double_quote_check quote_list  \\\n",
       "1891956        False                True         []   \n",
       "1892711        False                True         []   \n",
       "1892068        False                True         []   \n",
       "1891965        False                True         []   \n",
       "1891934        False                True         []   \n",
       "...              ...                 ...        ...   \n",
       "346435         False                True         []   \n",
       "608485         False                True         []   \n",
       "2681926        False                True         []   \n",
       "657352         False                True         []   \n",
       "1891469        False                True         []   \n",
       "\n",
       "                                     double_quote_list  \\\n",
       "1891956      [\"Hello\", \"kamusta\", \"goodbye\", \"paalam\"]   \n",
       "1892711                           [\"V\", \"F\", \"W\", \"V\"]   \n",
       "1892068           [\"고마워요\", \"dankeschon\", \"부탁해요\", \"비뜨\"]   \n",
       "1891965  [\"고마워요\", \"salamat\", \"천만에요\", \"walang anuman.\"]   \n",
       "1891934                     [\"네\", \"Taip\", \"아니오\", \"Ne\"]   \n",
       "...                                                ...   \n",
       "346435                           [\"보온\", \"소테\", \"슬로우 쿡\"]   \n",
       "608485                 [\"FFF1\", \"FFF2\", \"FFF3\", \"BBB\"]   \n",
       "2681926                [\"FFF1\", \"FFF2\", \"FFF3\", \"BBB\"]   \n",
       "657352                [\"BBB1\", \"BBB2\", \"BBB3\", \"BBB4\"]   \n",
       "1891469                     [\"작은\", \"노란색\", \"추한\", \"빨간색\"]   \n",
       "\n",
       "                                                  sentence  quote_count  \\\n",
       "1891956      \"Hello\"는 \"kamusta\"이고, \"goodbye\"는 \"paalam\"입니다.            0   \n",
       "1892711                    \"V\"는 \"F\"로 발음되고, \"W\"는 \"V\"로 발음 돼.            0   \n",
       "1892068           \"고마워요\"는 \"dankeschon\"이고, \"부탁해요\"는 \"비뜨\"입니다.            0   \n",
       "1891965  \"고마워요\"는 \"salamat\"이고, \"천만에요\"는 \"walang anuman.\"입니다.            0   \n",
       "1891934                     \"네\"는 \"Taip\"이고, \"아니오\"는 \"Ne\"입니다.            0   \n",
       "...                                                    ...          ...   \n",
       "346435   쿠커를 \"보온\" 모드로 할 때, 또한 \"소테\"와 \"슬로우 쿡\" 프로그램을 사용할 때...            0   \n",
       "608485   특히 \"FFF1\", \"FFF2\", \"FFF3\" 등 최고의 파트너들이 있었기에 오늘날...            0   \n",
       "2681926  특히 \"FFF1\", \"FFF2\", \"FFF3\" 등 최고의 파트너들이 있었기에 오늘날...            0   \n",
       "657352   현재 지원 가능한 은행은 \"BBB1\", \"BBB2\", \"BBB3\", \"BBB4\" 등...            0   \n",
       "1891469              형용사 예시는 \"작은\", \"노란색\", \"추한\" 및 \"빨간색\"입니다.            0   \n",
       "\n",
       "         double_quote_count  \n",
       "1891956                   4  \n",
       "1892711                   4  \n",
       "1892068                   4  \n",
       "1891965                   4  \n",
       "1891934                   4  \n",
       "...                     ...  \n",
       "346435                    3  \n",
       "608485                    4  \n",
       "2681926                   4  \n",
       "657352                    4  \n",
       "1891469                   4  \n",
       "\n",
       "[65 rows x 7 columns]"
      ]
     },
     "execution_count": 108,
     "metadata": {},
     "output_type": "execute_result"
    }
   ],
   "source": [
    "check_df[check_df.double_quote_count>2].sort_values(by='sentence')"
   ]
  },
  {
   "cell_type": "code",
   "execution_count": 107,
   "id": "f995670e",
   "metadata": {
    "ExecuteTime": {
     "end_time": "2023-08-24T07:31:27.119369Z",
     "start_time": "2023-08-24T07:31:27.108347Z"
    }
   },
   "outputs": [
    {
     "data": {
      "text/plain": [
       "'\"AAA\"\"\" 초등학교 근처에 상가 공실이 있나요?'"
      ]
     },
     "execution_count": 107,
     "metadata": {},
     "output_type": "execute_result"
    }
   ],
   "source": [
    "check_df.iloc[750577,4]"
   ]
  },
  {
   "cell_type": "code",
   "execution_count": 94,
   "id": "fc51a541",
   "metadata": {
    "ExecuteTime": {
     "end_time": "2023-08-24T06:58:28.399449Z",
     "start_time": "2023-08-24T06:58:28.379429Z"
    }
   },
   "outputs": [],
   "source": [
    "test = check_df[check_df.quote_check == True]"
   ]
  },
  {
   "cell_type": "code",
   "execution_count": 99,
   "id": "58104574",
   "metadata": {
    "ExecuteTime": {
     "end_time": "2023-08-24T07:03:04.475973Z",
     "start_time": "2023-08-24T07:03:04.460000Z"
    }
   },
   "outputs": [
    {
     "data": {
      "text/plain": [
       "0"
      ]
     },
     "execution_count": 99,
     "metadata": {},
     "output_type": "execute_result"
    }
   ],
   "source": [
    "test = []\n",
    "len(test)"
   ]
  },
  {
   "cell_type": "code",
   "execution_count": null,
   "id": "1760f980",
   "metadata": {},
   "outputs": [],
   "source": []
  },
  {
   "cell_type": "code",
   "execution_count": null,
   "id": "1ce9cfad",
   "metadata": {},
   "outputs": [],
   "source": []
  },
  {
   "cell_type": "code",
   "execution_count": null,
   "id": "f45b4722",
   "metadata": {},
   "outputs": [],
   "source": []
  },
  {
   "cell_type": "code",
   "execution_count": 83,
   "id": "139200bc",
   "metadata": {
    "ExecuteTime": {
     "end_time": "2023-08-24T04:55:57.524273Z",
     "start_time": "2023-08-24T04:55:57.506277Z"
    }
   },
   "outputs": [
    {
     "data": {
      "text/plain": [
       "['\"AAA2, 너는 \\'바위와 유형\\'이라는 주제로 우리를 가르쳐야 해, 그리고 나는 네가 발표할 때 다양한 유형의 암석 샘플을 가지고 수업을 진행했으면 좋겠어.\"']"
      ]
     },
     "execution_count": 83,
     "metadata": {},
     "output_type": "execute_result"
    }
   ],
   "source": [
    "check_df.iloc[1266365,3]"
   ]
  },
  {
   "cell_type": "code",
   "execution_count": 93,
   "id": "5c9fe04f",
   "metadata": {
    "ExecuteTime": {
     "end_time": "2023-08-24T06:54:59.630264Z",
     "start_time": "2023-08-24T06:54:59.621277Z"
    }
   },
   "outputs": [
    {
     "data": {
      "text/html": [
       "<div>\n",
       "<style scoped>\n",
       "    .dataframe tbody tr th:only-of-type {\n",
       "        vertical-align: middle;\n",
       "    }\n",
       "\n",
       "    .dataframe tbody tr th {\n",
       "        vertical-align: top;\n",
       "    }\n",
       "\n",
       "    .dataframe thead th {\n",
       "        text-align: right;\n",
       "    }\n",
       "</style>\n",
       "<table border=\"1\" class=\"dataframe\">\n",
       "  <thead>\n",
       "    <tr style=\"text-align: right;\">\n",
       "      <th></th>\n",
       "      <th>quote_check</th>\n",
       "      <th>double_quote_check</th>\n",
       "      <th>quote_list</th>\n",
       "      <th>double_quote_list</th>\n",
       "      <th>sentence</th>\n",
       "      <th>count</th>\n",
       "    </tr>\n",
       "  </thead>\n",
       "  <tbody>\n",
       "    <tr>\n",
       "      <th>0</th>\n",
       "      <td>False</td>\n",
       "      <td>False</td>\n",
       "      <td>None</td>\n",
       "      <td>None</td>\n",
       "      <td>그렇기 때문에, 그것은 열을 많이 만들어 내는 한약재로 쓰입니다</td>\n",
       "      <td>1</td>\n",
       "    </tr>\n",
       "    <tr>\n",
       "      <th>1</th>\n",
       "      <td>False</td>\n",
       "      <td>False</td>\n",
       "      <td>None</td>\n",
       "      <td>None</td>\n",
       "      <td>나는 이곳의 순댓국이 아주 깔끔하고 맛있다는 것을 확인할 수 있었습니다.</td>\n",
       "      <td>1</td>\n",
       "    </tr>\n",
       "    <tr>\n",
       "      <th>2</th>\n",
       "      <td>False</td>\n",
       "      <td>False</td>\n",
       "      <td>None</td>\n",
       "      <td>None</td>\n",
       "      <td>TV를 통해서 앞으로 안 끝나기만 바라던 프로그램이었거든요.</td>\n",
       "      <td>1</td>\n",
       "    </tr>\n",
       "    <tr>\n",
       "      <th>3</th>\n",
       "      <td>False</td>\n",
       "      <td>False</td>\n",
       "      <td>None</td>\n",
       "      <td>None</td>\n",
       "      <td>PD님, 여기를 간다고요?</td>\n",
       "      <td>1</td>\n",
       "    </tr>\n",
       "    <tr>\n",
       "      <th>4</th>\n",
       "      <td>False</td>\n",
       "      <td>False</td>\n",
       "      <td>None</td>\n",
       "      <td>None</td>\n",
       "      <td>지하 암반수가 풍부한 광명동굴에서 만날 수 있는 Aqua World가 있습니다.</td>\n",
       "      <td>1</td>\n",
       "    </tr>\n",
       "    <tr>\n",
       "      <th>...</th>\n",
       "      <td>...</td>\n",
       "      <td>...</td>\n",
       "      <td>...</td>\n",
       "      <td>...</td>\n",
       "      <td>...</td>\n",
       "      <td>...</td>\n",
       "    </tr>\n",
       "    <tr>\n",
       "      <th>587079</th>\n",
       "      <td>False</td>\n",
       "      <td>False</td>\n",
       "      <td>None</td>\n",
       "      <td>None</td>\n",
       "      <td>그러나 그 선행은 그 아가씨가 상상했던 것만큼 실행하기가 쉽지 않았다.</td>\n",
       "      <td>1</td>\n",
       "    </tr>\n",
       "    <tr>\n",
       "      <th>587080</th>\n",
       "      <td>False</td>\n",
       "      <td>False</td>\n",
       "      <td>None</td>\n",
       "      <td>None</td>\n",
       "      <td>하지만, 여러분의 격려가 이미 그에게 너무 늦었을 수도 있습니다.</td>\n",
       "      <td>1</td>\n",
       "    </tr>\n",
       "    <tr>\n",
       "      <th>587081</th>\n",
       "      <td>False</td>\n",
       "      <td>False</td>\n",
       "      <td>None</td>\n",
       "      <td>None</td>\n",
       "      <td>한 십대 소녀가 적응하는데 어려움을 겪는 가톨릭 학교로 보내진다.</td>\n",
       "      <td>1</td>\n",
       "    </tr>\n",
       "    <tr>\n",
       "      <th>587082</th>\n",
       "      <td>False</td>\n",
       "      <td>False</td>\n",
       "      <td>None</td>\n",
       "      <td>None</td>\n",
       "      <td>플로이드는 그 자신이 스컹크이며 스컹크가 쓰레기가 아니라는 것을 사회를 설득하고 싶...</td>\n",
       "      <td>1</td>\n",
       "    </tr>\n",
       "    <tr>\n",
       "      <th>587083</th>\n",
       "      <td>False</td>\n",
       "      <td>False</td>\n",
       "      <td>None</td>\n",
       "      <td>None</td>\n",
       "      <td>자바 문화에서 여성들은 왕족 혈통의 남자의 신부가 되는 단 하나의 목적을 가지고 있었다.</td>\n",
       "      <td>1</td>\n",
       "    </tr>\n",
       "  </tbody>\n",
       "</table>\n",
       "<p>587084 rows × 6 columns</p>\n",
       "</div>"
      ],
      "text/plain": [
       "        quote_check  double_quote_check quote_list double_quote_list  \\\n",
       "0             False               False       None              None   \n",
       "1             False               False       None              None   \n",
       "2             False               False       None              None   \n",
       "3             False               False       None              None   \n",
       "4             False               False       None              None   \n",
       "...             ...                 ...        ...               ...   \n",
       "587079        False               False       None              None   \n",
       "587080        False               False       None              None   \n",
       "587081        False               False       None              None   \n",
       "587082        False               False       None              None   \n",
       "587083        False               False       None              None   \n",
       "\n",
       "                                                 sentence  count  \n",
       "0                     그렇기 때문에, 그것은 열을 많이 만들어 내는 한약재로 쓰입니다      1  \n",
       "1                나는 이곳의 순댓국이 아주 깔끔하고 맛있다는 것을 확인할 수 있었습니다.      1  \n",
       "2                       TV를 통해서 앞으로 안 끝나기만 바라던 프로그램이었거든요.      1  \n",
       "3                                          PD님, 여기를 간다고요?      1  \n",
       "4            지하 암반수가 풍부한 광명동굴에서 만날 수 있는 Aqua World가 있습니다.      1  \n",
       "...                                                   ...    ...  \n",
       "587079            그러나 그 선행은 그 아가씨가 상상했던 것만큼 실행하기가 쉽지 않았다.      1  \n",
       "587080               하지만, 여러분의 격려가 이미 그에게 너무 늦었을 수도 있습니다.      1  \n",
       "587081               한 십대 소녀가 적응하는데 어려움을 겪는 가톨릭 학교로 보내진다.      1  \n",
       "587082  플로이드는 그 자신이 스컹크이며 스컹크가 쓰레기가 아니라는 것을 사회를 설득하고 싶...      1  \n",
       "587083  자바 문화에서 여성들은 왕족 혈통의 남자의 신부가 되는 단 하나의 목적을 가지고 있었다.      1  \n",
       "\n",
       "[587084 rows x 6 columns]"
      ]
     },
     "execution_count": 93,
     "metadata": {},
     "output_type": "execute_result"
    }
   ],
   "source": [
    "check_df"
   ]
  },
  {
   "cell_type": "code",
   "execution_count": 13,
   "id": "174f4d72",
   "metadata": {
    "ExecuteTime": {
     "end_time": "2023-08-25T01:35:56.924765Z",
     "start_time": "2023-08-25T01:35:56.920766Z"
    }
   },
   "outputs": [],
   "source": [
    "test ='''Let's go, it's exciting!'''"
   ]
  },
  {
   "cell_type": "code",
   "execution_count": 14,
   "id": "56e8d9cb",
   "metadata": {
    "ExecuteTime": {
     "end_time": "2023-08-25T01:35:58.809697Z",
     "start_time": "2023-08-25T01:35:58.791675Z"
    }
   },
   "outputs": [
    {
     "data": {
      "text/plain": [
       "True"
      ]
     },
     "execution_count": 14,
     "metadata": {},
     "output_type": "execute_result"
    }
   ],
   "source": [
    "contains_quote(test)"
   ]
  },
  {
   "cell_type": "code",
   "execution_count": 15,
   "id": "82ed2e19",
   "metadata": {
    "ExecuteTime": {
     "end_time": "2023-08-25T01:36:01.444071Z",
     "start_time": "2023-08-25T01:36:01.425088Z"
    }
   },
   "outputs": [
    {
     "data": {
      "text/plain": [
       "[\"'s go, it'\"]"
      ]
     },
     "execution_count": 15,
     "metadata": {},
     "output_type": "execute_result"
    }
   ],
   "source": [
    "pattern = r\"'[^']*'\"\n",
    "re.findall(pattern, test)"
   ]
  },
  {
   "cell_type": "code",
   "execution_count": 68,
   "id": "4adf5ec8",
   "metadata": {
    "ExecuteTime": {
     "end_time": "2023-08-24T04:35:19.510895Z",
     "start_time": "2023-08-24T04:35:19.505895Z"
    }
   },
   "outputs": [
    {
     "data": {
      "text/plain": [
       "['\"빨리 \\'김치\\'와 \\'콩나물\\'이랑 밥먹어\"']"
      ]
     },
     "execution_count": 68,
     "metadata": {},
     "output_type": "execute_result"
    }
   ],
   "source": [
    "pattern2 = r'\"[^\"]*\"'\n",
    "re.findall(pattern2, test)"
   ]
  },
  {
   "cell_type": "code",
   "execution_count": 69,
   "id": "6a22c3ca",
   "metadata": {
    "ExecuteTime": {
     "end_time": "2023-08-24T04:36:22.700810Z",
     "start_time": "2023-08-24T04:36:22.690812Z"
    }
   },
   "outputs": [
    {
     "data": {
      "text/plain": [
       "'\"빨리 \\'김치\\'와 \\'콩나물\\'이랑 밥먹어\"'"
      ]
     },
     "execution_count": 69,
     "metadata": {},
     "output_type": "execute_result"
    }
   ],
   "source": [
    "pattern2 = r'\"[^\"]*\"'\n",
    "re.search(pattern2, test).group()"
   ]
  },
  {
   "cell_type": "code",
   "execution_count": 17,
   "id": "cfc413d5",
   "metadata": {
    "ExecuteTime": {
     "end_time": "2023-08-24T01:16:30.980487Z",
     "start_time": "2023-08-24T01:16:30.963485Z"
    }
   },
   "outputs": [
    {
     "data": {
      "text/html": [
       "<div>\n",
       "<style scoped>\n",
       "    .dataframe tbody tr th:only-of-type {\n",
       "        vertical-align: middle;\n",
       "    }\n",
       "\n",
       "    .dataframe tbody tr th {\n",
       "        vertical-align: top;\n",
       "    }\n",
       "\n",
       "    .dataframe thead th {\n",
       "        text-align: right;\n",
       "    }\n",
       "</style>\n",
       "<table border=\"1\" class=\"dataframe\">\n",
       "  <thead>\n",
       "    <tr style=\"text-align: right;\">\n",
       "      <th></th>\n",
       "      <th>sn</th>\n",
       "      <th>data_set</th>\n",
       "      <th>source</th>\n",
       "      <th>target</th>\n",
       "      <th>file_name</th>\n",
       "      <th>source_language</th>\n",
       "      <th>target_language</th>\n",
       "      <th>ko</th>\n",
       "      <th>en</th>\n",
       "    </tr>\n",
       "  </thead>\n",
       "  <tbody>\n",
       "    <tr>\n",
       "      <th>4407</th>\n",
       "      <td>100013-556-1-4</td>\n",
       "      <td>기계번역 병렬 말뭉치 데이터</td>\n",
       "      <td>Make a multi-player game from scratch in ASCII.</td>\n",
       "      <td>NaN</td>\n",
       "      <td>en-ko_CH_ES_en_ko_100013-556-1-4</td>\n",
       "      <td>en</td>\n",
       "      <td>ko</td>\n",
       "      <td>NaN</td>\n",
       "      <td>Make a multi-player game from scratch in ASCII.</td>\n",
       "    </tr>\n",
       "    <tr>\n",
       "      <th>24365</th>\n",
       "      <td>100013-230-1-4</td>\n",
       "      <td>기계번역 병렬 말뭉치 데이터</td>\n",
       "      <td>For players less intrigued in punching, the up...</td>\n",
       "      <td>NaN</td>\n",
       "      <td>en-ko_WR_CA_en_ko_100013-230-1-4</td>\n",
       "      <td>en</td>\n",
       "      <td>ko</td>\n",
       "      <td>NaN</td>\n",
       "      <td>For players less intrigued in punching, the up...</td>\n",
       "    </tr>\n",
       "  </tbody>\n",
       "</table>\n",
       "</div>"
      ],
      "text/plain": [
       "                   sn         data_set  \\\n",
       "4407   100013-556-1-4  기계번역 병렬 말뭉치 데이터   \n",
       "24365  100013-230-1-4  기계번역 병렬 말뭉치 데이터   \n",
       "\n",
       "                                                  source target  \\\n",
       "4407     Make a multi-player game from scratch in ASCII.    NaN   \n",
       "24365  For players less intrigued in punching, the up...    NaN   \n",
       "\n",
       "                              file_name source_language target_language   ko  \\\n",
       "4407   en-ko_CH_ES_en_ko_100013-556-1-4              en              ko  NaN   \n",
       "24365  en-ko_WR_CA_en_ko_100013-230-1-4              en              ko  NaN   \n",
       "\n",
       "                                                      en  \n",
       "4407     Make a multi-player game from scratch in ASCII.  \n",
       "24365  For players less intrigued in punching, the up...  "
      ]
     },
     "execution_count": 17,
     "metadata": {},
     "output_type": "execute_result"
    }
   ],
   "source": [
    "utterance_type_df[utterance_type_df.target.isna()]"
   ]
  },
  {
   "cell_type": "code",
   "execution_count": 19,
   "id": "0f002c98",
   "metadata": {
    "ExecuteTime": {
     "end_time": "2023-08-24T01:20:06.400494Z",
     "start_time": "2023-08-24T01:20:05.611785Z"
    }
   },
   "outputs": [
    {
     "name": "stdout",
     "output_type": "stream",
     "text": [
      "utterance_type_df\n",
      "source_na:  0\n",
      "target_na:  2\n",
      "------------------------\n",
      "specialty_df\n",
      "source_na:  0\n",
      "target_na:  0\n",
      "------------------------\n",
      "ko_en_trans_df\n",
      "source_na:  0\n",
      "target_na:  0\n",
      "------------------------\n",
      "everyday_life_df\n",
      "source_na:  0\n",
      "target_na:  0\n",
      "------------------------\n",
      "science_df\n",
      "source_na:  0\n",
      "target_na:  0\n",
      "------------------------\n",
      "food_df\n",
      "source_na:  0\n",
      "target_na:  0\n",
      "------------------------\n",
      "contents_df\n",
      "source_na:  0\n",
      "target_na:  0\n",
      "------------------------\n"
     ]
    }
   ],
   "source": [
    "for df in dataset_list:\n",
    "    print(df.Name)\n",
    "    print('source_na: ', df.source.isna().sum())\n",
    "    print('target_na: ', df.target.isna().sum())\n",
    "    print('------------------------')"
   ]
  },
  {
   "cell_type": "code",
   "execution_count": 21,
   "id": "3c3a241f",
   "metadata": {
    "ExecuteTime": {
     "end_time": "2023-08-24T01:32:37.040692Z",
     "start_time": "2023-08-24T01:32:37.020688Z"
    }
   },
   "outputs": [
    {
     "name": "stdout",
     "output_type": "stream",
     "text": [
      "27002\n",
      "27000\n"
     ]
    }
   ],
   "source": [
    "print(len(utterance_type_df))\n",
    "utterance_type_df.dropna(subset=['target'], inplace=True)\n",
    "print(len(utterance_type_df))"
   ]
  },
  {
   "cell_type": "markdown",
   "id": "42f082d4",
   "metadata": {},
   "source": [
    "#### 인용문 판별(따옴표 문장 종류 구분)"
   ]
  },
  {
   "cell_type": "code",
   "execution_count": null,
   "id": "69368db7",
   "metadata": {},
   "outputs": [],
   "source": [
    "# test 데이터 로드"
   ]
  },
  {
   "cell_type": "code",
   "execution_count": 137,
   "id": "13ec5520",
   "metadata": {
    "ExecuteTime": {
     "end_time": "2023-08-29T07:07:14.401887Z",
     "start_time": "2023-08-29T07:07:14.389877Z"
    }
   },
   "outputs": [
    {
     "data": {
      "text/html": [
       "<div>\n",
       "<style scoped>\n",
       "    .dataframe tbody tr th:only-of-type {\n",
       "        vertical-align: middle;\n",
       "    }\n",
       "\n",
       "    .dataframe tbody tr th {\n",
       "        vertical-align: top;\n",
       "    }\n",
       "\n",
       "    .dataframe thead th {\n",
       "        text-align: right;\n",
       "    }\n",
       "</style>\n",
       "<table border=\"1\" class=\"dataframe\">\n",
       "  <thead>\n",
       "    <tr style=\"text-align: right;\">\n",
       "      <th></th>\n",
       "      <th>sn</th>\n",
       "      <th>data_set</th>\n",
       "      <th>source</th>\n",
       "      <th>target</th>\n",
       "      <th>file_name</th>\n",
       "      <th>source_language</th>\n",
       "      <th>target_language</th>\n",
       "    </tr>\n",
       "  </thead>\n",
       "  <tbody>\n",
       "    <tr>\n",
       "      <th>0</th>\n",
       "      <td>100010-1376-1-6</td>\n",
       "      <td>기계번역 병렬 말뭉치 데이터</td>\n",
       "      <td>그래서 차라리 원인을 없애야겠다 싶어서 탈퇴하고 앱도 지웠어요.</td>\n",
       "      <td>So I thought I should get rid of the cause, so...</td>\n",
       "      <td>ko-en_SP_ES_ko_en_100010-1376-1-6</td>\n",
       "      <td>ko</td>\n",
       "      <td>en</td>\n",
       "    </tr>\n",
       "    <tr>\n",
       "      <th>1</th>\n",
       "      <td>100010-1462-1-9</td>\n",
       "      <td>기계번역 병렬 말뭉치 데이터</td>\n",
       "      <td>일을 해야 돈을 벌고 그래야 생활할 수 있는데.</td>\n",
       "      <td>We need to work to earn money and to live.</td>\n",
       "      <td>ko-en_CH_ES_ko_en_100010-1462-1-9</td>\n",
       "      <td>ko</td>\n",
       "      <td>en</td>\n",
       "    </tr>\n",
       "    <tr>\n",
       "      <th>2</th>\n",
       "      <td>100013-350-1-10</td>\n",
       "      <td>기계번역 병렬 말뭉치 데이터</td>\n",
       "      <td>We've all had really great conversations.</td>\n",
       "      <td>우리 모두는 정말 좋은 대화를 나누었습니다.</td>\n",
       "      <td>en-ko_SP_ES_en_ko_100013-350-1-10</td>\n",
       "      <td>en</td>\n",
       "      <td>ko</td>\n",
       "    </tr>\n",
       "    <tr>\n",
       "      <th>3</th>\n",
       "      <td>100010-1703-1-8</td>\n",
       "      <td>기계번역 병렬 말뭉치 데이터</td>\n",
       "      <td>안 그래도 요즘 큐티클층이 많이 손상됐는지 머리가 부스스했는데 잘 됐다.</td>\n",
       "      <td>I'm not sure if the cuticle layer has been dam...</td>\n",
       "      <td>ko-en_CH_CA_ko_en_100010-1703-1-8</td>\n",
       "      <td>ko</td>\n",
       "      <td>en</td>\n",
       "    </tr>\n",
       "    <tr>\n",
       "      <th>4</th>\n",
       "      <td>100013-1202-1-11</td>\n",
       "      <td>기계번역 병렬 말뭉치 데이터</td>\n",
       "      <td>We're gonna probably be doing that closer to l...</td>\n",
       "      <td>아마도 출시가 가까워지면 할 것 같습니다.</td>\n",
       "      <td>en-ko_SP_CA_en_ko_100013-1202-1-11</td>\n",
       "      <td>en</td>\n",
       "      <td>ko</td>\n",
       "    </tr>\n",
       "    <tr>\n",
       "      <th>...</th>\n",
       "      <td>...</td>\n",
       "      <td>...</td>\n",
       "      <td>...</td>\n",
       "      <td>...</td>\n",
       "      <td>...</td>\n",
       "      <td>...</td>\n",
       "      <td>...</td>\n",
       "    </tr>\n",
       "    <tr>\n",
       "      <th>26995</th>\n",
       "      <td>100010-2423-1-10</td>\n",
       "      <td>기계번역 병렬 말뭉치 데이터</td>\n",
       "      <td>또한 오는 12월까지 계약 또는 출고 고객을 대상으로 추첨을 통해 추가 증정하는 경...</td>\n",
       "      <td>In addition, there will be a giveaway event to...</td>\n",
       "      <td>ko-en_WR_ST_ko_en_100010-2423-1-10</td>\n",
       "      <td>ko</td>\n",
       "      <td>en</td>\n",
       "    </tr>\n",
       "    <tr>\n",
       "      <th>26996</th>\n",
       "      <td>100010-2197-1-2</td>\n",
       "      <td>기계번역 병렬 말뭉치 데이터</td>\n",
       "      <td>음식 조절하고 운동하면 콜레스테롤이랑 엘디엘 수치가 내려갈까요?</td>\n",
       "      <td>Will controlling diet and exercising lower my ...</td>\n",
       "      <td>ko-en_SP_SH_ko_en_100010-2197-1-2</td>\n",
       "      <td>ko</td>\n",
       "      <td>en</td>\n",
       "    </tr>\n",
       "    <tr>\n",
       "      <th>26997</th>\n",
       "      <td>100010-1776-1-2</td>\n",
       "      <td>기계번역 병렬 말뭉치 데이터</td>\n",
       "      <td>딸애는 엠비티아이 검사할 때 항상 같은 것만 나온다고 하더라고.</td>\n",
       "      <td>My daughter says the same result always comes ...</td>\n",
       "      <td>ko-en_CH_ES_ko_en_100010-1776-1-2</td>\n",
       "      <td>ko</td>\n",
       "      <td>en</td>\n",
       "    </tr>\n",
       "    <tr>\n",
       "      <th>26998</th>\n",
       "      <td>100013-28-1-10</td>\n",
       "      <td>기계번역 병렬 말뭉치 데이터</td>\n",
       "      <td>List the specific consequences of angry behavi...</td>\n",
       "      <td>살면서 사람들에게 화를 냈을 때의 구체적인 결과를 나열해보아라.</td>\n",
       "      <td>en-ko_WR_ES_en_ko_100013-28-1-10</td>\n",
       "      <td>en</td>\n",
       "      <td>ko</td>\n",
       "    </tr>\n",
       "    <tr>\n",
       "      <th>26999</th>\n",
       "      <td>100013-1057-1-4</td>\n",
       "      <td>기계번역 병렬 말뭉치 데이터</td>\n",
       "      <td>I don’t have emotional support, but I’ll conti...</td>\n",
       "      <td>정서적인 지지을 받고 있지는 않지만 나는 계속 나 자신을 위해 싸울 거야.</td>\n",
       "      <td>en-ko_CH_SH_en_ko_100013-1057-1-4</td>\n",
       "      <td>en</td>\n",
       "      <td>ko</td>\n",
       "    </tr>\n",
       "  </tbody>\n",
       "</table>\n",
       "<p>27000 rows × 7 columns</p>\n",
       "</div>"
      ],
      "text/plain": [
       "                     sn         data_set  \\\n",
       "0       100010-1376-1-6  기계번역 병렬 말뭉치 데이터   \n",
       "1       100010-1462-1-9  기계번역 병렬 말뭉치 데이터   \n",
       "2       100013-350-1-10  기계번역 병렬 말뭉치 데이터   \n",
       "3       100010-1703-1-8  기계번역 병렬 말뭉치 데이터   \n",
       "4      100013-1202-1-11  기계번역 병렬 말뭉치 데이터   \n",
       "...                 ...              ...   \n",
       "26995  100010-2423-1-10  기계번역 병렬 말뭉치 데이터   \n",
       "26996   100010-2197-1-2  기계번역 병렬 말뭉치 데이터   \n",
       "26997   100010-1776-1-2  기계번역 병렬 말뭉치 데이터   \n",
       "26998    100013-28-1-10  기계번역 병렬 말뭉치 데이터   \n",
       "26999   100013-1057-1-4  기계번역 병렬 말뭉치 데이터   \n",
       "\n",
       "                                                  source  \\\n",
       "0                    그래서 차라리 원인을 없애야겠다 싶어서 탈퇴하고 앱도 지웠어요.   \n",
       "1                             일을 해야 돈을 벌고 그래야 생활할 수 있는데.   \n",
       "2              We've all had really great conversations.   \n",
       "3               안 그래도 요즘 큐티클층이 많이 손상됐는지 머리가 부스스했는데 잘 됐다.   \n",
       "4      We're gonna probably be doing that closer to l...   \n",
       "...                                                  ...   \n",
       "26995  또한 오는 12월까지 계약 또는 출고 고객을 대상으로 추첨을 통해 추가 증정하는 경...   \n",
       "26996                음식 조절하고 운동하면 콜레스테롤이랑 엘디엘 수치가 내려갈까요?   \n",
       "26997                딸애는 엠비티아이 검사할 때 항상 같은 것만 나온다고 하더라고.   \n",
       "26998  List the specific consequences of angry behavi...   \n",
       "26999  I don’t have emotional support, but I’ll conti...   \n",
       "\n",
       "                                                  target  \\\n",
       "0      So I thought I should get rid of the cause, so...   \n",
       "1             We need to work to earn money and to live.   \n",
       "2                               우리 모두는 정말 좋은 대화를 나누었습니다.   \n",
       "3      I'm not sure if the cuticle layer has been dam...   \n",
       "4                                아마도 출시가 가까워지면 할 것 같습니다.   \n",
       "...                                                  ...   \n",
       "26995  In addition, there will be a giveaway event to...   \n",
       "26996  Will controlling diet and exercising lower my ...   \n",
       "26997  My daughter says the same result always comes ...   \n",
       "26998                살면서 사람들에게 화를 냈을 때의 구체적인 결과를 나열해보아라.   \n",
       "26999          정서적인 지지을 받고 있지는 않지만 나는 계속 나 자신을 위해 싸울 거야.   \n",
       "\n",
       "                                file_name source_language target_language  \n",
       "0       ko-en_SP_ES_ko_en_100010-1376-1-6              ko              en  \n",
       "1       ko-en_CH_ES_ko_en_100010-1462-1-9              ko              en  \n",
       "2       en-ko_SP_ES_en_ko_100013-350-1-10              en              ko  \n",
       "3       ko-en_CH_CA_ko_en_100010-1703-1-8              ko              en  \n",
       "4      en-ko_SP_CA_en_ko_100013-1202-1-11              en              ko  \n",
       "...                                   ...             ...             ...  \n",
       "26995  ko-en_WR_ST_ko_en_100010-2423-1-10              ko              en  \n",
       "26996   ko-en_SP_SH_ko_en_100010-2197-1-2              ko              en  \n",
       "26997   ko-en_CH_ES_ko_en_100010-1776-1-2              ko              en  \n",
       "26998    en-ko_WR_ES_en_ko_100013-28-1-10              en              ko  \n",
       "26999   en-ko_CH_SH_en_ko_100013-1057-1-4              en              ko  \n",
       "\n",
       "[27000 rows x 7 columns]"
      ]
     },
     "execution_count": 137,
     "metadata": {},
     "output_type": "execute_result"
    }
   ],
   "source": [
    "utterance_type_df"
   ]
  },
  {
   "cell_type": "code",
   "execution_count": 138,
   "id": "2147f0ba",
   "metadata": {
    "ExecuteTime": {
     "end_time": "2023-08-29T07:19:27.953575Z",
     "start_time": "2023-08-29T07:19:26.655089Z"
    }
   },
   "outputs": [],
   "source": [
    "check_df = quotation_check(utterance_type_df)"
   ]
  },
  {
   "cell_type": "code",
   "execution_count": 153,
   "id": "29eb932a",
   "metadata": {
    "ExecuteTime": {
     "end_time": "2023-08-29T07:40:16.379361Z",
     "start_time": "2023-08-29T07:40:16.366363Z"
    }
   },
   "outputs": [
    {
     "data": {
      "text/plain": [
       "135      ['캡티베이트(Captivate)!']\n",
       "216                  ['엠비티아이']\n",
       "219                    ['케이7']\n",
       "308                 ['스테이케이션']\n",
       "309                 ['벽에 부딪힘']\n",
       "                 ...          \n",
       "26806                 ['호텔위크']\n",
       "26812             ['심리검사의 홍수']\n",
       "26876                    ['쏠']\n",
       "26908             ['임신 준비 과정']\n",
       "26980                   ['첫차']\n",
       "Name: quote_list, Length: 674, dtype: object"
      ]
     },
     "execution_count": 153,
     "metadata": {},
     "output_type": "execute_result"
    }
   ],
   "source": [
    "check_df[check_df.quote_check == True].quote_list"
   ]
  },
  {
   "cell_type": "code",
   "execution_count": 9,
   "id": "0d3979c9",
   "metadata": {
    "ExecuteTime": {
     "end_time": "2023-09-12T01:09:38.268226Z",
     "start_time": "2023-09-12T01:09:38.258227Z"
    }
   },
   "outputs": [],
   "source": [
    "import re\n",
    "def special_check_df_make2(df):\n",
    "    special_check_df = pd.DataFrame()\n",
    "    special_check_df['source'] = df.sentence\n",
    "    \n",
    "    special_check_df['check'] = special_check_df.source.apply(special_check)\n",
    "    special_check_df['check2'] = special_check_df.check.apply(not_in_string_punctuation)\n",
    "    special_check_df['check_count'] = special_check_df.check2.apply(len)\n",
    "    return special_check_df"
   ]
  },
  {
   "cell_type": "code",
   "execution_count": 141,
   "id": "64e4ee30",
   "metadata": {
    "ExecuteTime": {
     "end_time": "2023-08-29T07:20:00.384154Z",
     "start_time": "2023-08-29T07:20:00.302106Z"
    }
   },
   "outputs": [],
   "source": [
    "check_df_special_check = special_check_df_make2(check_df)"
   ]
  },
  {
   "cell_type": "code",
   "execution_count": 142,
   "id": "14d88297",
   "metadata": {
    "ExecuteTime": {
     "end_time": "2023-08-29T07:20:06.628570Z",
     "start_time": "2023-08-29T07:20:06.613540Z"
    }
   },
   "outputs": [
    {
     "data": {
      "text/html": [
       "<div>\n",
       "<style scoped>\n",
       "    .dataframe tbody tr th:only-of-type {\n",
       "        vertical-align: middle;\n",
       "    }\n",
       "\n",
       "    .dataframe tbody tr th {\n",
       "        vertical-align: top;\n",
       "    }\n",
       "\n",
       "    .dataframe thead th {\n",
       "        text-align: right;\n",
       "    }\n",
       "</style>\n",
       "<table border=\"1\" class=\"dataframe\">\n",
       "  <thead>\n",
       "    <tr style=\"text-align: right;\">\n",
       "      <th></th>\n",
       "      <th>source</th>\n",
       "      <th>check</th>\n",
       "      <th>check2</th>\n",
       "      <th>check_count</th>\n",
       "    </tr>\n",
       "  </thead>\n",
       "  <tbody>\n",
       "    <tr>\n",
       "      <th>0</th>\n",
       "      <td>그래서 차라리 원인을 없애야겠다 싶어서 탈퇴하고 앱도 지웠어요.</td>\n",
       "      <td>[.]</td>\n",
       "      <td>{}</td>\n",
       "      <td>0</td>\n",
       "    </tr>\n",
       "    <tr>\n",
       "      <th>1</th>\n",
       "      <td>일을 해야 돈을 벌고 그래야 생활할 수 있는데.</td>\n",
       "      <td>[.]</td>\n",
       "      <td>{}</td>\n",
       "      <td>0</td>\n",
       "    </tr>\n",
       "    <tr>\n",
       "      <th>2</th>\n",
       "      <td>우리 모두는 정말 좋은 대화를 나누었습니다.</td>\n",
       "      <td>[.]</td>\n",
       "      <td>{}</td>\n",
       "      <td>0</td>\n",
       "    </tr>\n",
       "    <tr>\n",
       "      <th>3</th>\n",
       "      <td>안 그래도 요즘 큐티클층이 많이 손상됐는지 머리가 부스스했는데 잘 됐다.</td>\n",
       "      <td>[.]</td>\n",
       "      <td>{}</td>\n",
       "      <td>0</td>\n",
       "    </tr>\n",
       "    <tr>\n",
       "      <th>4</th>\n",
       "      <td>아마도 출시가 가까워지면 할 것 같습니다.</td>\n",
       "      <td>[.]</td>\n",
       "      <td>{}</td>\n",
       "      <td>0</td>\n",
       "    </tr>\n",
       "    <tr>\n",
       "      <th>...</th>\n",
       "      <td>...</td>\n",
       "      <td>...</td>\n",
       "      <td>...</td>\n",
       "      <td>...</td>\n",
       "    </tr>\n",
       "    <tr>\n",
       "      <th>26995</th>\n",
       "      <td>또한 오는 12월까지 계약 또는 출고 고객을 대상으로 추첨을 통해 추가 증정하는 경...</td>\n",
       "      <td>[.]</td>\n",
       "      <td>{}</td>\n",
       "      <td>0</td>\n",
       "    </tr>\n",
       "    <tr>\n",
       "      <th>26996</th>\n",
       "      <td>음식 조절하고 운동하면 콜레스테롤이랑 엘디엘 수치가 내려갈까요?</td>\n",
       "      <td>[?]</td>\n",
       "      <td>{}</td>\n",
       "      <td>0</td>\n",
       "    </tr>\n",
       "    <tr>\n",
       "      <th>26997</th>\n",
       "      <td>딸애는 엠비티아이 검사할 때 항상 같은 것만 나온다고 하더라고.</td>\n",
       "      <td>[.]</td>\n",
       "      <td>{}</td>\n",
       "      <td>0</td>\n",
       "    </tr>\n",
       "    <tr>\n",
       "      <th>26998</th>\n",
       "      <td>살면서 사람들에게 화를 냈을 때의 구체적인 결과를 나열해보아라.</td>\n",
       "      <td>[.]</td>\n",
       "      <td>{}</td>\n",
       "      <td>0</td>\n",
       "    </tr>\n",
       "    <tr>\n",
       "      <th>26999</th>\n",
       "      <td>정서적인 지지을 받고 있지는 않지만 나는 계속 나 자신을 위해 싸울 거야.</td>\n",
       "      <td>[.]</td>\n",
       "      <td>{}</td>\n",
       "      <td>0</td>\n",
       "    </tr>\n",
       "  </tbody>\n",
       "</table>\n",
       "<p>27000 rows × 4 columns</p>\n",
       "</div>"
      ],
      "text/plain": [
       "                                                  source check check2  \\\n",
       "0                    그래서 차라리 원인을 없애야겠다 싶어서 탈퇴하고 앱도 지웠어요.   [.]     {}   \n",
       "1                             일을 해야 돈을 벌고 그래야 생활할 수 있는데.   [.]     {}   \n",
       "2                               우리 모두는 정말 좋은 대화를 나누었습니다.   [.]     {}   \n",
       "3               안 그래도 요즘 큐티클층이 많이 손상됐는지 머리가 부스스했는데 잘 됐다.   [.]     {}   \n",
       "4                                아마도 출시가 가까워지면 할 것 같습니다.   [.]     {}   \n",
       "...                                                  ...   ...    ...   \n",
       "26995  또한 오는 12월까지 계약 또는 출고 고객을 대상으로 추첨을 통해 추가 증정하는 경...   [.]     {}   \n",
       "26996                음식 조절하고 운동하면 콜레스테롤이랑 엘디엘 수치가 내려갈까요?   [?]     {}   \n",
       "26997                딸애는 엠비티아이 검사할 때 항상 같은 것만 나온다고 하더라고.   [.]     {}   \n",
       "26998                살면서 사람들에게 화를 냈을 때의 구체적인 결과를 나열해보아라.   [.]     {}   \n",
       "26999          정서적인 지지을 받고 있지는 않지만 나는 계속 나 자신을 위해 싸울 거야.   [.]     {}   \n",
       "\n",
       "       check_count  \n",
       "0                0  \n",
       "1                0  \n",
       "2                0  \n",
       "3                0  \n",
       "4                0  \n",
       "...            ...  \n",
       "26995            0  \n",
       "26996            0  \n",
       "26997            0  \n",
       "26998            0  \n",
       "26999            0  \n",
       "\n",
       "[27000 rows x 4 columns]"
      ]
     },
     "execution_count": 142,
     "metadata": {},
     "output_type": "execute_result"
    }
   ],
   "source": [
    "check_df_special_check"
   ]
  },
  {
   "cell_type": "code",
   "execution_count": null,
   "id": "1e998fdd",
   "metadata": {},
   "outputs": [],
   "source": []
  },
  {
   "cell_type": "code",
   "execution_count": null,
   "id": "ccd1b088",
   "metadata": {},
   "outputs": [],
   "source": []
  },
  {
   "cell_type": "markdown",
   "id": "9a2c35f9",
   "metadata": {},
   "source": [
    "### 구두점 분석"
   ]
  },
  {
   "cell_type": "code",
   "execution_count": null,
   "id": "fb8c4380",
   "metadata": {},
   "outputs": [],
   "source": [
    "# 구두점에서 알아볼 것\n",
    "# 문장 끝에 string.punctuation에 포함되는지 여부\n",
    "# 포함 될 경우 어떤 기호인지"
   ]
  },
  {
   "cell_type": "code",
   "execution_count": 10,
   "id": "27d15de1",
   "metadata": {
    "ExecuteTime": {
     "end_time": "2023-09-12T01:09:42.004046Z",
     "start_time": "2023-09-12T01:09:41.993064Z"
    }
   },
   "outputs": [],
   "source": [
    "# punctuation 존재 여부 확인\n",
    "import string\n",
    "def has_punctuation_at_end(text):\n",
    "    punctuation_chars = set(string.punctuation) #+ punctuation_add\n",
    "    return text[-1] in punctuation_chars\n",
    "\n",
    "def punctuation_check_df(df):\n",
    "    punctuation_check_df = pd.DataFrame()\n",
    "    df['ko'],df['en'] = zip(*df.apply(rearrange_values, axis=1)) # 한국어만 시행하기 위한 함수, rearrange_values는 위 쪽에 있음\n",
    "    # 따옴표 '', \"\" 로 통일, 기호 수정\n",
    "    replacements = {'\\u201C': '\\\"',\n",
    "               '\\u201D': '\\\"',\n",
    "               '\\u2018': '\\'',\n",
    "               '\\u2019': '\\''}\n",
    "    for old, new in replacements.items():\n",
    "        df['ko'] = df['ko'].str.replace(old, new)\n",
    "    punctuation_check_df['sentence'] = df['ko']    \n",
    "    df.drop(['ko', 'en'], axis=1, inplace=True) \n",
    "    #문장 끝에 공백 제거\n",
    "    punctuation_check_df['sentence'] = punctuation_check_df['sentence'].apply(lambda x: x.rstrip(' '))\n",
    "    punctuation_check_df['punctuation_check'] = punctuation_check_df['sentence'].apply(has_punctuation_at_end)\n",
    "    punctuation_check_df['punctuation'] = punctuation_check_df.apply(lambda row: row['sentence'][-1] if row['punctuation_check'] else None, axis=1)\n",
    "    punctuation_check_df['last_letter'] = [sentence[-1] for sentence in punctuation_check_df['sentence']]\n",
    "    return punctuation_check_df"
   ]
  },
  {
   "cell_type": "code",
   "execution_count": 11,
   "id": "f98c3abc",
   "metadata": {
    "ExecuteTime": {
     "end_time": "2023-09-12T01:09:42.805518Z",
     "start_time": "2023-09-12T01:09:42.800501Z"
    }
   },
   "outputs": [],
   "source": [
    "# 각 데이터셋의 기호 분포를 판다스 데이터프레임으로 보기 위함(value_counts 정리)\n",
    "def make_punctuation_table(dataset_list):\n",
    "    punctuation_df = pd.DataFrame()\n",
    "    for df in dataset_list:\n",
    "        check_df = punctuation_check_df(df)\n",
    "        punctuation_sub_df = check_df.punctuation.value_counts(dropna=False).to_frame()\n",
    "        punctuation_sub_df.reset_index(inplace=True)\n",
    "        punctuation_sub_df.rename(columns={'index':'punctuation_mark','punctuation':'count'},inplace=True)\n",
    "        punctuation_sub_df['dataset_name'] = df.Name\n",
    "        punctuation_df = pd.concat([punctuation_df,punctuation_sub_df])\n",
    "    return punctuation_df"
   ]
  },
  {
   "cell_type": "code",
   "execution_count": 16,
   "id": "a00ab91b",
   "metadata": {
    "ExecuteTime": {
     "end_time": "2023-09-01T07:19:17.109756Z",
     "start_time": "2023-09-01T07:15:38.460421Z"
    }
   },
   "outputs": [],
   "source": [
    "punctuation_table = make_punctuation_table(dataset_list)"
   ]
  },
  {
   "cell_type": "code",
   "execution_count": 52,
   "id": "07488c54",
   "metadata": {
    "ExecuteTime": {
     "end_time": "2023-08-31T04:02:52.188233Z",
     "start_time": "2023-08-31T03:59:12.868932Z"
    }
   },
   "outputs": [
    {
     "name": "stdout",
     "output_type": "stream",
     "text": [
      "utterance_type_df\n",
      "총 데이터 수 : 27000\n",
      "구두점 수 : 25509\n",
      "구두점 X 수 : 1491\n",
      ".    22877\n",
      "?     2373\n",
      "!      231\n",
      "\"       10\n",
      ")        9\n",
      ",        5\n",
      "'        1\n",
      ";        1\n",
      "/        1\n",
      "~        1\n",
      "Name: punctuation, dtype: int64\n",
      "-----------------------------\n",
      "specialty_df\n",
      "총 데이터 수 : 1350000\n",
      "구두점 수 : 1350000\n",
      "구두점 X 수 : 0\n",
      ".    1332153\n",
      ")      17397\n",
      "?        234\n",
      "!        123\n",
      "\"         77\n",
      "'         14\n",
      "~          2\n",
      "Name: punctuation, dtype: int64\n",
      "-----------------------------\n",
      "ko_en_trans_df\n",
      "총 데이터 수 : 1602418\n",
      "구두점 수 : 1598854\n",
      "구두점 X 수 : 3564\n",
      ".    1517157\n",
      "?      80181\n",
      "!       1256\n",
      "\"         97\n",
      ")         93\n",
      ",         58\n",
      ":          5\n",
      "~          4\n",
      "%          2\n",
      "]          1\n",
      "Name: punctuation, dtype: int64\n",
      "-----------------------------\n",
      "everyday_life_df\n",
      "총 데이터 수 : 2700345\n",
      "구두점 수 : 2683244\n",
      "구두점 X 수 : 17101\n",
      ".    2325974\n",
      "?     296048\n",
      "!      47833\n",
      "~      12151\n",
      ",        725\n",
      ")        263\n",
      "\"        146\n",
      "'         44\n",
      "\\         13\n",
      "/         12\n",
      "]          8\n",
      ":          7\n",
      "-          5\n",
      ";          4\n",
      "*          3\n",
      ">          3\n",
      "^          3\n",
      "[          1\n",
      "`          1\n",
      "Name: punctuation, dtype: int64\n",
      "-----------------------------\n",
      "science_df\n",
      "총 데이터 수 : 1350162\n",
      "구두점 수 : 1350003\n",
      "구두점 X 수 : 159\n",
      ".    1347211\n",
      "?       2187\n",
      "\"        506\n",
      "]         22\n",
      "!         21\n",
      ",         15\n",
      ")         13\n",
      "'          8\n",
      ":          7\n",
      ";          7\n",
      "-          4\n",
      "\\          1\n",
      "*          1\n",
      "Name: punctuation, dtype: int64\n",
      "-----------------------------\n",
      "food_df\n",
      "총 데이터 수 : 1350000\n",
      "구두점 수 : 1349849\n",
      "구두점 X 수 : 151\n",
      ".    1349364\n",
      "\"        156\n",
      ",        155\n",
      "?        127\n",
      ")         28\n",
      "'          7\n",
      "!          5\n",
      ";          2\n",
      "|          2\n",
      "]          2\n",
      "`          1\n",
      "Name: punctuation, dtype: int64\n",
      "-----------------------------\n",
      "contents_df\n",
      "총 데이터 수 : 587084\n",
      "구두점 수 : 579002\n",
      "구두점 X 수 : 8082\n",
      ".    505535\n",
      "?     66369\n",
      "!      4640\n",
      ",      1313\n",
      "'       539\n",
      "~       380\n",
      ";        86\n",
      ")        48\n",
      ">        35\n",
      "\"        20\n",
      "]        16\n",
      "/        10\n",
      "-         7\n",
      "`         2\n",
      "\\         1\n",
      ":         1\n",
      "Name: punctuation, dtype: int64\n",
      "-----------------------------\n"
     ]
    }
   ],
   "source": [
    "for df in dataset_list:\n",
    "    check_df = punctuation_check_df(df)\n",
    "    print(df.Name)\n",
    "    print(\"총 데이터 수 :\",len(check_df))\n",
    "    print(\"구두점 수 :\", (check_df.punctuation_check==True).sum())\n",
    "    print(\"구두점 X 수 :\", (check_df.punctuation_check==False).sum())\n",
    "    print(check_df.punctuation.value_counts())\n",
    "    print('-----------------------------')"
   ]
  },
  {
   "cell_type": "code",
   "execution_count": 32,
   "id": "e86a6a0e",
   "metadata": {
    "ExecuteTime": {
     "end_time": "2023-08-25T05:48:51.312343Z",
     "start_time": "2023-08-25T05:48:51.304344Z"
    }
   },
   "outputs": [],
   "source": [
    "test ='''Let's go, it's exciting'''"
   ]
  },
  {
   "cell_type": "code",
   "execution_count": 33,
   "id": "1d2c4ce1",
   "metadata": {
    "ExecuteTime": {
     "end_time": "2023-08-25T05:48:51.969655Z",
     "start_time": "2023-08-25T05:48:51.951656Z"
    }
   },
   "outputs": [
    {
     "data": {
      "text/plain": [
       "False"
      ]
     },
     "execution_count": 33,
     "metadata": {},
     "output_type": "execute_result"
    }
   ],
   "source": [
    "has_punctuation_at_end(test)"
   ]
  },
  {
   "cell_type": "code",
   "execution_count": 101,
   "id": "7118f80e",
   "metadata": {
    "ExecuteTime": {
     "end_time": "2023-08-25T07:56:04.669521Z",
     "start_time": "2023-08-25T07:56:04.634523Z"
    }
   },
   "outputs": [],
   "source": [
    "utterance_type_df['punctuation_check'] = utterance_type_df.source.apply(has_punctuation_at_end)"
   ]
  },
  {
   "cell_type": "code",
   "execution_count": 102,
   "id": "b3309c10",
   "metadata": {
    "ExecuteTime": {
     "end_time": "2023-08-25T07:56:05.522471Z",
     "start_time": "2023-08-25T07:56:05.507467Z"
    }
   },
   "outputs": [
    {
     "data": {
      "text/html": [
       "<div>\n",
       "<style scoped>\n",
       "    .dataframe tbody tr th:only-of-type {\n",
       "        vertical-align: middle;\n",
       "    }\n",
       "\n",
       "    .dataframe tbody tr th {\n",
       "        vertical-align: top;\n",
       "    }\n",
       "\n",
       "    .dataframe thead th {\n",
       "        text-align: right;\n",
       "    }\n",
       "</style>\n",
       "<table border=\"1\" class=\"dataframe\">\n",
       "  <thead>\n",
       "    <tr style=\"text-align: right;\">\n",
       "      <th></th>\n",
       "      <th>sn</th>\n",
       "      <th>data_set</th>\n",
       "      <th>source</th>\n",
       "      <th>target</th>\n",
       "      <th>file_name</th>\n",
       "      <th>source_language</th>\n",
       "      <th>target_language</th>\n",
       "      <th>punctuation_check</th>\n",
       "      <th>test</th>\n",
       "    </tr>\n",
       "  </thead>\n",
       "  <tbody>\n",
       "    <tr>\n",
       "      <th>8</th>\n",
       "      <td>100010-2231-1-8</td>\n",
       "      <td>기계번역 병렬 말뭉치 데이터</td>\n",
       "      <td>당분간 어쩔 수 없지 정부의 지침을 따라서 어느 정도 잦아들 때까지 기다려야지</td>\n",
       "      <td>For the time being, we'll just have to follow ...</td>\n",
       "      <td>ko-en_SP_SH_ko_en_100010-2231-1-8</td>\n",
       "      <td>ko</td>\n",
       "      <td>en</td>\n",
       "      <td>False</td>\n",
       "      <td>False</td>\n",
       "    </tr>\n",
       "    <tr>\n",
       "      <th>55</th>\n",
       "      <td>100010-2212-1-2</td>\n",
       "      <td>기계번역 병렬 말뭉치 데이터</td>\n",
       "      <td>그럼 당연하지 외래 진료든 입원 환자든 보호자든 예외 없더라고</td>\n",
       "      <td>Yes, of course, there are no exceptions whethe...</td>\n",
       "      <td>ko-en_SP_SH_ko_en_100010-2212-1-2</td>\n",
       "      <td>ko</td>\n",
       "      <td>en</td>\n",
       "      <td>False</td>\n",
       "      <td>False</td>\n",
       "    </tr>\n",
       "    <tr>\n",
       "      <th>62</th>\n",
       "      <td>100010-2020-1-2</td>\n",
       "      <td>기계번역 병렬 말뭉치 데이터</td>\n",
       "      <td>아 리얼? 어쩐지 광고 엄청 돌리더라</td>\n",
       "      <td>For real? That's why they have run so many ads.</td>\n",
       "      <td>ko-en_SP_CA_ko_en_100010-2020-1-2</td>\n",
       "      <td>ko</td>\n",
       "      <td>en</td>\n",
       "      <td>False</td>\n",
       "      <td>False</td>\n",
       "    </tr>\n",
       "    <tr>\n",
       "      <th>73</th>\n",
       "      <td>100010-2183-1-2</td>\n",
       "      <td>기계번역 병렬 말뭉치 데이터</td>\n",
       "      <td>그러게나 말이야 초기에는 코호트 격리까지 하며 엄청 심각했었지</td>\n",
       "      <td>By the way, in the beginning it was very serio...</td>\n",
       "      <td>ko-en_SP_SH_ko_en_100010-2183-1-2</td>\n",
       "      <td>ko</td>\n",
       "      <td>en</td>\n",
       "      <td>False</td>\n",
       "      <td>False</td>\n",
       "    </tr>\n",
       "    <tr>\n",
       "      <th>109</th>\n",
       "      <td>100010-2219-1-2</td>\n",
       "      <td>기계번역 병렬 말뭉치 데이터</td>\n",
       "      <td>바이러스가 이렇게 무서울지 몰랐지 처음에 더블유에이치오도 헤맸고 정부도 처음엔 잘하...</td>\n",
       "      <td>I didn't know the virus could be so scary. At ...</td>\n",
       "      <td>ko-en_SP_SH_ko_en_100010-2219-1-2</td>\n",
       "      <td>ko</td>\n",
       "      <td>en</td>\n",
       "      <td>False</td>\n",
       "      <td>False</td>\n",
       "    </tr>\n",
       "    <tr>\n",
       "      <th>...</th>\n",
       "      <td>...</td>\n",
       "      <td>...</td>\n",
       "      <td>...</td>\n",
       "      <td>...</td>\n",
       "      <td>...</td>\n",
       "      <td>...</td>\n",
       "      <td>...</td>\n",
       "      <td>...</td>\n",
       "      <td>...</td>\n",
       "    </tr>\n",
       "    <tr>\n",
       "      <th>26901</th>\n",
       "      <td>100010-2125-1-2</td>\n",
       "      <td>기계번역 병렬 말뭉치 데이터</td>\n",
       "      <td>나는 손톱은 돈 주고받아 봤는데, 발톱은 돈이 아깝더라</td>\n",
       "      <td>I have gotten my nails done at a salon. But I ...</td>\n",
       "      <td>ko-en_SP_CA_ko_en_100010-2125-1-2</td>\n",
       "      <td>ko</td>\n",
       "      <td>en</td>\n",
       "      <td>False</td>\n",
       "      <td>False</td>\n",
       "    </tr>\n",
       "    <tr>\n",
       "      <th>26937</th>\n",
       "      <td>100013-1261-1-12</td>\n",
       "      <td>기계번역 병렬 말뭉치 데이터</td>\n",
       "      <td>“excellence in art and storytelling through de...</td>\n",
       "      <td>\"디자인, 예술적 숙달, 몰입도가 높은 세계를 통한 예술과 스토리텔링의 독립성\"</td>\n",
       "      <td>en-ko_SP_CA_en_ko_100013-1261-1-12</td>\n",
       "      <td>en</td>\n",
       "      <td>ko</td>\n",
       "      <td>False</td>\n",
       "      <td>True</td>\n",
       "    </tr>\n",
       "    <tr>\n",
       "      <th>26940</th>\n",
       "      <td>100010-2051-1-8</td>\n",
       "      <td>기계번역 병렬 말뭉치 데이터</td>\n",
       "      <td>그래서 여드름 패치 붙이고 있는데 솔직히 효과 있는지 잘 모르겠음</td>\n",
       "      <td>So I'm putting on my acne patch. But honestly,...</td>\n",
       "      <td>ko-en_SP_CA_ko_en_100010-2051-1-8</td>\n",
       "      <td>ko</td>\n",
       "      <td>en</td>\n",
       "      <td>False</td>\n",
       "      <td>False</td>\n",
       "    </tr>\n",
       "    <tr>\n",
       "      <th>26981</th>\n",
       "      <td>100010-2231-1-6</td>\n",
       "      <td>기계번역 병렬 말뭉치 데이터</td>\n",
       "      <td>더욱더 답답하고 코가 막히지 언제 끝나려나 이 지긋지긋한 코로나야</td>\n",
       "      <td>It's even more frustrating and stuffy. When wi...</td>\n",
       "      <td>ko-en_SP_SH_ko_en_100010-2231-1-6</td>\n",
       "      <td>ko</td>\n",
       "      <td>en</td>\n",
       "      <td>False</td>\n",
       "      <td>False</td>\n",
       "    </tr>\n",
       "    <tr>\n",
       "      <th>26989</th>\n",
       "      <td>100010-2237-1-2</td>\n",
       "      <td>기계번역 병렬 말뭉치 데이터</td>\n",
       "      <td>정말? 저번에 검진 왔을 때 크게 이상은 없었는데 치아에 스테인이 좀 많더라</td>\n",
       "      <td>Really? The last time you came in for a checku...</td>\n",
       "      <td>ko-en_SP_SH_ko_en_100010-2237-1-2</td>\n",
       "      <td>ko</td>\n",
       "      <td>en</td>\n",
       "      <td>False</td>\n",
       "      <td>False</td>\n",
       "    </tr>\n",
       "  </tbody>\n",
       "</table>\n",
       "<p>850 rows × 9 columns</p>\n",
       "</div>"
      ],
      "text/plain": [
       "                     sn         data_set  \\\n",
       "8       100010-2231-1-8  기계번역 병렬 말뭉치 데이터   \n",
       "55      100010-2212-1-2  기계번역 병렬 말뭉치 데이터   \n",
       "62      100010-2020-1-2  기계번역 병렬 말뭉치 데이터   \n",
       "73      100010-2183-1-2  기계번역 병렬 말뭉치 데이터   \n",
       "109     100010-2219-1-2  기계번역 병렬 말뭉치 데이터   \n",
       "...                 ...              ...   \n",
       "26901   100010-2125-1-2  기계번역 병렬 말뭉치 데이터   \n",
       "26937  100013-1261-1-12  기계번역 병렬 말뭉치 데이터   \n",
       "26940   100010-2051-1-8  기계번역 병렬 말뭉치 데이터   \n",
       "26981   100010-2231-1-6  기계번역 병렬 말뭉치 데이터   \n",
       "26989   100010-2237-1-2  기계번역 병렬 말뭉치 데이터   \n",
       "\n",
       "                                                  source  \\\n",
       "8            당분간 어쩔 수 없지 정부의 지침을 따라서 어느 정도 잦아들 때까지 기다려야지   \n",
       "55                    그럼 당연하지 외래 진료든 입원 환자든 보호자든 예외 없더라고   \n",
       "62                                  아 리얼? 어쩐지 광고 엄청 돌리더라   \n",
       "73                    그러게나 말이야 초기에는 코호트 격리까지 하며 엄청 심각했었지   \n",
       "109    바이러스가 이렇게 무서울지 몰랐지 처음에 더블유에이치오도 헤맸고 정부도 처음엔 잘하...   \n",
       "...                                                  ...   \n",
       "26901                     나는 손톱은 돈 주고받아 봤는데, 발톱은 돈이 아깝더라   \n",
       "26937  “excellence in art and storytelling through de...   \n",
       "26940               그래서 여드름 패치 붙이고 있는데 솔직히 효과 있는지 잘 모르겠음   \n",
       "26981               더욱더 답답하고 코가 막히지 언제 끝나려나 이 지긋지긋한 코로나야   \n",
       "26989         정말? 저번에 검진 왔을 때 크게 이상은 없었는데 치아에 스테인이 좀 많더라   \n",
       "\n",
       "                                                  target  \\\n",
       "8      For the time being, we'll just have to follow ...   \n",
       "55     Yes, of course, there are no exceptions whethe...   \n",
       "62       For real? That's why they have run so many ads.   \n",
       "73     By the way, in the beginning it was very serio...   \n",
       "109    I didn't know the virus could be so scary. At ...   \n",
       "...                                                  ...   \n",
       "26901  I have gotten my nails done at a salon. But I ...   \n",
       "26937       \"디자인, 예술적 숙달, 몰입도가 높은 세계를 통한 예술과 스토리텔링의 독립성\"   \n",
       "26940  So I'm putting on my acne patch. But honestly,...   \n",
       "26981  It's even more frustrating and stuffy. When wi...   \n",
       "26989  Really? The last time you came in for a checku...   \n",
       "\n",
       "                                file_name source_language target_language  \\\n",
       "8       ko-en_SP_SH_ko_en_100010-2231-1-8              ko              en   \n",
       "55      ko-en_SP_SH_ko_en_100010-2212-1-2              ko              en   \n",
       "62      ko-en_SP_CA_ko_en_100010-2020-1-2              ko              en   \n",
       "73      ko-en_SP_SH_ko_en_100010-2183-1-2              ko              en   \n",
       "109     ko-en_SP_SH_ko_en_100010-2219-1-2              ko              en   \n",
       "...                                   ...             ...             ...   \n",
       "26901   ko-en_SP_CA_ko_en_100010-2125-1-2              ko              en   \n",
       "26937  en-ko_SP_CA_en_ko_100013-1261-1-12              en              ko   \n",
       "26940   ko-en_SP_CA_ko_en_100010-2051-1-8              ko              en   \n",
       "26981   ko-en_SP_SH_ko_en_100010-2231-1-6              ko              en   \n",
       "26989   ko-en_SP_SH_ko_en_100010-2237-1-2              ko              en   \n",
       "\n",
       "       punctuation_check   test  \n",
       "8                  False  False  \n",
       "55                 False  False  \n",
       "62                 False  False  \n",
       "73                 False  False  \n",
       "109                False  False  \n",
       "...                  ...    ...  \n",
       "26901              False  False  \n",
       "26937              False   True  \n",
       "26940              False  False  \n",
       "26981              False  False  \n",
       "26989              False  False  \n",
       "\n",
       "[850 rows x 9 columns]"
      ]
     },
     "execution_count": 102,
     "metadata": {},
     "output_type": "execute_result"
    }
   ],
   "source": [
    "utterance_type_df[utterance_type_df.punctuation_check == False]"
   ]
  },
  {
   "cell_type": "code",
   "execution_count": 56,
   "id": "3ba0f9cb",
   "metadata": {
    "ExecuteTime": {
     "end_time": "2023-08-25T06:10:04.626849Z",
     "start_time": "2023-08-25T06:10:04.609854Z"
    }
   },
   "outputs": [],
   "source": [
    "text = utterance_type_df.loc[26937,'source']"
   ]
  },
  {
   "cell_type": "code",
   "execution_count": 57,
   "id": "26cf6644",
   "metadata": {
    "ExecuteTime": {
     "end_time": "2023-08-25T06:10:11.354637Z",
     "start_time": "2023-08-25T06:10:11.336636Z"
    }
   },
   "outputs": [
    {
     "data": {
      "text/plain": [
       "'“excellence in art and storytelling through design, artistic mastery, and highly immersive worlds.”'"
      ]
     },
     "execution_count": 57,
     "metadata": {},
     "output_type": "execute_result"
    }
   ],
   "source": [
    "text"
   ]
  },
  {
   "cell_type": "code",
   "execution_count": 62,
   "id": "b2f54c86",
   "metadata": {
    "ExecuteTime": {
     "end_time": "2023-08-25T06:23:31.883692Z",
     "start_time": "2023-08-25T06:23:31.864667Z"
    }
   },
   "outputs": [
    {
     "data": {
      "text/plain": [
       "True"
      ]
     },
     "execution_count": 62,
     "metadata": {},
     "output_type": "execute_result"
    }
   ],
   "source": [
    "text[-1] in set(string.punctuation + '”')"
   ]
  },
  {
   "cell_type": "code",
   "execution_count": 76,
   "id": "5e1ef676",
   "metadata": {
    "ExecuteTime": {
     "end_time": "2023-08-25T06:53:53.642493Z",
     "start_time": "2023-08-25T06:53:53.627465Z"
    }
   },
   "outputs": [
    {
     "data": {
      "text/plain": [
       "{'!',\n",
       " '\"',\n",
       " '#',\n",
       " '$',\n",
       " '%',\n",
       " '&',\n",
       " \"'\",\n",
       " '(',\n",
       " ')',\n",
       " '*',\n",
       " '+',\n",
       " ',',\n",
       " '-',\n",
       " '.',\n",
       " '/',\n",
       " ':',\n",
       " ';',\n",
       " '<',\n",
       " '=',\n",
       " '>',\n",
       " '?',\n",
       " '@',\n",
       " '[',\n",
       " '\\\\',\n",
       " ']',\n",
       " '^',\n",
       " '_',\n",
       " '`',\n",
       " '{',\n",
       " '|',\n",
       " '}',\n",
       " '~'}"
      ]
     },
     "execution_count": 76,
     "metadata": {},
     "output_type": "execute_result"
    }
   ],
   "source": [
    "set(string.punctuation)"
   ]
  },
  {
   "cell_type": "code",
   "execution_count": 87,
   "id": "98a965bd",
   "metadata": {
    "ExecuteTime": {
     "end_time": "2023-08-25T07:01:03.540514Z",
     "start_time": "2023-08-25T07:01:03.529491Z"
    }
   },
   "outputs": [],
   "source": [
    "punctuation_add = '…‘’“”'   "
   ]
  },
  {
   "cell_type": "code",
   "execution_count": 67,
   "id": "5dbd2315",
   "metadata": {
    "ExecuteTime": {
     "end_time": "2023-08-25T06:40:43.347113Z",
     "start_time": "2023-08-25T06:40:43.338116Z"
    }
   },
   "outputs": [],
   "source": [
    "def has_punctuation_at_end_test(text):\n",
    "    punctuation_chars = set(punctuation_add)\n",
    "    return text in punctuation_chars"
   ]
  },
  {
   "cell_type": "code",
   "execution_count": 73,
   "id": "1c5639dc",
   "metadata": {
    "ExecuteTime": {
     "end_time": "2023-08-25T06:49:00.334921Z",
     "start_time": "2023-08-25T06:48:53.552987Z"
    }
   },
   "outputs": [
    {
     "name": "stdout",
     "output_type": "stream",
     "text": [
      "utterance_type_df\n",
      "1244\n",
      "specialty_df\n",
      "323\n",
      "ko_en_trans_df\n",
      "220181\n",
      "everyday_life_df\n",
      "255\n",
      "science_df\n",
      "549\n",
      "food_df\n",
      "10575\n",
      "contents_df\n",
      "1434\n"
     ]
    }
   ],
   "source": [
    "for df in dataset_list:\n",
    "    print(df.Name)\n",
    "    print(df.source.apply(contains_symbol).sum())"
   ]
  },
  {
   "cell_type": "code",
   "execution_count": 69,
   "id": "7c3e9b61",
   "metadata": {
    "ExecuteTime": {
     "end_time": "2023-08-25T06:43:46.397163Z",
     "start_time": "2023-08-25T06:43:46.370181Z"
    }
   },
   "outputs": [
    {
     "data": {
      "text/plain": [
       "0        False\n",
       "1        False\n",
       "2        False\n",
       "3        False\n",
       "4        False\n",
       "         ...  \n",
       "26997    False\n",
       "26998    False\n",
       "26999    False\n",
       "27000    False\n",
       "27001    False\n",
       "Name: source, Length: 27000, dtype: bool"
      ]
     },
     "execution_count": 69,
     "metadata": {},
     "output_type": "execute_result"
    }
   ],
   "source": [
    "utterance_type_df.source.apply(has_punctuation_at_end_test)"
   ]
  },
  {
   "cell_type": "code",
   "execution_count": 93,
   "id": "73aa4291",
   "metadata": {
    "ExecuteTime": {
     "end_time": "2023-08-25T07:04:33.582018Z",
     "start_time": "2023-08-25T07:04:33.578049Z"
    }
   },
   "outputs": [],
   "source": [
    "def contains_symbol(sentence):\n",
    "    for symbol in punctuation_add:\n",
    "        if symbol in sentence:\n",
    "            return True\n",
    "    return False"
   ]
  },
  {
   "cell_type": "code",
   "execution_count": 72,
   "id": "5ad91131",
   "metadata": {
    "ExecuteTime": {
     "end_time": "2023-08-25T06:48:21.249031Z",
     "start_time": "2023-08-25T06:48:21.233088Z"
    }
   },
   "outputs": [
    {
     "data": {
      "text/plain": [
       "True"
      ]
     },
     "execution_count": 72,
     "metadata": {},
     "output_type": "execute_result"
    }
   ],
   "source": [
    "contains_symbol(text)"
   ]
  },
  {
   "cell_type": "code",
   "execution_count": 75,
   "id": "a4016f71",
   "metadata": {
    "ExecuteTime": {
     "end_time": "2023-08-25T06:50:19.443469Z",
     "start_time": "2023-08-25T06:50:13.145219Z"
    }
   },
   "outputs": [
    {
     "name": "stdout",
     "output_type": "stream",
     "text": [
      "utterance_type_df\n",
      "26453\n",
      "specialty_df\n",
      "1350000\n",
      "ko_en_trans_df\n",
      "1599989\n",
      "everyday_life_df\n",
      "2686954\n",
      "science_df\n",
      "1350113\n",
      "food_df\n",
      "1349831\n",
      "contents_df\n",
      "579707\n"
     ]
    }
   ],
   "source": [
    "for df in dataset_list:\n",
    "    print(df.Name)\n",
    "    print(df.source.apply(contains_symbol).sum())"
   ]
  },
  {
   "cell_type": "code",
   "execution_count": 94,
   "id": "2027330b",
   "metadata": {
    "ExecuteTime": {
     "end_time": "2023-08-25T07:04:37.786386Z",
     "start_time": "2023-08-25T07:04:37.761389Z"
    }
   },
   "outputs": [],
   "source": [
    "utterance_type_df['test'] = utterance_type_df.source.apply(contains_symbol)"
   ]
  },
  {
   "cell_type": "code",
   "execution_count": 95,
   "id": "1f1550ab",
   "metadata": {
    "ExecuteTime": {
     "end_time": "2023-08-25T07:04:40.368562Z",
     "start_time": "2023-08-25T07:04:40.354247Z"
    }
   },
   "outputs": [
    {
     "data": {
      "text/html": [
       "<div>\n",
       "<style scoped>\n",
       "    .dataframe tbody tr th:only-of-type {\n",
       "        vertical-align: middle;\n",
       "    }\n",
       "\n",
       "    .dataframe tbody tr th {\n",
       "        vertical-align: top;\n",
       "    }\n",
       "\n",
       "    .dataframe thead th {\n",
       "        text-align: right;\n",
       "    }\n",
       "</style>\n",
       "<table border=\"1\" class=\"dataframe\">\n",
       "  <thead>\n",
       "    <tr style=\"text-align: right;\">\n",
       "      <th></th>\n",
       "      <th>sn</th>\n",
       "      <th>data_set</th>\n",
       "      <th>source</th>\n",
       "      <th>target</th>\n",
       "      <th>file_name</th>\n",
       "      <th>source_language</th>\n",
       "      <th>target_language</th>\n",
       "      <th>punctuation_check</th>\n",
       "      <th>test</th>\n",
       "    </tr>\n",
       "  </thead>\n",
       "  <tbody>\n",
       "    <tr>\n",
       "      <th>42</th>\n",
       "      <td>100013-615-1-10</td>\n",
       "      <td>기계번역 병렬 말뭉치 데이터</td>\n",
       "      <td>After the caribou program’s inaugural year, re...</td>\n",
       "      <td>순록 구제 프로그램이 시작된 해 이후 연구자들은 프로젝트의 두 번째 단계로 암컷 순...</td>\n",
       "      <td>en-ko_WR_ST_en_ko_100013-615-1-10</td>\n",
       "      <td>en</td>\n",
       "      <td>ko</td>\n",
       "      <td>True</td>\n",
       "      <td>True</td>\n",
       "    </tr>\n",
       "    <tr>\n",
       "      <th>64</th>\n",
       "      <td>100013-296-1-1</td>\n",
       "      <td>기계번역 병렬 말뭉치 데이터</td>\n",
       "      <td>Drone observations can reveal more about shark...</td>\n",
       "      <td>드론 관찰로 인해 상어의 움직임, 식습관, 사회적 관계, 서식지에 있는 사람들에 대...</td>\n",
       "      <td>en-ko_WR_ST_en_ko_100013-296-1-1</td>\n",
       "      <td>en</td>\n",
       "      <td>ko</td>\n",
       "      <td>True</td>\n",
       "      <td>True</td>\n",
       "    </tr>\n",
       "    <tr>\n",
       "      <th>67</th>\n",
       "      <td>100013-37-1-1</td>\n",
       "      <td>기계번역 병렬 말뭉치 데이터</td>\n",
       "      <td>Among Korea’s oral traditions, “pansori,” or n...</td>\n",
       "      <td>한국의 구전 중 \"판소리\"는 서사극과 민요극을 말하며 관객이 참여하는 공연이다.</td>\n",
       "      <td>en-ko_WR_CA_en_ko_100013-37-1-1</td>\n",
       "      <td>en</td>\n",
       "      <td>ko</td>\n",
       "      <td>True</td>\n",
       "      <td>True</td>\n",
       "    </tr>\n",
       "    <tr>\n",
       "      <th>81</th>\n",
       "      <td>100013-614-1-2</td>\n",
       "      <td>기계번역 병렬 말뭉치 데이터</td>\n",
       "      <td>so I can’t even imagine what 2008 was like for...</td>\n",
       "      <td>그렇다보니 2008년이 엄마에겐 어땠을지 상상조차 못할 것 같아.</td>\n",
       "      <td>en-ko_CH_ES_en_ko_100013-614-1-2</td>\n",
       "      <td>en</td>\n",
       "      <td>ko</td>\n",
       "      <td>True</td>\n",
       "      <td>True</td>\n",
       "    </tr>\n",
       "    <tr>\n",
       "      <th>91</th>\n",
       "      <td>100013-38-1-8</td>\n",
       "      <td>기계번역 병렬 말뭉치 데이터</td>\n",
       "      <td>The next section, highlighting the success of ...</td>\n",
       "      <td>한국 드라마와 영화의 성공을 강조하는 다음 섹션에는 넷플릭스의 \"오징어 게임\"의 상...</td>\n",
       "      <td>en-ko_WR_CA_en_ko_100013-38-1-8</td>\n",
       "      <td>en</td>\n",
       "      <td>ko</td>\n",
       "      <td>True</td>\n",
       "      <td>True</td>\n",
       "    </tr>\n",
       "    <tr>\n",
       "      <th>...</th>\n",
       "      <td>...</td>\n",
       "      <td>...</td>\n",
       "      <td>...</td>\n",
       "      <td>...</td>\n",
       "      <td>...</td>\n",
       "      <td>...</td>\n",
       "      <td>...</td>\n",
       "      <td>...</td>\n",
       "      <td>...</td>\n",
       "    </tr>\n",
       "    <tr>\n",
       "      <th>26963</th>\n",
       "      <td>100013-848-1-4</td>\n",
       "      <td>기계번역 병렬 말뭉치 데이터</td>\n",
       "      <td>It requires just 5 ingredients, and they’re al...</td>\n",
       "      <td>5가지 재료만 있으면 되는데, 그것도 아마 항상 팬트리에 있을법한 것들이다.</td>\n",
       "      <td>en-ko_CH_CA_en_ko_100013-848-1-4</td>\n",
       "      <td>en</td>\n",
       "      <td>ko</td>\n",
       "      <td>True</td>\n",
       "      <td>True</td>\n",
       "    </tr>\n",
       "    <tr>\n",
       "      <th>26972</th>\n",
       "      <td>100013-1219-1-3</td>\n",
       "      <td>기계번역 병렬 말뭉치 데이터</td>\n",
       "      <td>It’s called the eye of the tornado or the hurr...</td>\n",
       "      <td>그것은 토네이도 또는 허리케인의 눈이라고 불립니다.</td>\n",
       "      <td>en-ko_SP_ST_en_ko_100013-1219-1-3</td>\n",
       "      <td>en</td>\n",
       "      <td>ko</td>\n",
       "      <td>True</td>\n",
       "      <td>True</td>\n",
       "    </tr>\n",
       "    <tr>\n",
       "      <th>26974</th>\n",
       "      <td>100013-50-1-2</td>\n",
       "      <td>기계번역 병렬 말뭉치 데이터</td>\n",
       "      <td>Two men fall into each other‘s arms on a bed.</td>\n",
       "      <td>두 남자가 침대 위에서 서로의 품에 안깁니다.</td>\n",
       "      <td>en-ko_WR_CA_en_ko_100013-50-1-2</td>\n",
       "      <td>en</td>\n",
       "      <td>ko</td>\n",
       "      <td>True</td>\n",
       "      <td>True</td>\n",
       "    </tr>\n",
       "    <tr>\n",
       "      <th>26982</th>\n",
       "      <td>100010-2463-1-11</td>\n",
       "      <td>기계번역 병렬 말뭉치 데이터</td>\n",
       "      <td>고급차는 물론이고 ‘첫차’ 선호도가 높은 차종에도 다양한 안전·편의사양을 끼워 넣는...</td>\n",
       "      <td>It is a trend to put various safety and conven...</td>\n",
       "      <td>ko-en_WR_ST_ko_en_100010-2463-1-11</td>\n",
       "      <td>ko</td>\n",
       "      <td>en</td>\n",
       "      <td>True</td>\n",
       "      <td>True</td>\n",
       "    </tr>\n",
       "    <tr>\n",
       "      <th>27001</th>\n",
       "      <td>100013-1057-1-4</td>\n",
       "      <td>기계번역 병렬 말뭉치 데이터</td>\n",
       "      <td>I don’t have emotional support, but I’ll conti...</td>\n",
       "      <td>정서적인 지지을 받고 있지는 않지만 나는 계속 나 자신을 위해 싸울 거야.</td>\n",
       "      <td>en-ko_CH_SH_en_ko_100013-1057-1-4</td>\n",
       "      <td>en</td>\n",
       "      <td>ko</td>\n",
       "      <td>True</td>\n",
       "      <td>True</td>\n",
       "    </tr>\n",
       "  </tbody>\n",
       "</table>\n",
       "<p>1208 rows × 9 columns</p>\n",
       "</div>"
      ],
      "text/plain": [
       "                     sn         data_set  \\\n",
       "42      100013-615-1-10  기계번역 병렬 말뭉치 데이터   \n",
       "64       100013-296-1-1  기계번역 병렬 말뭉치 데이터   \n",
       "67        100013-37-1-1  기계번역 병렬 말뭉치 데이터   \n",
       "81       100013-614-1-2  기계번역 병렬 말뭉치 데이터   \n",
       "91        100013-38-1-8  기계번역 병렬 말뭉치 데이터   \n",
       "...                 ...              ...   \n",
       "26963    100013-848-1-4  기계번역 병렬 말뭉치 데이터   \n",
       "26972   100013-1219-1-3  기계번역 병렬 말뭉치 데이터   \n",
       "26974     100013-50-1-2  기계번역 병렬 말뭉치 데이터   \n",
       "26982  100010-2463-1-11  기계번역 병렬 말뭉치 데이터   \n",
       "27001   100013-1057-1-4  기계번역 병렬 말뭉치 데이터   \n",
       "\n",
       "                                                  source  \\\n",
       "42     After the caribou program’s inaugural year, re...   \n",
       "64     Drone observations can reveal more about shark...   \n",
       "67     Among Korea’s oral traditions, “pansori,” or n...   \n",
       "81     so I can’t even imagine what 2008 was like for...   \n",
       "91     The next section, highlighting the success of ...   \n",
       "...                                                  ...   \n",
       "26963  It requires just 5 ingredients, and they’re al...   \n",
       "26972  It’s called the eye of the tornado or the hurr...   \n",
       "26974      Two men fall into each other‘s arms on a bed.   \n",
       "26982  고급차는 물론이고 ‘첫차’ 선호도가 높은 차종에도 다양한 안전·편의사양을 끼워 넣는...   \n",
       "27001  I don’t have emotional support, but I’ll conti...   \n",
       "\n",
       "                                                  target  \\\n",
       "42     순록 구제 프로그램이 시작된 해 이후 연구자들은 프로젝트의 두 번째 단계로 암컷 순...   \n",
       "64     드론 관찰로 인해 상어의 움직임, 식습관, 사회적 관계, 서식지에 있는 사람들에 대...   \n",
       "67         한국의 구전 중 \"판소리\"는 서사극과 민요극을 말하며 관객이 참여하는 공연이다.    \n",
       "81                 그렇다보니 2008년이 엄마에겐 어땠을지 상상조차 못할 것 같아.    \n",
       "91     한국 드라마와 영화의 성공을 강조하는 다음 섹션에는 넷플릭스의 \"오징어 게임\"의 상...   \n",
       "...                                                  ...   \n",
       "26963         5가지 재료만 있으면 되는데, 그것도 아마 항상 팬트리에 있을법한 것들이다.   \n",
       "26972                       그것은 토네이도 또는 허리케인의 눈이라고 불립니다.   \n",
       "26974                         두 남자가 침대 위에서 서로의 품에 안깁니다.    \n",
       "26982  It is a trend to put various safety and conven...   \n",
       "27001          정서적인 지지을 받고 있지는 않지만 나는 계속 나 자신을 위해 싸울 거야.   \n",
       "\n",
       "                                file_name source_language target_language  \\\n",
       "42      en-ko_WR_ST_en_ko_100013-615-1-10              en              ko   \n",
       "64       en-ko_WR_ST_en_ko_100013-296-1-1              en              ko   \n",
       "67        en-ko_WR_CA_en_ko_100013-37-1-1              en              ko   \n",
       "81       en-ko_CH_ES_en_ko_100013-614-1-2              en              ko   \n",
       "91        en-ko_WR_CA_en_ko_100013-38-1-8              en              ko   \n",
       "...                                   ...             ...             ...   \n",
       "26963    en-ko_CH_CA_en_ko_100013-848-1-4              en              ko   \n",
       "26972   en-ko_SP_ST_en_ko_100013-1219-1-3              en              ko   \n",
       "26974     en-ko_WR_CA_en_ko_100013-50-1-2              en              ko   \n",
       "26982  ko-en_WR_ST_ko_en_100010-2463-1-11              ko              en   \n",
       "27001   en-ko_CH_SH_en_ko_100013-1057-1-4              en              ko   \n",
       "\n",
       "       punctuation_check  test  \n",
       "42                  True  True  \n",
       "64                  True  True  \n",
       "67                  True  True  \n",
       "81                  True  True  \n",
       "91                  True  True  \n",
       "...                  ...   ...  \n",
       "26963               True  True  \n",
       "26972               True  True  \n",
       "26974               True  True  \n",
       "26982               True  True  \n",
       "27001               True  True  \n",
       "\n",
       "[1208 rows x 9 columns]"
      ]
     },
     "execution_count": 95,
     "metadata": {},
     "output_type": "execute_result"
    }
   ],
   "source": [
    "utterance_type_df[utterance_type_df.test==True]"
   ]
  },
  {
   "cell_type": "code",
   "execution_count": 98,
   "id": "6145a1fc",
   "metadata": {
    "ExecuteTime": {
     "end_time": "2023-08-25T07:16:55.092779Z",
     "start_time": "2023-08-25T07:16:55.081805Z"
    }
   },
   "outputs": [
    {
     "data": {
      "text/plain": [
       "'고급차는 물론이고 ‘첫차’ 선호도가 높은 차종에도 다양한 안전·편의사양을 끼워 넣는 추세다.'"
      ]
     },
     "execution_count": 98,
     "metadata": {},
     "output_type": "execute_result"
    }
   ],
   "source": [
    "utterance_type_df.loc[26982,'source']"
   ]
  },
  {
   "cell_type": "code",
   "execution_count": 97,
   "id": "3bdf33d3",
   "metadata": {
    "ExecuteTime": {
     "end_time": "2023-08-25T07:16:34.503112Z",
     "start_time": "2023-08-25T07:16:34.490085Z"
    }
   },
   "outputs": [
    {
     "data": {
      "text/plain": [
       "False"
      ]
     },
     "execution_count": 97,
     "metadata": {},
     "output_type": "execute_result"
    }
   ],
   "source": [
    "\"’\" == \"'\""
   ]
  },
  {
   "cell_type": "markdown",
   "id": "4a34d73a",
   "metadata": {},
   "source": [
    "### 특수 문자 확인"
   ]
  },
  {
   "cell_type": "code",
   "execution_count": 13,
   "id": "68e385b4",
   "metadata": {
    "ExecuteTime": {
     "end_time": "2023-09-07T01:49:02.138716Z",
     "start_time": "2023-09-07T01:49:02.132718Z"
    }
   },
   "outputs": [
    {
     "name": "stdout",
     "output_type": "stream",
     "text": [
      "[':', ')', '?']\n"
     ]
    }
   ],
   "source": [
    "# 특수문자 추출\n",
    "import re\n",
    "text = ':)bitcoin is real?'\n",
    "special = re.compile(r'[^ A-Za-z0-9가-힣+]')\n",
    "result = special.findall(text)\n",
    "print(result)"
   ]
  },
  {
   "cell_type": "code",
   "execution_count": 12,
   "id": "f6dbbcb5",
   "metadata": {
    "ExecuteTime": {
     "end_time": "2023-09-12T01:09:55.797042Z",
     "start_time": "2023-09-12T01:09:55.785044Z"
    }
   },
   "outputs": [],
   "source": [
    "import re\n",
    "def special_check(text):\n",
    "    special = re.compile(r'[^ A-Za-z0-9가-힣ㄱ-ㅎㅏ-ㅣ]') ###r'[^ A-Za-z0-9가-힣+]'\n",
    "    result = special.findall(text)\n",
    "    return result\n",
    "def not_in_string_punctuation(text_list):\n",
    "    return (set(text_list) - set(string.punctuation))"
   ]
  },
  {
   "cell_type": "code",
   "execution_count": 13,
   "id": "17e453f6",
   "metadata": {
    "ExecuteTime": {
     "end_time": "2023-09-12T01:09:56.714168Z",
     "start_time": "2023-09-12T01:09:56.696138Z"
    }
   },
   "outputs": [],
   "source": [
    "def special_check_df_make(df):\n",
    "    special_check_df = pd.DataFrame()\n",
    "    df['ko'],df['en'] = zip(*df.apply(rearrange_values, axis=1))\n",
    "    special_check_df['source'] = df.ko\n",
    "    df.drop(['ko', 'en'], axis=1, inplace=True) \n",
    "    \n",
    "    special_check_df['check'] = special_check_df.source.apply(special_check)\n",
    "    special_check_df['check2'] = special_check_df.check.apply(not_in_string_punctuation)\n",
    "    special_check_df['check_count'] = special_check_df.check2.apply(len)\n",
    "    return special_check_df"
   ]
  },
  {
   "cell_type": "code",
   "execution_count": 76,
   "id": "8f811860",
   "metadata": {
    "ExecuteTime": {
     "end_time": "2023-08-29T04:56:04.171856Z",
     "start_time": "2023-08-29T04:56:04.151834Z"
    }
   },
   "outputs": [],
   "source": [
    "from ipypb import ipb\n",
    "import time"
   ]
  },
  {
   "cell_type": "code",
   "execution_count": 135,
   "id": "1037ce35",
   "metadata": {
    "ExecuteTime": {
     "end_time": "2023-08-28T07:11:50.322278Z",
     "start_time": "2023-08-28T07:05:24.927099Z"
    }
   },
   "outputs": [
    {
     "data": {
      "text/html": [
       "<div><span class=\"Text-label\" style=\"display:inline-block; overflow:hidden; white-space:nowrap; text-overflow:ellipsis; min-width:0; max-width:15ex; vertical-align:middle; text-align:right\"></span>\n",
       "<progress style=\"width:60ex\" max=\"7\" value=\"7\" class=\"Progress-main\"/></progress>\n",
       "<span class=\"Progress-label\"><strong>100%</strong></span>\n",
       "<span class=\"Iteration-label\">7/7</span>\n",
       "<span class=\"Time-label\">[06:25<00:12, 55.05s/it]</span></div>"
      ],
      "text/plain": [
       "\u001b[A\u001b[2K\r",
       " [████████████████████████████████████████████████████████████] 7/7 [06:25<00:12, 55.05s/it]"
      ]
     },
     "metadata": {},
     "output_type": "display_data"
    },
    {
     "name": "stdout",
     "output_type": "stream",
     "text": [
      "utterance_type_df\n",
      "specialty_df\n",
      "ko_en_trans_df\n",
      "everyday_life_df\n",
      "science_df\n",
      "food_df\n",
      "contents_df\n"
     ]
    }
   ],
   "source": [
    "# 전체 데이터 셋에서 string.punctuation(일반적인 기호)에 없는 기호 파악\n",
    "sign_list_except_string_punctuation = set()\n",
    "for df in ipb(dataset_list):\n",
    "    print(df.Name)\n",
    "    special_check_df = special_check_df_make(df)\n",
    "    sign_list_except_string_punctuation = sign_list_except_string_punctuation.union(reduce(lambda x, y: set(x).union(y), special_check_df['check2']))\n",
    "    time.sleep(1)"
   ]
  },
  {
   "cell_type": "code",
   "execution_count": 137,
   "id": "22e8f70e",
   "metadata": {
    "ExecuteTime": {
     "end_time": "2023-08-28T07:12:55.202092Z",
     "start_time": "2023-08-28T07:12:55.191122Z"
    }
   },
   "outputs": [
    {
     "data": {
      "text/plain": [
       "4600"
      ]
     },
     "execution_count": 137,
     "metadata": {},
     "output_type": "execute_result"
    }
   ],
   "source": [
    "# 총 특수 문자 갯수\n",
    "len(sign_list_except_string_punctuation)"
   ]
  },
  {
   "cell_type": "code",
   "execution_count": 105,
   "id": "13cfae9d",
   "metadata": {
    "ExecuteTime": {
     "end_time": "2023-08-29T05:57:49.443402Z",
     "start_time": "2023-08-29T05:57:21.287201Z"
    }
   },
   "outputs": [],
   "source": [
    "ko_en_trans_df_special_check = special_check_df_make(ko_en_trans_df)"
   ]
  },
  {
   "cell_type": "code",
   "execution_count": 106,
   "id": "4a5a1c60",
   "metadata": {
    "ExecuteTime": {
     "end_time": "2023-08-29T05:58:25.634894Z",
     "start_time": "2023-08-29T05:58:25.607896Z"
    }
   },
   "outputs": [
    {
     "data": {
      "text/html": [
       "<div>\n",
       "<style scoped>\n",
       "    .dataframe tbody tr th:only-of-type {\n",
       "        vertical-align: middle;\n",
       "    }\n",
       "\n",
       "    .dataframe tbody tr th {\n",
       "        vertical-align: top;\n",
       "    }\n",
       "\n",
       "    .dataframe thead th {\n",
       "        text-align: right;\n",
       "    }\n",
       "</style>\n",
       "<table border=\"1\" class=\"dataframe\">\n",
       "  <thead>\n",
       "    <tr style=\"text-align: right;\">\n",
       "      <th></th>\n",
       "      <th>source</th>\n",
       "      <th>check</th>\n",
       "      <th>check2</th>\n",
       "      <th>check_count</th>\n",
       "    </tr>\n",
       "  </thead>\n",
       "  <tbody>\n",
       "    <tr>\n",
       "      <th>0</th>\n",
       "      <td>흠 잡힐 만한 일은 피하는 게 좋다.</td>\n",
       "      <td>[.]</td>\n",
       "      <td>{}</td>\n",
       "      <td>0</td>\n",
       "    </tr>\n",
       "    <tr>\n",
       "      <th>1</th>\n",
       "      <td>힘 있는 직구 위주의 피칭이 빛을 발했다.</td>\n",
       "      <td>[.]</td>\n",
       "      <td>{}</td>\n",
       "      <td>0</td>\n",
       "    </tr>\n",
       "    <tr>\n",
       "      <th>2</th>\n",
       "      <td>취재진의 카메라 플래시가 쉴 새 없이 터졌다.</td>\n",
       "      <td>[.]</td>\n",
       "      <td>{}</td>\n",
       "      <td>0</td>\n",
       "    </tr>\n",
       "    <tr>\n",
       "      <th>3</th>\n",
       "      <td>모든 걸 내가 직접 준비를 하고 있다.</td>\n",
       "      <td>[.]</td>\n",
       "      <td>{}</td>\n",
       "      <td>0</td>\n",
       "    </tr>\n",
       "    <tr>\n",
       "      <th>4</th>\n",
       "      <td>연출을 맡은 박찬율 감독이 포즈를 취하고 있다.</td>\n",
       "      <td>[.]</td>\n",
       "      <td>{}</td>\n",
       "      <td>0</td>\n",
       "    </tr>\n",
       "    <tr>\n",
       "      <th>...</th>\n",
       "      <td>...</td>\n",
       "      <td>...</td>\n",
       "      <td>...</td>\n",
       "      <td>...</td>\n",
       "    </tr>\n",
       "    <tr>\n",
       "      <th>1602413</th>\n",
       "      <td>당시에는 경찰의 금지통보로 청와대 근처 집회가 불가능하던 시절이라 과연 경찰이 막지...</td>\n",
       "      <td>[.]</td>\n",
       "      <td>{}</td>\n",
       "      <td>0</td>\n",
       "    </tr>\n",
       "    <tr>\n",
       "      <th>1602414</th>\n",
       "      <td>양승태 대법원과 박근혜 청와대의 대표적 재판거래 의혹 사건으로 꼽히는 전국교직원노동...</td>\n",
       "      <td>[(, ), .]</td>\n",
       "      <td>{}</td>\n",
       "      <td>0</td>\n",
       "    </tr>\n",
       "    <tr>\n",
       "      <th>1602415</th>\n",
       "      <td>윤석열 서울중앙지검장이 19일 국정감사에 출석해 ‘적폐수사 1호’로 꼽히는 한국항공...</td>\n",
       "      <td>[‘, ’, (, ), “, ”, .]</td>\n",
       "      <td>{’, ‘, “, ”}</td>\n",
       "      <td>4</td>\n",
       "    </tr>\n",
       "    <tr>\n",
       "      <th>1602416</th>\n",
       "      <td>대법원에 재상고된 지 5년이 넘도록 재판이 지연되면서 양승태 대법원장 시절 대표적인...</td>\n",
       "      <td>[‘, ', .]</td>\n",
       "      <td>{‘}</td>\n",
       "      <td>1</td>\n",
       "    </tr>\n",
       "    <tr>\n",
       "      <th>1602417</th>\n",
       "      <td>‘양승태 대법원'은 민사소송규칙까지 고쳐 외교부가 대법원에 의견서를 제출할 수 있게...</td>\n",
       "      <td>[‘, ', ,, ·, .]</td>\n",
       "      <td>{‘, ·}</td>\n",
       "      <td>2</td>\n",
       "    </tr>\n",
       "  </tbody>\n",
       "</table>\n",
       "<p>1602418 rows × 4 columns</p>\n",
       "</div>"
      ],
      "text/plain": [
       "                                                    source  \\\n",
       "0                                     흠 잡힐 만한 일은 피하는 게 좋다.   \n",
       "1                                  힘 있는 직구 위주의 피칭이 빛을 발했다.   \n",
       "2                                취재진의 카메라 플래시가 쉴 새 없이 터졌다.   \n",
       "3                                    모든 걸 내가 직접 준비를 하고 있다.   \n",
       "4                               연출을 맡은 박찬율 감독이 포즈를 취하고 있다.   \n",
       "...                                                    ...   \n",
       "1602413  당시에는 경찰의 금지통보로 청와대 근처 집회가 불가능하던 시절이라 과연 경찰이 막지...   \n",
       "1602414  양승태 대법원과 박근혜 청와대의 대표적 재판거래 의혹 사건으로 꼽히는 전국교직원노동...   \n",
       "1602415  윤석열 서울중앙지검장이 19일 국정감사에 출석해 ‘적폐수사 1호’로 꼽히는 한국항공...   \n",
       "1602416  대법원에 재상고된 지 5년이 넘도록 재판이 지연되면서 양승태 대법원장 시절 대표적인...   \n",
       "1602417  ‘양승태 대법원'은 민사소송규칙까지 고쳐 외교부가 대법원에 의견서를 제출할 수 있게...   \n",
       "\n",
       "                         check        check2  check_count  \n",
       "0                          [.]            {}            0  \n",
       "1                          [.]            {}            0  \n",
       "2                          [.]            {}            0  \n",
       "3                          [.]            {}            0  \n",
       "4                          [.]            {}            0  \n",
       "...                        ...           ...          ...  \n",
       "1602413                    [.]            {}            0  \n",
       "1602414              [(, ), .]            {}            0  \n",
       "1602415  [‘, ’, (, ), “, ”, .]  {’, ‘, “, ”}            4  \n",
       "1602416              [‘, ', .]           {‘}            1  \n",
       "1602417        [‘, ', ,, ·, .]        {‘, ·}            2  \n",
       "\n",
       "[1602418 rows x 4 columns]"
      ]
     },
     "execution_count": 106,
     "metadata": {},
     "output_type": "execute_result"
    }
   ],
   "source": [
    "ko_en_trans_df_special_check"
   ]
  },
  {
   "cell_type": "code",
   "execution_count": 107,
   "id": "0d1d0f80",
   "metadata": {
    "ExecuteTime": {
     "end_time": "2023-08-29T06:00:01.883673Z",
     "start_time": "2023-08-29T06:00:01.878703Z"
    }
   },
   "outputs": [
    {
     "data": {
      "text/plain": [
       "\"대법원에 재상고된 지 5년이 넘도록 재판이 지연되면서 양승태 대법원장 시절 대표적인 재판거래 의혹으로 꼽혀온 ‘일제 강제징용 피해자 손해배상 청구' 소송의 재상고심 판결 선고일이 30일로 정해졌다.\""
      ]
     },
     "execution_count": 107,
     "metadata": {},
     "output_type": "execute_result"
    }
   ],
   "source": [
    "ko_en_trans_df_special_check.loc[1602416,'source']"
   ]
  },
  {
   "cell_type": "code",
   "execution_count": null,
   "id": "4c5714bd",
   "metadata": {},
   "outputs": [],
   "source": []
  },
  {
   "cell_type": "code",
   "execution_count": null,
   "id": "dc1080d4",
   "metadata": {},
   "outputs": [],
   "source": []
  },
  {
   "cell_type": "code",
   "execution_count": 143,
   "id": "b663e7bd",
   "metadata": {
    "ExecuteTime": {
     "end_time": "2023-08-28T07:26:46.991181Z",
     "start_time": "2023-08-28T07:26:46.879645Z"
    }
   },
   "outputs": [
    {
     "data": {
      "text/html": [
       "<div>\n",
       "<style scoped>\n",
       "    .dataframe tbody tr th:only-of-type {\n",
       "        vertical-align: middle;\n",
       "    }\n",
       "\n",
       "    .dataframe tbody tr th {\n",
       "        vertical-align: top;\n",
       "    }\n",
       "\n",
       "    .dataframe thead th {\n",
       "        text-align: right;\n",
       "    }\n",
       "</style>\n",
       "<table border=\"1\" class=\"dataframe\">\n",
       "  <thead>\n",
       "    <tr style=\"text-align: right;\">\n",
       "      <th></th>\n",
       "      <th>source</th>\n",
       "      <th>check</th>\n",
       "      <th>check2</th>\n",
       "      <th>check_count</th>\n",
       "    </tr>\n",
       "  </thead>\n",
       "  <tbody>\n",
       "    <tr>\n",
       "      <th>2815</th>\n",
       "      <td>‘객관적인 사실에 입각한 진심 보도를 최선을 다해야 한다.’</td>\n",
       "      <td>[‘, ., ’]</td>\n",
       "      <td>{’, ‘}</td>\n",
       "      <td>2</td>\n",
       "    </tr>\n",
       "    <tr>\n",
       "      <th>2816</th>\n",
       "      <td>‘기사를 복사해서 붙이다, 기사를 베끼다’ 같은 말이 자연스럽지 않나?</td>\n",
       "      <td>[‘, ,, ’, ?]</td>\n",
       "      <td>{’, ‘}</td>\n",
       "      <td>2</td>\n",
       "    </tr>\n",
       "    <tr>\n",
       "      <th>2817</th>\n",
       "      <td>‘기사를 쓰다, 기사를 작성하다’ 가 자연스러운 말이잖아요.</td>\n",
       "      <td>[‘, ,, ’, .]</td>\n",
       "      <td>{’, ‘}</td>\n",
       "      <td>2</td>\n",
       "    </tr>\n",
       "    <tr>\n",
       "      <th>2818</th>\n",
       "      <td>‘사실을 정확하고 객관적이고 공정한 보도함으로써 진실을 추구해야 한다.’</td>\n",
       "      <td>[‘, ., ’]</td>\n",
       "      <td>{’, ‘}</td>\n",
       "      <td>2</td>\n",
       "    </tr>\n",
       "    <tr>\n",
       "      <th>2819</th>\n",
       "      <td>‘이대남은 왜’라는 시리즈물입니다.</td>\n",
       "      <td>[‘, ’, .]</td>\n",
       "      <td>{’, ‘}</td>\n",
       "      <td>2</td>\n",
       "    </tr>\n",
       "    <tr>\n",
       "      <th>...</th>\n",
       "      <td>...</td>\n",
       "      <td>...</td>\n",
       "      <td>...</td>\n",
       "      <td>...</td>\n",
       "    </tr>\n",
       "    <tr>\n",
       "      <th>586355</th>\n",
       "      <td>오페라 &lt;&lt;Tannhäuser&gt; &gt; (1845), 작곡가는 이교도 여신 비너스의 호...</td>\n",
       "      <td>[&lt;, &lt;, ä, &gt;, &gt;, (, ), ,, ,, .]</td>\n",
       "      <td>{ä}</td>\n",
       "      <td>1</td>\n",
       "    </tr>\n",
       "    <tr>\n",
       "      <th>586594</th>\n",
       "      <td>슬라드코프스키가 지휘한 오케스트라는 &lt;&lt;뮤지컬 올림푸스&gt;&gt; &lt;&lt;페테르부르크 뮤지컬 ...</td>\n",
       "      <td>[&lt;, &lt;, &gt;, &gt;, &lt;, &lt;, &gt;, &gt;, &lt;, &lt;, &gt;, &gt;, &lt;, &lt;, &gt;, ...</td>\n",
       "      <td>{·}</td>\n",
       "      <td>1</td>\n",
       "    </tr>\n",
       "    <tr>\n",
       "      <th>586690</th>\n",
       "      <td>그곳에서 그들은 '단순한 구경꾼' 로서의 견해를 가질 수 있도록 연속하여 며칠 동안...</td>\n",
       "      <td>[', ', (, é, ), .]</td>\n",
       "      <td>{é}</td>\n",
       "      <td>1</td>\n",
       "    </tr>\n",
       "    <tr>\n",
       "      <th>586755</th>\n",
       "      <td>이것이 자신의 아내라는 사실을 모른 세르게이는 당황하여 진짜 아내를 완전히 잊어 버린다.</td>\n",
       "      <td>[ , .]</td>\n",
       "      <td>{ }</td>\n",
       "      <td>1</td>\n",
       "    </tr>\n",
       "    <tr>\n",
       "      <th>586940</th>\n",
       "      <td>1958년에 유제프 흐멜니츠키(Józef Khmelnitsky) 'Mr. X'가 감...</td>\n",
       "      <td>[(, ó, ), ', ., ', .]</td>\n",
       "      <td>{ó}</td>\n",
       "      <td>1</td>\n",
       "    </tr>\n",
       "  </tbody>\n",
       "</table>\n",
       "<p>2365 rows × 4 columns</p>\n",
       "</div>"
      ],
      "text/plain": [
       "                                                   source  \\\n",
       "2815                    ‘객관적인 사실에 입각한 진심 보도를 최선을 다해야 한다.’   \n",
       "2816              ‘기사를 복사해서 붙이다, 기사를 베끼다’ 같은 말이 자연스럽지 않나?   \n",
       "2817                    ‘기사를 쓰다, 기사를 작성하다’ 가 자연스러운 말이잖아요.   \n",
       "2818             ‘사실을 정확하고 객관적이고 공정한 보도함으로써 진실을 추구해야 한다.’   \n",
       "2819                                  ‘이대남은 왜’라는 시리즈물입니다.   \n",
       "...                                                   ...   \n",
       "586355  오페라 <<Tannhäuser> > (1845), 작곡가는 이교도 여신 비너스의 호...   \n",
       "586594  슬라드코프스키가 지휘한 오케스트라는 <<뮤지컬 올림푸스>> <<페테르부르크 뮤지컬 ...   \n",
       "586690  그곳에서 그들은 '단순한 구경꾼' 로서의 견해를 가질 수 있도록 연속하여 며칠 동안...   \n",
       "586755  이것이 자신의 아내라는 사실을 모른 세르게이는 당황하여 진짜 아내를 완전히 잊어 버린다.   \n",
       "586940  1958년에 유제프 흐멜니츠키(Józef Khmelnitsky) 'Mr. X'가 감...   \n",
       "\n",
       "                                                    check  check2  check_count  \n",
       "2815                                            [‘, ., ’]  {’, ‘}            2  \n",
       "2816                                         [‘, ,, ’, ?]  {’, ‘}            2  \n",
       "2817                                         [‘, ,, ’, .]  {’, ‘}            2  \n",
       "2818                                            [‘, ., ’]  {’, ‘}            2  \n",
       "2819                                            [‘, ’, .]  {’, ‘}            2  \n",
       "...                                                   ...     ...          ...  \n",
       "586355                     [<, <, ä, >, >, (, ), ,, ,, .]     {ä}            1  \n",
       "586594  [<, <, >, >, <, <, >, >, <, <, >, >, <, <, >, ...     {·}            1  \n",
       "586690                                 [', ', (, é, ), .]     {é}            1  \n",
       "586755                                             [ , .]     { }            1  \n",
       "586940                              [(, ó, ), ', ., ', .]     {ó}            1  \n",
       "\n",
       "[2365 rows x 4 columns]"
      ]
     },
     "execution_count": 143,
     "metadata": {},
     "output_type": "execute_result"
    }
   ],
   "source": [
    "contents_df_special_check[contents_df_special_check.check_count>0]"
   ]
  },
  {
   "cell_type": "code",
   "execution_count": 148,
   "id": "0266ca94",
   "metadata": {
    "ExecuteTime": {
     "end_time": "2023-08-28T07:47:47.260619Z",
     "start_time": "2023-08-28T07:47:47.253646Z"
    }
   },
   "outputs": [
    {
     "data": {
      "text/plain": [
       "'’, ‘'"
      ]
     },
     "execution_count": 148,
     "metadata": {},
     "output_type": "execute_result"
    }
   ],
   "source": [
    "\"’, ‘\""
   ]
  },
  {
   "cell_type": "code",
   "execution_count": 145,
   "id": "29e87d3a",
   "metadata": {
    "ExecuteTime": {
     "end_time": "2023-08-28T07:28:38.697365Z",
     "start_time": "2023-08-28T07:28:38.687338Z"
    }
   },
   "outputs": [
    {
     "data": {
      "text/plain": [
       "'‘이대남은 왜’라는 시리즈물입니다.'"
      ]
     },
     "execution_count": 145,
     "metadata": {},
     "output_type": "execute_result"
    }
   ],
   "source": [
    "contents_df_special_check.loc[2819,'source']"
   ]
  },
  {
   "cell_type": "code",
   "execution_count": 140,
   "id": "22ccaa1c",
   "metadata": {
    "ExecuteTime": {
     "end_time": "2023-08-28T07:14:25.822993Z",
     "start_time": "2023-08-28T07:14:25.151043Z"
    },
    "scrolled": true
   },
   "outputs": [],
   "source": [
    "test_list = reduce(lambda x, y: set(x).union(y), contents_df_special_check['check2'])"
   ]
  },
  {
   "cell_type": "code",
   "execution_count": 142,
   "id": "1479fa6a",
   "metadata": {
    "ExecuteTime": {
     "end_time": "2023-08-28T07:14:39.852573Z",
     "start_time": "2023-08-28T07:14:39.846557Z"
    }
   },
   "outputs": [
    {
     "data": {
      "text/plain": [
       "116"
      ]
     },
     "execution_count": 142,
     "metadata": {},
     "output_type": "execute_result"
    }
   ],
   "source": [
    "len(test_list)"
   ]
  },
  {
   "cell_type": "code",
   "execution_count": 134,
   "id": "c8696bac",
   "metadata": {
    "ExecuteTime": {
     "end_time": "2023-08-28T07:04:20.738127Z",
     "start_time": "2023-08-28T07:04:20.719783Z"
    }
   },
   "outputs": [
    {
     "data": {
      "text/plain": [
       "{'峠',\n",
       " 'イ',\n",
       " '◑',\n",
       " '擺',\n",
       " '枕',\n",
       " '梏',\n",
       " '灆',\n",
       " '淳',\n",
       " '湘',\n",
       " '螺',\n",
       " '人',\n",
       " '午',\n",
       " '堡',\n",
       " '爽',\n",
       " '再',\n",
       " '霓',\n",
       " '天',\n",
       " '制',\n",
       " '彊',\n",
       " '厭',\n",
       " '旗',\n",
       " '潟',\n",
       " '⑺',\n",
       " '藪',\n",
       " '璵',\n",
       " '敾',\n",
       " '滑',\n",
       " '油',\n",
       " '潮',\n",
       " '上',\n",
       " '奭',\n",
       " '侈',\n",
       " '良',\n",
       " '鈍',\n",
       " '履',\n",
       " '漣',\n",
       " '要',\n",
       " '賻',\n",
       " '稿',\n",
       " '悔',\n",
       " '烈',\n",
       " '硏',\n",
       " '請',\n",
       " '歃',\n",
       " '冑',\n",
       " '巾',\n",
       " '趣',\n",
       " '令',\n",
       " '嘆',\n",
       " 'Ω',\n",
       " '嶼',\n",
       " '斜',\n",
       " '葖',\n",
       " '｣',\n",
       " '威',\n",
       " '烏',\n",
       " '紗',\n",
       " '⑴',\n",
       " '諧',\n",
       " '喧',\n",
       " '映',\n",
       " '港',\n",
       " '險',\n",
       " '【',\n",
       " '登',\n",
       " '廬',\n",
       " '偏',\n",
       " '蕃',\n",
       " '帳',\n",
       " '職',\n",
       " '闢',\n",
       " '害',\n",
       " '弓',\n",
       " '洛',\n",
       " '遠',\n",
       " '槪',\n",
       " '璟',\n",
       " '屑',\n",
       " '薺',\n",
       " 'じ',\n",
       " '泮',\n",
       " '砂',\n",
       " '飢',\n",
       " '鯤',\n",
       " '鉉',\n",
       " '鑛',\n",
       " '少',\n",
       " '許',\n",
       " '字',\n",
       " '諷',\n",
       " '化',\n",
       " '歷',\n",
       " '蘆',\n",
       " '椎',\n",
       " '\\U000f0854',\n",
       " '洧',\n",
       " '≡',\n",
       " '勤',\n",
       " '論',\n",
       " '效',\n",
       " '幼',\n",
       " '棋',\n",
       " '帶',\n",
       " '垈',\n",
       " '讓',\n",
       " '邵',\n",
       " '戀',\n",
       " '瓚',\n",
       " '濕',\n",
       " '蘚',\n",
       " '館',\n",
       " '裟',\n",
       " '裵',\n",
       " '殼',\n",
       " '濠',\n",
       " '築',\n",
       " '耶',\n",
       " '․',\n",
       " '幅',\n",
       " '佑',\n",
       " '〉',\n",
       " '斑',\n",
       " '頁',\n",
       " '士',\n",
       " '旬',\n",
       " '典',\n",
       " '₃',\n",
       " '哭',\n",
       " 'ü',\n",
       " 'и',\n",
       " '状',\n",
       " '厨',\n",
       " '齊',\n",
       " '裳',\n",
       " '嵌',\n",
       " '胥',\n",
       " '泉',\n",
       " '裏',\n",
       " '・',\n",
       " '酋',\n",
       " '雪',\n",
       " '顧',\n",
       " '義',\n",
       " '軟',\n",
       " '駒',\n",
       " '□',\n",
       " '㎛',\n",
       " '兢',\n",
       " '嶝',\n",
       " '詩',\n",
       " '蓋',\n",
       " '呼',\n",
       " '炙',\n",
       " '÷',\n",
       " '琵',\n",
       " 'н',\n",
       " '流',\n",
       " '哈',\n",
       " '膽',\n",
       " '楊',\n",
       " '蕩',\n",
       " '狷',\n",
       " '編',\n",
       " '暮',\n",
       " '莊',\n",
       " '鷺',\n",
       " '駐',\n",
       " '蔘',\n",
       " '數',\n",
       " '砲',\n",
       " '梯',\n",
       " '滕',\n",
       " '稔',\n",
       " '悳',\n",
       " '簡',\n",
       " '廟',\n",
       " '咤',\n",
       " '獐',\n",
       " '痼',\n",
       " '儉',\n",
       " '漑',\n",
       " '崛',\n",
       " '渭',\n",
       " '秦',\n",
       " '弗',\n",
       " '✕',\n",
       " 'ː',\n",
       " '房',\n",
       " '妓',\n",
       " '釘',\n",
       " '晩',\n",
       " '※',\n",
       " '⌟',\n",
       " '綜',\n",
       " '鐵',\n",
       " '遝',\n",
       " '音',\n",
       " '璘',\n",
       " '雁',\n",
       " '笙',\n",
       " '寓',\n",
       " '猛',\n",
       " '氵',\n",
       " '默',\n",
       " '霜',\n",
       " '宇',\n",
       " '₁',\n",
       " '痴',\n",
       " '粒',\n",
       " '渲',\n",
       " '缶',\n",
       " '垣',\n",
       " '菱',\n",
       " '舌',\n",
       " '麓',\n",
       " '素',\n",
       " '彙',\n",
       " '撐',\n",
       " '品',\n",
       " '授',\n",
       " '适',\n",
       " '纓',\n",
       " '綿',\n",
       " '駕',\n",
       " '鋒',\n",
       " '船',\n",
       " '脚',\n",
       " '不',\n",
       " '齋',\n",
       " '陋',\n",
       " '晋',\n",
       " '套',\n",
       " '紂',\n",
       " '璜',\n",
       " '宕',\n",
       " '瑞',\n",
       " '㉱',\n",
       " '質',\n",
       " '㎖',\n",
       " '畫',\n",
       " '隷',\n",
       " '堠',\n",
       " '衰',\n",
       " '殿',\n",
       " '撫',\n",
       " '嫁',\n",
       " '州',\n",
       " '甫',\n",
       " '◆',\n",
       " '胞',\n",
       " '蹄',\n",
       " '堪',\n",
       " '貢',\n",
       " '塢',\n",
       " '喪',\n",
       " '⑱',\n",
       " '懦',\n",
       " '弧',\n",
       " '艾',\n",
       " '派',\n",
       " '痢',\n",
       " '璧',\n",
       " '移',\n",
       " '左',\n",
       " 'п',\n",
       " '崙',\n",
       " '覺',\n",
       " '遇',\n",
       " '莒',\n",
       " '絿',\n",
       " '閣',\n",
       " '子',\n",
       " '器',\n",
       " '犧',\n",
       " '祺',\n",
       " '快',\n",
       " 'ク',\n",
       " '茶',\n",
       " '需',\n",
       " '貴',\n",
       " '愧',\n",
       " '㙆',\n",
       " '辣',\n",
       " '藁',\n",
       " '劇',\n",
       " '院',\n",
       " '洵',\n",
       " '誼',\n",
       " '貞',\n",
       " '種',\n",
       " '蕯',\n",
       " '沽',\n",
       " '夾',\n",
       " '苧',\n",
       " '粱',\n",
       " '●',\n",
       " '梓',\n",
       " '禴',\n",
       " '諍',\n",
       " '同',\n",
       " '旱',\n",
       " '焼',\n",
       " '珍',\n",
       " '順',\n",
       " '費',\n",
       " '記',\n",
       " '落',\n",
       " '輔',\n",
       " '沆',\n",
       " '勇',\n",
       " '凱',\n",
       " 'Ⅲ',\n",
       " '楸',\n",
       " '椧',\n",
       " '蒴',\n",
       " '沖',\n",
       " '瓘',\n",
       " '\\U000f0853',\n",
       " '釣',\n",
       " '別',\n",
       " 'ス',\n",
       " '疫',\n",
       " '觝',\n",
       " '庾',\n",
       " '簽',\n",
       " '瓊',\n",
       " '裸',\n",
       " '牧',\n",
       " '㈕',\n",
       " '瓠',\n",
       " '寄',\n",
       " '畵',\n",
       " '巳',\n",
       " '觀',\n",
       " '于',\n",
       " '瓔',\n",
       " '簇',\n",
       " '抑',\n",
       " '䃴',\n",
       " '塞',\n",
       " '象',\n",
       " '央',\n",
       " '溺',\n",
       " '丁',\n",
       " '啓',\n",
       " '霽',\n",
       " '幀',\n",
       " '往',\n",
       " '榕',\n",
       " '錢',\n",
       " '丕',\n",
       " '涀',\n",
       " '®',\n",
       " '杞',\n",
       " '胃',\n",
       " '世',\n",
       " '裝',\n",
       " '玉',\n",
       " '濬',\n",
       " '郁',\n",
       " '蓴',\n",
       " '蕭',\n",
       " '嶺',\n",
       " '硃',\n",
       " '地',\n",
       " '虔',\n",
       " '責',\n",
       " '諟',\n",
       " '藩',\n",
       " '維',\n",
       " '顯',\n",
       " '訥',\n",
       " '羡',\n",
       " '艀',\n",
       " '陳',\n",
       " '凝',\n",
       " '難',\n",
       " '矩',\n",
       " '殖',\n",
       " '纏',\n",
       " '寇',\n",
       " '儲',\n",
       " '柄',\n",
       " '竭',\n",
       " '閒',\n",
       " '洁',\n",
       " '埰',\n",
       " '訣',\n",
       " '恭',\n",
       " '彧',\n",
       " '降',\n",
       " '祧',\n",
       " '幹',\n",
       " '㉥',\n",
       " '㎦',\n",
       " '蘊',\n",
       " '珣',\n",
       " '付',\n",
       " '援',\n",
       " '龕',\n",
       " '鬪',\n",
       " '甘',\n",
       " '橤',\n",
       " '翠',\n",
       " '飜',\n",
       " '隙',\n",
       " '以',\n",
       " '泝',\n",
       " '多',\n",
       " '荒',\n",
       " '\\U000f0850',\n",
       " '㎨',\n",
       " '棺',\n",
       " '肢',\n",
       " '髮',\n",
       " '％',\n",
       " '勉',\n",
       " '▤',\n",
       " '塊',\n",
       " '隣',\n",
       " '狄',\n",
       " '菅',\n",
       " '佛',\n",
       " '愍',\n",
       " '臨',\n",
       " '烟',\n",
       " '熾',\n",
       " '拿',\n",
       " '憬',\n",
       " '岩',\n",
       " '朴',\n",
       " '〜',\n",
       " '峰',\n",
       " '鵠',\n",
       " '滴',\n",
       " '辭',\n",
       " 'ラ',\n",
       " '樽',\n",
       " '尼',\n",
       " '愈',\n",
       " '藥',\n",
       " '命',\n",
       " '㎚',\n",
       " '拍',\n",
       " '怒',\n",
       " '臣',\n",
       " '祭',\n",
       " '㉤',\n",
       " '芸',\n",
       " '櫃',\n",
       " '甑',\n",
       " '豚',\n",
       " '執',\n",
       " '酬',\n",
       " '溫',\n",
       " '㫌',\n",
       " '杠',\n",
       " '息',\n",
       " '養',\n",
       " '璹',\n",
       " '娟',\n",
       " '燮',\n",
       " '㈔',\n",
       " '秊',\n",
       " '誥',\n",
       " '占',\n",
       " '玫',\n",
       " '分',\n",
       " '折',\n",
       " '郎',\n",
       " '孀',\n",
       " '齌',\n",
       " '惑',\n",
       " '用',\n",
       " '猪',\n",
       " '求',\n",
       " '雩',\n",
       " '浦',\n",
       " '敍',\n",
       " '依',\n",
       " '周',\n",
       " '外',\n",
       " '爲',\n",
       " '❹',\n",
       " '氾',\n",
       " '欄',\n",
       " '櫻',\n",
       " '銅',\n",
       " '委',\n",
       " '乶',\n",
       " '斧',\n",
       " '樓',\n",
       " '騎',\n",
       " '銓',\n",
       " '塏',\n",
       " '㎈',\n",
       " '遐',\n",
       " '彎',\n",
       " '籤',\n",
       " '竝',\n",
       " '林',\n",
       " '溝',\n",
       " '民',\n",
       " '監',\n",
       " '跡',\n",
       " '贍',\n",
       " '揷',\n",
       " '金',\n",
       " '序',\n",
       " '臟',\n",
       " '被',\n",
       " 'ᄃ',\n",
       " '㉣',\n",
       " '體',\n",
       " '檀',\n",
       " '淆',\n",
       " '際',\n",
       " '脇',\n",
       " '紛',\n",
       " '譯',\n",
       " '禱',\n",
       " '捐',\n",
       " '佩',\n",
       " '砬',\n",
       " '筏',\n",
       " '墻',\n",
       " '「',\n",
       " '↔',\n",
       " 'ℓ',\n",
       " 'ʼ',\n",
       " '銑',\n",
       " '田',\n",
       " '催',\n",
       " '淙',\n",
       " '獜',\n",
       " '奢',\n",
       " '湯',\n",
       " '冒',\n",
       " '緻',\n",
       " '鵝',\n",
       " '秘',\n",
       " '絅',\n",
       " '蠶',\n",
       " '澈',\n",
       " '杲',\n",
       " '筌',\n",
       " '徳',\n",
       " '算',\n",
       " '防',\n",
       " '舊',\n",
       " '艹',\n",
       " '搏',\n",
       " '祐',\n",
       " '壞',\n",
       " '▥',\n",
       " '華',\n",
       " '頸',\n",
       " '逃',\n",
       " '伐',\n",
       " '末',\n",
       " '棟',\n",
       " '鑑',\n",
       " '拘',\n",
       " '粮',\n",
       " '哀',\n",
       " '鵾',\n",
       " '納',\n",
       " '泣',\n",
       " '邀',\n",
       " '㈁',\n",
       " '季',\n",
       " '帥',\n",
       " '寬',\n",
       " '庭',\n",
       " '▨',\n",
       " '鯼',\n",
       " '《',\n",
       " '參',\n",
       " '殘',\n",
       " '絶',\n",
       " '㎎',\n",
       " '菱',\n",
       " '晉',\n",
       " '織',\n",
       " '屠',\n",
       " '策',\n",
       " '栱',\n",
       " '寐',\n",
       " '傅',\n",
       " '苗',\n",
       " '聞',\n",
       " '鮎',\n",
       " '兄',\n",
       " '晝',\n",
       " '悟',\n",
       " '牒',\n",
       " '彫',\n",
       " '干',\n",
       " '鵲',\n",
       " '\\xad',\n",
       " '幣',\n",
       " '去',\n",
       " '嶷',\n",
       " '寫',\n",
       " '③',\n",
       " '弦',\n",
       " '奫',\n",
       " '斬',\n",
       " '輓',\n",
       " '稼',\n",
       " '住',\n",
       " 'ⓡ',\n",
       " '▷',\n",
       " '凍',\n",
       " '也',\n",
       " '冰',\n",
       " '氏',\n",
       " '基',\n",
       " '槽',\n",
       " '掌',\n",
       " '徑',\n",
       " '珦',\n",
       " '赤',\n",
       " '察',\n",
       " '飼',\n",
       " '投',\n",
       " '蒜',\n",
       " '鷗',\n",
       " '－',\n",
       " '銀',\n",
       " '祀',\n",
       " '剝',\n",
       " '溜',\n",
       " '受',\n",
       " '︎',\n",
       " '裁',\n",
       " '尾',\n",
       " '癸',\n",
       " '歡',\n",
       " '㈑',\n",
       " '褐',\n",
       " '勝',\n",
       " '割',\n",
       " '莪',\n",
       " '淸',\n",
       " '仝',\n",
       " '圓',\n",
       " '讐',\n",
       " '幡',\n",
       " '妃',\n",
       " '龜',\n",
       " '二',\n",
       " '武',\n",
       " 'Ⅰ',\n",
       " '鍵',\n",
       " '鷄',\n",
       " '箋',\n",
       " '禹',\n",
       " '函',\n",
       " '陈',\n",
       " '村',\n",
       " '霹',\n",
       " '相',\n",
       " '霞',\n",
       " '迪',\n",
       " '『',\n",
       " '舜',\n",
       " '敏',\n",
       " '瑩',\n",
       " '曜',\n",
       " '衡',\n",
       " '嶽',\n",
       " '奠',\n",
       " '尤',\n",
       " '敗',\n",
       " '類',\n",
       " '芦',\n",
       " 'ワ',\n",
       " '層',\n",
       " '迦',\n",
       " '程',\n",
       " '睛',\n",
       " '∠',\n",
       " '身',\n",
       " '謙',\n",
       " '粗',\n",
       " '雄',\n",
       " '榥',\n",
       " '繡',\n",
       " '凰',\n",
       " '沈',\n",
       " '百',\n",
       " '塾',\n",
       " '庫',\n",
       " '琓',\n",
       " '頑',\n",
       " '廢',\n",
       " '洪',\n",
       " '虎',\n",
       " '栽',\n",
       " '綠',\n",
       " '修',\n",
       " '將',\n",
       " '齒',\n",
       " '蓼',\n",
       " '伏',\n",
       " '槻',\n",
       " '聳',\n",
       " '老',\n",
       " '鄕',\n",
       " '綸',\n",
       " 'θ',\n",
       " '暑',\n",
       " '禦',\n",
       " '碾',\n",
       " '籍',\n",
       " '創',\n",
       " '蟄',\n",
       " '旨',\n",
       " '滔',\n",
       " '渠',\n",
       " '縱',\n",
       " '㉲',\n",
       " '顎',\n",
       " '腺',\n",
       " '沁',\n",
       " '而',\n",
       " '潭',\n",
       " '補',\n",
       " '璿',\n",
       " '醉',\n",
       " '鄭',\n",
       " '↑',\n",
       " '藫',\n",
       " '肇',\n",
       " '曮',\n",
       " '送',\n",
       " '生',\n",
       " '乳',\n",
       " '稜',\n",
       " '偕',\n",
       " '泊',\n",
       " '鱖',\n",
       " '坦',\n",
       " '豐',\n",
       " '弊',\n",
       " '倬',\n",
       " '葉',\n",
       " '沒',\n",
       " '待',\n",
       " '罪',\n",
       " '垕',\n",
       " '處',\n",
       " '習',\n",
       " '禍',\n",
       " '濁',\n",
       " '般',\n",
       " '陽',\n",
       " '談',\n",
       " '暄',\n",
       " '楞',\n",
       " '囿',\n",
       " '伸',\n",
       " '⑮',\n",
       " '億',\n",
       " 'Ⅴ',\n",
       " '進',\n",
       " '鴈',\n",
       " '耆',\n",
       " '黄',\n",
       " '₄',\n",
       " '賊',\n",
       " '婚',\n",
       " '屛',\n",
       " '黨',\n",
       " '惰',\n",
       " '施',\n",
       " '灌',\n",
       " '緬',\n",
       " '幢',\n",
       " '観',\n",
       " '湊',\n",
       " '²',\n",
       " 'プ',\n",
       " '析',\n",
       " '歲',\n",
       " '倒',\n",
       " '門',\n",
       " '耕',\n",
       " '℃',\n",
       " '宝',\n",
       " '共',\n",
       " '蝦',\n",
       " '借',\n",
       " '圻',\n",
       " '倭',\n",
       " '頒',\n",
       " '挰',\n",
       " '毛',\n",
       " '扉',\n",
       " '灸',\n",
       " '皆',\n",
       " '薰',\n",
       " '窟',\n",
       " '畯',\n",
       " '甕',\n",
       " '鐸',\n",
       " '未',\n",
       " '撞',\n",
       " '㎢',\n",
       " '苯',\n",
       " 'δ',\n",
       " '可',\n",
       " '勃',\n",
       " '仰',\n",
       " '桂',\n",
       " '盟',\n",
       " '吹',\n",
       " '蛟',\n",
       " '蝟',\n",
       " '避',\n",
       " '葕',\n",
       " '祖',\n",
       " '艸',\n",
       " '濩',\n",
       " '材',\n",
       " '淺',\n",
       " '故',\n",
       " '㎐',\n",
       " '列',\n",
       " '樞',\n",
       " '蜂',\n",
       " '沂',\n",
       " '棘',\n",
       " '崇',\n",
       " '禁',\n",
       " '俸',\n",
       " '蓍',\n",
       " '邯',\n",
       " '見',\n",
       " '胤',\n",
       " '嚴',\n",
       " '跆',\n",
       " '煙',\n",
       " '馮',\n",
       " '顥',\n",
       " '鋪',\n",
       " '嶋',\n",
       " '敬',\n",
       " '狐',\n",
       " '佰',\n",
       " '濂',\n",
       " '破',\n",
       " '交',\n",
       " 'ル',\n",
       " '茸',\n",
       " '藜',\n",
       " '識',\n",
       " '陂',\n",
       " '負',\n",
       " '昰',\n",
       " '凸',\n",
       " 'á',\n",
       " '董',\n",
       " '禽',\n",
       " '璋',\n",
       " '竿',\n",
       " '亢',\n",
       " '≪',\n",
       " '盒',\n",
       " '烘',\n",
       " '❶',\n",
       " '俗',\n",
       " '鋐',\n",
       " '瑍',\n",
       " '須',\n",
       " '布',\n",
       " '面',\n",
       " '副',\n",
       " '漁',\n",
       " '翼',\n",
       " '谿',\n",
       " '棣',\n",
       " '辰',\n",
       " '楙',\n",
       " '色',\n",
       " '邦',\n",
       " '汗',\n",
       " '墅',\n",
       " '諄',\n",
       " '祝',\n",
       " '諫',\n",
       " '才',\n",
       " '殊',\n",
       " '押',\n",
       " '涌',\n",
       " '浥',\n",
       " '踊',\n",
       " '僉',\n",
       " '結',\n",
       " '服',\n",
       " '籃',\n",
       " '鰍',\n",
       " '踰',\n",
       " '願',\n",
       " '㉵',\n",
       " '照',\n",
       " '浚',\n",
       " '圃',\n",
       " '愛',\n",
       " '班',\n",
       " '洙',\n",
       " '述',\n",
       " '源',\n",
       " '琮',\n",
       " '黎',\n",
       " '玏',\n",
       " '偉',\n",
       " '艮',\n",
       " '約',\n",
       " '紫',\n",
       " '缺',\n",
       " '括',\n",
       " '丞',\n",
       " '欽',\n",
       " '㈓',\n",
       " '稱',\n",
       " '摫',\n",
       " '莎',\n",
       " '爺',\n",
       " '擾',\n",
       " '徒',\n",
       " '萊',\n",
       " '姑',\n",
       " '滄',\n",
       " '頭',\n",
       " '瞻',\n",
       " '忠',\n",
       " '菩',\n",
       " '撑',\n",
       " 'ⅱ',\n",
       " '鈕',\n",
       " '¹',\n",
       " '皓',\n",
       " '僖',\n",
       " '疏',\n",
       " '註',\n",
       " '充',\n",
       " '位',\n",
       " '肩',\n",
       " '馩',\n",
       " '馹',\n",
       " '會',\n",
       " '渫',\n",
       " '垠',\n",
       " '守',\n",
       " '稚',\n",
       " '滅',\n",
       " '性',\n",
       " '罰',\n",
       " '刹',\n",
       " '鬼',\n",
       " '由',\n",
       " '⟶',\n",
       " '廡',\n",
       " '孚',\n",
       " '菓',\n",
       " '李',\n",
       " '準',\n",
       " '部',\n",
       " '敞',\n",
       " '電',\n",
       " '②',\n",
       " '栖',\n",
       " '瀛',\n",
       " '誾',\n",
       " '議',\n",
       " '眉',\n",
       " '煉',\n",
       " '潗',\n",
       " '顚',\n",
       " '終',\n",
       " '貫',\n",
       " '暾',\n",
       " '耐',\n",
       " '勿',\n",
       " '頂',\n",
       " '寗',\n",
       " '合',\n",
       " '若',\n",
       " '髓',\n",
       " '韩',\n",
       " '平',\n",
       " '赳',\n",
       " '臭',\n",
       " '曲',\n",
       " '湫',\n",
       " '：',\n",
       " '食',\n",
       " '胖',\n",
       " ...}"
      ]
     },
     "execution_count": 134,
     "metadata": {},
     "output_type": "execute_result"
    }
   ],
   "source": [
    "sign_list_except_string_punctuation.union(test_list)"
   ]
  },
  {
   "cell_type": "code",
   "execution_count": 125,
   "id": "5e8b100d",
   "metadata": {
    "ExecuteTime": {
     "end_time": "2023-08-28T06:42:59.400281Z",
     "start_time": "2023-08-28T06:42:59.383259Z"
    }
   },
   "outputs": [],
   "source": [
    "sign_list_except_string_punctuation = []"
   ]
  },
  {
   "cell_type": "code",
   "execution_count": 126,
   "id": "a76250c6",
   "metadata": {
    "ExecuteTime": {
     "end_time": "2023-08-28T06:43:13.983304Z",
     "start_time": "2023-08-28T06:43:13.968309Z"
    }
   },
   "outputs": [],
   "source": [
    "sign_list_except_string_punctuation.append(test_list)"
   ]
  },
  {
   "cell_type": "code",
   "execution_count": 129,
   "id": "3e346497",
   "metadata": {
    "ExecuteTime": {
     "end_time": "2023-08-28T06:45:31.616394Z",
     "start_time": "2023-08-28T06:45:31.599393Z"
    }
   },
   "outputs": [
    {
     "data": {
      "text/plain": [
       "3603"
      ]
     },
     "execution_count": 129,
     "metadata": {},
     "output_type": "execute_result"
    }
   ],
   "source": [
    "len(test_list)"
   ]
  },
  {
   "cell_type": "code",
   "execution_count": 75,
   "id": "9ada1295",
   "metadata": {
    "ExecuteTime": {
     "end_time": "2023-08-28T04:47:17.392527Z",
     "start_time": "2023-08-28T04:47:17.378528Z"
    }
   },
   "outputs": [
    {
     "data": {
      "text/plain": [
       "'신한은행 앱 ‘쏠’에서 주요 통화에 대해 최대 90퍼센트 환율우대를 적용받을 수 있다.'"
      ]
     },
     "execution_count": 75,
     "metadata": {},
     "output_type": "execute_result"
    }
   ],
   "source": [
    "utterance_type_df_special_check.loc[26878,'source']"
   ]
  },
  {
   "cell_type": "code",
   "execution_count": 14,
   "id": "4b1d1430",
   "metadata": {
    "ExecuteTime": {
     "end_time": "2023-08-28T01:36:50.442835Z",
     "start_time": "2023-08-28T01:36:50.432835Z"
    }
   },
   "outputs": [
    {
     "data": {
      "text/plain": [
       "True"
      ]
     },
     "execution_count": 14,
     "metadata": {},
     "output_type": "execute_result"
    }
   ],
   "source": [
    "result[0] == ':'"
   ]
  },
  {
   "cell_type": "code",
   "execution_count": 87,
   "id": "dd0061ff",
   "metadata": {
    "ExecuteTime": {
     "end_time": "2023-08-28T05:11:01.069029Z",
     "start_time": "2023-08-28T05:11:01.053661Z"
    }
   },
   "outputs": [],
   "source": [
    "test = pd.DataFrame({'source' : [':)bitcoin is real?', '난 ? 밥을 먹었어.','외국인이 나에게 \"Hello!!\"라고 말했어.','''난 외국인에게 \"I'm 29 years old\"라고 말했어.''','밥 먹었어','고급차는 물론이고 ‘첫차’ 선호도가 높은 차종에도 다양한 안전·편의사양을 끼워 넣는 추세다.', 'ㅇㅇ 난 밥 먹었지 ㅋ']})"
   ]
  },
  {
   "cell_type": "code",
   "execution_count": 88,
   "id": "2ef42756",
   "metadata": {
    "ExecuteTime": {
     "end_time": "2023-08-28T05:11:03.161789Z",
     "start_time": "2023-08-28T05:11:03.144766Z"
    }
   },
   "outputs": [],
   "source": [
    "test['check'] = test.source.apply(special_check)\n",
    "test['check2'] = test.check.apply(not_in_string_punctuation)\n",
    "test['check_count'] = test.check2.apply(len)"
   ]
  },
  {
   "cell_type": "code",
   "execution_count": 89,
   "id": "9b7338f1",
   "metadata": {
    "ExecuteTime": {
     "end_time": "2023-08-28T05:11:04.547133Z",
     "start_time": "2023-08-28T05:11:04.529163Z"
    }
   },
   "outputs": [
    {
     "data": {
      "text/html": [
       "<div>\n",
       "<style scoped>\n",
       "    .dataframe tbody tr th:only-of-type {\n",
       "        vertical-align: middle;\n",
       "    }\n",
       "\n",
       "    .dataframe tbody tr th {\n",
       "        vertical-align: top;\n",
       "    }\n",
       "\n",
       "    .dataframe thead th {\n",
       "        text-align: right;\n",
       "    }\n",
       "</style>\n",
       "<table border=\"1\" class=\"dataframe\">\n",
       "  <thead>\n",
       "    <tr style=\"text-align: right;\">\n",
       "      <th></th>\n",
       "      <th>source</th>\n",
       "      <th>check</th>\n",
       "      <th>check2</th>\n",
       "      <th>check_count</th>\n",
       "    </tr>\n",
       "  </thead>\n",
       "  <tbody>\n",
       "    <tr>\n",
       "      <th>0</th>\n",
       "      <td>:)bitcoin is real?</td>\n",
       "      <td>[:, ), ?]</td>\n",
       "      <td>{}</td>\n",
       "      <td>0</td>\n",
       "    </tr>\n",
       "    <tr>\n",
       "      <th>1</th>\n",
       "      <td>난 ? 밥을 먹었어.</td>\n",
       "      <td>[?, .]</td>\n",
       "      <td>{}</td>\n",
       "      <td>0</td>\n",
       "    </tr>\n",
       "    <tr>\n",
       "      <th>2</th>\n",
       "      <td>외국인이 나에게 \"Hello!!\"라고 말했어.</td>\n",
       "      <td>[\", !, !, \", .]</td>\n",
       "      <td>{}</td>\n",
       "      <td>0</td>\n",
       "    </tr>\n",
       "    <tr>\n",
       "      <th>3</th>\n",
       "      <td>난 외국인에게 \"I'm 29 years old\"라고 말했어.</td>\n",
       "      <td>[\", ', \", .]</td>\n",
       "      <td>{}</td>\n",
       "      <td>0</td>\n",
       "    </tr>\n",
       "    <tr>\n",
       "      <th>4</th>\n",
       "      <td>밥 먹었어</td>\n",
       "      <td>[]</td>\n",
       "      <td>{}</td>\n",
       "      <td>0</td>\n",
       "    </tr>\n",
       "    <tr>\n",
       "      <th>5</th>\n",
       "      <td>고급차는 물론이고 ‘첫차’ 선호도가 높은 차종에도 다양한 안전·편의사양을 끼워 넣는...</td>\n",
       "      <td>[‘, ’, ·, .]</td>\n",
       "      <td>{·, ’, ‘}</td>\n",
       "      <td>3</td>\n",
       "    </tr>\n",
       "    <tr>\n",
       "      <th>6</th>\n",
       "      <td>ㅇㅇ 난 밥 먹었지 ㅋ</td>\n",
       "      <td>[]</td>\n",
       "      <td>{}</td>\n",
       "      <td>0</td>\n",
       "    </tr>\n",
       "  </tbody>\n",
       "</table>\n",
       "</div>"
      ],
      "text/plain": [
       "                                              source            check  \\\n",
       "0                                 :)bitcoin is real?        [:, ), ?]   \n",
       "1                                        난 ? 밥을 먹었어.           [?, .]   \n",
       "2                          외국인이 나에게 \"Hello!!\"라고 말했어.  [\", !, !, \", .]   \n",
       "3                  난 외국인에게 \"I'm 29 years old\"라고 말했어.     [\", ', \", .]   \n",
       "4                                              밥 먹었어               []   \n",
       "5  고급차는 물론이고 ‘첫차’ 선호도가 높은 차종에도 다양한 안전·편의사양을 끼워 넣는...     [‘, ’, ·, .]   \n",
       "6                                       ㅇㅇ 난 밥 먹었지 ㅋ               []   \n",
       "\n",
       "      check2  check_count  \n",
       "0         {}            0  \n",
       "1         {}            0  \n",
       "2         {}            0  \n",
       "3         {}            0  \n",
       "4         {}            0  \n",
       "5  {·, ’, ‘}            3  \n",
       "6         {}            0  "
      ]
     },
     "execution_count": 89,
     "metadata": {},
     "output_type": "execute_result"
    }
   ],
   "source": [
    "test"
   ]
  },
  {
   "cell_type": "code",
   "execution_count": 101,
   "id": "b4751960",
   "metadata": {
    "ExecuteTime": {
     "end_time": "2023-08-28T05:31:33.262866Z",
     "start_time": "2023-08-28T05:31:33.257536Z"
    }
   },
   "outputs": [
    {
     "data": {
      "text/plain": [
       "{'!', '\"', \"'\", ')', '.', ':', '?', '·', '‘', '’'}"
      ]
     },
     "execution_count": 101,
     "metadata": {},
     "output_type": "execute_result"
    }
   ],
   "source": [
    "# 값이 리스트 일 때, 한 행에 대해 합집합하는 코드\n",
    "reduce(lambda x, y: set(x).union(y), test['check'])"
   ]
  },
  {
   "cell_type": "code",
   "execution_count": 100,
   "id": "9629a788",
   "metadata": {
    "ExecuteTime": {
     "end_time": "2023-08-28T05:30:47.456298Z",
     "start_time": "2023-08-28T05:30:47.441299Z"
    }
   },
   "outputs": [
    {
     "name": "stdout",
     "output_type": "stream",
     "text": [
      "[1, 2, 3, 4, 5, 6]\n"
     ]
    }
   ],
   "source": [
    "import pandas as pd\n",
    "from functools import reduce\n",
    "\n",
    "# Example DataFrame with a column containing lists\n",
    "data = {\n",
    "    \"list_column\": [\n",
    "        [1, 2, 3],\n",
    "        [2, 3, 4],\n",
    "        [3, 4, 5],\n",
    "        [4, 5, 6]\n",
    "    ]\n",
    "}\n",
    "df = pd.DataFrame(data)\n",
    "\n",
    "# Find the union of all values in the lists\n",
    "result_union = reduce(lambda x, y: set(x).union(y), df['list_column'])\n",
    "\n",
    "print(list(result_union))"
   ]
  },
  {
   "cell_type": "code",
   "execution_count": 70,
   "id": "65c0012e",
   "metadata": {
    "ExecuteTime": {
     "end_time": "2023-08-28T04:13:28.158175Z",
     "start_time": "2023-08-28T04:13:28.146211Z"
    }
   },
   "outputs": [
    {
     "data": {
      "text/html": [
       "<div>\n",
       "<style scoped>\n",
       "    .dataframe tbody tr th:only-of-type {\n",
       "        vertical-align: middle;\n",
       "    }\n",
       "\n",
       "    .dataframe tbody tr th {\n",
       "        vertical-align: top;\n",
       "    }\n",
       "\n",
       "    .dataframe thead th {\n",
       "        text-align: right;\n",
       "    }\n",
       "</style>\n",
       "<table border=\"1\" class=\"dataframe\">\n",
       "  <thead>\n",
       "    <tr style=\"text-align: right;\">\n",
       "      <th></th>\n",
       "      <th>source</th>\n",
       "      <th>check</th>\n",
       "      <th>check2</th>\n",
       "      <th>check_count</th>\n",
       "    </tr>\n",
       "  </thead>\n",
       "  <tbody>\n",
       "    <tr>\n",
       "      <th>5</th>\n",
       "      <td>고급차는 물론이고 ‘첫차’ 선호도가 높은 차종에도 다양한 안전·편의사양을 끼워 넣는...</td>\n",
       "      <td>[‘, ’, ·, .]</td>\n",
       "      <td>[·, ’, ‘]</td>\n",
       "      <td>3</td>\n",
       "    </tr>\n",
       "  </tbody>\n",
       "</table>\n",
       "</div>"
      ],
      "text/plain": [
       "                                              source         check     check2  \\\n",
       "5  고급차는 물론이고 ‘첫차’ 선호도가 높은 차종에도 다양한 안전·편의사양을 끼워 넣는...  [‘, ’, ·, .]  [·, ’, ‘]   \n",
       "\n",
       "   check_count  \n",
       "5            3  "
      ]
     },
     "execution_count": 70,
     "metadata": {},
     "output_type": "execute_result"
    }
   ],
   "source": [
    "test[test.check_count!=0]"
   ]
  },
  {
   "cell_type": "code",
   "execution_count": 45,
   "id": "79f96010",
   "metadata": {
    "ExecuteTime": {
     "end_time": "2023-08-28T03:30:59.158307Z",
     "start_time": "2023-08-28T03:30:59.147307Z"
    }
   },
   "outputs": [
    {
     "data": {
      "text/plain": [
       "'고급차는 물론이고 ‘첫차’ 선호도가 높은 차종에도 다양한 안전·편의사양을 끼워 넣는 추세다.'"
      ]
     },
     "execution_count": 45,
     "metadata": {},
     "output_type": "execute_result"
    }
   ],
   "source": [
    "test.source[5]"
   ]
  },
  {
   "cell_type": "code",
   "execution_count": 146,
   "id": "3b36315c",
   "metadata": {
    "ExecuteTime": {
     "end_time": "2023-08-28T07:33:07.952814Z",
     "start_time": "2023-08-28T07:33:07.925109Z"
    }
   },
   "outputs": [
    {
     "data": {
      "text/plain": [
       "'!\"#$%&\\'()*+,-./:;<=>?@[\\\\]^_`{|}~'"
      ]
     },
     "execution_count": 146,
     "metadata": {},
     "output_type": "execute_result"
    }
   ],
   "source": [
    "string.punctuation"
   ]
  },
  {
   "cell_type": "markdown",
   "id": "ae1a10b4",
   "metadata": {},
   "source": [
    "### test"
   ]
  },
  {
   "cell_type": "code",
   "execution_count": 102,
   "id": "bf90021c",
   "metadata": {
    "ExecuteTime": {
     "end_time": "2023-08-29T05:53:24.721703Z",
     "start_time": "2023-08-29T05:53:04.174248Z"
    }
   },
   "outputs": [],
   "source": [
    "ko_en_trans_df['ko'],ko_en_trans_df['en'] = zip(*ko_en_trans_df.apply(rearrange_values, axis=1))"
   ]
  },
  {
   "cell_type": "code",
   "execution_count": 103,
   "id": "cd896b46",
   "metadata": {
    "ExecuteTime": {
     "end_time": "2023-08-29T05:55:46.971376Z",
     "start_time": "2023-08-29T05:55:46.406474Z"
    }
   },
   "outputs": [],
   "source": [
    "test = pd.DataFrame()\n",
    "test['source'] = ko_en_trans_df['ko']\n",
    "ko_en_trans_df.drop(['ko', 'en'], axis=1, inplace=True)"
   ]
  },
  {
   "cell_type": "code",
   "execution_count": 63,
   "id": "501272c6",
   "metadata": {
    "ExecuteTime": {
     "end_time": "2023-08-29T04:12:14.766989Z",
     "start_time": "2023-08-29T04:12:14.728874Z"
    }
   },
   "outputs": [],
   "source": [
    "replacements = {'\\u201C': '\\\"',\n",
    "               '\\u201D': '\\\"',\n",
    "               '\\u2018': '\\'',\n",
    "               '\\u2019': '\\''}\n",
    "for old, new in replacements.items():\n",
    "    test['source'] = test['source'].str.replace(old, new)"
   ]
  },
  {
   "cell_type": "code",
   "execution_count": 104,
   "id": "08d6a22a",
   "metadata": {
    "ExecuteTime": {
     "end_time": "2023-08-29T05:56:06.356084Z",
     "start_time": "2023-08-29T05:56:06.343115Z"
    }
   },
   "outputs": [
    {
     "data": {
      "text/html": [
       "<div>\n",
       "<style scoped>\n",
       "    .dataframe tbody tr th:only-of-type {\n",
       "        vertical-align: middle;\n",
       "    }\n",
       "\n",
       "    .dataframe tbody tr th {\n",
       "        vertical-align: top;\n",
       "    }\n",
       "\n",
       "    .dataframe thead th {\n",
       "        text-align: right;\n",
       "    }\n",
       "</style>\n",
       "<table border=\"1\" class=\"dataframe\">\n",
       "  <thead>\n",
       "    <tr style=\"text-align: right;\">\n",
       "      <th></th>\n",
       "      <th>source</th>\n",
       "    </tr>\n",
       "  </thead>\n",
       "  <tbody>\n",
       "    <tr>\n",
       "      <th>0</th>\n",
       "      <td>흠 잡힐 만한 일은 피하는 게 좋다.</td>\n",
       "    </tr>\n",
       "    <tr>\n",
       "      <th>1</th>\n",
       "      <td>힘 있는 직구 위주의 피칭이 빛을 발했다.</td>\n",
       "    </tr>\n",
       "    <tr>\n",
       "      <th>2</th>\n",
       "      <td>취재진의 카메라 플래시가 쉴 새 없이 터졌다.</td>\n",
       "    </tr>\n",
       "    <tr>\n",
       "      <th>3</th>\n",
       "      <td>모든 걸 내가 직접 준비를 하고 있다.</td>\n",
       "    </tr>\n",
       "    <tr>\n",
       "      <th>4</th>\n",
       "      <td>연출을 맡은 박찬율 감독이 포즈를 취하고 있다.</td>\n",
       "    </tr>\n",
       "    <tr>\n",
       "      <th>...</th>\n",
       "      <td>...</td>\n",
       "    </tr>\n",
       "    <tr>\n",
       "      <th>1602413</th>\n",
       "      <td>당시에는 경찰의 금지통보로 청와대 근처 집회가 불가능하던 시절이라 과연 경찰이 막지...</td>\n",
       "    </tr>\n",
       "    <tr>\n",
       "      <th>1602414</th>\n",
       "      <td>양승태 대법원과 박근혜 청와대의 대표적 재판거래 의혹 사건으로 꼽히는 전국교직원노동...</td>\n",
       "    </tr>\n",
       "    <tr>\n",
       "      <th>1602415</th>\n",
       "      <td>윤석열 서울중앙지검장이 19일 국정감사에 출석해 ‘적폐수사 1호’로 꼽히는 한국항공...</td>\n",
       "    </tr>\n",
       "    <tr>\n",
       "      <th>1602416</th>\n",
       "      <td>대법원에 재상고된 지 5년이 넘도록 재판이 지연되면서 양승태 대법원장 시절 대표적인...</td>\n",
       "    </tr>\n",
       "    <tr>\n",
       "      <th>1602417</th>\n",
       "      <td>‘양승태 대법원'은 민사소송규칙까지 고쳐 외교부가 대법원에 의견서를 제출할 수 있게...</td>\n",
       "    </tr>\n",
       "  </tbody>\n",
       "</table>\n",
       "<p>1602418 rows × 1 columns</p>\n",
       "</div>"
      ],
      "text/plain": [
       "                                                    source\n",
       "0                                     흠 잡힐 만한 일은 피하는 게 좋다.\n",
       "1                                  힘 있는 직구 위주의 피칭이 빛을 발했다.\n",
       "2                                취재진의 카메라 플래시가 쉴 새 없이 터졌다.\n",
       "3                                    모든 걸 내가 직접 준비를 하고 있다.\n",
       "4                               연출을 맡은 박찬율 감독이 포즈를 취하고 있다.\n",
       "...                                                    ...\n",
       "1602413  당시에는 경찰의 금지통보로 청와대 근처 집회가 불가능하던 시절이라 과연 경찰이 막지...\n",
       "1602414  양승태 대법원과 박근혜 청와대의 대표적 재판거래 의혹 사건으로 꼽히는 전국교직원노동...\n",
       "1602415  윤석열 서울중앙지검장이 19일 국정감사에 출석해 ‘적폐수사 1호’로 꼽히는 한국항공...\n",
       "1602416  대법원에 재상고된 지 5년이 넘도록 재판이 지연되면서 양승태 대법원장 시절 대표적인...\n",
       "1602417  ‘양승태 대법원'은 민사소송규칙까지 고쳐 외교부가 대법원에 의견서를 제출할 수 있게...\n",
       "\n",
       "[1602418 rows x 1 columns]"
      ]
     },
     "execution_count": 104,
     "metadata": {},
     "output_type": "execute_result"
    }
   ],
   "source": [
    "test"
   ]
  },
  {
   "cell_type": "code",
   "execution_count": 93,
   "id": "a21aa65e",
   "metadata": {
    "ExecuteTime": {
     "end_time": "2023-08-29T05:14:25.124220Z",
     "start_time": "2023-08-29T05:14:25.111225Z"
    }
   },
   "outputs": [
    {
     "data": {
      "text/plain": [
       "'신하영 연구위원은 “민법을 개정해도 가족 개념이 충돌하는 지점이 발생하므로, 법에서 일관되게 실현할 수 있을지 고민하는 장이 열릴 것으로 본다”고 밝혔다.'"
      ]
     },
     "execution_count": 93,
     "metadata": {},
     "output_type": "execute_result"
    }
   ],
   "source": [
    "test.loc[162,'source']"
   ]
  },
  {
   "cell_type": "code",
   "execution_count": 66,
   "id": "7606b63b",
   "metadata": {
    "ExecuteTime": {
     "end_time": "2023-08-29T04:12:25.029094Z",
     "start_time": "2023-08-29T04:12:25.017094Z"
    }
   },
   "outputs": [
    {
     "data": {
      "text/plain": [
       "\"올해 대세로 떠오른 휴가 유형인 '스테이케이션'도 언택트를 기본으로 한다.\""
      ]
     },
     "execution_count": 66,
     "metadata": {},
     "output_type": "execute_result"
    }
   ],
   "source": [
    "test.loc[308,'source']"
   ]
  },
  {
   "cell_type": "code",
   "execution_count": 69,
   "id": "f0880bb0",
   "metadata": {
    "ExecuteTime": {
     "end_time": "2023-08-29T04:13:20.668257Z",
     "start_time": "2023-08-29T04:13:20.656257Z"
    }
   },
   "outputs": [
    {
     "data": {
      "text/plain": [
       "True"
      ]
     },
     "execution_count": 69,
     "metadata": {},
     "output_type": "execute_result"
    }
   ],
   "source": [
    "\"'\" == \"\\'\""
   ]
  },
  {
   "cell_type": "code",
   "execution_count": null,
   "id": "486b62a2",
   "metadata": {},
   "outputs": [],
   "source": []
  },
  {
   "cell_type": "code",
   "execution_count": 81,
   "id": "f9ac6b72",
   "metadata": {
    "ExecuteTime": {
     "end_time": "2023-08-29T05:09:48.946159Z",
     "start_time": "2023-08-29T05:09:38.983892Z"
    }
   },
   "outputs": [],
   "source": [
    "contents_df_special_check = special_check_df_make(contents_df)"
   ]
  },
  {
   "cell_type": "code",
   "execution_count": 86,
   "id": "8874907e",
   "metadata": {
    "ExecuteTime": {
     "end_time": "2023-08-29T05:12:47.164111Z",
     "start_time": "2023-08-29T05:12:47.152112Z"
    }
   },
   "outputs": [],
   "source": [
    "contents_df_special_check[contents_df_special_check.check_count==2]"
   ]
  },
  {
   "cell_type": "code",
   "execution_count": 9,
   "id": "df08bdbf",
   "metadata": {
    "ExecuteTime": {
     "end_time": "2023-08-30T05:00:40.047178Z",
     "start_time": "2023-08-30T05:00:40.033184Z"
    }
   },
   "outputs": [],
   "source": [
    "# utterance_type_df"
   ]
  },
  {
   "cell_type": "code",
   "execution_count": null,
   "id": "448a7ca2",
   "metadata": {},
   "outputs": [],
   "source": [
    "# 구두점 test"
   ]
  },
  {
   "cell_type": "code",
   "execution_count": 20,
   "id": "39781171",
   "metadata": {
    "ExecuteTime": {
     "end_time": "2023-08-30T05:31:39.384959Z",
     "start_time": "2023-08-30T05:31:39.378973Z"
    }
   },
   "outputs": [],
   "source": [
    "text = '''점심 먹었어ㅋㅋ'''"
   ]
  },
  {
   "cell_type": "code",
   "execution_count": 13,
   "id": "9973d2f5",
   "metadata": {
    "ExecuteTime": {
     "end_time": "2023-08-30T05:17:12.810336Z",
     "start_time": "2023-08-30T05:17:12.799338Z"
    }
   },
   "outputs": [],
   "source": [
    "import string\n",
    "def has_punctuation_at_end(sentence):\n",
    "    return sentence[-1] in string.punctuation"
   ]
  },
  {
   "cell_type": "code",
   "execution_count": 14,
   "id": "4cb7ea90",
   "metadata": {
    "ExecuteTime": {
     "end_time": "2023-08-30T05:17:18.987921Z",
     "start_time": "2023-08-30T05:17:18.975490Z"
    }
   },
   "outputs": [
    {
     "data": {
      "text/plain": [
       "True"
      ]
     },
     "execution_count": 14,
     "metadata": {},
     "output_type": "execute_result"
    }
   ],
   "source": [
    "has_punctuation_at_end(text)"
   ]
  },
  {
   "cell_type": "code",
   "execution_count": 15,
   "id": "e0d56f6d",
   "metadata": {
    "ExecuteTime": {
     "end_time": "2023-08-30T05:19:37.580240Z",
     "start_time": "2023-08-30T05:19:37.560240Z"
    }
   },
   "outputs": [
    {
     "name": "stdout",
     "output_type": "stream",
     "text": [
      "'Hello, how are you?' has punctuation at the end.\n",
      "'This is a test' does not have punctuation at the end.\n",
      "'No punctuation' does not have punctuation at the end.\n"
     ]
    }
   ],
   "source": [
    "def has_punctuation_at_end(sentence):\n",
    "    pattern = r'[{}]$'.format(re.escape(string.punctuation))\n",
    "    return bool(re.search(pattern, sentence))\n",
    "\n",
    "# Test sentences\n",
    "sentences = [\"Hello, how are you?\", \"This is a test\", \"No punctuation\"]\n",
    "\n",
    "for sentence in sentences:\n",
    "    if has_punctuation_at_end(sentence):\n",
    "        print(f\"'{sentence}' has punctuation at the end.\")\n",
    "    else:\n",
    "        print(f\"'{sentence}' does not have punctuation at the end.\")"
   ]
  },
  {
   "cell_type": "code",
   "execution_count": 16,
   "id": "71ba3e94",
   "metadata": {
    "ExecuteTime": {
     "end_time": "2023-08-30T05:31:03.532702Z",
     "start_time": "2023-08-30T05:31:03.520704Z"
    }
   },
   "outputs": [],
   "source": [
    "def has_punctuation_at_end(sentence):\n",
    "    pattern = r'[^ A-Za-z0-9가-힣ㄱ-ㅎㅏ-ㅣ]$'\n",
    "    return bool(re.search(pattern, sentence))"
   ]
  },
  {
   "cell_type": "code",
   "execution_count": 21,
   "id": "34aed443",
   "metadata": {
    "ExecuteTime": {
     "end_time": "2023-08-30T05:31:41.967214Z",
     "start_time": "2023-08-30T05:31:41.950237Z"
    }
   },
   "outputs": [
    {
     "data": {
      "text/plain": [
       "False"
      ]
     },
     "execution_count": 21,
     "metadata": {},
     "output_type": "execute_result"
    }
   ],
   "source": [
    "has_punctuation_at_end(text)"
   ]
  },
  {
   "cell_type": "code",
   "execution_count": 22,
   "id": "a991d798",
   "metadata": {
    "ExecuteTime": {
     "end_time": "2023-08-30T05:43:38.320360Z",
     "start_time": "2023-08-30T05:43:38.303348Z"
    }
   },
   "outputs": [
    {
     "data": {
      "text/plain": [
       "'!\"#$%&\\'()*+,-./:;<=>?@[\\\\]^_`{|}~'"
      ]
     },
     "execution_count": 22,
     "metadata": {},
     "output_type": "execute_result"
    }
   ],
   "source": [
    "string.punctuation"
   ]
  },
  {
   "cell_type": "code",
   "execution_count": 10,
   "id": "02a3cc08",
   "metadata": {
    "ExecuteTime": {
     "end_time": "2023-08-31T01:56:17.292921Z",
     "start_time": "2023-08-31T01:56:16.609684Z"
    }
   },
   "outputs": [],
   "source": [
    "test_df = punctuation_check_df(utterance_type_df)"
   ]
  },
  {
   "cell_type": "code",
   "execution_count": 11,
   "id": "e031184a",
   "metadata": {
    "ExecuteTime": {
     "end_time": "2023-08-31T01:56:18.229604Z",
     "start_time": "2023-08-31T01:56:18.200606Z"
    }
   },
   "outputs": [
    {
     "data": {
      "text/html": [
       "<div>\n",
       "<style scoped>\n",
       "    .dataframe tbody tr th:only-of-type {\n",
       "        vertical-align: middle;\n",
       "    }\n",
       "\n",
       "    .dataframe tbody tr th {\n",
       "        vertical-align: top;\n",
       "    }\n",
       "\n",
       "    .dataframe thead th {\n",
       "        text-align: right;\n",
       "    }\n",
       "</style>\n",
       "<table border=\"1\" class=\"dataframe\">\n",
       "  <thead>\n",
       "    <tr style=\"text-align: right;\">\n",
       "      <th></th>\n",
       "      <th>sentence</th>\n",
       "      <th>punctuation_check</th>\n",
       "      <th>punctuation</th>\n",
       "      <th>last_letter</th>\n",
       "    </tr>\n",
       "  </thead>\n",
       "  <tbody>\n",
       "    <tr>\n",
       "      <th>0</th>\n",
       "      <td>그래서 차라리 원인을 없애야겠다 싶어서 탈퇴하고 앱도 지웠어요.</td>\n",
       "      <td>True</td>\n",
       "      <td>.</td>\n",
       "      <td>.</td>\n",
       "    </tr>\n",
       "    <tr>\n",
       "      <th>1</th>\n",
       "      <td>일을 해야 돈을 벌고 그래야 생활할 수 있는데.</td>\n",
       "      <td>True</td>\n",
       "      <td>.</td>\n",
       "      <td>.</td>\n",
       "    </tr>\n",
       "    <tr>\n",
       "      <th>2</th>\n",
       "      <td>우리 모두는 정말 좋은 대화를 나누었습니다.</td>\n",
       "      <td>True</td>\n",
       "      <td>.</td>\n",
       "      <td>.</td>\n",
       "    </tr>\n",
       "    <tr>\n",
       "      <th>3</th>\n",
       "      <td>안 그래도 요즘 큐티클층이 많이 손상됐는지 머리가 부스스했는데 잘 됐다.</td>\n",
       "      <td>True</td>\n",
       "      <td>.</td>\n",
       "      <td>.</td>\n",
       "    </tr>\n",
       "    <tr>\n",
       "      <th>4</th>\n",
       "      <td>아마도 출시가 가까워지면 할 것 같습니다.</td>\n",
       "      <td>True</td>\n",
       "      <td>.</td>\n",
       "      <td>.</td>\n",
       "    </tr>\n",
       "    <tr>\n",
       "      <th>...</th>\n",
       "      <td>...</td>\n",
       "      <td>...</td>\n",
       "      <td>...</td>\n",
       "      <td>...</td>\n",
       "    </tr>\n",
       "    <tr>\n",
       "      <th>26995</th>\n",
       "      <td>또한 오는 12월까지 계약 또는 출고 고객을 대상으로 추첨을 통해 추가 증정하는 경...</td>\n",
       "      <td>True</td>\n",
       "      <td>.</td>\n",
       "      <td>.</td>\n",
       "    </tr>\n",
       "    <tr>\n",
       "      <th>26996</th>\n",
       "      <td>음식 조절하고 운동하면 콜레스테롤이랑 엘디엘 수치가 내려갈까요?</td>\n",
       "      <td>True</td>\n",
       "      <td>?</td>\n",
       "      <td>?</td>\n",
       "    </tr>\n",
       "    <tr>\n",
       "      <th>26997</th>\n",
       "      <td>딸애는 엠비티아이 검사할 때 항상 같은 것만 나온다고 하더라고.</td>\n",
       "      <td>True</td>\n",
       "      <td>.</td>\n",
       "      <td>.</td>\n",
       "    </tr>\n",
       "    <tr>\n",
       "      <th>26998</th>\n",
       "      <td>살면서 사람들에게 화를 냈을 때의 구체적인 결과를 나열해보아라.</td>\n",
       "      <td>True</td>\n",
       "      <td>.</td>\n",
       "      <td>.</td>\n",
       "    </tr>\n",
       "    <tr>\n",
       "      <th>26999</th>\n",
       "      <td>정서적인 지지을 받고 있지는 않지만 나는 계속 나 자신을 위해 싸울 거야.</td>\n",
       "      <td>True</td>\n",
       "      <td>.</td>\n",
       "      <td>.</td>\n",
       "    </tr>\n",
       "  </tbody>\n",
       "</table>\n",
       "<p>27000 rows × 4 columns</p>\n",
       "</div>"
      ],
      "text/plain": [
       "                                                sentence  punctuation_check  \\\n",
       "0                    그래서 차라리 원인을 없애야겠다 싶어서 탈퇴하고 앱도 지웠어요.               True   \n",
       "1                             일을 해야 돈을 벌고 그래야 생활할 수 있는데.               True   \n",
       "2                               우리 모두는 정말 좋은 대화를 나누었습니다.               True   \n",
       "3               안 그래도 요즘 큐티클층이 많이 손상됐는지 머리가 부스스했는데 잘 됐다.               True   \n",
       "4                                아마도 출시가 가까워지면 할 것 같습니다.               True   \n",
       "...                                                  ...                ...   \n",
       "26995  또한 오는 12월까지 계약 또는 출고 고객을 대상으로 추첨을 통해 추가 증정하는 경...               True   \n",
       "26996                음식 조절하고 운동하면 콜레스테롤이랑 엘디엘 수치가 내려갈까요?               True   \n",
       "26997                딸애는 엠비티아이 검사할 때 항상 같은 것만 나온다고 하더라고.               True   \n",
       "26998                살면서 사람들에게 화를 냈을 때의 구체적인 결과를 나열해보아라.               True   \n",
       "26999          정서적인 지지을 받고 있지는 않지만 나는 계속 나 자신을 위해 싸울 거야.               True   \n",
       "\n",
       "      punctuation last_letter  \n",
       "0               .           .  \n",
       "1               .           .  \n",
       "2               .           .  \n",
       "3               .           .  \n",
       "4               .           .  \n",
       "...           ...         ...  \n",
       "26995           .           .  \n",
       "26996           ?           ?  \n",
       "26997           .           .  \n",
       "26998           .           .  \n",
       "26999           .           .  \n",
       "\n",
       "[27000 rows x 4 columns]"
      ]
     },
     "execution_count": 11,
     "metadata": {},
     "output_type": "execute_result"
    }
   ],
   "source": [
    "test_df"
   ]
  },
  {
   "cell_type": "code",
   "execution_count": 72,
   "id": "5e469f0b",
   "metadata": {
    "ExecuteTime": {
     "end_time": "2023-08-30T07:55:22.246715Z",
     "start_time": "2023-08-30T07:55:22.230598Z"
    }
   },
   "outputs": [
    {
     "data": {
      "text/plain": [
       "25509"
      ]
     },
     "execution_count": 72,
     "metadata": {},
     "output_type": "execute_result"
    }
   ],
   "source": [
    "(test_df.punctuation_check == True).sum()"
   ]
  },
  {
   "cell_type": "code",
   "execution_count": 59,
   "id": "1e0d86f9",
   "metadata": {
    "ExecuteTime": {
     "end_time": "2023-08-30T06:59:30.608758Z",
     "start_time": "2023-08-30T06:59:30.589728Z"
    }
   },
   "outputs": [
    {
     "data": {
      "text/plain": [
       "25509"
      ]
     },
     "execution_count": 59,
     "metadata": {},
     "output_type": "execute_result"
    }
   ],
   "source": [
    "test_df.punctuation_check.sum()"
   ]
  },
  {
   "cell_type": "code",
   "execution_count": 61,
   "id": "91b53327",
   "metadata": {
    "ExecuteTime": {
     "end_time": "2023-08-30T07:06:47.276601Z",
     "start_time": "2023-08-30T07:06:47.270595Z"
    }
   },
   "outputs": [],
   "source": [
    "data = test_df[test_df.punctuation_check==True]"
   ]
  },
  {
   "cell_type": "code",
   "execution_count": 62,
   "id": "4886989e",
   "metadata": {
    "ExecuteTime": {
     "end_time": "2023-08-30T07:06:57.756302Z",
     "start_time": "2023-08-30T07:06:57.733299Z"
    }
   },
   "outputs": [
    {
     "data": {
      "text/html": [
       "<div>\n",
       "<style scoped>\n",
       "    .dataframe tbody tr th:only-of-type {\n",
       "        vertical-align: middle;\n",
       "    }\n",
       "\n",
       "    .dataframe tbody tr th {\n",
       "        vertical-align: top;\n",
       "    }\n",
       "\n",
       "    .dataframe thead th {\n",
       "        text-align: right;\n",
       "    }\n",
       "</style>\n",
       "<table border=\"1\" class=\"dataframe\">\n",
       "  <thead>\n",
       "    <tr style=\"text-align: right;\">\n",
       "      <th></th>\n",
       "      <th>sentence</th>\n",
       "      <th>punctuation_check</th>\n",
       "      <th>punctuation</th>\n",
       "      <th>last_letter</th>\n",
       "    </tr>\n",
       "  </thead>\n",
       "  <tbody>\n",
       "    <tr>\n",
       "      <th>0</th>\n",
       "      <td>그래서 차라리 원인을 없애야겠다 싶어서 탈퇴하고 앱도 지웠어요.</td>\n",
       "      <td>True</td>\n",
       "      <td>.</td>\n",
       "      <td>.</td>\n",
       "    </tr>\n",
       "    <tr>\n",
       "      <th>1</th>\n",
       "      <td>일을 해야 돈을 벌고 그래야 생활할 수 있는데.</td>\n",
       "      <td>True</td>\n",
       "      <td>.</td>\n",
       "      <td>.</td>\n",
       "    </tr>\n",
       "    <tr>\n",
       "      <th>2</th>\n",
       "      <td>우리 모두는 정말 좋은 대화를 나누었습니다.</td>\n",
       "      <td>True</td>\n",
       "      <td>.</td>\n",
       "      <td>.</td>\n",
       "    </tr>\n",
       "    <tr>\n",
       "      <th>3</th>\n",
       "      <td>안 그래도 요즘 큐티클층이 많이 손상됐는지 머리가 부스스했는데 잘 됐다.</td>\n",
       "      <td>True</td>\n",
       "      <td>.</td>\n",
       "      <td>.</td>\n",
       "    </tr>\n",
       "    <tr>\n",
       "      <th>4</th>\n",
       "      <td>아마도 출시가 가까워지면 할 것 같습니다.</td>\n",
       "      <td>True</td>\n",
       "      <td>.</td>\n",
       "      <td>.</td>\n",
       "    </tr>\n",
       "    <tr>\n",
       "      <th>...</th>\n",
       "      <td>...</td>\n",
       "      <td>...</td>\n",
       "      <td>...</td>\n",
       "      <td>...</td>\n",
       "    </tr>\n",
       "    <tr>\n",
       "      <th>26995</th>\n",
       "      <td>또한 오는 12월까지 계약 또는 출고 고객을 대상으로 추첨을 통해 추가 증정하는 경...</td>\n",
       "      <td>True</td>\n",
       "      <td>.</td>\n",
       "      <td>.</td>\n",
       "    </tr>\n",
       "    <tr>\n",
       "      <th>26996</th>\n",
       "      <td>음식 조절하고 운동하면 콜레스테롤이랑 엘디엘 수치가 내려갈까요?</td>\n",
       "      <td>True</td>\n",
       "      <td>?</td>\n",
       "      <td>?</td>\n",
       "    </tr>\n",
       "    <tr>\n",
       "      <th>26997</th>\n",
       "      <td>딸애는 엠비티아이 검사할 때 항상 같은 것만 나온다고 하더라고.</td>\n",
       "      <td>True</td>\n",
       "      <td>.</td>\n",
       "      <td>.</td>\n",
       "    </tr>\n",
       "    <tr>\n",
       "      <th>26998</th>\n",
       "      <td>살면서 사람들에게 화를 냈을 때의 구체적인 결과를 나열해보아라.</td>\n",
       "      <td>True</td>\n",
       "      <td>.</td>\n",
       "      <td>.</td>\n",
       "    </tr>\n",
       "    <tr>\n",
       "      <th>26999</th>\n",
       "      <td>정서적인 지지을 받고 있지는 않지만 나는 계속 나 자신을 위해 싸울 거야.</td>\n",
       "      <td>True</td>\n",
       "      <td>.</td>\n",
       "      <td>.</td>\n",
       "    </tr>\n",
       "  </tbody>\n",
       "</table>\n",
       "<p>25509 rows × 4 columns</p>\n",
       "</div>"
      ],
      "text/plain": [
       "                                                sentence  punctuation_check  \\\n",
       "0                    그래서 차라리 원인을 없애야겠다 싶어서 탈퇴하고 앱도 지웠어요.               True   \n",
       "1                             일을 해야 돈을 벌고 그래야 생활할 수 있는데.               True   \n",
       "2                               우리 모두는 정말 좋은 대화를 나누었습니다.               True   \n",
       "3               안 그래도 요즘 큐티클층이 많이 손상됐는지 머리가 부스스했는데 잘 됐다.               True   \n",
       "4                                아마도 출시가 가까워지면 할 것 같습니다.               True   \n",
       "...                                                  ...                ...   \n",
       "26995  또한 오는 12월까지 계약 또는 출고 고객을 대상으로 추첨을 통해 추가 증정하는 경...               True   \n",
       "26996                음식 조절하고 운동하면 콜레스테롤이랑 엘디엘 수치가 내려갈까요?               True   \n",
       "26997                딸애는 엠비티아이 검사할 때 항상 같은 것만 나온다고 하더라고.               True   \n",
       "26998                살면서 사람들에게 화를 냈을 때의 구체적인 결과를 나열해보아라.               True   \n",
       "26999          정서적인 지지을 받고 있지는 않지만 나는 계속 나 자신을 위해 싸울 거야.               True   \n",
       "\n",
       "      punctuation last_letter  \n",
       "0               .           .  \n",
       "1               .           .  \n",
       "2               .           .  \n",
       "3               .           .  \n",
       "4               .           .  \n",
       "...           ...         ...  \n",
       "26995           .           .  \n",
       "26996           ?           ?  \n",
       "26997           .           .  \n",
       "26998           .           .  \n",
       "26999           .           .  \n",
       "\n",
       "[25509 rows x 4 columns]"
      ]
     },
     "execution_count": 62,
     "metadata": {},
     "output_type": "execute_result"
    }
   ],
   "source": [
    "data"
   ]
  },
  {
   "cell_type": "code",
   "execution_count": 71,
   "id": "29344dde",
   "metadata": {
    "ExecuteTime": {
     "end_time": "2023-08-30T07:38:56.117752Z",
     "start_time": "2023-08-30T07:38:56.100723Z"
    }
   },
   "outputs": [
    {
     "data": {
      "text/plain": [
       ".    22877\n",
       "?     2373\n",
       "!      231\n",
       "\"       10\n",
       ")        9\n",
       ",        5\n",
       "'        1\n",
       ";        1\n",
       "/        1\n",
       "~        1\n",
       "Name: punctuation, dtype: int64"
      ]
     },
     "execution_count": 71,
     "metadata": {},
     "output_type": "execute_result"
    }
   ],
   "source": [
    "test_df.punctuation.value_counts()"
   ]
  },
  {
   "cell_type": "code",
   "execution_count": 41,
   "id": "cf2aba95",
   "metadata": {
    "ExecuteTime": {
     "end_time": "2023-08-30T06:35:26.374244Z",
     "start_time": "2023-08-30T06:35:26.366245Z"
    }
   },
   "outputs": [
    {
     "data": {
      "text/plain": [
       "sentence             친구와 저녁 먹으러 왔고, 우리 둘다 파스타 팬이다. \n",
       "punctuation_check                             False\n",
       "punctuation                                    None\n",
       "last_letter                                        \n",
       "Name: 18, dtype: object"
      ]
     },
     "execution_count": 41,
     "metadata": {},
     "output_type": "execute_result"
    }
   ],
   "source": [
    "test_df.loc[18,:]"
   ]
  },
  {
   "cell_type": "code",
   "execution_count": 42,
   "id": "36be13e0",
   "metadata": {
    "ExecuteTime": {
     "end_time": "2023-08-30T06:35:48.592183Z",
     "start_time": "2023-08-30T06:35:48.574039Z"
    }
   },
   "outputs": [
    {
     "data": {
      "text/plain": [
       "True"
      ]
     },
     "execution_count": 42,
     "metadata": {},
     "output_type": "execute_result"
    }
   ],
   "source": [
    "'.' == '.'"
   ]
  },
  {
   "cell_type": "code",
   "execution_count": 45,
   "id": "bd48d7e8",
   "metadata": {
    "ExecuteTime": {
     "end_time": "2023-08-30T06:36:25.480247Z",
     "start_time": "2023-08-30T06:36:25.471262Z"
    }
   },
   "outputs": [
    {
     "data": {
      "text/plain": [
       "True"
      ]
     },
     "execution_count": 45,
     "metadata": {},
     "output_type": "execute_result"
    }
   ],
   "source": [
    "'.' in string.punctuation"
   ]
  },
  {
   "cell_type": "code",
   "execution_count": 55,
   "id": "0d3b8a8a",
   "metadata": {
    "ExecuteTime": {
     "end_time": "2023-08-30T06:58:41.634355Z",
     "start_time": "2023-08-30T06:58:41.629355Z"
    }
   },
   "outputs": [
    {
     "data": {
      "text/plain": [
       "'apple.'"
      ]
     },
     "execution_count": 55,
     "metadata": {},
     "output_type": "execute_result"
    }
   ],
   "source": [
    "'apple.    '.rstrip(' ')"
   ]
  },
  {
   "cell_type": "code",
   "execution_count": 30,
   "id": "f5afee77",
   "metadata": {
    "ExecuteTime": {
     "end_time": "2023-08-31T03:21:44.861847Z",
     "start_time": "2023-08-31T03:21:44.852848Z"
    }
   },
   "outputs": [],
   "source": [
    "test_check = test_df.punctuation.value_counts(dropna=False).to_frame()"
   ]
  },
  {
   "cell_type": "code",
   "execution_count": 31,
   "id": "bc068023",
   "metadata": {
    "ExecuteTime": {
     "end_time": "2023-08-31T03:21:45.479758Z",
     "start_time": "2023-08-31T03:21:45.468759Z"
    }
   },
   "outputs": [
    {
     "data": {
      "text/html": [
       "<div>\n",
       "<style scoped>\n",
       "    .dataframe tbody tr th:only-of-type {\n",
       "        vertical-align: middle;\n",
       "    }\n",
       "\n",
       "    .dataframe tbody tr th {\n",
       "        vertical-align: top;\n",
       "    }\n",
       "\n",
       "    .dataframe thead th {\n",
       "        text-align: right;\n",
       "    }\n",
       "</style>\n",
       "<table border=\"1\" class=\"dataframe\">\n",
       "  <thead>\n",
       "    <tr style=\"text-align: right;\">\n",
       "      <th></th>\n",
       "      <th>punctuation</th>\n",
       "    </tr>\n",
       "  </thead>\n",
       "  <tbody>\n",
       "    <tr>\n",
       "      <th>.</th>\n",
       "      <td>22877</td>\n",
       "    </tr>\n",
       "    <tr>\n",
       "      <th>?</th>\n",
       "      <td>2373</td>\n",
       "    </tr>\n",
       "    <tr>\n",
       "      <th>None</th>\n",
       "      <td>1491</td>\n",
       "    </tr>\n",
       "    <tr>\n",
       "      <th>!</th>\n",
       "      <td>231</td>\n",
       "    </tr>\n",
       "    <tr>\n",
       "      <th>\"</th>\n",
       "      <td>10</td>\n",
       "    </tr>\n",
       "    <tr>\n",
       "      <th>)</th>\n",
       "      <td>9</td>\n",
       "    </tr>\n",
       "    <tr>\n",
       "      <th>,</th>\n",
       "      <td>5</td>\n",
       "    </tr>\n",
       "    <tr>\n",
       "      <th>'</th>\n",
       "      <td>1</td>\n",
       "    </tr>\n",
       "    <tr>\n",
       "      <th>;</th>\n",
       "      <td>1</td>\n",
       "    </tr>\n",
       "    <tr>\n",
       "      <th>/</th>\n",
       "      <td>1</td>\n",
       "    </tr>\n",
       "    <tr>\n",
       "      <th>~</th>\n",
       "      <td>1</td>\n",
       "    </tr>\n",
       "  </tbody>\n",
       "</table>\n",
       "</div>"
      ],
      "text/plain": [
       "      punctuation\n",
       ".           22877\n",
       "?            2373\n",
       "None         1491\n",
       "!             231\n",
       "\"              10\n",
       ")               9\n",
       ",               5\n",
       "'               1\n",
       ";               1\n",
       "/               1\n",
       "~               1"
      ]
     },
     "execution_count": 31,
     "metadata": {},
     "output_type": "execute_result"
    }
   ],
   "source": [
    "test_check"
   ]
  },
  {
   "cell_type": "code",
   "execution_count": 32,
   "id": "af4e2beb",
   "metadata": {
    "ExecuteTime": {
     "end_time": "2023-08-31T03:21:48.562542Z",
     "start_time": "2023-08-31T03:21:48.549519Z"
    }
   },
   "outputs": [],
   "source": [
    "# test_check = test_df.punctuation.value_counts(dropna=False).to_frame()\n",
    "test_check.reset_index(inplace=True)\n",
    "test_check.rename(columns={'index':'punctuation_mark','punctuation':'count'},inplace=True)\n",
    "test_check['dataset_name'] = utterance_type_df.Name"
   ]
  },
  {
   "cell_type": "code",
   "execution_count": 33,
   "id": "1d81621c",
   "metadata": {
    "ExecuteTime": {
     "end_time": "2023-08-31T03:21:49.460466Z",
     "start_time": "2023-08-31T03:21:49.453466Z"
    }
   },
   "outputs": [
    {
     "data": {
      "text/html": [
       "<div>\n",
       "<style scoped>\n",
       "    .dataframe tbody tr th:only-of-type {\n",
       "        vertical-align: middle;\n",
       "    }\n",
       "\n",
       "    .dataframe tbody tr th {\n",
       "        vertical-align: top;\n",
       "    }\n",
       "\n",
       "    .dataframe thead th {\n",
       "        text-align: right;\n",
       "    }\n",
       "</style>\n",
       "<table border=\"1\" class=\"dataframe\">\n",
       "  <thead>\n",
       "    <tr style=\"text-align: right;\">\n",
       "      <th></th>\n",
       "      <th>punctuation_mark</th>\n",
       "      <th>count</th>\n",
       "      <th>dataset_name</th>\n",
       "    </tr>\n",
       "  </thead>\n",
       "  <tbody>\n",
       "    <tr>\n",
       "      <th>0</th>\n",
       "      <td>.</td>\n",
       "      <td>22877</td>\n",
       "      <td>utterance_type_df</td>\n",
       "    </tr>\n",
       "    <tr>\n",
       "      <th>1</th>\n",
       "      <td>?</td>\n",
       "      <td>2373</td>\n",
       "      <td>utterance_type_df</td>\n",
       "    </tr>\n",
       "    <tr>\n",
       "      <th>2</th>\n",
       "      <td>None</td>\n",
       "      <td>1491</td>\n",
       "      <td>utterance_type_df</td>\n",
       "    </tr>\n",
       "    <tr>\n",
       "      <th>3</th>\n",
       "      <td>!</td>\n",
       "      <td>231</td>\n",
       "      <td>utterance_type_df</td>\n",
       "    </tr>\n",
       "    <tr>\n",
       "      <th>4</th>\n",
       "      <td>\"</td>\n",
       "      <td>10</td>\n",
       "      <td>utterance_type_df</td>\n",
       "    </tr>\n",
       "    <tr>\n",
       "      <th>5</th>\n",
       "      <td>)</td>\n",
       "      <td>9</td>\n",
       "      <td>utterance_type_df</td>\n",
       "    </tr>\n",
       "    <tr>\n",
       "      <th>6</th>\n",
       "      <td>,</td>\n",
       "      <td>5</td>\n",
       "      <td>utterance_type_df</td>\n",
       "    </tr>\n",
       "    <tr>\n",
       "      <th>7</th>\n",
       "      <td>'</td>\n",
       "      <td>1</td>\n",
       "      <td>utterance_type_df</td>\n",
       "    </tr>\n",
       "    <tr>\n",
       "      <th>8</th>\n",
       "      <td>;</td>\n",
       "      <td>1</td>\n",
       "      <td>utterance_type_df</td>\n",
       "    </tr>\n",
       "    <tr>\n",
       "      <th>9</th>\n",
       "      <td>/</td>\n",
       "      <td>1</td>\n",
       "      <td>utterance_type_df</td>\n",
       "    </tr>\n",
       "    <tr>\n",
       "      <th>10</th>\n",
       "      <td>~</td>\n",
       "      <td>1</td>\n",
       "      <td>utterance_type_df</td>\n",
       "    </tr>\n",
       "  </tbody>\n",
       "</table>\n",
       "</div>"
      ],
      "text/plain": [
       "   punctuation_mark  count       dataset_name\n",
       "0                 .  22877  utterance_type_df\n",
       "1                 ?   2373  utterance_type_df\n",
       "2              None   1491  utterance_type_df\n",
       "3                 !    231  utterance_type_df\n",
       "4                 \"     10  utterance_type_df\n",
       "5                 )      9  utterance_type_df\n",
       "6                 ,      5  utterance_type_df\n",
       "7                 '      1  utterance_type_df\n",
       "8                 ;      1  utterance_type_df\n",
       "9                 /      1  utterance_type_df\n",
       "10                ~      1  utterance_type_df"
      ]
     },
     "execution_count": 33,
     "metadata": {},
     "output_type": "execute_result"
    }
   ],
   "source": [
    "test_check"
   ]
  },
  {
   "cell_type": "code",
   "execution_count": 46,
   "id": "eb1ee519",
   "metadata": {
    "ExecuteTime": {
     "end_time": "2023-08-31T03:53:53.896295Z",
     "start_time": "2023-08-31T03:53:53.885295Z"
    }
   },
   "outputs": [
    {
     "data": {
      "text/html": [
       "<div>\n",
       "<style scoped>\n",
       "    .dataframe tbody tr th:only-of-type {\n",
       "        vertical-align: middle;\n",
       "    }\n",
       "\n",
       "    .dataframe tbody tr th {\n",
       "        vertical-align: top;\n",
       "    }\n",
       "\n",
       "    .dataframe thead th {\n",
       "        text-align: right;\n",
       "    }\n",
       "</style>\n",
       "<table border=\"1\" class=\"dataframe\">\n",
       "  <thead>\n",
       "    <tr style=\"text-align: right;\">\n",
       "      <th></th>\n",
       "      <th>punctuation_mark</th>\n",
       "      <th>count</th>\n",
       "      <th>dataset_name</th>\n",
       "    </tr>\n",
       "  </thead>\n",
       "  <tbody>\n",
       "    <tr>\n",
       "      <th>0</th>\n",
       "      <td>.</td>\n",
       "      <td>22877</td>\n",
       "      <td>utterance_type_df</td>\n",
       "    </tr>\n",
       "    <tr>\n",
       "      <th>1</th>\n",
       "      <td>?</td>\n",
       "      <td>2373</td>\n",
       "      <td>utterance_type_df</td>\n",
       "    </tr>\n",
       "    <tr>\n",
       "      <th>2</th>\n",
       "      <td>None</td>\n",
       "      <td>1491</td>\n",
       "      <td>utterance_type_df</td>\n",
       "    </tr>\n",
       "    <tr>\n",
       "      <th>3</th>\n",
       "      <td>!</td>\n",
       "      <td>231</td>\n",
       "      <td>utterance_type_df</td>\n",
       "    </tr>\n",
       "    <tr>\n",
       "      <th>4</th>\n",
       "      <td>\"</td>\n",
       "      <td>10</td>\n",
       "      <td>utterance_type_df</td>\n",
       "    </tr>\n",
       "    <tr>\n",
       "      <th>...</th>\n",
       "      <td>...</td>\n",
       "      <td>...</td>\n",
       "      <td>...</td>\n",
       "    </tr>\n",
       "    <tr>\n",
       "      <th>12</th>\n",
       "      <td>/</td>\n",
       "      <td>10</td>\n",
       "      <td>contents_df</td>\n",
       "    </tr>\n",
       "    <tr>\n",
       "      <th>13</th>\n",
       "      <td>-</td>\n",
       "      <td>7</td>\n",
       "      <td>contents_df</td>\n",
       "    </tr>\n",
       "    <tr>\n",
       "      <th>14</th>\n",
       "      <td>`</td>\n",
       "      <td>2</td>\n",
       "      <td>contents_df</td>\n",
       "    </tr>\n",
       "    <tr>\n",
       "      <th>15</th>\n",
       "      <td>\\</td>\n",
       "      <td>1</td>\n",
       "      <td>contents_df</td>\n",
       "    </tr>\n",
       "    <tr>\n",
       "      <th>16</th>\n",
       "      <td>:</td>\n",
       "      <td>1</td>\n",
       "      <td>contents_df</td>\n",
       "    </tr>\n",
       "  </tbody>\n",
       "</table>\n",
       "<p>92 rows × 3 columns</p>\n",
       "</div>"
      ],
      "text/plain": [
       "   punctuation_mark  count       dataset_name\n",
       "0                 .  22877  utterance_type_df\n",
       "1                 ?   2373  utterance_type_df\n",
       "2              None   1491  utterance_type_df\n",
       "3                 !    231  utterance_type_df\n",
       "4                 \"     10  utterance_type_df\n",
       "..              ...    ...                ...\n",
       "12                /     10        contents_df\n",
       "13                -      7        contents_df\n",
       "14                `      2        contents_df\n",
       "15                \\      1        contents_df\n",
       "16                :      1        contents_df\n",
       "\n",
       "[92 rows x 3 columns]"
      ]
     },
     "execution_count": 46,
     "metadata": {},
     "output_type": "execute_result"
    }
   ],
   "source": [
    "punctuation_table"
   ]
  },
  {
   "cell_type": "code",
   "execution_count": 48,
   "id": "1fdee5f4",
   "metadata": {
    "ExecuteTime": {
     "end_time": "2023-08-31T03:55:01.839828Z",
     "start_time": "2023-08-31T03:55:01.828410Z"
    }
   },
   "outputs": [
    {
     "data": {
      "text/html": [
       "<div>\n",
       "<style scoped>\n",
       "    .dataframe tbody tr th:only-of-type {\n",
       "        vertical-align: middle;\n",
       "    }\n",
       "\n",
       "    .dataframe tbody tr th {\n",
       "        vertical-align: top;\n",
       "    }\n",
       "\n",
       "    .dataframe thead th {\n",
       "        text-align: right;\n",
       "    }\n",
       "</style>\n",
       "<table border=\"1\" class=\"dataframe\">\n",
       "  <thead>\n",
       "    <tr style=\"text-align: right;\">\n",
       "      <th></th>\n",
       "      <th>punctuation_mark</th>\n",
       "      <th>count</th>\n",
       "      <th>dataset_name</th>\n",
       "    </tr>\n",
       "  </thead>\n",
       "  <tbody>\n",
       "  </tbody>\n",
       "</table>\n",
       "</div>"
      ],
      "text/plain": [
       "Empty DataFrame\n",
       "Columns: [punctuation_mark, count, dataset_name]\n",
       "Index: []"
      ]
     },
     "execution_count": 48,
     "metadata": {},
     "output_type": "execute_result"
    }
   ],
   "source": [
    "punctuation_table[punctuation_table.punctuation_mark==None]"
   ]
  },
  {
   "cell_type": "code",
   "execution_count": 50,
   "id": "5c2a2ff6",
   "metadata": {
    "ExecuteTime": {
     "end_time": "2023-08-31T03:55:38.189710Z",
     "start_time": "2023-08-31T03:55:38.180719Z"
    }
   },
   "outputs": [
    {
     "data": {
      "text/html": [
       "<div>\n",
       "<style scoped>\n",
       "    .dataframe tbody tr th:only-of-type {\n",
       "        vertical-align: middle;\n",
       "    }\n",
       "\n",
       "    .dataframe tbody tr th {\n",
       "        vertical-align: top;\n",
       "    }\n",
       "\n",
       "    .dataframe thead th {\n",
       "        text-align: right;\n",
       "    }\n",
       "</style>\n",
       "<table border=\"1\" class=\"dataframe\">\n",
       "  <thead>\n",
       "    <tr style=\"text-align: right;\">\n",
       "      <th></th>\n",
       "      <th>punctuation_mark</th>\n",
       "      <th>count</th>\n",
       "      <th>dataset_name</th>\n",
       "    </tr>\n",
       "  </thead>\n",
       "  <tbody>\n",
       "    <tr>\n",
       "      <th>2</th>\n",
       "      <td>None</td>\n",
       "      <td>1491</td>\n",
       "      <td>utterance_type_df</td>\n",
       "    </tr>\n",
       "    <tr>\n",
       "      <th>2</th>\n",
       "      <td>None</td>\n",
       "      <td>3564</td>\n",
       "      <td>ko_en_trans_df</td>\n",
       "    </tr>\n",
       "    <tr>\n",
       "      <th>3</th>\n",
       "      <td>None</td>\n",
       "      <td>17101</td>\n",
       "      <td>everyday_life_df</td>\n",
       "    </tr>\n",
       "    <tr>\n",
       "      <th>3</th>\n",
       "      <td>None</td>\n",
       "      <td>159</td>\n",
       "      <td>science_df</td>\n",
       "    </tr>\n",
       "    <tr>\n",
       "      <th>3</th>\n",
       "      <td>None</td>\n",
       "      <td>151</td>\n",
       "      <td>food_df</td>\n",
       "    </tr>\n",
       "    <tr>\n",
       "      <th>2</th>\n",
       "      <td>None</td>\n",
       "      <td>8082</td>\n",
       "      <td>contents_df</td>\n",
       "    </tr>\n",
       "  </tbody>\n",
       "</table>\n",
       "</div>"
      ],
      "text/plain": [
       "  punctuation_mark  count       dataset_name\n",
       "2             None   1491  utterance_type_df\n",
       "2             None   3564     ko_en_trans_df\n",
       "3             None  17101   everyday_life_df\n",
       "3             None    159         science_df\n",
       "3             None    151            food_df\n",
       "2             None   8082        contents_df"
      ]
     },
     "execution_count": 50,
     "metadata": {},
     "output_type": "execute_result"
    }
   ],
   "source": [
    "punctuation_table[punctuation_table.punctuation_mark.isna()]"
   ]
  },
  {
   "cell_type": "code",
   "execution_count": 54,
   "id": "bd046c1d",
   "metadata": {
    "ExecuteTime": {
     "end_time": "2023-08-31T04:15:34.895135Z",
     "start_time": "2023-08-31T04:15:34.884141Z"
    }
   },
   "outputs": [
    {
     "data": {
      "text/plain": [
       "everyday_life_df     20\n",
       "contents_df          17\n",
       "science_df           14\n",
       "food_df              12\n",
       "utterance_type_df    11\n",
       "ko_en_trans_df       11\n",
       "specialty_df          7\n",
       "Name: dataset_name, dtype: int64"
      ]
     },
     "execution_count": 54,
     "metadata": {},
     "output_type": "execute_result"
    }
   ],
   "source": [
    "punctuation_table.dataset_name.value_counts()"
   ]
  },
  {
   "cell_type": "code",
   "execution_count": 55,
   "id": "6b96c913",
   "metadata": {
    "ExecuteTime": {
     "end_time": "2023-08-31T04:16:28.070392Z",
     "start_time": "2023-08-31T04:16:28.051393Z"
    }
   },
   "outputs": [
    {
     "data": {
      "text/html": [
       "<div>\n",
       "<style scoped>\n",
       "    .dataframe tbody tr th:only-of-type {\n",
       "        vertical-align: middle;\n",
       "    }\n",
       "\n",
       "    .dataframe tbody tr th {\n",
       "        vertical-align: top;\n",
       "    }\n",
       "\n",
       "    .dataframe thead th {\n",
       "        text-align: right;\n",
       "    }\n",
       "</style>\n",
       "<table border=\"1\" class=\"dataframe\">\n",
       "  <thead>\n",
       "    <tr style=\"text-align: right;\">\n",
       "      <th></th>\n",
       "      <th>punctuation_mark</th>\n",
       "      <th>count</th>\n",
       "      <th>dataset_name</th>\n",
       "    </tr>\n",
       "  </thead>\n",
       "  <tbody>\n",
       "    <tr>\n",
       "      <th>0</th>\n",
       "      <td>.</td>\n",
       "      <td>2325974</td>\n",
       "      <td>everyday_life_df</td>\n",
       "    </tr>\n",
       "    <tr>\n",
       "      <th>1</th>\n",
       "      <td>?</td>\n",
       "      <td>296048</td>\n",
       "      <td>everyday_life_df</td>\n",
       "    </tr>\n",
       "    <tr>\n",
       "      <th>2</th>\n",
       "      <td>!</td>\n",
       "      <td>47833</td>\n",
       "      <td>everyday_life_df</td>\n",
       "    </tr>\n",
       "    <tr>\n",
       "      <th>3</th>\n",
       "      <td>None</td>\n",
       "      <td>17101</td>\n",
       "      <td>everyday_life_df</td>\n",
       "    </tr>\n",
       "    <tr>\n",
       "      <th>4</th>\n",
       "      <td>~</td>\n",
       "      <td>12151</td>\n",
       "      <td>everyday_life_df</td>\n",
       "    </tr>\n",
       "    <tr>\n",
       "      <th>5</th>\n",
       "      <td>,</td>\n",
       "      <td>725</td>\n",
       "      <td>everyday_life_df</td>\n",
       "    </tr>\n",
       "    <tr>\n",
       "      <th>6</th>\n",
       "      <td>)</td>\n",
       "      <td>263</td>\n",
       "      <td>everyday_life_df</td>\n",
       "    </tr>\n",
       "    <tr>\n",
       "      <th>7</th>\n",
       "      <td>\"</td>\n",
       "      <td>146</td>\n",
       "      <td>everyday_life_df</td>\n",
       "    </tr>\n",
       "    <tr>\n",
       "      <th>8</th>\n",
       "      <td>'</td>\n",
       "      <td>44</td>\n",
       "      <td>everyday_life_df</td>\n",
       "    </tr>\n",
       "    <tr>\n",
       "      <th>9</th>\n",
       "      <td>\\</td>\n",
       "      <td>13</td>\n",
       "      <td>everyday_life_df</td>\n",
       "    </tr>\n",
       "    <tr>\n",
       "      <th>10</th>\n",
       "      <td>/</td>\n",
       "      <td>12</td>\n",
       "      <td>everyday_life_df</td>\n",
       "    </tr>\n",
       "    <tr>\n",
       "      <th>11</th>\n",
       "      <td>]</td>\n",
       "      <td>8</td>\n",
       "      <td>everyday_life_df</td>\n",
       "    </tr>\n",
       "    <tr>\n",
       "      <th>12</th>\n",
       "      <td>:</td>\n",
       "      <td>7</td>\n",
       "      <td>everyday_life_df</td>\n",
       "    </tr>\n",
       "    <tr>\n",
       "      <th>13</th>\n",
       "      <td>-</td>\n",
       "      <td>5</td>\n",
       "      <td>everyday_life_df</td>\n",
       "    </tr>\n",
       "    <tr>\n",
       "      <th>14</th>\n",
       "      <td>;</td>\n",
       "      <td>4</td>\n",
       "      <td>everyday_life_df</td>\n",
       "    </tr>\n",
       "    <tr>\n",
       "      <th>15</th>\n",
       "      <td>*</td>\n",
       "      <td>3</td>\n",
       "      <td>everyday_life_df</td>\n",
       "    </tr>\n",
       "    <tr>\n",
       "      <th>16</th>\n",
       "      <td>&gt;</td>\n",
       "      <td>3</td>\n",
       "      <td>everyday_life_df</td>\n",
       "    </tr>\n",
       "    <tr>\n",
       "      <th>17</th>\n",
       "      <td>^</td>\n",
       "      <td>3</td>\n",
       "      <td>everyday_life_df</td>\n",
       "    </tr>\n",
       "    <tr>\n",
       "      <th>18</th>\n",
       "      <td>[</td>\n",
       "      <td>1</td>\n",
       "      <td>everyday_life_df</td>\n",
       "    </tr>\n",
       "    <tr>\n",
       "      <th>19</th>\n",
       "      <td>`</td>\n",
       "      <td>1</td>\n",
       "      <td>everyday_life_df</td>\n",
       "    </tr>\n",
       "  </tbody>\n",
       "</table>\n",
       "</div>"
      ],
      "text/plain": [
       "   punctuation_mark    count      dataset_name\n",
       "0                 .  2325974  everyday_life_df\n",
       "1                 ?   296048  everyday_life_df\n",
       "2                 !    47833  everyday_life_df\n",
       "3              None    17101  everyday_life_df\n",
       "4                 ~    12151  everyday_life_df\n",
       "5                 ,      725  everyday_life_df\n",
       "6                 )      263  everyday_life_df\n",
       "7                 \"      146  everyday_life_df\n",
       "8                 '       44  everyday_life_df\n",
       "9                 \\       13  everyday_life_df\n",
       "10                /       12  everyday_life_df\n",
       "11                ]        8  everyday_life_df\n",
       "12                :        7  everyday_life_df\n",
       "13                -        5  everyday_life_df\n",
       "14                ;        4  everyday_life_df\n",
       "15                *        3  everyday_life_df\n",
       "16                >        3  everyday_life_df\n",
       "17                ^        3  everyday_life_df\n",
       "18                [        1  everyday_life_df\n",
       "19                `        1  everyday_life_df"
      ]
     },
     "execution_count": 55,
     "metadata": {},
     "output_type": "execute_result"
    }
   ],
   "source": [
    "punctuation_table[punctuation_table.dataset_name=='everyday_life_df']"
   ]
  },
  {
   "cell_type": "code",
   "execution_count": 74,
   "id": "2c2dff68",
   "metadata": {
    "ExecuteTime": {
     "end_time": "2023-08-31T04:45:12.179485Z",
     "start_time": "2023-08-31T04:45:12.170487Z"
    }
   },
   "outputs": [
    {
     "data": {
      "text/plain": [
       "punctuation_mark\n",
       ".    8400271\n",
       "?     447519\n",
       "!      54109\n",
       ")      17851\n",
       "~      12538\n",
       ",       2271\n",
       "\"       1012\n",
       "'        613\n",
       ";        100\n",
       "]         49\n",
       ">         38\n",
       "/         23\n",
       ":         20\n",
       "-         16\n",
       "\\         15\n",
       "*          4\n",
       "`          4\n",
       "^          3\n",
       "%          2\n",
       "|          2\n",
       "[          1\n",
       "Name: count, dtype: int64"
      ]
     },
     "execution_count": 74,
     "metadata": {},
     "output_type": "execute_result"
    }
   ],
   "source": [
    "punctuation_table.groupby('punctuation_mark')['count'].sum().sort_values(ascending=False)"
   ]
  },
  {
   "cell_type": "code",
   "execution_count": 67,
   "id": "24eeef4d",
   "metadata": {
    "ExecuteTime": {
     "end_time": "2023-08-31T04:33:39.758885Z",
     "start_time": "2023-08-31T04:33:39.727627Z"
    }
   },
   "outputs": [
    {
     "data": {
      "text/plain": [
       "54109"
      ]
     },
     "execution_count": 67,
     "metadata": {},
     "output_type": "execute_result"
    }
   ],
   "source": [
    "punctuation_table[punctuation_table.punctuation_mark=='!']['count'].sum()"
   ]
  },
  {
   "cell_type": "code",
   "execution_count": 75,
   "id": "01fedf0a",
   "metadata": {
    "ExecuteTime": {
     "end_time": "2023-08-31T04:47:39.348419Z",
     "start_time": "2023-08-31T04:47:39.339422Z"
    }
   },
   "outputs": [
    {
     "data": {
      "text/plain": [
       "8967009"
      ]
     },
     "execution_count": 75,
     "metadata": {},
     "output_type": "execute_result"
    }
   ],
   "source": [
    "punctuation_table['count'].sum()"
   ]
  },
  {
   "cell_type": "code",
   "execution_count": 77,
   "id": "b34eada2",
   "metadata": {
    "ExecuteTime": {
     "end_time": "2023-08-31T04:49:55.223797Z",
     "start_time": "2023-08-31T04:49:55.203800Z"
    }
   },
   "outputs": [
    {
     "data": {
      "text/plain": [
       "30548"
      ]
     },
     "execution_count": 77,
     "metadata": {},
     "output_type": "execute_result"
    }
   ],
   "source": [
    "punctuation_table[punctuation_table.punctuation_mark.isna()]['count'].sum()"
   ]
  },
  {
   "cell_type": "code",
   "execution_count": 78,
   "id": "679e059c",
   "metadata": {
    "ExecuteTime": {
     "end_time": "2023-08-31T04:50:04.570600Z",
     "start_time": "2023-08-31T04:50:04.555454Z"
    }
   },
   "outputs": [
    {
     "data": {
      "text/html": [
       "<div>\n",
       "<style scoped>\n",
       "    .dataframe tbody tr th:only-of-type {\n",
       "        vertical-align: middle;\n",
       "    }\n",
       "\n",
       "    .dataframe tbody tr th {\n",
       "        vertical-align: top;\n",
       "    }\n",
       "\n",
       "    .dataframe thead th {\n",
       "        text-align: right;\n",
       "    }\n",
       "</style>\n",
       "<table border=\"1\" class=\"dataframe\">\n",
       "  <thead>\n",
       "    <tr style=\"text-align: right;\">\n",
       "      <th></th>\n",
       "      <th>punctuation_mark</th>\n",
       "      <th>count</th>\n",
       "      <th>dataset_name</th>\n",
       "    </tr>\n",
       "  </thead>\n",
       "  <tbody>\n",
       "    <tr>\n",
       "      <th>2</th>\n",
       "      <td>None</td>\n",
       "      <td>1491</td>\n",
       "      <td>utterance_type_df</td>\n",
       "    </tr>\n",
       "    <tr>\n",
       "      <th>2</th>\n",
       "      <td>None</td>\n",
       "      <td>3564</td>\n",
       "      <td>ko_en_trans_df</td>\n",
       "    </tr>\n",
       "    <tr>\n",
       "      <th>3</th>\n",
       "      <td>None</td>\n",
       "      <td>17101</td>\n",
       "      <td>everyday_life_df</td>\n",
       "    </tr>\n",
       "    <tr>\n",
       "      <th>3</th>\n",
       "      <td>None</td>\n",
       "      <td>159</td>\n",
       "      <td>science_df</td>\n",
       "    </tr>\n",
       "    <tr>\n",
       "      <th>3</th>\n",
       "      <td>None</td>\n",
       "      <td>151</td>\n",
       "      <td>food_df</td>\n",
       "    </tr>\n",
       "    <tr>\n",
       "      <th>2</th>\n",
       "      <td>None</td>\n",
       "      <td>8082</td>\n",
       "      <td>contents_df</td>\n",
       "    </tr>\n",
       "  </tbody>\n",
       "</table>\n",
       "</div>"
      ],
      "text/plain": [
       "  punctuation_mark  count       dataset_name\n",
       "2             None   1491  utterance_type_df\n",
       "2             None   3564     ko_en_trans_df\n",
       "3             None  17101   everyday_life_df\n",
       "3             None    159         science_df\n",
       "3             None    151            food_df\n",
       "2             None   8082        contents_df"
      ]
     },
     "execution_count": 78,
     "metadata": {},
     "output_type": "execute_result"
    }
   ],
   "source": [
    "punctuation_table[punctuation_table.punctuation_mark.isna()]"
   ]
  },
  {
   "cell_type": "code",
   "execution_count": 17,
   "id": "077323cd",
   "metadata": {
    "ExecuteTime": {
     "end_time": "2023-09-01T07:19:47.847334Z",
     "start_time": "2023-09-01T07:19:47.827368Z"
    }
   },
   "outputs": [
    {
     "data": {
      "text/html": [
       "<div>\n",
       "<style scoped>\n",
       "    .dataframe tbody tr th:only-of-type {\n",
       "        vertical-align: middle;\n",
       "    }\n",
       "\n",
       "    .dataframe tbody tr th {\n",
       "        vertical-align: top;\n",
       "    }\n",
       "\n",
       "    .dataframe thead th {\n",
       "        text-align: right;\n",
       "    }\n",
       "</style>\n",
       "<table border=\"1\" class=\"dataframe\">\n",
       "  <thead>\n",
       "    <tr style=\"text-align: right;\">\n",
       "      <th></th>\n",
       "      <th>punctuation_mark</th>\n",
       "      <th>count</th>\n",
       "      <th>dataset_name</th>\n",
       "    </tr>\n",
       "  </thead>\n",
       "  <tbody>\n",
       "    <tr>\n",
       "      <th>0</th>\n",
       "      <td>.</td>\n",
       "      <td>22877</td>\n",
       "      <td>utterance_type_df</td>\n",
       "    </tr>\n",
       "    <tr>\n",
       "      <th>1</th>\n",
       "      <td>?</td>\n",
       "      <td>2373</td>\n",
       "      <td>utterance_type_df</td>\n",
       "    </tr>\n",
       "    <tr>\n",
       "      <th>2</th>\n",
       "      <td>None</td>\n",
       "      <td>1491</td>\n",
       "      <td>utterance_type_df</td>\n",
       "    </tr>\n",
       "    <tr>\n",
       "      <th>3</th>\n",
       "      <td>!</td>\n",
       "      <td>231</td>\n",
       "      <td>utterance_type_df</td>\n",
       "    </tr>\n",
       "    <tr>\n",
       "      <th>4</th>\n",
       "      <td>\"</td>\n",
       "      <td>10</td>\n",
       "      <td>utterance_type_df</td>\n",
       "    </tr>\n",
       "    <tr>\n",
       "      <th>...</th>\n",
       "      <td>...</td>\n",
       "      <td>...</td>\n",
       "      <td>...</td>\n",
       "    </tr>\n",
       "    <tr>\n",
       "      <th>12</th>\n",
       "      <td>/</td>\n",
       "      <td>10</td>\n",
       "      <td>contents_df</td>\n",
       "    </tr>\n",
       "    <tr>\n",
       "      <th>13</th>\n",
       "      <td>-</td>\n",
       "      <td>7</td>\n",
       "      <td>contents_df</td>\n",
       "    </tr>\n",
       "    <tr>\n",
       "      <th>14</th>\n",
       "      <td>`</td>\n",
       "      <td>2</td>\n",
       "      <td>contents_df</td>\n",
       "    </tr>\n",
       "    <tr>\n",
       "      <th>15</th>\n",
       "      <td>\\</td>\n",
       "      <td>1</td>\n",
       "      <td>contents_df</td>\n",
       "    </tr>\n",
       "    <tr>\n",
       "      <th>16</th>\n",
       "      <td>:</td>\n",
       "      <td>1</td>\n",
       "      <td>contents_df</td>\n",
       "    </tr>\n",
       "  </tbody>\n",
       "</table>\n",
       "<p>92 rows × 3 columns</p>\n",
       "</div>"
      ],
      "text/plain": [
       "   punctuation_mark  count       dataset_name\n",
       "0                 .  22877  utterance_type_df\n",
       "1                 ?   2373  utterance_type_df\n",
       "2              None   1491  utterance_type_df\n",
       "3                 !    231  utterance_type_df\n",
       "4                 \"     10  utterance_type_df\n",
       "..              ...    ...                ...\n",
       "12                /     10        contents_df\n",
       "13                -      7        contents_df\n",
       "14                `      2        contents_df\n",
       "15                \\      1        contents_df\n",
       "16                :      1        contents_df\n",
       "\n",
       "[92 rows x 3 columns]"
      ]
     },
     "execution_count": 17,
     "metadata": {},
     "output_type": "execute_result"
    }
   ],
   "source": [
    "punctuation_table"
   ]
  },
  {
   "cell_type": "code",
   "execution_count": 27,
   "id": "9f9e5354",
   "metadata": {
    "ExecuteTime": {
     "end_time": "2023-09-01T07:26:54.408429Z",
     "start_time": "2023-09-01T07:26:54.395400Z"
    }
   },
   "outputs": [],
   "source": [
    "table = punctuation_table.groupby('punctuation_mark')['count'].sum().sort_values(ascending=False).to_frame()\n",
    "table.reset_index(inplace=True)\n",
    "table.rename(columns={'punctuation_mark':'mark'},inplace=True)"
   ]
  },
  {
   "cell_type": "code",
   "execution_count": 28,
   "id": "54c4e694",
   "metadata": {
    "ExecuteTime": {
     "end_time": "2023-09-01T07:26:55.564872Z",
     "start_time": "2023-09-01T07:26:55.546897Z"
    }
   },
   "outputs": [
    {
     "data": {
      "text/html": [
       "<div>\n",
       "<style scoped>\n",
       "    .dataframe tbody tr th:only-of-type {\n",
       "        vertical-align: middle;\n",
       "    }\n",
       "\n",
       "    .dataframe tbody tr th {\n",
       "        vertical-align: top;\n",
       "    }\n",
       "\n",
       "    .dataframe thead th {\n",
       "        text-align: right;\n",
       "    }\n",
       "</style>\n",
       "<table border=\"1\" class=\"dataframe\">\n",
       "  <thead>\n",
       "    <tr style=\"text-align: right;\">\n",
       "      <th></th>\n",
       "      <th>mark</th>\n",
       "      <th>count</th>\n",
       "    </tr>\n",
       "  </thead>\n",
       "  <tbody>\n",
       "    <tr>\n",
       "      <th>0</th>\n",
       "      <td>.</td>\n",
       "      <td>8400271</td>\n",
       "    </tr>\n",
       "    <tr>\n",
       "      <th>1</th>\n",
       "      <td>?</td>\n",
       "      <td>447519</td>\n",
       "    </tr>\n",
       "    <tr>\n",
       "      <th>2</th>\n",
       "      <td>!</td>\n",
       "      <td>54109</td>\n",
       "    </tr>\n",
       "    <tr>\n",
       "      <th>3</th>\n",
       "      <td>)</td>\n",
       "      <td>17851</td>\n",
       "    </tr>\n",
       "    <tr>\n",
       "      <th>4</th>\n",
       "      <td>~</td>\n",
       "      <td>12538</td>\n",
       "    </tr>\n",
       "    <tr>\n",
       "      <th>5</th>\n",
       "      <td>,</td>\n",
       "      <td>2271</td>\n",
       "    </tr>\n",
       "    <tr>\n",
       "      <th>6</th>\n",
       "      <td>\"</td>\n",
       "      <td>1012</td>\n",
       "    </tr>\n",
       "    <tr>\n",
       "      <th>7</th>\n",
       "      <td>'</td>\n",
       "      <td>613</td>\n",
       "    </tr>\n",
       "    <tr>\n",
       "      <th>8</th>\n",
       "      <td>;</td>\n",
       "      <td>100</td>\n",
       "    </tr>\n",
       "    <tr>\n",
       "      <th>9</th>\n",
       "      <td>]</td>\n",
       "      <td>49</td>\n",
       "    </tr>\n",
       "    <tr>\n",
       "      <th>10</th>\n",
       "      <td>&gt;</td>\n",
       "      <td>38</td>\n",
       "    </tr>\n",
       "    <tr>\n",
       "      <th>11</th>\n",
       "      <td>/</td>\n",
       "      <td>23</td>\n",
       "    </tr>\n",
       "    <tr>\n",
       "      <th>12</th>\n",
       "      <td>:</td>\n",
       "      <td>20</td>\n",
       "    </tr>\n",
       "    <tr>\n",
       "      <th>13</th>\n",
       "      <td>-</td>\n",
       "      <td>16</td>\n",
       "    </tr>\n",
       "    <tr>\n",
       "      <th>14</th>\n",
       "      <td>\\</td>\n",
       "      <td>15</td>\n",
       "    </tr>\n",
       "    <tr>\n",
       "      <th>15</th>\n",
       "      <td>*</td>\n",
       "      <td>4</td>\n",
       "    </tr>\n",
       "    <tr>\n",
       "      <th>16</th>\n",
       "      <td>`</td>\n",
       "      <td>4</td>\n",
       "    </tr>\n",
       "    <tr>\n",
       "      <th>17</th>\n",
       "      <td>^</td>\n",
       "      <td>3</td>\n",
       "    </tr>\n",
       "    <tr>\n",
       "      <th>18</th>\n",
       "      <td>%</td>\n",
       "      <td>2</td>\n",
       "    </tr>\n",
       "    <tr>\n",
       "      <th>19</th>\n",
       "      <td>|</td>\n",
       "      <td>2</td>\n",
       "    </tr>\n",
       "    <tr>\n",
       "      <th>20</th>\n",
       "      <td>[</td>\n",
       "      <td>1</td>\n",
       "    </tr>\n",
       "  </tbody>\n",
       "</table>\n",
       "</div>"
      ],
      "text/plain": [
       "   mark    count\n",
       "0     .  8400271\n",
       "1     ?   447519\n",
       "2     !    54109\n",
       "3     )    17851\n",
       "4     ~    12538\n",
       "5     ,     2271\n",
       "6     \"     1012\n",
       "7     '      613\n",
       "8     ;      100\n",
       "9     ]       49\n",
       "10    >       38\n",
       "11    /       23\n",
       "12    :       20\n",
       "13    -       16\n",
       "14    \\       15\n",
       "15    *        4\n",
       "16    `        4\n",
       "17    ^        3\n",
       "18    %        2\n",
       "19    |        2\n",
       "20    [        1"
      ]
     },
     "execution_count": 28,
     "metadata": {},
     "output_type": "execute_result"
    }
   ],
   "source": [
    "table"
   ]
  },
  {
   "cell_type": "code",
   "execution_count": 29,
   "id": "0ecc6023",
   "metadata": {
    "ExecuteTime": {
     "end_time": "2023-09-01T07:48:05.846438Z",
     "start_time": "2023-09-01T07:48:05.827440Z"
    }
   },
   "outputs": [],
   "source": [
    "sub_table = pd.DataFrame({'mark':['총데이터수','None'],'count':[8967009,30548]})"
   ]
  },
  {
   "cell_type": "code",
   "execution_count": 31,
   "id": "b1f9bebb",
   "metadata": {
    "ExecuteTime": {
     "end_time": "2023-09-01T07:48:51.318864Z",
     "start_time": "2023-09-01T07:48:51.307867Z"
    }
   },
   "outputs": [],
   "source": [
    "final_table = pd.concat([sub_table,table])"
   ]
  },
  {
   "cell_type": "code",
   "execution_count": 32,
   "id": "a6a275a3",
   "metadata": {
    "ExecuteTime": {
     "end_time": "2023-09-01T07:48:55.181843Z",
     "start_time": "2023-09-01T07:48:55.162844Z"
    }
   },
   "outputs": [
    {
     "data": {
      "text/html": [
       "<div>\n",
       "<style scoped>\n",
       "    .dataframe tbody tr th:only-of-type {\n",
       "        vertical-align: middle;\n",
       "    }\n",
       "\n",
       "    .dataframe tbody tr th {\n",
       "        vertical-align: top;\n",
       "    }\n",
       "\n",
       "    .dataframe thead th {\n",
       "        text-align: right;\n",
       "    }\n",
       "</style>\n",
       "<table border=\"1\" class=\"dataframe\">\n",
       "  <thead>\n",
       "    <tr style=\"text-align: right;\">\n",
       "      <th></th>\n",
       "      <th>mark</th>\n",
       "      <th>count</th>\n",
       "    </tr>\n",
       "  </thead>\n",
       "  <tbody>\n",
       "    <tr>\n",
       "      <th>0</th>\n",
       "      <td>총데이터수</td>\n",
       "      <td>8967009</td>\n",
       "    </tr>\n",
       "    <tr>\n",
       "      <th>1</th>\n",
       "      <td>None</td>\n",
       "      <td>30548</td>\n",
       "    </tr>\n",
       "    <tr>\n",
       "      <th>0</th>\n",
       "      <td>.</td>\n",
       "      <td>8400271</td>\n",
       "    </tr>\n",
       "    <tr>\n",
       "      <th>1</th>\n",
       "      <td>?</td>\n",
       "      <td>447519</td>\n",
       "    </tr>\n",
       "    <tr>\n",
       "      <th>2</th>\n",
       "      <td>!</td>\n",
       "      <td>54109</td>\n",
       "    </tr>\n",
       "    <tr>\n",
       "      <th>3</th>\n",
       "      <td>)</td>\n",
       "      <td>17851</td>\n",
       "    </tr>\n",
       "    <tr>\n",
       "      <th>4</th>\n",
       "      <td>~</td>\n",
       "      <td>12538</td>\n",
       "    </tr>\n",
       "    <tr>\n",
       "      <th>5</th>\n",
       "      <td>,</td>\n",
       "      <td>2271</td>\n",
       "    </tr>\n",
       "    <tr>\n",
       "      <th>6</th>\n",
       "      <td>\"</td>\n",
       "      <td>1012</td>\n",
       "    </tr>\n",
       "    <tr>\n",
       "      <th>7</th>\n",
       "      <td>'</td>\n",
       "      <td>613</td>\n",
       "    </tr>\n",
       "    <tr>\n",
       "      <th>8</th>\n",
       "      <td>;</td>\n",
       "      <td>100</td>\n",
       "    </tr>\n",
       "    <tr>\n",
       "      <th>9</th>\n",
       "      <td>]</td>\n",
       "      <td>49</td>\n",
       "    </tr>\n",
       "    <tr>\n",
       "      <th>10</th>\n",
       "      <td>&gt;</td>\n",
       "      <td>38</td>\n",
       "    </tr>\n",
       "    <tr>\n",
       "      <th>11</th>\n",
       "      <td>/</td>\n",
       "      <td>23</td>\n",
       "    </tr>\n",
       "    <tr>\n",
       "      <th>12</th>\n",
       "      <td>:</td>\n",
       "      <td>20</td>\n",
       "    </tr>\n",
       "    <tr>\n",
       "      <th>13</th>\n",
       "      <td>-</td>\n",
       "      <td>16</td>\n",
       "    </tr>\n",
       "    <tr>\n",
       "      <th>14</th>\n",
       "      <td>\\</td>\n",
       "      <td>15</td>\n",
       "    </tr>\n",
       "    <tr>\n",
       "      <th>15</th>\n",
       "      <td>*</td>\n",
       "      <td>4</td>\n",
       "    </tr>\n",
       "    <tr>\n",
       "      <th>16</th>\n",
       "      <td>`</td>\n",
       "      <td>4</td>\n",
       "    </tr>\n",
       "    <tr>\n",
       "      <th>17</th>\n",
       "      <td>^</td>\n",
       "      <td>3</td>\n",
       "    </tr>\n",
       "    <tr>\n",
       "      <th>18</th>\n",
       "      <td>%</td>\n",
       "      <td>2</td>\n",
       "    </tr>\n",
       "    <tr>\n",
       "      <th>19</th>\n",
       "      <td>|</td>\n",
       "      <td>2</td>\n",
       "    </tr>\n",
       "    <tr>\n",
       "      <th>20</th>\n",
       "      <td>[</td>\n",
       "      <td>1</td>\n",
       "    </tr>\n",
       "  </tbody>\n",
       "</table>\n",
       "</div>"
      ],
      "text/plain": [
       "     mark    count\n",
       "0   총데이터수  8967009\n",
       "1    None    30548\n",
       "0       .  8400271\n",
       "1       ?   447519\n",
       "2       !    54109\n",
       "3       )    17851\n",
       "4       ~    12538\n",
       "5       ,     2271\n",
       "6       \"     1012\n",
       "7       '      613\n",
       "8       ;      100\n",
       "9       ]       49\n",
       "10      >       38\n",
       "11      /       23\n",
       "12      :       20\n",
       "13      -       16\n",
       "14      \\       15\n",
       "15      *        4\n",
       "16      `        4\n",
       "17      ^        3\n",
       "18      %        2\n",
       "19      |        2\n",
       "20      [        1"
      ]
     },
     "execution_count": 32,
     "metadata": {},
     "output_type": "execute_result"
    }
   ],
   "source": [
    "final_table"
   ]
  },
  {
   "cell_type": "code",
   "execution_count": null,
   "id": "415755d7",
   "metadata": {},
   "outputs": [],
   "source": []
  }
 ],
 "metadata": {
  "kernelspec": {
   "display_name": "Python 3 (ipykernel)",
   "language": "python",
   "name": "python3"
  },
  "language_info": {
   "codemirror_mode": {
    "name": "ipython",
    "version": 3
   },
   "file_extension": ".py",
   "mimetype": "text/x-python",
   "name": "python",
   "nbconvert_exporter": "python",
   "pygments_lexer": "ipython3",
   "version": "3.9.12"
  },
  "toc": {
   "base_numbering": 1,
   "nav_menu": {},
   "number_sections": true,
   "sideBar": true,
   "skip_h1_title": false,
   "title_cell": "Table of Contents",
   "title_sidebar": "Contents",
   "toc_cell": false,
   "toc_position": {
    "height": "calc(100% - 180px)",
    "left": "10px",
    "top": "150px",
    "width": "373px"
   },
   "toc_section_display": true,
   "toc_window_display": true
  }
 },
 "nbformat": 4,
 "nbformat_minor": 5
}
